{
 "cells": [
  {
   "cell_type": "code",
   "execution_count": null,
   "outputs": [],
   "source": [
    "# If having depedency issues you may need to run this one time.\n",
    "!pip install --upgrade 'google-cloud-bigquery[bqstorage,pandas]'"
   ],
   "metadata": {
    "collapsed": false,
    "pycharm": {
     "name": "#%%\n"
    }
   }
  },
  {
   "cell_type": "markdown",
   "source": [
    "# PANOPTES Utils Data Explorer\n",
    "\n",
    "The tools in the `panoptes.utils.data` modules are designed to help you easily find and start using PANOPTES data.\n",
    "\n",
    "\n",
    "The module primarly offers an interface that allows you to search and find any observation metadata from the PANOPTES network. The module also offers convenient methods for downloading the raw data."
   ],
   "metadata": {
    "collapsed": false
   }
  },
  {
   "cell_type": "code",
   "execution_count": null,
   "outputs": [],
   "source": [
    "import os\n",
    "import sys\n",
    "import glob\n",
    "from contextlib import suppress\n",
    "\n",
    "import numpy as np\n",
    "import pandas as pd\n",
    "\n",
    "import holoviews as hv\n",
    "from holoviews import opts\n",
    "import hvplot.pandas\n",
    "import seaborn as sb\n",
    "\n",
    "from tqdm import tqdm\n",
    "\n",
    "from google.cloud import bigquery\n",
    "from astropy.coordinates import SkyCoord\n",
    "from astropy.stats import sigma_clip\n",
    "\n",
    "from panoptes.utils.images import fits as fits_utils\n",
    "from panoptes.utils.images import crop_data\n",
    "from panoptes.utils.logging import logger\n",
    "\n",
    "from panoptes.pipeline.utils.metadata import search_observations, get_metadata\n",
    "from panoptes.pipeline.utils import sources\n",
    "from panoptes.pipeline.utils import processing\n",
    "from panoptes.pipeline.utils.gcp.bigquery import get_bq_clients\n",
    "\n",
    "from IPython.display import Image\n",
    "from IPython.core.display import HTML \n",
    "\n",
    "hv.extension('bokeh')\n",
    "\n",
    "# Set up the logger for notebook viewing\n",
    "logger.enable('panoptes')\n",
    "logger.remove()\n",
    "_ = logger.add(sys.stdout, format='<{level}> {message}', level='INFO')"
   ],
   "metadata": {
    "collapsed": false,
    "pycharm": {
     "name": "#%%\n"
    }
   }
  },
  {
   "cell_type": "code",
   "execution_count": null,
   "outputs": [],
   "source": [
    "bq_client, bqstorage_client = get_bq_clients()"
   ],
   "metadata": {
    "collapsed": false,
    "pycharm": {
     "name": "#%%\n"
    }
   }
  },
  {
   "cell_type": "code",
   "execution_count": null,
   "outputs": [],
   "source": [
    "# Holoviews styling options\n",
    "opts.defaults(\n",
    "    opts.Image(cmap='viridis', tools=['hover'], width=400, height=400),\n",
    "    opts.Labels(text_color='white', text_font_size='8pt', text_align='left', text_baseline='bottom'),\n",
    ")"
   ],
   "metadata": {
    "collapsed": false,
    "pycharm": {
     "name": "#%%\n"
    }
   }
  },
  {
   "cell_type": "markdown",
   "source": [
    "## Getting Started\n",
    "\n",
    "We need three sets of data to work with:\n",
    "\n",
    "`observations_df`: Metadata for observations. Used to select which observations to do analysis by narrowing down the list of `sequence_id`s.\n",
    "`images_df`: Metadata for each individual image. Used for looking up FITS files. Has additional camera data that could be used but currently isn't.\n",
    "`point_sources`: Catalog and extracted information for stellar sources.  Used for getting the flux data."
   ],
   "metadata": {
    "collapsed": false
   }
  },
  {
   "cell_type": "markdown",
   "source": [
    "### Search for observations\n",
    "\n",
    "We can search for observations in a variety of ways. Here we just lookup the M42 coordinates and search within the default 5° radius."
   ],
   "metadata": {
    "collapsed": false
   }
  },
  {
   "cell_type": "code",
   "execution_count": null,
   "outputs": [],
   "source": [
    "# Get from existing coords\n",
    "target_coords = SkyCoord.from_name('Wasp 3')\n",
    "\n",
    "observations_df = search_observations(\n",
    "    coords=target_coords, \n",
    "    min_num_images=10, \n",
    "    radius=20,\n",
    "#     unit_id='PAN012',\n",
    "    status='matched'\n",
    ")"
   ],
   "metadata": {
    "collapsed": false,
    "pycharm": {
     "name": "#%%\n"
    }
   }
  },
  {
   "cell_type": "code",
   "execution_count": null,
   "outputs": [],
   "source": [
    "# Group by unit and field and sum the metrics\n",
    "field_sums = observations_df.groupby(['unit_id', 'field_name']).sum().reset_index()\n",
    "field_sums"
   ],
   "metadata": {
    "collapsed": false,
    "pycharm": {
     "name": "#%%\n"
    }
   }
  },
  {
   "cell_type": "code",
   "execution_count": null,
   "outputs": [],
   "source": [
    "# Look at a random set\n",
    "observations_df.sort_values('total_minutes_exptime', ascending=False).head(20)"
   ],
   "metadata": {
    "collapsed": false,
    "pycharm": {
     "name": "#%%\n"
    }
   }
  },
  {
   "cell_type": "markdown",
   "source": [
    "### Filter to needs\n",
    "\n",
    "Not all of the search results will be relevant.  Here we see that we have a lot within our radius.  Let's get just M42."
   ],
   "metadata": {
    "collapsed": false
   }
  },
  {
   "cell_type": "code",
   "execution_count": null,
   "outputs": [],
   "source": [
    "# target_df = search_results.query('field_name == \"M42\"')"
   ],
   "metadata": {
    "collapsed": false,
    "pycharm": {
     "name": "#%%\n"
    }
   }
  },
  {
   "cell_type": "code",
   "execution_count": null,
   "outputs": [],
   "source": [
    "# print(f'Total minutes exptime: {target_df.total_minutes_exptime.sum()}')"
   ],
   "metadata": {
    "collapsed": false,
    "pycharm": {
     "name": "#%%\n"
    }
   }
  },
  {
   "cell_type": "markdown",
   "source": [
    "## Select observation(s)"
   ],
   "metadata": {
    "collapsed": false
   }
  },
  {
   "cell_type": "markdown",
   "source": [
    "Initial processing is done on each observation separately. an observation is a nearly contiguous series of images taken from a single camera of a single FOV in which there is no intentional movement of the mount, including a meridian flip. The same FOV of view imaged before and after a meridian flip would count as separate observations for each camera."
   ],
   "metadata": {
    "collapsed": false
   }
  },
  {
   "cell_type": "markdown",
   "source": [
    "Observations are identified by their `sequence_id`, which is the id of the PANOPTES unit and the camera as well as a timestamp of when the observation sequence started.\n",
    "\n",
    "Metadata is extracted from from all of the images in the observation sequence, regardless of data quality."
   ],
   "metadata": {
    "collapsed": false
   }
  },
  {
   "cell_type": "markdown",
   "source": [
    "### Get image metadata for observations\n",
    "\n",
    "Lookup the image-level metadata for all images in the observation."
   ],
   "metadata": {
    "collapsed": false
   }
  },
  {
   "cell_type": "code",
   "execution_count": null,
   "outputs": [],
   "source": [
    "sequence_id = 'PAN001_14d3bd_20200526T082233'"
   ],
   "metadata": {
    "collapsed": false,
    "pycharm": {
     "name": "#%%\n"
    }
   }
  },
  {
   "cell_type": "code",
   "execution_count": null,
   "outputs": [],
   "source": [
    "images_df = get_metadata(sequence_id=sequence_id)\n",
    "images_df.head()"
   ],
   "metadata": {
    "collapsed": false,
    "pycharm": {
     "name": "#%%\n"
    }
   }
  },
  {
   "cell_type": "markdown",
   "source": [
    "We can do a quick spot on the quality of each image by looking at the changing color temperature of the images. While these can vary considerably depending on the viewing conditions, any major deviations from the the other images should stand out."
   ],
   "metadata": {
    "collapsed": false
   }
  },
  {
   "cell_type": "code",
   "execution_count": null,
   "outputs": [],
   "source": [
    "(images_df.camera_colortemp.hvplot.scatter() * images_df.camera_colortemp.hvplot.line()) "
   ],
   "metadata": {
    "collapsed": false,
    "pycharm": {
     "name": "#%%\n"
    }
   }
  },
  {
   "cell_type": "markdown",
   "source": [
    "Here it looks like the last couple of frames have a significant change, so we look at the jpg for the last images."
   ],
   "metadata": {
    "collapsed": false
   }
  },
  {
   "cell_type": "code",
   "execution_count": null,
   "outputs": [],
   "source": [
    "jpg_url = images_df.iloc[-10].public_url.replace('.fits.fz', '.jpg')\n",
    "Image(url=jpg_url, width=600)"
   ],
   "metadata": {
    "collapsed": false,
    "pycharm": {
     "name": "#%%\n"
    }
   }
  },
  {
   "cell_type": "code",
   "execution_count": null,
   "outputs": [],
   "source": [
    "# Example of plotting data\n",
    "# images_df[['camera_blue_balance', 'camera_red_balance']].plot(marker='.')"
   ],
   "metadata": {
    "collapsed": false,
    "pycharm": {
     "name": "#%%\n"
    }
   }
  },
  {
   "cell_type": "markdown",
   "source": [
    "### Get the actual images.\n",
    "\n",
    "We now have a list of image metadata and want to download the FITS files for all those images that have been properly solved.\n",
    "\n",
    "We can use the `getdata` utility function to get both the data and the header from a url.\n"
   ],
   "metadata": {
    "collapsed": false
   }
  },
  {
   "cell_type": "code",
   "execution_count": null,
   "outputs": [],
   "source": [
    "frame_slice = slice(5, None)\n",
    "# frame_slice = slice(None, None)"
   ],
   "metadata": {
    "collapsed": false,
    "pycharm": {
     "name": "#%%\n"
    }
   }
  },
  {
   "cell_type": "code",
   "execution_count": null,
   "outputs": [],
   "source": [
    "fits_file_list = images_df.sort_values(by='time')[frame_slice].public_url.dropna()\n",
    "len(fits_file_list)"
   ],
   "metadata": {
    "collapsed": false,
    "pycharm": {
     "name": "#%%\n"
    }
   }
  },
  {
   "cell_type": "code",
   "execution_count": null,
   "outputs": [],
   "source": [
    "base_dir = '/home/jupyter/data'"
   ],
   "metadata": {
    "collapsed": false,
    "pycharm": {
     "name": "#%%\n"
    }
   }
  },
  {
   "cell_type": "code",
   "execution_count": null,
   "outputs": [],
   "source": [
    "image_dir = f'{base_dir}/{sequence_id}/fits'"
   ],
   "metadata": {
    "collapsed": false,
    "pycharm": {
     "name": "#%%\n"
    }
   }
  },
  {
   "cell_type": "code",
   "execution_count": null,
   "outputs": [],
   "source": [
    "os.makedirs(image_dir, exist_ok=True)\n",
    "\n",
    "fits_files = list()\n",
    "    \n",
    "for fits_file in tqdm(fits_file_list):\n",
    "    base = os.path.basename(fits_file)\n",
    "    unpacked = base.replace('.fz', '')\n",
    "\n",
    "    if not os.path.exists(f'{image_dir}/{base}'):\n",
    "        if not os.path.exists(f'{image_dir}/{unpacked}'):\n",
    "            !wget -q {fits_file} -O {image_dir}/{base}\n",
    "    \n",
    "    # Unpack the file if packed version exists locally.\n",
    "    if os.path.exists(f'{image_dir}/{base}'):\n",
    "        fits_files.append(fits_utils.funpack(f'{image_dir}/{base}'))        "
   ],
   "metadata": {
    "collapsed": false,
    "pycharm": {
     "name": "#%%\n"
    }
   }
  },
  {
   "cell_type": "code",
   "execution_count": null,
   "outputs": [],
   "source": [
    "fits_files = sorted(glob.glob(f'{image_dir}/*.fits'))\n",
    "f'{len(fits_files)} files downloaded'"
   ],
   "metadata": {
    "collapsed": false,
    "pycharm": {
     "name": "#%%\n"
    }
   }
  },
  {
   "cell_type": "markdown",
   "source": [
    "### Plate-solve and catalog match"
   ],
   "metadata": {
    "collapsed": false
   }
  },
  {
   "cell_type": "code",
   "execution_count": null,
   "outputs": [],
   "source": [
    "fits_utils.getdata(fits_files[0]).shape"
   ],
   "metadata": {
    "collapsed": false,
    "pycharm": {
     "name": "#%%\n"
    }
   }
  },
  {
   "cell_type": "code",
   "execution_count": null,
   "outputs": [],
   "source": [
    "wcs0 = fits_utils.getwcs(fits_files[0])\n",
    "wcs0"
   ],
   "metadata": {
    "collapsed": false,
    "pycharm": {
     "name": "#%%\n"
    }
   }
  },
  {
   "cell_type": "markdown",
   "source": [
    "#### Lookup catalog stars\n",
    "\n",
    "This will use the WCS from the first image to find all the stars listed in the PANOPTES catalog. \n",
    "\n",
    "This can be a large number of stars and goes to $4 <= V_{mag} < 17$ so includes many sources that will not appear in an individual image."
   ],
   "metadata": {
    "collapsed": false
   }
  },
  {
   "cell_type": "code",
   "execution_count": null,
   "outputs": [],
   "source": [
    "catalog_stars_fn = f'{base_dir}/{sequence_id}/catalog-stars.parquet'\n",
    "\n",
    "try:\n",
    "    catalog_stars_df = pd.read_parquet(catalog_stars_fn).convert_dtypes()\n",
    "except (FileNotFoundError, OSError):\n",
    "    catalog_stars_df = sources.get_stars_from_wcs(wcs0, \n",
    "                                                  bq_client=bq_client, \n",
    "                                                  bqstorage_client=bqstorage_client)\n",
    "    catalog_stars_df.to_parquet(catalog_stars_fn, index=False)    "
   ],
   "metadata": {
    "collapsed": false,
    "pycharm": {
     "name": "#%%\n"
    }
   }
  },
  {
   "cell_type": "code",
   "execution_count": null,
   "outputs": [],
   "source": [
    "catalog_stars_df"
   ],
   "metadata": {
    "collapsed": false,
    "pycharm": {
     "name": "#%%\n"
    }
   }
  },
  {
   "cell_type": "code",
   "execution_count": null,
   "outputs": [],
   "source": [
    "catalog_stars_df.picid = catalog_stars_df.picid.astype('int')"
   ],
   "metadata": {
    "collapsed": false,
    "pycharm": {
     "name": "#%%\n"
    }
   }
  },
  {
   "cell_type": "code",
   "execution_count": null,
   "outputs": [],
   "source": [
    "sb.distplot(catalog_stars_df.catalog_vmag, kde=False);"
   ],
   "metadata": {
    "collapsed": false,
    "pycharm": {
     "name": "#%%\n"
    }
   }
  },
  {
   "cell_type": "markdown",
   "source": [
    "#### Lookup point sources in image\n",
    "\n",
    "A catalog lookup is performed for the FOV of the images, as determined by the WCS of the first image. Each image from the sequence is run against `source-extractor`, with a liberal set of detection values."
   ],
   "metadata": {
    "collapsed": false
   }
  },
  {
   "cell_type": "code",
   "execution_count": null,
   "outputs": [],
   "source": [
    "extractor_config_path = '/home/jupyter/panoptes-pipeline/resources/source-extractor/panoptes.conf'\n",
    "extractor_param_path = '/home/jupyter/panoptes-pipeline/resources/source-extractor/panoptes.param'\n",
    "extractor_filter_path = '/usr/share/sextractor/default.conv'"
   ],
   "metadata": {
    "collapsed": false,
    "pycharm": {
     "name": "#%%\n"
    }
   }
  },
  {
   "cell_type": "code",
   "execution_count": null,
   "outputs": [],
   "source": [
    "# Set up output directories.\n",
    "sources_dir = f'{base_dir}/{sequence_id}/sources'\n",
    "os.makedirs(sources_dir, exist_ok=True)"
   ],
   "metadata": {
    "collapsed": false,
    "pycharm": {
     "name": "#%%\n"
    }
   }
  },
  {
   "cell_type": "code",
   "execution_count": null,
   "outputs": [],
   "source": [
    "measured_params = [\n",
    "    '-c', extractor_config_path,\n",
    "    '-PARAMETERS_NAME', extractor_param_path,\n",
    "    '-FILTER_NAME', extractor_filter_path,    \n",
    "#     '-CATALOG_NAME', catalog_filename,\n",
    "]"
   ],
   "metadata": {
    "collapsed": false,
    "pycharm": {
     "name": "#%%\n"
    }
   }
  },
  {
   "cell_type": "code",
   "execution_count": null,
   "outputs": [],
   "source": [
    "def load_sources(fits_file, sources_filename, catalog_stars, force_new=False):\n",
    "    if not os.path.exists(sources_filename) or force_new:\n",
    "#         print('Searching for sources')\n",
    "        sources_found = sources.lookup_point_sources(\n",
    "            fits_file,\n",
    "            catalog_match=True,\n",
    "            return_unmatched=False,\n",
    "            catalog_stars=catalog_stars,\n",
    "            bq_client=bq_client,\n",
    "            measured_params=measured_params,\n",
    "            force_new=force_new\n",
    "#             max_separation_arcsec=20\n",
    "        )\n",
    "        sources_found.to_parquet(sources_filename, index=False)\n",
    "    else:\n",
    "        sources_found = pd.read_parquet(sources_filename)    \n",
    "        \n",
    "    return sources_found"
   ],
   "metadata": {
    "collapsed": false,
    "pycharm": {
     "name": "#%%\n"
    }
   }
  },
  {
   "cell_type": "code",
   "execution_count": null,
   "outputs": [],
   "source": [
    "# unmatched_stars = catalog_stars_df[~catalog_stars_df.picid.isin(sources_found.picid)]"
   ],
   "metadata": {
    "collapsed": false,
    "pycharm": {
     "name": "#%%\n"
    }
   }
  },
  {
   "cell_type": "code",
   "execution_count": null,
   "outputs": [],
   "source": [
    "# unmatched_stars.hvplot.scatter(x='catalog_x', y='catalog_y', color='catalog_vmag')"
   ],
   "metadata": {
    "collapsed": false,
    "pycharm": {
     "name": "#%%\n"
    }
   }
  },
  {
   "cell_type": "code",
   "execution_count": null,
   "outputs": [],
   "source": [
    "# sources_found.catalog_vmag.hist()"
   ],
   "metadata": {
    "collapsed": false,
    "pycharm": {
     "name": "#%%\n"
    }
   }
  },
  {
   "cell_type": "code",
   "execution_count": null,
   "outputs": [],
   "source": [
    "# sources_found.hvplot.scatter(x='measured_x', y='measured_y', color='measured_mag_best')"
   ],
   "metadata": {
    "collapsed": false,
    "pycharm": {
     "name": "#%%\n"
    }
   }
  },
  {
   "cell_type": "code",
   "execution_count": null,
   "outputs": [],
   "source": [
    "force_new = True"
   ],
   "metadata": {
    "collapsed": false,
    "pycharm": {
     "name": "#%%\n"
    }
   }
  },
  {
   "cell_type": "code",
   "execution_count": null,
   "outputs": [],
   "source": [
    "for fits_file in tqdm(fits_files):\n",
    "    image_id = fits_utils.getval(fits_file, 'IMAGEID')\n",
    "    sources_filename = f'{sources_dir}/{image_id}-metadata.parquet'\n",
    "\n",
    "    try:\n",
    "        sources_found = load_sources(fits_file, \n",
    "                                     sources_filename, \n",
    "                                     catalog_stars_df, \n",
    "                                     force_new=force_new)\n",
    "    except Exception as e:\n",
    "        tqdm.write(f'Error: {fits_file} {e!r}')"
   ],
   "metadata": {
    "collapsed": false,
    "pycharm": {
     "name": "#%%\n"
    }
   }
  },
  {
   "cell_type": "code",
   "execution_count": null,
   "outputs": [],
   "source": [
    "obs_sources_df = pd.concat([\n",
    "    pd.read_parquet(fn) \n",
    "    for fn \n",
    "    in glob.glob(f'{sources_dir}/*metadata.parquet')\n",
    "])"
   ],
   "metadata": {
    "collapsed": false,
    "pycharm": {
     "name": "#%%\n"
    }
   }
  },
  {
   "cell_type": "markdown",
   "source": [
    "### Merge data"
   ],
   "metadata": {
    "collapsed": false
   }
  },
  {
   "cell_type": "code",
   "execution_count": null,
   "outputs": [],
   "source": [
    "# Save or load the full observation metadata\n",
    "full_sources_fn = f'{base_dir}/{sequence_id}/observation-metadata.parquet'\n",
    "\n",
    "if not os.path.exists(full_sources_fn) or force_new:\n",
    "    # Fix the datatypes for columns we will merge on.\n",
    "    obs_sources_df.picid = obs_sources_df.picid.astype('int')\n",
    "    obs_sources_df.time = pd.to_datetime(obs_sources_df.time, utc=True)\n",
    "\n",
    "    images_df.time = pd.to_datetime(images_df.time, utc=True)    \n",
    "\n",
    "    # Merge individual image metadata with full observation metadata.\n",
    "    obs_sources_full_df = obs_sources_df.merge(images_df, on=['time', 'unit_id'])    \n",
    "    \n",
    "    # Save to file.\n",
    "    obs_sources_full_df.to_parquet(full_sources_fn, index=False)\n",
    "else:\n",
    "    obs_sources_full_df = pd.read_parquet(full_sources_fn).convert_dtypes()"
   ],
   "metadata": {
    "collapsed": false,
    "pycharm": {
     "name": "#%%\n"
    }
   }
  },
  {
   "cell_type": "code",
   "execution_count": null,
   "outputs": [],
   "source": [
    "obs_sources_full_df.picid = obs_sources_full_df.picid.astype('int')"
   ],
   "metadata": {
    "collapsed": false,
    "pycharm": {
     "name": "#%%\n"
    }
   }
  },
  {
   "cell_type": "markdown",
   "source": [
    "### Make stamps"
   ],
   "metadata": {
    "collapsed": false
   }
  },
  {
   "cell_type": "code",
   "execution_count": null,
   "outputs": [],
   "source": [
    "# Make xy catalog with the average positions from all measured frames.\n",
    "xy_catalog = obs_sources_full_df.filter(regex='picid|measured_x$|measured_y$')\n",
    "\n",
    "# Get just the position columns\n",
    "xy_mean = xy_catalog.groupby('picid').mean()\n",
    "xy_var = xy_catalog.groupby('picid').var().rename(columns=dict(measured_x='x_var', \n",
    "                                                               measured_y='y_var'))\n",
    "\n",
    "xy_catalog = xy_mean.merge(xy_var, on='picid').reset_index()"
   ],
   "metadata": {
    "collapsed": false,
    "pycharm": {
     "name": "#%%\n"
    }
   }
  },
  {
   "cell_type": "code",
   "execution_count": null,
   "outputs": [],
   "source": [
    "xy_catalog.describe().T"
   ],
   "metadata": {
    "collapsed": false,
    "pycharm": {
     "name": "#%%\n"
    }
   }
  },
  {
   "cell_type": "markdown",
   "source": [
    "#### Make stamp csv files\n",
    "\n",
    "Makes one csv file per image with the postage stamp from all sources"
   ],
   "metadata": {
    "collapsed": false
   }
  },
  {
   "cell_type": "code",
   "execution_count": null,
   "outputs": [],
   "source": [
    "x_min_size = xy_catalog.x_var.mean()\n",
    "y_min_size = xy_catalog.y_var.mean()\n",
    "print(f'x_var={x_min_size:.02f}')\n",
    "print(f'y_var={y_min_size:.02f}')"
   ],
   "metadata": {
    "collapsed": false,
    "pycharm": {
     "name": "#%%\n"
    }
   }
  },
  {
   "cell_type": "code",
   "execution_count": null,
   "outputs": [],
   "source": [
    "# Based on above changes.\n",
    "stamp_size = 10"
   ],
   "metadata": {
    "collapsed": false,
    "pycharm": {
     "name": "#%%\n"
    }
   }
  },
  {
   "cell_type": "code",
   "execution_count": null,
   "outputs": [],
   "source": [
    "# Get slices\n",
    "image_slice_files = list()\n",
    "for fits_file in tqdm(fits_files):\n",
    "    image_id = fits_utils.getval(fits_file, 'IMAGEID')\n",
    "    psc_fn = f'{sources_dir}/{image_id}-stamps.csv'\n",
    "    csv_fn = processing.get_postage_stamps(xy_catalog, \n",
    "                                           fits_file, \n",
    "                                           stamp_size=stamp_size,\n",
    "                                           output_fn=psc_fn, \n",
    "                                           force=force_new) \n",
    "    image_slice_files.append(csv_fn)"
   ],
   "metadata": {
    "collapsed": false,
    "pycharm": {
     "name": "#%%\n"
    }
   }
  },
  {
   "cell_type": "code",
   "execution_count": null,
   "outputs": [],
   "source": [
    "stamps = processing.load_stamps(image_slice_files)"
   ],
   "metadata": {
    "collapsed": false,
    "pycharm": {
     "name": "#%%\n"
    }
   }
  },
  {
   "cell_type": "code",
   "execution_count": null,
   "outputs": [],
   "source": [
    "stamps"
   ],
   "metadata": {
    "collapsed": false,
    "pycharm": {
     "name": "#%%\n"
    }
   }
  },
  {
   "cell_type": "code",
   "execution_count": null,
   "outputs": [],
   "source": [],
   "metadata": {
    "collapsed": false,
    "pycharm": {
     "name": "#%%\n"
    }
   }
  }
 ],
 "metadata": {
  "kernelspec": {
   "display_name": "Python 3",
   "language": "python",
   "name": "python3"
  },
  "language_info": {
   "codemirror_mode": {
    "name": "ipython",
    "version": 3
   },
   "file_extension": ".py",
   "mimetype": "text/x-python",
   "name": "python",
   "nbconvert_exporter": "python",
   "pygments_lexer": "ipython3",
   "version": "3.7.6"
  }
 },
 "nbformat": 4,
 "nbformat_minor": 4
}