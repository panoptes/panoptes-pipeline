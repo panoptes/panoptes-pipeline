{
 "cells": [
  {
   "cell_type": "markdown",
   "metadata": {},
   "source": [
    "# Observations Notebook\n",
    "\n",
    "The following notebook is used to generate information about a an observation, including the stellar catalog matching and extraction of postage stamp cubes (PSC).\n",
    "\n",
    "The notebook takes an `images_directory` as the start parameter and produces a series of plots, parquet files, and links to raw data."
   ]
  },
  {
   "cell_type": "code",
   "execution_count": 1,
   "metadata": {
    "tags": [
     "parameters"
    ]
   },
   "outputs": [],
   "source": [
    "images_directory = '/var/panoptes/images/temp'\n",
    "service_account_key_path = '/keys/panoptes-exp-ab0a5c6c3108.json'"
   ]
  },
  {
   "cell_type": "code",
   "execution_count": 2,
   "metadata": {},
   "outputs": [],
   "source": [
    "import os\n",
    "# import sys\n",
    "import glob\n",
    "\n",
    "# import numpy as np\n",
    "# import holoviews as hv\n",
    "# from holoviews import opts\n",
    "# import pandas as pd\n",
    "# import hvplot.pandas\n",
    "# from astropy.coordinates import SkyCoord\n",
    "\n",
    "# from contextlib import suppress\n",
    "# from google.cloud import bigquery\n",
    "\n",
    "# from panoptes.pipeline.utils.metadata import search_observations, get_metadata\n",
    "# from panoptes.pipeline.utils import sources\n",
    "# from panoptes.pipeline.utils import processing\n",
    "# from panoptes.utils.images import fits as fits_utils\n",
    "# from panoptes.utils.images import crop_data\n",
    "# from panoptes.utils.logging import logger\n",
    "\n",
    "# from tqdm import tqdm\n",
    "\n",
    "# import seaborn as sb\n",
    "\n",
    "# hv.extension('bokeh')\n",
    "\n",
    "# # Set up the logger for notebook viewing\n",
    "# logger.enable('panoptes')\n",
    "\n",
    "# # Holoviews styling options\n",
    "# opts.defaults(\n",
    "#     opts.Image(cmap='viridis', tools=['hover'], width=400, height=400),\n",
    "#     opts.Labels(text_color='white', text_font_size='8pt', text_align='left', text_baseline='bottom'),\n",
    "# )"
   ]
  },
  {
   "cell_type": "markdown",
   "metadata": {},
   "source": [
    "## BigQuery Authentication\n",
    "\n",
    "> TODO"
   ]
  },
  {
   "cell_type": "code",
   "execution_count": 4,
   "metadata": {},
   "outputs": [
    {
     "ename": "NameError",
     "evalue": "name 'bigquery' is not defined",
     "output_type": "error",
     "traceback": [
      "\u001B[0;31m---------------------------------------------------------------------------\u001B[0m",
      "\u001B[0;31mNameError\u001B[0m                                 Traceback (most recent call last)",
      "\u001B[0;32m<ipython-input-4-11596b67a0ba>\u001B[0m in \u001B[0;36m<module>\u001B[0;34m\u001B[0m\n\u001B[0;32m----> 1\u001B[0;31m \u001B[0mbq_client\u001B[0m \u001B[0;34m=\u001B[0m \u001B[0mbigquery\u001B[0m\u001B[0;34m.\u001B[0m\u001B[0mClient\u001B[0m\u001B[0;34m.\u001B[0m\u001B[0mfrom_service_account_json\u001B[0m\u001B[0;34m(\u001B[0m\u001B[0mservice_account_key_path\u001B[0m\u001B[0;34m)\u001B[0m\u001B[0;34m\u001B[0m\u001B[0;34m\u001B[0m\u001B[0m\n\u001B[0m\u001B[1;32m      2\u001B[0m \u001B[0;34m\u001B[0m\u001B[0m\n",
      "\u001B[0;31mNameError\u001B[0m: name 'bigquery' is not defined"
     ]
    }
   ],
   "source": [
    "bq_client = bigquery.Client.from_service_account_json(service_account_key_path)"
   ]
  },
  {
   "cell_type": "markdown",
   "metadata": {},
   "source": [
    "## Gather files\n",
    "\n",
    "Get all the FITS files in the directory"
   ]
  },
  {
   "cell_type": "code",
   "execution_count": 3,
   "metadata": {},
   "outputs": [
    {
     "ename": "SyntaxError",
     "evalue": "invalid syntax (<fstring>, line 1)",
     "output_type": "error",
     "traceback": [
      "\u001B[0;36m  File \u001B[0;32m\"<fstring>\"\u001B[0;36m, line \u001B[0;32m1\u001B[0m\n\u001B[0;31m    (len(fits_files) in {images_directory=})\u001B[0m\n\u001B[0m                                         ^\u001B[0m\n\u001B[0;31mSyntaxError\u001B[0m\u001B[0;31m:\u001B[0m invalid syntax\n"
     ]
    }
   ],
   "source": [
    "fits_files = glob.glob(f'{images_directory}/*.fits*')\n",
    "print(f'Found {len(fits_files) in {images_directory=}}')"
   ]
  },
  {
   "cell_type": "markdown",
   "metadata": {},
   "source": [
    "## Plate-solve and catalog match"
   ]
  },
  {
   "cell_type": "code",
   "execution_count": 11,
   "metadata": {},
   "outputs": [
    {
     "data": {
      "text/plain": [
       "WCS Keywords\n",
       "\n",
       "Number of WCS axes: 2\n",
       "CTYPE : 'RA---TAN-SIP'  'DEC--TAN-SIP'  \n",
       "CRVAL : 278.648603129  35.6537029884  \n",
       "CRPIX : 2604.5  1738.5  \n",
       "CD1_1 CD1_2  : -3.5221754806e-06  -0.00285988359294  \n",
       "CD2_1 CD2_2  : -0.0028594092486  1.67799808995e-06  \n",
       "NAXIS : 5208  3476"
      ]
     },
     "execution_count": 11,
     "metadata": {},
     "output_type": "execute_result"
    }
   ],
   "source": [
    "wcs0 = fits_utils.getwcs(fits_files[0])\n",
    "wcs0"
   ]
  },
  {
   "cell_type": "markdown",
   "metadata": {},
   "source": [
    "#### Lookup catalog stars\n",
    "\n",
    "This will use the WCS from the first image to find all the stars listed in the PANOPTES catalog. \n",
    "\n",
    "This can be a large number of stars and goes to $4 <= V_{mag} < 17$ so includes many sources that will not appear in an individual image."
   ]
  },
  {
   "cell_type": "code",
   "execution_count": 12,
   "metadata": {},
   "outputs": [],
   "source": [
    "catalog_stars_csv = f'{sequence_id}/catalog-stars.parquet'\n",
    "\n",
    "try:\n",
    "    catalog_stars = pd.read_parquet(catalog_stars_csv).convert_dtypes()\n",
    "except FileNotFoundError:\n",
    "    catalog_stars = sources.get_stars_from_wcs(wcs0, bq_client=bq_client)\n",
    "    catalog_stars.to_parquet(catalog_stars_csv, index=False)    "
   ]
  },
  {
   "cell_type": "code",
   "execution_count": 13,
   "metadata": {},
   "outputs": [
    {
     "data": {
      "text/html": [
       "<div>\n",
       "<style scoped>\n",
       "    .dataframe tbody tr th:only-of-type {\n",
       "        vertical-align: middle;\n",
       "    }\n",
       "\n",
       "    .dataframe tbody tr th {\n",
       "        vertical-align: top;\n",
       "    }\n",
       "\n",
       "    .dataframe thead th {\n",
       "        text-align: right;\n",
       "    }\n",
       "</style>\n",
       "<table border=\"1\" class=\"dataframe\">\n",
       "  <thead>\n",
       "    <tr style=\"text-align: right;\">\n",
       "      <th></th>\n",
       "      <th>picid</th>\n",
       "      <th>twomass</th>\n",
       "      <th>gaia</th>\n",
       "      <th>catalog_ra</th>\n",
       "      <th>catalog_dec</th>\n",
       "      <th>catalog_vmag</th>\n",
       "      <th>catalog_vmag_bin</th>\n",
       "      <th>catalog_vmag_err</th>\n",
       "    </tr>\n",
       "  </thead>\n",
       "  <tbody>\n",
       "    <tr>\n",
       "      <th>0</th>\n",
       "      <td>28570131</td>\n",
       "      <td>18494590+3248463</td>\n",
       "      <td>2090563996916353024</td>\n",
       "      <td>282.44133</td>\n",
       "      <td>32.81282</td>\n",
       "      <td>5.91835</td>\n",
       "      <td>5</td>\n",
       "      <td>0.023</td>\n",
       "    </tr>\n",
       "    <tr>\n",
       "      <th>1</th>\n",
       "      <td>237184192</td>\n",
       "      <td>18534355+3658182</td>\n",
       "      <td>2093922180304989568</td>\n",
       "      <td>283.43150</td>\n",
       "      <td>36.97172</td>\n",
       "      <td>5.58373</td>\n",
       "      <td>5</td>\n",
       "      <td>0.023</td>\n",
       "    </tr>\n",
       "    <tr>\n",
       "      <th>2</th>\n",
       "      <td>321850466</td>\n",
       "      <td>18195170+3603523</td>\n",
       "      <td>4605754569811634944</td>\n",
       "      <td>274.96545</td>\n",
       "      <td>36.06454</td>\n",
       "      <td>4.31866</td>\n",
       "      <td>4</td>\n",
       "      <td>0.023</td>\n",
       "    </tr>\n",
       "    <tr>\n",
       "      <th>3</th>\n",
       "      <td>27901267</td>\n",
       "      <td>18363734+3328085</td>\n",
       "      <td>2091218000175889024</td>\n",
       "      <td>279.15560</td>\n",
       "      <td>33.46904</td>\n",
       "      <td>5.40887</td>\n",
       "      <td>5</td>\n",
       "      <td>0.023</td>\n",
       "    </tr>\n",
       "    <tr>\n",
       "      <th>4</th>\n",
       "      <td>237195876</td>\n",
       "      <td>18543027+3653551</td>\n",
       "      <td>2093931938470745728</td>\n",
       "      <td>283.62619</td>\n",
       "      <td>36.89862</td>\n",
       "      <td>4.34137</td>\n",
       "      <td>4</td>\n",
       "      <td>0.023</td>\n",
       "    </tr>\n",
       "    <tr>\n",
       "      <th>...</th>\n",
       "      <td>...</td>\n",
       "      <td>...</td>\n",
       "      <td>...</td>\n",
       "      <td>...</td>\n",
       "      <td>...</td>\n",
       "      <td>...</td>\n",
       "      <td>...</td>\n",
       "      <td>...</td>\n",
       "    </tr>\n",
       "    <tr>\n",
       "      <th>502230</th>\n",
       "      <td>180844293</td>\n",
       "      <td>18125896+3227393</td>\n",
       "      <td>4592850907506396672</td>\n",
       "      <td>273.24567</td>\n",
       "      <td>32.46094</td>\n",
       "      <td>15.35300</td>\n",
       "      <td>15</td>\n",
       "      <td>0.035</td>\n",
       "    </tr>\n",
       "    <tr>\n",
       "      <th>502231</th>\n",
       "      <td>23392905</td>\n",
       "      <td>18212143+3111159</td>\n",
       "      <td>4591739060733752192</td>\n",
       "      <td>275.33934</td>\n",
       "      <td>31.18776</td>\n",
       "      <td>15.36500</td>\n",
       "      <td>15</td>\n",
       "      <td>0.035</td>\n",
       "    </tr>\n",
       "    <tr>\n",
       "      <th>502232</th>\n",
       "      <td>336320357</td>\n",
       "      <td>18464324+3749261</td>\n",
       "      <td>2096890342002460928</td>\n",
       "      <td>281.68020</td>\n",
       "      <td>37.82392</td>\n",
       "      <td>15.79200</td>\n",
       "      <td>15</td>\n",
       "      <td>0.035</td>\n",
       "    </tr>\n",
       "    <tr>\n",
       "      <th>502233</th>\n",
       "      <td>24118623</td>\n",
       "      <td>18273182+3124370</td>\n",
       "      <td>4591608321929478144</td>\n",
       "      <td>276.88260</td>\n",
       "      <td>31.41033</td>\n",
       "      <td>15.26700</td>\n",
       "      <td>15</td>\n",
       "      <td>0.035</td>\n",
       "    </tr>\n",
       "    <tr>\n",
       "      <th>502234</th>\n",
       "      <td>23120493</td>\n",
       "      <td>18180367+3110278</td>\n",
       "      <td>4591776237970173440</td>\n",
       "      <td>274.51533</td>\n",
       "      <td>31.17440</td>\n",
       "      <td>15.77800</td>\n",
       "      <td>15</td>\n",
       "      <td>0.035</td>\n",
       "    </tr>\n",
       "  </tbody>\n",
       "</table>\n",
       "<p>502235 rows × 8 columns</p>\n",
       "</div>"
      ],
      "text/plain": [
       "            picid           twomass                 gaia  catalog_ra  \\\n",
       "0        28570131  18494590+3248463  2090563996916353024   282.44133   \n",
       "1       237184192  18534355+3658182  2093922180304989568   283.43150   \n",
       "2       321850466  18195170+3603523  4605754569811634944   274.96545   \n",
       "3        27901267  18363734+3328085  2091218000175889024   279.15560   \n",
       "4       237195876  18543027+3653551  2093931938470745728   283.62619   \n",
       "...           ...               ...                  ...         ...   \n",
       "502230  180844293  18125896+3227393  4592850907506396672   273.24567   \n",
       "502231   23392905  18212143+3111159  4591739060733752192   275.33934   \n",
       "502232  336320357  18464324+3749261  2096890342002460928   281.68020   \n",
       "502233   24118623  18273182+3124370  4591608321929478144   276.88260   \n",
       "502234   23120493  18180367+3110278  4591776237970173440   274.51533   \n",
       "\n",
       "        catalog_dec  catalog_vmag  catalog_vmag_bin  catalog_vmag_err  \n",
       "0          32.81282       5.91835                 5             0.023  \n",
       "1          36.97172       5.58373                 5             0.023  \n",
       "2          36.06454       4.31866                 4             0.023  \n",
       "3          33.46904       5.40887                 5             0.023  \n",
       "4          36.89862       4.34137                 4             0.023  \n",
       "...             ...           ...               ...               ...  \n",
       "502230     32.46094      15.35300                15             0.035  \n",
       "502231     31.18776      15.36500                15             0.035  \n",
       "502232     37.82392      15.79200                15             0.035  \n",
       "502233     31.41033      15.26700                15             0.035  \n",
       "502234     31.17440      15.77800                15             0.035  \n",
       "\n",
       "[502235 rows x 8 columns]"
      ]
     },
     "execution_count": 13,
     "metadata": {},
     "output_type": "execute_result"
    }
   ],
   "source": [
    "catalog_stars"
   ]
  },
  {
   "cell_type": "markdown",
   "metadata": {},
   "source": [
    "#### Lookup point sources in image\n",
    "\n",
    "Now we want to do a source extraction on the individual images to see what stars are detected. We can match this with the catalog stars above."
   ]
  },
  {
   "cell_type": "code",
   "execution_count": 5,
   "metadata": {},
   "outputs": [
    {
     "name": "stdout",
     "output_type": "stream",
     "text": [
      "Loading local point sources csv\n"
     ]
    }
   ],
   "source": [
    "point_sources = list()\n",
    "\n",
    "csv_dir = f'{sequence_id}/csv'\n",
    "point_sources_csv = f'{sequence_id}/point-sources.parquet'\n",
    "os.makedirs(csv_dir, exist_ok=True)\n",
    "\n",
    "if not os.path.exists(point_sources_csv):\n",
    "    for fits_file in tqdm(fits_files):\n",
    "        image_id = fits_utils.getval(fits_file, 'IMAGEID')\n",
    "        csv_filename = f'{csv_dir}/{image_id}.parquet'\n",
    "\n",
    "        if os.path.exists(csv_filename):\n",
    "            continue\n",
    "            \n",
    "        if not os.path.exists(fits_file):\n",
    "            fits_file = fits_file.replace('.fz', '')\n",
    "\n",
    "        sources_found = sources.lookup_point_sources(\n",
    "            fits_file,\n",
    "            catalog_match=True,\n",
    "            catalog_stars=catalog_stars,\n",
    "            bq_client=bq_client\n",
    "        )\n",
    "        processing.get_postage_stamps(sources_found, \n",
    "                                      fits_file, \n",
    "                                      output_fn=f'{csv_dir}/{image_id}-stamps.csv')\n",
    "        sources_found.to_parquet(csv_filename, index=False)\n",
    "        point_sources.append(sources_found)\n",
    "\n",
    "    obs_sources_df = pd.concat(point_sources)\n",
    "    obs_sources_df.to_parquet(point_sources_csv, index=False)\n",
    "else:\n",
    "    print(f'Loading local point sources csv')\n",
    "    obs_sources_df = pd.read_parquet(point_sources_csv).convert_dtypes()"
   ]
  },
  {
   "cell_type": "code",
   "execution_count": 54,
   "metadata": {},
   "outputs": [
    {
     "data": {
      "text/html": [
       "<div>\n",
       "<style scoped>\n",
       "    .dataframe tbody tr th:only-of-type {\n",
       "        vertical-align: middle;\n",
       "    }\n",
       "\n",
       "    .dataframe tbody tr th {\n",
       "        vertical-align: top;\n",
       "    }\n",
       "\n",
       "    .dataframe thead th {\n",
       "        text-align: right;\n",
       "    }\n",
       "</style>\n",
       "<table border=\"1\" class=\"dataframe\">\n",
       "  <thead>\n",
       "    <tr style=\"text-align: right;\">\n",
       "      <th></th>\n",
       "      <th>824054</th>\n",
       "    </tr>\n",
       "  </thead>\n",
       "  <tbody>\n",
       "    <tr>\n",
       "      <th>picid</th>\n",
       "      <td>157766779</td>\n",
       "    </tr>\n",
       "    <tr>\n",
       "      <th>unit_id</th>\n",
       "      <td>PAN001</td>\n",
       "    </tr>\n",
       "    <tr>\n",
       "      <th>camera_id</th>\n",
       "      <td>14d3bd</td>\n",
       "    </tr>\n",
       "    <tr>\n",
       "      <th>time</th>\n",
       "      <td>2020-05-20 12:02:20</td>\n",
       "    </tr>\n",
       "    <tr>\n",
       "      <th>gaia</th>\n",
       "      <td>2098002502313274624</td>\n",
       "    </tr>\n",
       "    <tr>\n",
       "      <th>...</th>\n",
       "      <td>...</td>\n",
       "    </tr>\n",
       "    <tr>\n",
       "      <th>pixel_95</th>\n",
       "      <td>2172</td>\n",
       "    </tr>\n",
       "    <tr>\n",
       "      <th>pixel_96</th>\n",
       "      <td>2123</td>\n",
       "    </tr>\n",
       "    <tr>\n",
       "      <th>pixel_97</th>\n",
       "      <td>2209</td>\n",
       "    </tr>\n",
       "    <tr>\n",
       "      <th>pixel_98</th>\n",
       "      <td>2129</td>\n",
       "    </tr>\n",
       "    <tr>\n",
       "      <th>pixel_99</th>\n",
       "      <td>2224</td>\n",
       "    </tr>\n",
       "  </tbody>\n",
       "</table>\n",
       "<p>138 rows × 1 columns</p>\n",
       "</div>"
      ],
      "text/plain": [
       "                        824054\n",
       "picid                157766779\n",
       "unit_id                 PAN001\n",
       "camera_id               14d3bd\n",
       "time       2020-05-20 12:02:20\n",
       "gaia       2098002502313274624\n",
       "...                        ...\n",
       "pixel_95                  2172\n",
       "pixel_96                  2123\n",
       "pixel_97                  2209\n",
       "pixel_98                  2129\n",
       "pixel_99                  2224\n",
       "\n",
       "[138 rows x 1 columns]"
      ]
     },
     "execution_count": 54,
     "metadata": {},
     "output_type": "execute_result"
    }
   ],
   "source": [
    "# Random example\n",
    "random = obs_sources_dfb.query('catalog_vmag <= 13').sample(1).T\n",
    "random"
   ]
  },
  {
   "cell_type": "code",
   "execution_count": 55,
   "metadata": {},
   "outputs": [
    {
     "data": {
      "text/plain": [
       "824054    11.822\n",
       "Name: catalog_vmag, dtype: object"
      ]
     },
     "execution_count": 55,
     "metadata": {},
     "output_type": "execute_result"
    }
   ],
   "source": [
    "random.T.catalog_vmag"
   ]
  },
  {
   "cell_type": "code",
   "execution_count": 56,
   "metadata": {},
   "outputs": [
    {
     "data": {
      "text/plain": [
       "157766779"
      ]
     },
     "execution_count": 56,
     "metadata": {},
     "output_type": "execute_result"
    }
   ],
   "source": [
    "picid = random.T.iloc[0].picid\n",
    "picid"
   ]
  },
  {
   "cell_type": "markdown",
   "metadata": {},
   "source": [
    "### Make PSC"
   ]
  },
  {
   "cell_type": "code",
   "execution_count": 57,
   "metadata": {},
   "outputs": [],
   "source": [
    "target_df = obs_sources_df.query('picid==@picid')"
   ]
  },
  {
   "cell_type": "code",
   "execution_count": 58,
   "metadata": {},
   "outputs": [
    {
     "data": {
      "text/plain": [
       "<AxesSubplot:xlabel='catalog_sep_arcsec', ylabel='Count'>"
      ]
     },
     "execution_count": 58,
     "metadata": {},
     "output_type": "execute_result"
    },
    {
     "data": {
      "image/png": "[encoded data removed]",
      "text/plain": [
       "<Figure size 432x288 with 1 Axes>"
      ]
     },
     "metadata": {
      "needs_background": "light"
     },
     "output_type": "display_data"
    }
   ],
   "source": [
    "sb.histplot(target_df.catalog_sep_arcsec)"
   ]
  },
  {
   "cell_type": "code",
   "execution_count": 100,
   "metadata": {},
   "outputs": [
    {
     "data": {
      "text/html": [
       "<div>\n",
       "<style scoped>\n",
       "    .dataframe tbody tr th:only-of-type {\n",
       "        vertical-align: middle;\n",
       "    }\n",
       "\n",
       "    .dataframe tbody tr th {\n",
       "        vertical-align: top;\n",
       "    }\n",
       "\n",
       "    .dataframe thead th {\n",
       "        text-align: right;\n",
       "    }\n",
       "</style>\n",
       "<table border=\"1\" class=\"dataframe\">\n",
       "  <thead>\n",
       "    <tr style=\"text-align: right;\">\n",
       "      <th></th>\n",
       "      <th>picid</th>\n",
       "      <th>unit_id</th>\n",
       "      <th>camera_id</th>\n",
       "      <th>time</th>\n",
       "      <th>gaia</th>\n",
       "      <th>twomass</th>\n",
       "      <th>status</th>\n",
       "      <th>catalog_dec</th>\n",
       "      <th>catalog_ra</th>\n",
       "      <th>catalog_sep_arcsec</th>\n",
       "      <th>...</th>\n",
       "      <th>pixel_90</th>\n",
       "      <th>pixel_91</th>\n",
       "      <th>pixel_92</th>\n",
       "      <th>pixel_93</th>\n",
       "      <th>pixel_94</th>\n",
       "      <th>pixel_95</th>\n",
       "      <th>pixel_96</th>\n",
       "      <th>pixel_97</th>\n",
       "      <th>pixel_98</th>\n",
       "      <th>pixel_99</th>\n",
       "    </tr>\n",
       "  </thead>\n",
       "  <tbody>\n",
       "    <tr>\n",
       "      <th>8654</th>\n",
       "      <td>157766779</td>\n",
       "      <td>PAN001</td>\n",
       "      <td>14d3bd</td>\n",
       "      <td>2020-05-20 09:41:52</td>\n",
       "      <td>2098002502313274624</td>\n",
       "      <td>18395316+3912200</td>\n",
       "      <td>matched</td>\n",
       "      <td>39.20553</td>\n",
       "      <td>279.97154</td>\n",
       "      <td>22.363846</td>\n",
       "      <td>...</td>\n",
       "      <td>2122</td>\n",
       "      <td>2167</td>\n",
       "      <td>2133</td>\n",
       "      <td>2154</td>\n",
       "      <td>2122</td>\n",
       "      <td>2196</td>\n",
       "      <td>2142</td>\n",
       "      <td>2209</td>\n",
       "      <td>2168</td>\n",
       "      <td>2301</td>\n",
       "    </tr>\n",
       "    <tr>\n",
       "      <th>28505</th>\n",
       "      <td>157766779</td>\n",
       "      <td>PAN001</td>\n",
       "      <td>14d3bd</td>\n",
       "      <td>2020-05-20 09:45:53</td>\n",
       "      <td>2098002502313274624</td>\n",
       "      <td>18395316+3912200</td>\n",
       "      <td>matched</td>\n",
       "      <td>39.20553</td>\n",
       "      <td>279.97154</td>\n",
       "      <td>19.765278</td>\n",
       "      <td>...</td>\n",
       "      <td>2115</td>\n",
       "      <td>2174</td>\n",
       "      <td>2127</td>\n",
       "      <td>2166</td>\n",
       "      <td>2119</td>\n",
       "      <td>2191</td>\n",
       "      <td>2147</td>\n",
       "      <td>2210</td>\n",
       "      <td>2158</td>\n",
       "      <td>2316</td>\n",
       "    </tr>\n",
       "    <tr>\n",
       "      <th>49243</th>\n",
       "      <td>157766779</td>\n",
       "      <td>PAN001</td>\n",
       "      <td>14d3bd</td>\n",
       "      <td>2020-05-20 09:49:45</td>\n",
       "      <td>2098002502313274624</td>\n",
       "      <td>18395316+3912200</td>\n",
       "      <td>matched</td>\n",
       "      <td>39.20553</td>\n",
       "      <td>279.97154</td>\n",
       "      <td>21.332983</td>\n",
       "      <td>...</td>\n",
       "      <td>2101</td>\n",
       "      <td>2166</td>\n",
       "      <td>2124</td>\n",
       "      <td>2172</td>\n",
       "      <td>2119</td>\n",
       "      <td>2184</td>\n",
       "      <td>2108</td>\n",
       "      <td>2216</td>\n",
       "      <td>2120</td>\n",
       "      <td>2243</td>\n",
       "    </tr>\n",
       "    <tr>\n",
       "      <th>70044</th>\n",
       "      <td>157766779</td>\n",
       "      <td>PAN001</td>\n",
       "      <td>14d3bd</td>\n",
       "      <td>2020-05-20 09:53:37</td>\n",
       "      <td>2098002502313274624</td>\n",
       "      <td>18395316+3912200</td>\n",
       "      <td>matched</td>\n",
       "      <td>39.20553</td>\n",
       "      <td>279.97154</td>\n",
       "      <td>19.771267</td>\n",
       "      <td>...</td>\n",
       "      <td>2117</td>\n",
       "      <td>2196</td>\n",
       "      <td>2132</td>\n",
       "      <td>2170</td>\n",
       "      <td>2107</td>\n",
       "      <td>2190</td>\n",
       "      <td>2146</td>\n",
       "      <td>2209</td>\n",
       "      <td>2170</td>\n",
       "      <td>2252</td>\n",
       "    </tr>\n",
       "    <tr>\n",
       "      <th>90195</th>\n",
       "      <td>157766779</td>\n",
       "      <td>PAN001</td>\n",
       "      <td>14d3bd</td>\n",
       "      <td>2020-05-20 09:57:24</td>\n",
       "      <td>2098002502313274624</td>\n",
       "      <td>18395316+3912200</td>\n",
       "      <td>matched</td>\n",
       "      <td>39.20553</td>\n",
       "      <td>279.97154</td>\n",
       "      <td>21.390723</td>\n",
       "      <td>...</td>\n",
       "      <td>2112</td>\n",
       "      <td>2166</td>\n",
       "      <td>2122</td>\n",
       "      <td>2188</td>\n",
       "      <td>2119</td>\n",
       "      <td>2181</td>\n",
       "      <td>2150</td>\n",
       "      <td>2228</td>\n",
       "      <td>2161</td>\n",
       "      <td>2272</td>\n",
       "    </tr>\n",
       "    <tr>\n",
       "      <th>...</th>\n",
       "      <td>...</td>\n",
       "      <td>...</td>\n",
       "      <td>...</td>\n",
       "      <td>...</td>\n",
       "      <td>...</td>\n",
       "      <td>...</td>\n",
       "      <td>...</td>\n",
       "      <td>...</td>\n",
       "      <td>...</td>\n",
       "      <td>...</td>\n",
       "      <td>...</td>\n",
       "      <td>...</td>\n",
       "      <td>...</td>\n",
       "      <td>...</td>\n",
       "      <td>...</td>\n",
       "      <td>...</td>\n",
       "      <td>...</td>\n",
       "      <td>...</td>\n",
       "      <td>...</td>\n",
       "      <td>...</td>\n",
       "      <td>...</td>\n",
       "    </tr>\n",
       "    <tr>\n",
       "      <th>1664645</th>\n",
       "      <td>157766779</td>\n",
       "      <td>PAN001</td>\n",
       "      <td>14d3bd</td>\n",
       "      <td>2020-05-20 14:19:24</td>\n",
       "      <td>2098002502313274624</td>\n",
       "      <td>18395316+3912200</td>\n",
       "      <td>matched</td>\n",
       "      <td>39.20553</td>\n",
       "      <td>279.97154</td>\n",
       "      <td>18.002897</td>\n",
       "      <td>...</td>\n",
       "      <td>2124</td>\n",
       "      <td>2151</td>\n",
       "      <td>2122</td>\n",
       "      <td>2148</td>\n",
       "      <td>2110</td>\n",
       "      <td>2152</td>\n",
       "      <td>2138</td>\n",
       "      <td>2176</td>\n",
       "      <td>2126</td>\n",
       "      <td>2214</td>\n",
       "    </tr>\n",
       "    <tr>\n",
       "      <th>1692393</th>\n",
       "      <td>157766779</td>\n",
       "      <td>PAN001</td>\n",
       "      <td>14d3bd</td>\n",
       "      <td>2020-05-20 14:23:22</td>\n",
       "      <td>2098002502313274624</td>\n",
       "      <td>18395316+3912200</td>\n",
       "      <td>matched</td>\n",
       "      <td>39.20553</td>\n",
       "      <td>279.97154</td>\n",
       "      <td>19.298937</td>\n",
       "      <td>...</td>\n",
       "      <td>2118</td>\n",
       "      <td>2129</td>\n",
       "      <td>2107</td>\n",
       "      <td>2146</td>\n",
       "      <td>2113</td>\n",
       "      <td>2169</td>\n",
       "      <td>2124</td>\n",
       "      <td>2180</td>\n",
       "      <td>2133</td>\n",
       "      <td>2210</td>\n",
       "    </tr>\n",
       "    <tr>\n",
       "      <th>1719955</th>\n",
       "      <td>157766779</td>\n",
       "      <td>PAN001</td>\n",
       "      <td>14d3bd</td>\n",
       "      <td>2020-05-20 14:31:18</td>\n",
       "      <td>2098002502313274624</td>\n",
       "      <td>18395316+3912200</td>\n",
       "      <td>matched</td>\n",
       "      <td>39.20553</td>\n",
       "      <td>279.97154</td>\n",
       "      <td>20.350830</td>\n",
       "      <td>...</td>\n",
       "      <td>2118</td>\n",
       "      <td>2162</td>\n",
       "      <td>2132</td>\n",
       "      <td>2146</td>\n",
       "      <td>2105</td>\n",
       "      <td>2155</td>\n",
       "      <td>2122</td>\n",
       "      <td>2178</td>\n",
       "      <td>2128</td>\n",
       "      <td>2190</td>\n",
       "    </tr>\n",
       "    <tr>\n",
       "      <th>1744846</th>\n",
       "      <td>157766779</td>\n",
       "      <td>PAN001</td>\n",
       "      <td>14d3bd</td>\n",
       "      <td>2020-05-20 14:35:44</td>\n",
       "      <td>2098002502313274624</td>\n",
       "      <td>18395316+3912200</td>\n",
       "      <td>matched</td>\n",
       "      <td>39.20553</td>\n",
       "      <td>279.97154</td>\n",
       "      <td>17.902591</td>\n",
       "      <td>...</td>\n",
       "      <td>2110</td>\n",
       "      <td>2169</td>\n",
       "      <td>2106</td>\n",
       "      <td>2191</td>\n",
       "      <td>2119</td>\n",
       "      <td>2176</td>\n",
       "      <td>2126</td>\n",
       "      <td>2203</td>\n",
       "      <td>2149</td>\n",
       "      <td>2224</td>\n",
       "    </tr>\n",
       "    <tr>\n",
       "      <th>1765207</th>\n",
       "      <td>157766779</td>\n",
       "      <td>PAN001</td>\n",
       "      <td>14d3bd</td>\n",
       "      <td>2020-05-20 14:39:46</td>\n",
       "      <td>2098002502313274624</td>\n",
       "      <td>18395316+3912200</td>\n",
       "      <td>matched</td>\n",
       "      <td>39.20553</td>\n",
       "      <td>279.97154</td>\n",
       "      <td>21.331842</td>\n",
       "      <td>...</td>\n",
       "      <td>2128</td>\n",
       "      <td>2200</td>\n",
       "      <td>2124</td>\n",
       "      <td>2222</td>\n",
       "      <td>2135</td>\n",
       "      <td>2190</td>\n",
       "      <td>2131</td>\n",
       "      <td>2236</td>\n",
       "      <td>2136</td>\n",
       "      <td>2247</td>\n",
       "    </tr>\n",
       "  </tbody>\n",
       "</table>\n",
       "<p>74 rows × 138 columns</p>\n",
       "</div>"
      ],
      "text/plain": [
       "             picid unit_id camera_id                time                 gaia  \\\n",
       "8654     157766779  PAN001    14d3bd 2020-05-20 09:41:52  2098002502313274624   \n",
       "28505    157766779  PAN001    14d3bd 2020-05-20 09:45:53  2098002502313274624   \n",
       "49243    157766779  PAN001    14d3bd 2020-05-20 09:49:45  2098002502313274624   \n",
       "70044    157766779  PAN001    14d3bd 2020-05-20 09:53:37  2098002502313274624   \n",
       "90195    157766779  PAN001    14d3bd 2020-05-20 09:57:24  2098002502313274624   \n",
       "...            ...     ...       ...                 ...                  ...   \n",
       "1664645  157766779  PAN001    14d3bd 2020-05-20 14:19:24  2098002502313274624   \n",
       "1692393  157766779  PAN001    14d3bd 2020-05-20 14:23:22  2098002502313274624   \n",
       "1719955  157766779  PAN001    14d3bd 2020-05-20 14:31:18  2098002502313274624   \n",
       "1744846  157766779  PAN001    14d3bd 2020-05-20 14:35:44  2098002502313274624   \n",
       "1765207  157766779  PAN001    14d3bd 2020-05-20 14:39:46  2098002502313274624   \n",
       "\n",
       "                  twomass   status  catalog_dec  catalog_ra  \\\n",
       "8654     18395316+3912200  matched     39.20553   279.97154   \n",
       "28505    18395316+3912200  matched     39.20553   279.97154   \n",
       "49243    18395316+3912200  matched     39.20553   279.97154   \n",
       "70044    18395316+3912200  matched     39.20553   279.97154   \n",
       "90195    18395316+3912200  matched     39.20553   279.97154   \n",
       "...                   ...      ...          ...         ...   \n",
       "1664645  18395316+3912200  matched     39.20553   279.97154   \n",
       "1692393  18395316+3912200  matched     39.20553   279.97154   \n",
       "1719955  18395316+3912200  matched     39.20553   279.97154   \n",
       "1744846  18395316+3912200  matched     39.20553   279.97154   \n",
       "1765207  18395316+3912200  matched     39.20553   279.97154   \n",
       "\n",
       "         catalog_sep_arcsec  ...  pixel_90  pixel_91  pixel_92  pixel_93  \\\n",
       "8654              22.363846  ...      2122      2167      2133      2154   \n",
       "28505             19.765278  ...      2115      2174      2127      2166   \n",
       "49243             21.332983  ...      2101      2166      2124      2172   \n",
       "70044             19.771267  ...      2117      2196      2132      2170   \n",
       "90195             21.390723  ...      2112      2166      2122      2188   \n",
       "...                     ...  ...       ...       ...       ...       ...   \n",
       "1664645           18.002897  ...      2124      2151      2122      2148   \n",
       "1692393           19.298937  ...      2118      2129      2107      2146   \n",
       "1719955           20.350830  ...      2118      2162      2132      2146   \n",
       "1744846           17.902591  ...      2110      2169      2106      2191   \n",
       "1765207           21.331842  ...      2128      2200      2124      2222   \n",
       "\n",
       "         pixel_94  pixel_95  pixel_96  pixel_97  pixel_98  pixel_99  \n",
       "8654         2122      2196      2142      2209      2168      2301  \n",
       "28505        2119      2191      2147      2210      2158      2316  \n",
       "49243        2119      2184      2108      2216      2120      2243  \n",
       "70044        2107      2190      2146      2209      2170      2252  \n",
       "90195        2119      2181      2150      2228      2161      2272  \n",
       "...           ...       ...       ...       ...       ...       ...  \n",
       "1664645      2110      2152      2138      2176      2126      2214  \n",
       "1692393      2113      2169      2124      2180      2133      2210  \n",
       "1719955      2105      2155      2122      2178      2128      2190  \n",
       "1744846      2119      2176      2126      2203      2149      2224  \n",
       "1765207      2135      2190      2131      2236      2136      2247  \n",
       "\n",
       "[74 rows x 138 columns]"
      ]
     },
     "execution_count": 100,
     "metadata": {},
     "output_type": "execute_result"
    }
   ],
   "source": [
    "target_df"
   ]
  },
  {
   "cell_type": "code",
   "execution_count": 59,
   "metadata": {},
   "outputs": [],
   "source": [
    "# obs_sources_df['image_id'] = obs_sources_df['unit_id'] + \"_\" + obs_sources_df['camera_id'] + \"_\" + obs_sources_df['time']"
   ]
  },
  {
   "cell_type": "code",
   "execution_count": 60,
   "metadata": {},
   "outputs": [],
   "source": [
    "# obs_sources_df2 = obs_sources_df.merge(images_df, on='image_id')"
   ]
  },
  {
   "cell_type": "code",
   "execution_count": 61,
   "metadata": {},
   "outputs": [],
   "source": [
    "# stamps = list()\n",
    "# for fn in tqdm(glob.glob('PAN001_14d3bd_20200520T093913/csv/*-stamps*')):\n",
    "#     stamps.append(pd.read_csv(fn).convert_dtypes())\n",
    "    \n",
    "# stamps = pd.concat(stamps)\n",
    "\n",
    "# obs_sources_df = obs_sources_df.merge(stamps, how='outer')\n",
    "\n",
    "# obs_sources_df.to_parquet(point_sources_csv)"
   ]
  },
  {
   "cell_type": "code",
   "execution_count": 62,
   "metadata": {},
   "outputs": [],
   "source": [
    "obs_sources_df.time = pd.to_datetime(obs_sources_df.time)"
   ]
  },
  {
   "cell_type": "code",
   "execution_count": 63,
   "metadata": {},
   "outputs": [
    {
     "data": {},
     "metadata": {},
     "output_type": "display_data"
    },
    {
     "data": {
      "application/vnd.holoviews_exec.v0+json": "",
      "text/html": [
       "<div id='2428'>\n",
       "\n",
       "\n",
       "\n",
       "\n",
       "\n",
       "  <div class=\"bk-root\" id=\"08b613bc-3e29-43ea-9f9d-3fd0b9d8b9b4\" data-root-id=\"2428\"></div>\n",
       "</div>\n",
       "<script type=\"application/javascript\">(function(root) {\n",
       "  function embed_document(root) {\n",
       "  var docs_json = {\"c0742375-cb87-4a22-ad54-983969ec42fb\":{\"roots\":{\"references\":[{\"attributes\":{\"children\":[{\"id\":\"2429\"},{\"id\":\"2433\"},{\"id\":\"2515\"}],\"margin\":[0,0,0,0],\"name\":\"Row03475\",\"tags\":[\"embedded\"]},\"id\":\"2428\",\"type\":\"Row\"},{\"attributes\":{\"axis_label\":\"\",\"bounds\":\"auto\",\"formatter\":{\"id\":\"2473\"},\"major_label_orientation\":\"horizontal\",\"ticker\":{\"id\":\"2447\"}},\"id\":\"2446\",\"type\":\"LinearAxis\"},{\"attributes\":{\"margin\":[5,5,5,5],\"name\":\"HSpacer03479\",\"sizing_mode\":\"stretch_width\"},\"id\":\"2429\",\"type\":\"Spacer\"},{\"attributes\":{},\"id\":\"2451\",\"type\":\"PanTool\"},{\"attributes\":{\"axis\":{\"id\":\"2442\"},\"grid_line_color\":null,\"ticker\":null},\"id\":\"2445\",\"type\":\"Grid\"},{\"attributes\":{\"num_minor_ticks\":5,\"tickers\":[{\"id\":\"2481\"},{\"id\":\"2482\"},{\"id\":\"2483\"},{\"id\":\"2484\"},{\"id\":\"2485\"},{\"id\":\"2486\"},{\"id\":\"2487\"},{\"id\":\"2488\"},{\"id\":\"2489\"},{\"id\":\"2490\"},{\"id\":\"2491\"},{\"id\":\"2492\"}]},\"id\":\"2443\",\"type\":\"DatetimeTicker\"},{\"attributes\":{\"data\":{\"measured_background\":{\"__ndarray__\":\"IFD1g+cOVEDAunvl0B1UQID2SZjt5VNAAP4PexvvU0DA1gxXZO1TQCDnZa3h51NAYIQ7I1LVU0AgGPNfyZ9TQEDVxC+UbFNAoI1kjhAsU0Bgv4F2rDtTQOBDxH+R8VJAwMgHo6kAU0Dge24kaLxSQCDyCv80qlJAQHs/pht5UkBApMwN4pZSQACZQz0AW1JAYIEG37JDUkCgs0RWfh5SQAC3ghrvYFJAgOs0f5lqUkDAXWPqUItSQAD43klRWVJAoF+AlwAxUkBAzjNyBi9SQIBk/sxx/FFAwK5yNfEoUkCgAs/s4xZSQIBvBUpTOFJAAL7OCl8iUkBgHC4OxGlSQOANJO7bb1JAQMS5HEjzUkDgLeKiYQ5TQKD5F8L9ZVNAwMrcwP8pU0DAqkm/Pj1TQGDz7swjPFNAwGhAJO9NU0DAgjlVhy1TQGBtk7KlQlNAQGtshRolU0CgHzad0yhTQECz0gFOCFNAwH1jJ9r/UkCg2Buzg/5SQKBF42b22FJAALM2dtzvUkDAFPqInspSQCCd5DSIw1JAYKwkI3p5UkCAiEPuvZNSQODHY/dMZVJAoA5gd7J5UkCATX7H70xSQCCJTOfLSlJAYIyPXqAYUkCgzKmVphlSQEAu4uSh3FFAgI9CN6vrUUBg93KKcMZRQECqvQ6dsVFAACTKurU2UUDAywDwB9tQQGCSSz34sFBAwFUxNE2BUEBAYE3uooVQQGCviVZqe1BAQGuVBTGoUEDgOvsAObdQQMA9ZXWOb1JAgDe7oMCWVkDgTP2aiKVfQCBdWhZDvGhAiF+36pqEdEDAMo+NE2yDQA==\",\"dtype\":\"float64\",\"order\":\"little\",\"shape\":[77]},\"time\":{\"__ndarray__\":\"AADwXhcjd0IAgMaZFyN3QgCAatIXI3dCAIAOCxgjd0IAAHpCGCN3QgCAVnwYI3dCAAA/tBgjd0IAgJjuGCN3QgAAgSYZI3dCAIBpXhkjd0IAgA2XGSN3QgAAc88ZI3dCAAAXCBojd0IAgHBCGiN3QgAA0HsaI3dCAICytBojd0IAABLuGiN3QgCAdyYbI3dCAABUYBsjd0IAgDCaGyN3QgCA1NIbI3dCAACxDBwjd0IAAMxGHCN3QgAA7X8cI3dCAIDk8xwjd0IAAMEtHSN3QgCAl2gdI3dCAADxoh0jd0IAAAbeHSN3QgAAqhYeI3dCAICSTh4jd0IAgDCIHiN3QgAAGcAeI3dCAAC9+B4jd0IAgKUwHyN3QgAAjmgfI3dCAAAyoR8jd0IAAFnZHyN3QgCAQREgI3dCAIBoSSAjd0IAAFGBICN3QgAAbLsgI3dCAIBI9SAjd0IAgOwtISN3QgAA1WUhI3dCAAB5niEjd0IAgGfVISN3QgAAzQ0iI3dCAAB3RSIjd0IAAJ59IiN3QgCAA7YiI3dCAICn7iIjd0IAgM4mIyN3QgAAq2AjI3dCAADGmiMjd0IAAGTUIyN3QgAA/A4kI3dCAACgRyQjd0IAALuBJCN3QgAAuMAkI3dCAIAX+iQjd0IAgDgzJSN3QgAAG2wlI3dCAIAA4yUjd0IAAGAcJiN3QgCAs1cmI3dCAIDOkSYjd0IAADTKJiN3QgCA+AcnI3dCAABeQCcjd0IAAHl6JyN3QgAAr+4nI3dCAACgLygjd0IAALVqKCN3QgAA1qMoI3dCAAD33Cgjd0IAgNkVKSN3Qg==\",\"dtype\":\"float64\",\"order\":\"little\",\"shape\":[77]}},\"selected\":{\"id\":\"2464\"},\"selection_policy\":{\"id\":\"2494\"}},\"id\":\"2463\",\"type\":\"ColumnDataSource\"},{\"attributes\":{\"axis\":{\"id\":\"2446\"},\"dimension\":1,\"grid_line_color\":null,\"ticker\":null},\"id\":\"2449\",\"type\":\"Grid\"},{\"attributes\":{\"data_source\":{\"id\":\"2463\"},\"glyph\":{\"id\":\"2466\"},\"hover_glyph\":null,\"muted_glyph\":{\"id\":\"2468\"},\"nonselection_glyph\":{\"id\":\"2467\"},\"selection_glyph\":null,\"view\":{\"id\":\"2470\"}},\"id\":\"2469\",\"type\":\"GlyphRenderer\"},{\"attributes\":{},\"id\":\"2447\",\"type\":\"BasicTicker\"},{\"attributes\":{},\"id\":\"2452\",\"type\":\"WheelZoomTool\"},{\"attributes\":{\"axis_label\":\"time\",\"bounds\":\"auto\",\"formatter\":{\"id\":\"2471\"},\"major_label_orientation\":\"horizontal\",\"ticker\":{\"id\":\"2443\"}},\"id\":\"2442\",\"type\":\"DatetimeAxis\"},{\"attributes\":{\"mantissas\":[1,2,5],\"max_interval\":500.0,\"num_minor_ticks\":0},\"id\":\"2481\",\"type\":\"AdaptiveTicker\"},{\"attributes\":{\"text\":\"measured_background\",\"text_color\":{\"value\":\"black\"},\"text_font_size\":{\"value\":\"12pt\"}},\"id\":\"2434\",\"type\":\"Title\"},{\"attributes\":{\"base\":60,\"mantissas\":[1,2,5,10,15,20,30],\"max_interval\":1800000.0,\"min_interval\":1000.0,\"num_minor_ticks\":0},\"id\":\"2482\",\"type\":\"AdaptiveTicker\"},{\"attributes\":{\"days\":[1,2,3,4,5,6,7,8,9,10,11,12,13,14,15,16,17,18,19,20,21,22,23,24,25,26,27,28,29,30,31]},\"id\":\"2484\",\"type\":\"DaysTicker\"},{\"attributes\":{\"active_drag\":\"auto\",\"active_inspect\":\"auto\",\"active_multi\":null,\"active_scroll\":\"auto\",\"active_tap\":\"auto\",\"tools\":[{\"id\":\"2432\"},{\"id\":\"2450\"},{\"id\":\"2451\"},{\"id\":\"2452\"},{\"id\":\"2453\"},{\"id\":\"2454\"}]},\"id\":\"2456\",\"type\":\"Toolbar\"},{\"attributes\":{},\"id\":\"2450\",\"type\":\"SaveTool\"},{\"attributes\":{\"end\":677.06766554562,\"reset_end\":677.06766554562,\"reset_start\":10.370247159986725,\"start\":10.370247159986725,\"tags\":[[[\"measured_background\",\"measured_background\",null]]]},\"id\":\"2431\",\"type\":\"Range1d\"},{\"attributes\":{\"base\":24,\"mantissas\":[1,2,4,6,8,12],\"max_interval\":43200000.0,\"min_interval\":3600000.0,\"num_minor_ticks\":0},\"id\":\"2483\",\"type\":\"AdaptiveTicker\"},{\"attributes\":{\"overlay\":{\"id\":\"2455\"}},\"id\":\"2453\",\"type\":\"BoxZoomTool\"},{\"attributes\":{\"months\":[0,1,2,3,4,5,6,7,8,9,10,11]},\"id\":\"2488\",\"type\":\"MonthsTicker\"},{\"attributes\":{},\"id\":\"2454\",\"type\":\"ResetTool\"},{\"attributes\":{\"months\":[0,2,4,6,8,10]},\"id\":\"2489\",\"type\":\"MonthsTicker\"},{\"attributes\":{\"days\":[1,4,7,10,13,16,19,22,25,28]},\"id\":\"2485\",\"type\":\"DaysTicker\"},{\"attributes\":{\"margin\":[5,5,5,5],\"name\":\"HSpacer03480\",\"sizing_mode\":\"stretch_width\"},\"id\":\"2515\",\"type\":\"Spacer\"},{\"attributes\":{},\"id\":\"2473\",\"type\":\"BasicTickFormatter\"},{\"attributes\":{\"days\":[1,15]},\"id\":\"2487\",\"type\":\"DaysTicker\"},{\"attributes\":{\"months\":[0,6]},\"id\":\"2491\",\"type\":\"MonthsTicker\"},{\"attributes\":{\"days\":[1,8,15,22]},\"id\":\"2486\",\"type\":\"DaysTicker\"},{\"attributes\":{},\"id\":\"2492\",\"type\":\"YearsTicker\"},{\"attributes\":{},\"id\":\"2464\",\"type\":\"Selection\"},{\"attributes\":{\"bottom_units\":\"screen\",\"fill_alpha\":0.5,\"fill_color\":\"lightgrey\",\"left_units\":\"screen\",\"level\":\"overlay\",\"line_alpha\":1.0,\"line_color\":\"black\",\"line_dash\":[4,4],\"line_width\":2,\"right_units\":\"screen\",\"top_units\":\"screen\"},\"id\":\"2455\",\"type\":\"BoxAnnotation\"},{\"attributes\":{\"months\":[0,4,8]},\"id\":\"2490\",\"type\":\"MonthsTicker\"},{\"attributes\":{\"callback\":null,\"formatters\":{\"@{time}\":\"datetime\"},\"renderers\":[{\"id\":\"2469\"}],\"tags\":[\"hv_created\"],\"tooltips\":[[\"time\",\"@{time}{%F %T}\"],[\"measured_background\",\"@{measured_background}\"]]},\"id\":\"2432\",\"type\":\"HoverTool\"},{\"attributes\":{\"end\":1589986287000.0,\"reset_end\":1589986287000.0,\"reset_start\":1589967712000.0,\"start\":1589967712000.0,\"tags\":[[[\"time\",\"time\",null]]]},\"id\":\"2430\",\"type\":\"Range1d\"},{\"attributes\":{\"line_color\":\"#1f77b3\",\"line_width\":2,\"x\":{\"field\":\"time\"},\"y\":{\"field\":\"measured_background\"}},\"id\":\"2466\",\"type\":\"Line\"},{\"attributes\":{},\"id\":\"2471\",\"type\":\"DatetimeTickFormatter\"},{\"attributes\":{\"line_alpha\":0.1,\"line_color\":\"#1f77b3\",\"line_width\":2,\"x\":{\"field\":\"time\"},\"y\":{\"field\":\"measured_background\"}},\"id\":\"2467\",\"type\":\"Line\"},{\"attributes\":{},\"id\":\"2438\",\"type\":\"LinearScale\"},{\"attributes\":{\"line_alpha\":0.2,\"line_color\":\"#1f77b3\",\"line_width\":2,\"x\":{\"field\":\"time\"},\"y\":{\"field\":\"measured_background\"}},\"id\":\"2468\",\"type\":\"Line\"},{\"attributes\":{\"source\":{\"id\":\"2463\"}},\"id\":\"2470\",\"type\":\"CDSView\"},{\"attributes\":{\"align\":null,\"below\":[{\"id\":\"2442\"}],\"center\":[{\"id\":\"2445\"},{\"id\":\"2449\"}],\"left\":[{\"id\":\"2446\"}],\"margin\":null,\"min_border_bottom\":10,\"min_border_left\":10,\"min_border_right\":10,\"min_border_top\":10,\"plot_height\":300,\"plot_width\":700,\"renderers\":[{\"id\":\"2469\"}],\"sizing_mode\":\"fixed\",\"title\":{\"id\":\"2434\"},\"toolbar\":{\"id\":\"2456\"},\"x_range\":{\"id\":\"2430\"},\"x_scale\":{\"id\":\"2438\"},\"y_range\":{\"id\":\"2431\"},\"y_scale\":{\"id\":\"2440\"}},\"id\":\"2433\",\"subtype\":\"Figure\",\"type\":\"Plot\"},{\"attributes\":{},\"id\":\"2440\",\"type\":\"LinearScale\"},{\"attributes\":{},\"id\":\"2494\",\"type\":\"UnionRenderers\"}],\"root_ids\":[\"2428\"]},\"title\":\"Bokeh Application\",\"version\":\"2.2.1\"}};\n",
       "  var render_items = [{\"docid\":\"c0742375-cb87-4a22-ad54-983969ec42fb\",\"root_ids\":[\"2428\"],\"roots\":{\"2428\":\"08b613bc-3e29-43ea-9f9d-3fd0b9d8b9b4\"}}];\n",
       "  root.Bokeh.embed.embed_items_notebook(docs_json, render_items);\n",
       "  }\n",
       "if (root.Bokeh !== undefined) {\n",
       "    embed_document(root);\n",
       "  } else {\n",
       "    var attempts = 0;\n",
       "    var timer = setInterval(function(root) {\n",
       "      if (root.Bokeh !== undefined) {\n",
       "        clearInterval(timer);\n",
       "        embed_document(root);\n",
       "      } else if (document.readyState == \"complete\") {\n",
       "        attempts++;\n",
       "        if (attempts > 100) {\n",
       "          clearInterval(timer);\n",
       "          console.log(\"Bokeh: ERROR: Unable to run BokehJS code because BokehJS library is missing\");\n",
       "        }\n",
       "      }\n",
       "    }, 10, root)\n",
       "  }\n",
       "})(window);</script>"
      ],
      "text/plain": [
       ":Curve   [time]   (measured_background)"
      ]
     },
     "execution_count": 63,
     "metadata": {
      "application/vnd.holoviews_exec.v0+json": {
       "id": "2428"
      }
     },
     "output_type": "execute_result"
    }
   ],
   "source": [
    "(obs_sources_df.groupby('time').mean().measured_background - 2048).hvplot()"
   ]
  },
  {
   "cell_type": "code",
   "execution_count": 64,
   "metadata": {},
   "outputs": [],
   "source": [
    "psc0 = processing.get_psc(picid, obs_sources_df)"
   ]
  },
  {
   "cell_type": "code",
   "execution_count": 65,
   "metadata": {},
   "outputs": [
    {
     "data": {},
     "metadata": {},
     "output_type": "display_data"
    },
    {
     "data": {
      "application/vnd.holoviews_exec.v0+json": "",
      "text/html": [
       "<div id='2617'>\n",
       "\n",
       "\n",
       "\n",
       "\n",
       "\n",
       "  <div class=\"bk-root\" id=\"e36c595b-85cc-47e1-be40-a74fed694e45\" data-root-id=\"2617\"></div>\n",
       "</div>\n",
       "<script type=\"application/javascript\">(function(root) {\n",
       "  function embed_document(root) {\n",
       "  var docs_json = {\"dd30828b-9e58-4bdc-8e2a-0b885aa53456\":{\"roots\":{\"references\":[{\"attributes\":{},\"id\":\"2660\",\"type\":\"BasicTickFormatter\"},{\"attributes\":{},\"id\":\"2654\",\"type\":\"Selection\"},{\"attributes\":{\"text\":\"\",\"text_color\":{\"value\":\"black\"},\"text_font_size\":{\"value\":\"12pt\"}},\"id\":\"2623\",\"type\":\"Title\"},{\"attributes\":{\"data_source\":{\"id\":\"2653\"},\"glyph\":{\"id\":\"2656\"},\"hover_glyph\":null,\"muted_glyph\":null,\"nonselection_glyph\":{\"id\":\"2657\"},\"selection_glyph\":null,\"view\":{\"id\":\"2659\"}},\"id\":\"2658\",\"type\":\"GlyphRenderer\"},{\"attributes\":{\"bottom_units\":\"screen\",\"fill_alpha\":0.5,\"fill_color\":\"lightgrey\",\"left_units\":\"screen\",\"level\":\"overlay\",\"line_alpha\":1.0,\"line_color\":\"black\",\"line_dash\":[4,4],\"line_width\":2,\"right_units\":\"screen\",\"top_units\":\"screen\"},\"id\":\"2644\",\"type\":\"BoxAnnotation\"},{\"attributes\":{},\"id\":\"2627\",\"type\":\"LinearScale\"},{\"attributes\":{\"align\":null,\"below\":[{\"id\":\"2631\"}],\"center\":[{\"id\":\"2634\"},{\"id\":\"2638\"}],\"left\":[{\"id\":\"2635\"}],\"margin\":null,\"min_border_bottom\":10,\"min_border_left\":10,\"min_border_right\":10,\"min_border_top\":10,\"plot_height\":400,\"plot_width\":400,\"renderers\":[{\"id\":\"2658\"}],\"sizing_mode\":\"fixed\",\"title\":{\"id\":\"2623\"},\"toolbar\":{\"id\":\"2645\"},\"x_range\":{\"id\":\"2619\"},\"x_scale\":{\"id\":\"2627\"},\"y_range\":{\"id\":\"2620\"},\"y_scale\":{\"id\":\"2629\"}},\"id\":\"2622\",\"subtype\":\"Figure\",\"type\":\"Plot\"},{\"attributes\":{\"data\":{\"dh\":[1.0],\"dw\":[1.0],\"image\":[[[2104,2184,2110,2142,2106,2159,2127,2204,2132,2222],[2163,2142,2154,2150,2154,2147,2153,2152,2192,2160],[2128,2168,2137,2169,2123,2174,2118,2193,2111,2181],[2171,2161,2170,2207,2310,2176,2146,2152,2160,2137],[2162,2187,2181,2462,2214,2212,2138,2163,2104,2172],[2200,2176,2286,2410,2824,2207,2162,2137,2154,2133],[2182,2202,2232,3100,2277,2282,2140,2169,2097,2153],[2176,2157,2287,2400,2961,2223,2152,2139,2121,2113],[2144,2172,2176,2336,2207,2253,2142,2183,2111,2146],[2174,2139,2211,2160,2249,2188,2162,2139,2149,2103]]],\"x\":[-0.5],\"y\":[-0.5]},\"selected\":{\"id\":\"2654\"},\"selection_policy\":{\"id\":\"2671\"}},\"id\":\"2653\",\"type\":\"ColumnDataSource\"},{\"attributes\":{},\"id\":\"2640\",\"type\":\"PanTool\"},{\"attributes\":{\"callback\":null,\"renderers\":[{\"id\":\"2658\"}],\"tags\":[\"hv_created\"],\"tooltips\":[[\"x\",\"$x\"],[\"y\",\"$y\"],[\"z\",\"@image\"]]},\"id\":\"2621\",\"type\":\"HoverTool\"},{\"attributes\":{\"axis\":{\"id\":\"2631\"},\"grid_line_color\":null,\"ticker\":null},\"id\":\"2634\",\"type\":\"Grid\"},{\"attributes\":{},\"id\":\"2632\",\"type\":\"BasicTicker\"},{\"attributes\":{},\"id\":\"2629\",\"type\":\"LinearScale\"},{\"attributes\":{\"end\":0.5,\"reset_end\":0.5,\"reset_start\":-0.5,\"start\":-0.5,\"tags\":[[[\"y\",\"y\",null]]]},\"id\":\"2620\",\"type\":\"Range1d\"},{\"attributes\":{\"axis_label\":\"x\",\"bounds\":\"auto\",\"formatter\":{\"id\":\"2660\"},\"major_label_orientation\":\"horizontal\",\"ticker\":{\"id\":\"2632\"}},\"id\":\"2631\",\"type\":\"LinearAxis\"},{\"attributes\":{\"source\":{\"id\":\"2653\"}},\"id\":\"2659\",\"type\":\"CDSView\"},{\"attributes\":{\"children\":[{\"id\":\"2618\"},{\"id\":\"2622\"},{\"id\":\"2680\"}],\"margin\":[0,0,0,0],\"name\":\"Row03587\",\"tags\":[\"embedded\"]},\"id\":\"2617\",\"type\":\"Row\"},{\"attributes\":{\"axis_label\":\"y\",\"bounds\":\"auto\",\"formatter\":{\"id\":\"2662\"},\"major_label_orientation\":\"horizontal\",\"ticker\":{\"id\":\"2636\"}},\"id\":\"2635\",\"type\":\"LinearAxis\"},{\"attributes\":{\"axis\":{\"id\":\"2635\"},\"dimension\":1,\"grid_line_color\":null,\"ticker\":null},\"id\":\"2638\",\"type\":\"Grid\"},{\"attributes\":{\"margin\":[5,5,5,5],\"name\":\"HSpacer03591\",\"sizing_mode\":\"stretch_width\"},\"id\":\"2618\",\"type\":\"Spacer\"},{\"attributes\":{},\"id\":\"2636\",\"type\":\"BasicTicker\"},{\"attributes\":{\"end\":0.5,\"reset_end\":0.5,\"reset_start\":-0.5,\"start\":-0.5,\"tags\":[[[\"x\",\"x\",null]]]},\"id\":\"2619\",\"type\":\"Range1d\"},{\"attributes\":{\"margin\":[5,5,5,5],\"name\":\"HSpacer03592\",\"sizing_mode\":\"stretch_width\"},\"id\":\"2680\",\"type\":\"Spacer\"},{\"attributes\":{},\"id\":\"2641\",\"type\":\"WheelZoomTool\"},{\"attributes\":{\"high\":3100,\"low\":2097,\"nan_color\":\"rgba(0, 0, 0, 0)\",\"palette\":[\"#440154\",\"#440255\",\"#440357\",\"#450558\",\"#45065a\",\"#45085b\",\"#46095c\",\"#460b5e\",\"#460c5f\",\"#460e61\",\"#470f62\",\"#471163\",\"#471265\",\"#471466\",\"#471567\",\"#471669\",\"#47186a\",\"#48196b\",\"#481a6c\",\"#481c6e\",\"#481d6f\",\"#481e70\",\"#482071\",\"#482172\",\"#482273\",\"#482374\",\"#472575\",\"#472676\",\"#472777\",\"#472878\",\"#472a79\",\"#472b7a\",\"#472c7b\",\"#462d7c\",\"#462f7c\",\"#46307d\",\"#46317e\",\"#45327f\",\"#45347f\",\"#453580\",\"#453681\",\"#443781\",\"#443982\",\"#433a83\",\"#433b83\",\"#433c84\",\"#423d84\",\"#423e85\",\"#424085\",\"#414186\",\"#414286\",\"#404387\",\"#404487\",\"#3f4587\",\"#3f4788\",\"#3e4888\",\"#3e4989\",\"#3d4a89\",\"#3d4b89\",\"#3d4c89\",\"#3c4d8a\",\"#3c4e8a\",\"#3b508a\",\"#3b518a\",\"#3a528b\",\"#3a538b\",\"#39548b\",\"#39558b\",\"#38568b\",\"#38578c\",\"#37588c\",\"#37598c\",\"#365a8c\",\"#365b8c\",\"#355c8c\",\"#355d8c\",\"#345e8d\",\"#345f8d\",\"#33608d\",\"#33618d\",\"#32628d\",\"#32638d\",\"#31648d\",\"#31658d\",\"#31668d\",\"#30678d\",\"#30688d\",\"#2f698d\",\"#2f6a8d\",\"#2e6b8e\",\"#2e6c8e\",\"#2e6d8e\",\"#2d6e8e\",\"#2d6f8e\",\"#2c708e\",\"#2c718e\",\"#2c728e\",\"#2b738e\",\"#2b748e\",\"#2a758e\",\"#2a768e\",\"#2a778e\",\"#29788e\",\"#29798e\",\"#287a8e\",\"#287a8e\",\"#287b8e\",\"#277c8e\",\"#277d8e\",\"#277e8e\",\"#267f8e\",\"#26808e\",\"#26818e\",\"#25828e\",\"#25838d\",\"#24848d\",\"#24858d\",\"#24868d\",\"#23878d\",\"#23888d\",\"#23898d\",\"#22898d\",\"#228a8d\",\"#228b8d\",\"#218c8d\",\"#218d8c\",\"#218e8c\",\"#208f8c\",\"#20908c\",\"#20918c\",\"#1f928c\",\"#1f938b\",\"#1f948b\",\"#1f958b\",\"#1f968b\",\"#1e978a\",\"#1e988a\",\"#1e998a\",\"#1e998a\",\"#1e9a89\",\"#1e9b89\",\"#1e9c89\",\"#1e9d88\",\"#1e9e88\",\"#1e9f88\",\"#1ea087\",\"#1fa187\",\"#1fa286\",\"#1fa386\",\"#20a485\",\"#20a585\",\"#21a685\",\"#21a784\",\"#22a784\",\"#23a883\",\"#23a982\",\"#24aa82\",\"#25ab81\",\"#26ac81\",\"#27ad80\",\"#28ae7f\",\"#29af7f\",\"#2ab07e\",\"#2bb17d\",\"#2cb17d\",\"#2eb27c\",\"#2fb37b\",\"#30b47a\",\"#32b57a\",\"#33b679\",\"#35b778\",\"#36b877\",\"#38b976\",\"#39b976\",\"#3bba75\",\"#3dbb74\",\"#3ebc73\",\"#40bd72\",\"#42be71\",\"#44be70\",\"#45bf6f\",\"#47c06e\",\"#49c16d\",\"#4bc26c\",\"#4dc26b\",\"#4fc369\",\"#51c468\",\"#53c567\",\"#55c666\",\"#57c665\",\"#59c764\",\"#5bc862\",\"#5ec961\",\"#60c960\",\"#62ca5f\",\"#64cb5d\",\"#67cc5c\",\"#69cc5b\",\"#6bcd59\",\"#6dce58\",\"#70ce56\",\"#72cf55\",\"#74d054\",\"#77d052\",\"#79d151\",\"#7cd24f\",\"#7ed24e\",\"#81d34c\",\"#83d34b\",\"#86d449\",\"#88d547\",\"#8bd546\",\"#8dd644\",\"#90d643\",\"#92d741\",\"#95d73f\",\"#97d83e\",\"#9ad83c\",\"#9dd93a\",\"#9fd938\",\"#a2da37\",\"#a5da35\",\"#a7db33\",\"#aadb32\",\"#addc30\",\"#afdc2e\",\"#b2dd2c\",\"#b5dd2b\",\"#b7dd29\",\"#bade27\",\"#bdde26\",\"#bfdf24\",\"#c2df22\",\"#c5df21\",\"#c7e01f\",\"#cae01e\",\"#cde01d\",\"#cfe11c\",\"#d2e11b\",\"#d4e11a\",\"#d7e219\",\"#dae218\",\"#dce218\",\"#dfe318\",\"#e1e318\",\"#e4e318\",\"#e7e419\",\"#e9e419\",\"#ece41a\",\"#eee51b\",\"#f1e51c\",\"#f3e51e\",\"#f6e61f\",\"#f8e621\",\"#fae622\",\"#fde724\"]},\"id\":\"2652\",\"type\":\"LinearColorMapper\"},{\"attributes\":{},\"id\":\"2639\",\"type\":\"SaveTool\"},{\"attributes\":{\"overlay\":{\"id\":\"2644\"}},\"id\":\"2642\",\"type\":\"BoxZoomTool\"},{\"attributes\":{},\"id\":\"2643\",\"type\":\"ResetTool\"},{\"attributes\":{\"active_drag\":\"auto\",\"active_inspect\":\"auto\",\"active_multi\":null,\"active_scroll\":\"auto\",\"active_tap\":\"auto\",\"tools\":[{\"id\":\"2621\"},{\"id\":\"2639\"},{\"id\":\"2640\"},{\"id\":\"2641\"},{\"id\":\"2642\"},{\"id\":\"2643\"}]},\"id\":\"2645\",\"type\":\"Toolbar\"},{\"attributes\":{\"color_mapper\":{\"id\":\"2652\"},\"dh\":{\"field\":\"dh\",\"units\":\"data\"},\"dw\":{\"field\":\"dw\",\"units\":\"data\"},\"global_alpha\":0.1,\"image\":{\"field\":\"image\"},\"x\":{\"field\":\"x\"},\"y\":{\"field\":\"y\"}},\"id\":\"2657\",\"type\":\"Image\"},{\"attributes\":{\"color_mapper\":{\"id\":\"2652\"},\"dh\":{\"field\":\"dh\",\"units\":\"data\"},\"dw\":{\"field\":\"dw\",\"units\":\"data\"},\"image\":{\"field\":\"image\"},\"x\":{\"field\":\"x\"},\"y\":{\"field\":\"y\"}},\"id\":\"2656\",\"type\":\"Image\"},{\"attributes\":{},\"id\":\"2671\",\"type\":\"UnionRenderers\"},{\"attributes\":{},\"id\":\"2662\",\"type\":\"BasicTickFormatter\"}],\"root_ids\":[\"2617\"]},\"title\":\"Bokeh Application\",\"version\":\"2.2.1\"}};\n",
       "  var render_items = [{\"docid\":\"dd30828b-9e58-4bdc-8e2a-0b885aa53456\",\"root_ids\":[\"2617\"],\"roots\":{\"2617\":\"e36c595b-85cc-47e1-be40-a74fed694e45\"}}];\n",
       "  root.Bokeh.embed.embed_items_notebook(docs_json, render_items);\n",
       "  }\n",
       "if (root.Bokeh !== undefined) {\n",
       "    embed_document(root);\n",
       "  } else {\n",
       "    var attempts = 0;\n",
       "    var timer = setInterval(function(root) {\n",
       "      if (root.Bokeh !== undefined) {\n",
       "        clearInterval(timer);\n",
       "        embed_document(root);\n",
       "      } else if (document.readyState == \"complete\") {\n",
       "        attempts++;\n",
       "        if (attempts > 100) {\n",
       "          clearInterval(timer);\n",
       "          console.log(\"Bokeh: ERROR: Unable to run BokehJS code because BokehJS library is missing\");\n",
       "        }\n",
       "      }\n",
       "    }, 10, root)\n",
       "  }\n",
       "})(window);</script>"
      ],
      "text/plain": [
       ":Image   [x,y]   (z)"
      ]
     },
     "execution_count": 65,
     "metadata": {
      "application/vnd.holoviews_exec.v0+json": {
       "id": "2617"
      }
     },
     "output_type": "execute_result"
    }
   ],
   "source": [
    "hv.Image(psc0[-11].reshape(10, 10))"
   ]
  },
  {
   "cell_type": "code",
   "execution_count": 70,
   "metadata": {},
   "outputs": [
    {
     "data": {
      "text/plain": [
       "Index(['picid', 'unit_id', 'camera_id', 'time', 'gaia', 'twomass', 'status',\n",
       "       'catalog_dec', 'catalog_ra', 'catalog_sep_arcsec',\n",
       "       ...\n",
       "       'pixel_90', 'pixel_91', 'pixel_92', 'pixel_93', 'pixel_94', 'pixel_95',\n",
       "       'pixel_96', 'pixel_97', 'pixel_98', 'pixel_99'],\n",
       "      dtype='object', length=138)"
      ]
     },
     "execution_count": 70,
     "metadata": {},
     "output_type": "execute_result"
    }
   ],
   "source": [
    "obs_sources_df.columns"
   ]
  },
  {
   "cell_type": "code",
   "execution_count": 82,
   "metadata": {},
   "outputs": [],
   "source": [
    "kdims = ['picid', 'unit_id', 'camera_id', 'time', 'gaia', 'twomass', 'catalog_ra', 'catalog_dec']"
   ]
  },
  {
   "cell_type": "code",
   "execution_count": 84,
   "metadata": {},
   "outputs": [],
   "source": [
    "vdims = list(set(obs_sources_df.columns.to_list()).difference(kdims))"
   ]
  },
  {
   "cell_type": "code",
   "execution_count": 89,
   "metadata": {},
   "outputs": [],
   "source": [
    "ds = hv.Dataset(target_df, kdims, vdims)"
   ]
  },
  {
   "cell_type": "code",
   "execution_count": 99,
   "metadata": {},
   "outputs": [
    {
     "data": {},
     "metadata": {},
     "output_type": "display_data"
    },
    {
     "data": {
      "application/vnd.holoviews_exec.v0+json": "",
      "text/html": [
       "<div id='4813'>\n",
       "\n",
       "\n",
       "\n",
       "\n",
       "\n",
       "  <div class=\"bk-root\" id=\"73039855-6b91-4a6e-92b3-aa8f3f56186b\" data-root-id=\"4813\"></div>\n",
       "</div>\n",
       "<script type=\"application/javascript\">(function(root) {\n",
       "  function embed_document(root) {\n",
       "  var docs_json = {\"c8ccfea1-6129-4c35-b801-ae8bf4ac2897\":{\"roots\":{\"references\":[{\"attributes\":{\"children\":[{\"id\":\"4814\"},{\"id\":\"4817\"},{\"id\":\"4898\"}],\"margin\":[0,0,0,0],\"name\":\"Row175618\",\"tags\":[\"embedded\"]},\"id\":\"4813\",\"type\":\"Row\"},{\"attributes\":{\"end\":15.63751,\"reset_end\":15.63751,\"reset_start\":15.13819,\"start\":15.13819,\"tags\":[[[\"measured_mag_best\",\"measured_mag_best\",null]]]},\"id\":\"4816\",\"type\":\"Range1d\"},{\"attributes\":{\"align\":null,\"below\":[{\"id\":\"4826\"}],\"center\":[{\"id\":\"4829\"},{\"id\":\"4833\"}],\"left\":[{\"id\":\"4830\"}],\"margin\":null,\"min_border_bottom\":10,\"min_border_left\":10,\"min_border_right\":10,\"min_border_top\":10,\"plot_height\":300,\"renderers\":[{\"id\":\"4852\"}],\"sizing_mode\":\"fixed\",\"title\":{\"id\":\"4818\"},\"toolbar\":{\"id\":\"4840\"},\"x_range\":{\"id\":\"4815\"},\"x_scale\":{\"id\":\"4822\"},\"y_range\":{\"id\":\"4816\"},\"y_scale\":{\"id\":\"4824\"}},\"id\":\"4817\",\"subtype\":\"Figure\",\"type\":\"Plot\"},{\"attributes\":{\"days\":[1,8,15,22]},\"id\":\"4869\",\"type\":\"DaysTicker\"},{\"attributes\":{\"axis_label\":\"time\",\"bounds\":\"auto\",\"formatter\":{\"id\":\"4854\"},\"major_label_orientation\":\"horizontal\",\"ticker\":{\"id\":\"4827\"}},\"id\":\"4826\",\"type\":\"DatetimeAxis\"},{\"attributes\":{\"source\":{\"id\":\"4846\"}},\"id\":\"4853\",\"type\":\"CDSView\"},{\"attributes\":{\"line_alpha\":0.1,\"line_color\":\"#30a2da\",\"line_width\":2,\"x\":{\"field\":\"time\"},\"y\":{\"field\":\"measured_mag_best\"}},\"id\":\"4850\",\"type\":\"Line\"},{\"attributes\":{\"months\":[0,1,2,3,4,5,6,7,8,9,10,11]},\"id\":\"4871\",\"type\":\"MonthsTicker\"},{\"attributes\":{},\"id\":\"4822\",\"type\":\"LinearScale\"},{\"attributes\":{\"base\":60,\"mantissas\":[1,2,5,10,15,20,30],\"max_interval\":1800000.0,\"min_interval\":1000.0,\"num_minor_ticks\":0},\"id\":\"4865\",\"type\":\"AdaptiveTicker\"},{\"attributes\":{\"months\":[0,2,4,6,8,10]},\"id\":\"4872\",\"type\":\"MonthsTicker\"},{\"attributes\":{\"base\":24,\"mantissas\":[1,2,4,6,8,12],\"max_interval\":43200000.0,\"min_interval\":3600000.0,\"num_minor_ticks\":0},\"id\":\"4866\",\"type\":\"AdaptiveTicker\"},{\"attributes\":{},\"id\":\"4875\",\"type\":\"YearsTicker\"},{\"attributes\":{\"text\":\"\",\"text_color\":{\"value\":\"black\"},\"text_font_size\":{\"value\":\"12pt\"}},\"id\":\"4818\",\"type\":\"Title\"},{\"attributes\":{\"active_drag\":\"auto\",\"active_inspect\":\"auto\",\"active_multi\":null,\"active_scroll\":\"auto\",\"active_tap\":\"auto\",\"tools\":[{\"id\":\"4834\"},{\"id\":\"4835\"},{\"id\":\"4836\"},{\"id\":\"4837\"},{\"id\":\"4838\"}]},\"id\":\"4840\",\"type\":\"Toolbar\"},{\"attributes\":{\"days\":[1,15]},\"id\":\"4870\",\"type\":\"DaysTicker\"},{\"attributes\":{},\"id\":\"4824\",\"type\":\"LinearScale\"},{\"attributes\":{\"days\":[1,2,3,4,5,6,7,8,9,10,11,12,13,14,15,16,17,18,19,20,21,22,23,24,25,26,27,28,29,30,31]},\"id\":\"4867\",\"type\":\"DaysTicker\"},{\"attributes\":{},\"id\":\"4831\",\"type\":\"BasicTicker\"},{\"attributes\":{\"overlay\":{\"id\":\"4839\"}},\"id\":\"4837\",\"type\":\"BoxZoomTool\"},{\"attributes\":{\"data_source\":{\"id\":\"4846\"},\"glyph\":{\"id\":\"4849\"},\"hover_glyph\":null,\"muted_glyph\":{\"id\":\"4851\"},\"nonselection_glyph\":{\"id\":\"4850\"},\"selection_glyph\":null,\"view\":{\"id\":\"4853\"}},\"id\":\"4852\",\"type\":\"GlyphRenderer\"},{\"attributes\":{\"num_minor_ticks\":5,\"tickers\":[{\"id\":\"4864\"},{\"id\":\"4865\"},{\"id\":\"4866\"},{\"id\":\"4867\"},{\"id\":\"4868\"},{\"id\":\"4869\"},{\"id\":\"4870\"},{\"id\":\"4871\"},{\"id\":\"4872\"},{\"id\":\"4873\"},{\"id\":\"4874\"},{\"id\":\"4875\"}]},\"id\":\"4827\",\"type\":\"DatetimeTicker\"},{\"attributes\":{\"line_alpha\":0.2,\"line_color\":\"#30a2da\",\"line_width\":2,\"x\":{\"field\":\"time\"},\"y\":{\"field\":\"measured_mag_best\"}},\"id\":\"4851\",\"type\":\"Line\"},{\"attributes\":{},\"id\":\"4877\",\"type\":\"UnionRenderers\"},{\"attributes\":{},\"id\":\"4836\",\"type\":\"WheelZoomTool\"},{\"attributes\":{\"days\":[1,4,7,10,13,16,19,22,25,28]},\"id\":\"4868\",\"type\":\"DaysTicker\"},{\"attributes\":{\"axis\":{\"id\":\"4826\"},\"grid_line_color\":null,\"ticker\":null},\"id\":\"4829\",\"type\":\"Grid\"},{\"attributes\":{},\"id\":\"4847\",\"type\":\"Selection\"},{\"attributes\":{\"axis_label\":\"measured_mag_best\",\"bounds\":\"auto\",\"formatter\":{\"id\":\"4856\"},\"major_label_orientation\":\"horizontal\",\"ticker\":{\"id\":\"4831\"}},\"id\":\"4830\",\"type\":\"LinearAxis\"},{\"attributes\":{\"bottom_units\":\"screen\",\"fill_alpha\":0.5,\"fill_color\":\"lightgrey\",\"left_units\":\"screen\",\"level\":\"overlay\",\"line_alpha\":1.0,\"line_color\":\"black\",\"line_dash\":[4,4],\"line_width\":2,\"right_units\":\"screen\",\"top_units\":\"screen\"},\"id\":\"4839\",\"type\":\"BoxAnnotation\"},{\"attributes\":{\"end\":1589985586000.0,\"reset_end\":1589985586000.0,\"reset_start\":1589967712000.0,\"start\":1589967712000.0,\"tags\":[[[\"time\",\"time\",null]]]},\"id\":\"4815\",\"type\":\"Range1d\"},{\"attributes\":{\"line_color\":\"#30a2da\",\"line_width\":2,\"x\":{\"field\":\"time\"},\"y\":{\"field\":\"measured_mag_best\"}},\"id\":\"4849\",\"type\":\"Line\"},{\"attributes\":{\"data\":{\"measured_mag_best\":{\"__ndarray__\":\"6Nms+lytLkDUK2UZ4nguQKW9wRcmsy5ALpCg+DFmLkBRa5p3nKIuQLG/7J48zC5AMEymCkalLkBq3nGKjqQuQB4Wak3zbi5AirDh6ZWSLkDzH9JvX2cuQNnO91PjxS5AQKTfvg5cLkAoDwu1prkuQIhjXdxGgy5AXI/C9Si8LkCSXP5D+o0uQDSAt0CCwi5AUkmdgCbCLkAydy0hH9QuQHNoke18vy5Axf6ye/KwLkC7Jw8LteYuQAXFjzF3rS5AufyH9Nu3LkBfB84ZUdouQPvL7snD4i5AE/JBz2a1LkCk374OnNMuQJoIG55eyS5Aio7k8h+yLkB0JJf/kL4uQMZtNIC3wC5An82qz9WWLkAIPZtVn+suQEOtad5xai5ArBxaZDu/LkC28/3UeGkuQD0K16NwvS5A1JrmHadoLkDRItv5foouQAtGJXUCei5A0SLb+X7KLkDY8PRKWYYuQI0o7Q2+cC5Axty1hHyQLkBYyjLEsY4uQAWjkjoBrS5AaQBvgQSlLkCk374OnPMuQOtztRX7ay5AR3L5D+nXLkDQRNjw9MouQDBMpgpGxS5AfdCzWfXZLkCIY13cRsMuQMpUwaikzi5AXwfOGVGaLkAy5q4l5KMuQCBj7lpC3i5AuK8D54zILkDl0CLb+Z4uQEtZhjjW5S5ALGUZ4li3LkCmCkYldaIuQNlfdk8eti5AT0ATYcPzLkA9m1Wfq60uQNv5fmq8tC5A78nDQq3JLkASFD/G3JUuQCzUmuYdxy5AP8bctYQcL0BwXwfOGTEvQA==\",\"dtype\":\"float64\",\"order\":\"little\",\"shape\":[74]},\"time\":{\"__ndarray__\":\"AADwXhcjd0IAgMaZFyN3QgCAatIXI3dCAIAOCxgjd0IAAHpCGCN3QgCAVnwYI3dCAAA/tBgjd0IAgJjuGCN3QgAAgSYZI3dCAIBpXhkjd0IAgA2XGSN3QgAAc88ZI3dCAAAXCBojd0IAgHBCGiN3QgAA0HsaI3dCAICytBojd0IAABLuGiN3QgCAdyYbI3dCAABUYBsjd0IAgDCaGyN3QgCA1NIbI3dCAACxDBwjd0IAAMxGHCN3QgAA7X8cI3dCAIDk8xwjd0IAAMEtHSN3QgCAl2gdI3dCAADxoh0jd0IAAAbeHSN3QgAAqhYeI3dCAICSTh4jd0IAgDCIHiN3QgAAGcAeI3dCAAC9+B4jd0IAgKUwHyN3QgAAjmgfI3dCAAAyoR8jd0IAAFnZHyN3QgCAQREgI3dCAIBoSSAjd0IAAFGBICN3QgAAbLsgI3dCAIBI9SAjd0IAgOwtISN3QgAA1WUhI3dCAAB5niEjd0IAgGfVISN3QgAAzQ0iI3dCAAB3RSIjd0IAAJ59IiN3QgCAA7YiI3dCAICn7iIjd0IAgM4mIyN3QgAAq2AjI3dCAADGmiMjd0IAAGTUIyN3QgAA/A4kI3dCAACgRyQjd0IAALuBJCN3QgAAuMAkI3dCAIAX+iQjd0IAgDgzJSN3QgAAG2wlI3dCAIAA4yUjd0IAAGAcJiN3QgCAs1cmI3dCAIDOkSYjd0IAADTKJiN3QgCA+AcnI3dCAABeQCcjd0IAAHl6JyN3QgAAr+4nI3dCAACgLygjd0IAALVqKCN3Qg==\",\"dtype\":\"float64\",\"order\":\"little\",\"shape\":[74]}},\"selected\":{\"id\":\"4847\"},\"selection_policy\":{\"id\":\"4877\"}},\"id\":\"4846\",\"type\":\"ColumnDataSource\"},{\"attributes\":{},\"id\":\"4854\",\"type\":\"DatetimeTickFormatter\"},{\"attributes\":{\"axis\":{\"id\":\"4830\"},\"dimension\":1,\"grid_line_color\":null,\"ticker\":null},\"id\":\"4833\",\"type\":\"Grid\"},{\"attributes\":{},\"id\":\"4835\",\"type\":\"PanTool\"},{\"attributes\":{\"margin\":[5,5,5,5],\"name\":\"HSpacer175632\",\"sizing_mode\":\"stretch_width\"},\"id\":\"4898\",\"type\":\"Spacer\"},{\"attributes\":{},\"id\":\"4856\",\"type\":\"BasicTickFormatter\"},{\"attributes\":{\"mantissas\":[1,2,5],\"max_interval\":500.0,\"num_minor_ticks\":0},\"id\":\"4864\",\"type\":\"AdaptiveTicker\"},{\"attributes\":{},\"id\":\"4834\",\"type\":\"SaveTool\"},{\"attributes\":{\"margin\":[5,5,5,5],\"name\":\"HSpacer175631\",\"sizing_mode\":\"stretch_width\"},\"id\":\"4814\",\"type\":\"Spacer\"},{\"attributes\":{\"months\":[0,6]},\"id\":\"4874\",\"type\":\"MonthsTicker\"},{\"attributes\":{\"months\":[0,4,8]},\"id\":\"4873\",\"type\":\"MonthsTicker\"},{\"attributes\":{},\"id\":\"4838\",\"type\":\"ResetTool\"}],\"root_ids\":[\"4813\"]},\"title\":\"Bokeh Application\",\"version\":\"2.2.1\"}};\n",
       "  var render_items = [{\"docid\":\"c8ccfea1-6129-4c35-b801-ae8bf4ac2897\",\"root_ids\":[\"4813\"],\"roots\":{\"4813\":\"73039855-6b91-4a6e-92b3-aa8f3f56186b\"}}];\n",
       "  root.Bokeh.embed.embed_items_notebook(docs_json, render_items);\n",
       "  }\n",
       "if (root.Bokeh !== undefined) {\n",
       "    embed_document(root);\n",
       "  } else {\n",
       "    var attempts = 0;\n",
       "    var timer = setInterval(function(root) {\n",
       "      if (root.Bokeh !== undefined) {\n",
       "        clearInterval(timer);\n",
       "        embed_document(root);\n",
       "      } else if (document.readyState == \"complete\") {\n",
       "        attempts++;\n",
       "        if (attempts > 100) {\n",
       "          clearInterval(timer);\n",
       "          console.log(\"Bokeh: ERROR: Unable to run BokehJS code because BokehJS library is missing\");\n",
       "        }\n",
       "      }\n",
       "    }, 10, root)\n",
       "  }\n",
       "})(window);</script>"
      ],
      "text/plain": [
       ":HoloMap   [picid,unit_id,camera_id,gaia,twomass,catalog_ra,catalog_dec]\n",
       "   :Curve   [time]   (measured_mag_best)"
      ]
     },
     "execution_count": 99,
     "metadata": {
      "application/vnd.holoviews_exec.v0+json": {
       "id": "4813"
      }
     },
     "output_type": "execute_result"
    }
   ],
   "source": [
    "ds.to(hv.Curve, 'time', 'measured_mag_best').opts(width=600)"
   ]
  }
 ],
 "metadata": {
  "kernelspec": {
   "name": "python3",
   "language": "python",
   "display_name": "Python 3"
  },
  "language_info": {
   "codemirror_mode": {
    "name": "ipython",
    "version": 3
   },
   "file_extension": ".py",
   "mimetype": "text/x-python",
   "name": "python",
   "nbconvert_exporter": "python",
   "pygments_lexer": "ipython3",
   "version": "3.8.5"
  }
 },
 "nbformat": 4,
 "nbformat_minor": 4
}