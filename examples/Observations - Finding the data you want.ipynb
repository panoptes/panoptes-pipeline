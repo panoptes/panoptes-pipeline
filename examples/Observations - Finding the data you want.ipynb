{
 "cells": [
  {
   "cell_type": "markdown",
   "metadata": {},
   "source": [
    "# PANOPTES Data Explorer\n",
    "\n",
    "The tools in the `panoptes.utils.data` modules are designed to help you easily find and start using PANOPTES data.  This is the same software the powers https://panoptes-data.net\n",
    "\n",
    "The module primarly offers an interface that allows you to search and find any observation metadata from the PANOPTES network. The module also offers convenient methods for downloading the raw data."
   ]
  },
  {
   "cell_type": "code",
   "execution_count": 1,
   "metadata": {},
   "outputs": [],
   "source": [
    "# Necessary imports\n",
    "from astropy.coordinates import SkyCoord\n",
    "from astropy import units as u\n",
    "from astroplan.observer import Observer\n",
    "from astroplan.plots import plot_airmass\n",
    "\n",
    "from panoptes.pipeline.utils import metadata\n",
    "from panoptes.pipeline.utils.gcp.bigquery import get_bq_clients\n",
    "\n",
    "import seaborn as sb\n",
    "import pandas as pd\n",
    "from IPython.display import Image\n",
    "\n",
    "# Update our catalog for moon position (see below).\n",
    "from astroplan import download_IERS_A\n",
    "download_IERS_A()\n",
    "\n",
    "sb.set_theme()  # reset to default\n",
    "sb.set_context(\"notebook\", font_scale=1.5, rc={\"lines.linewidth\": 2.5})\n",
    "\n",
    "# Setup a BigQuery client.\n",
    "bq_client, bqstorage_client = get_bq_clients()"
   ]
  },
  {
   "cell_type": "markdown",
   "metadata": {},
   "source": [
    "## Getting Started\n",
    "\n",
    "The primary search function, `metadata.search_observations`, allows you to query the PANOPTES data by coordinate location, with optional filters for things such as `radius`, `unit_id`, `min_num_images`, etc.\n",
    "\n",
    "This is simply a convenience function to download and filter CSV file that is generated when new observations are added to the PANOPTES network."
   ]
  },
  {
   "cell_type": "code",
   "execution_count": 2,
   "metadata": {},
   "outputs": [
    {
     "data": {
      "text/plain": [
       "\u001b[0;31mSignature:\u001b[0m\n",
       "\u001b[0mmetadata\u001b[0m\u001b[0;34m.\u001b[0m\u001b[0msearch_observations\u001b[0m\u001b[0;34m(\u001b[0m\u001b[0;34m\u001b[0m\n",
       "\u001b[0;34m\u001b[0m    \u001b[0mcoords\u001b[0m\u001b[0;34m=\u001b[0m\u001b[0;32mNone\u001b[0m\u001b[0;34m,\u001b[0m\u001b[0;34m\u001b[0m\n",
       "\u001b[0;34m\u001b[0m    \u001b[0munit_id\u001b[0m\u001b[0;34m=\u001b[0m\u001b[0;32mNone\u001b[0m\u001b[0;34m,\u001b[0m\u001b[0;34m\u001b[0m\n",
       "\u001b[0;34m\u001b[0m    \u001b[0mstart_date\u001b[0m\u001b[0;34m=\u001b[0m\u001b[0;32mNone\u001b[0m\u001b[0;34m,\u001b[0m\u001b[0;34m\u001b[0m\n",
       "\u001b[0;34m\u001b[0m    \u001b[0mend_date\u001b[0m\u001b[0;34m=\u001b[0m\u001b[0;32mNone\u001b[0m\u001b[0;34m,\u001b[0m\u001b[0;34m\u001b[0m\n",
       "\u001b[0;34m\u001b[0m    \u001b[0mra\u001b[0m\u001b[0;34m=\u001b[0m\u001b[0;32mNone\u001b[0m\u001b[0;34m,\u001b[0m\u001b[0;34m\u001b[0m\n",
       "\u001b[0;34m\u001b[0m    \u001b[0mdec\u001b[0m\u001b[0;34m=\u001b[0m\u001b[0;32mNone\u001b[0m\u001b[0;34m,\u001b[0m\u001b[0;34m\u001b[0m\n",
       "\u001b[0;34m\u001b[0m    \u001b[0mradius\u001b[0m\u001b[0;34m=\u001b[0m\u001b[0;36m10\u001b[0m\u001b[0;34m,\u001b[0m\u001b[0;34m\u001b[0m\n",
       "\u001b[0;34m\u001b[0m    \u001b[0mstatus\u001b[0m\u001b[0;34m=\u001b[0m\u001b[0;34m'matched'\u001b[0m\u001b[0;34m,\u001b[0m\u001b[0;34m\u001b[0m\n",
       "\u001b[0;34m\u001b[0m    \u001b[0mmin_num_images\u001b[0m\u001b[0;34m=\u001b[0m\u001b[0;36m1\u001b[0m\u001b[0;34m,\u001b[0m\u001b[0;34m\u001b[0m\n",
       "\u001b[0;34m\u001b[0m    \u001b[0msource_url\u001b[0m\u001b[0;34m=\u001b[0m\u001b[0;34m'https://storage.googleapis.com/panoptes-exp.appspot.com/observations.csv'\u001b[0m\u001b[0;34m,\u001b[0m\u001b[0;34m\u001b[0m\n",
       "\u001b[0;34m\u001b[0m    \u001b[0msource\u001b[0m\u001b[0;34m=\u001b[0m\u001b[0;32mNone\u001b[0m\u001b[0;34m,\u001b[0m\u001b[0;34m\u001b[0m\n",
       "\u001b[0;34m\u001b[0m\u001b[0;34m)\u001b[0m\u001b[0;34m\u001b[0m\u001b[0;34m\u001b[0m\u001b[0m\n",
       "\u001b[0;31mDocstring:\u001b[0m\n",
       "Search PANOPTES observations.\n",
       "\n",
       "Either a `coords` or `ra` and `dec` must be specified for search to work.\n",
       "\n",
       ">>> from astropy.coordinates import SkyCoord\n",
       ">>> from panoptes.utils.data import search_observations\n",
       ">>> coords = SkyCoord.from_name('Andromeda Galaxy')\n",
       ">>> start_date = '2019-01-01'\n",
       ">>> end_date = '2019-12-31'\n",
       ">>> search_results = search_observations(coords=coords, min_num_images=10, start_date=start_date, end_date=end_date)\n",
       ">>> # The result is a DataFrame you can further work with.\n",
       ">>> image_count = search_results.groupby(['unit_id', 'field_name']).num_images.sum()\n",
       ">>> image_count\n",
       "unit_id  field_name\n",
       "PAN001   Andromeda Galaxy     378\n",
       "         HAT-P-19             148\n",
       "         TESS_SEC17_CAM02    9949\n",
       "PAN012   Andromeda Galaxy      70\n",
       "         HAT-P-16 b           268\n",
       "         TESS_SEC17_CAM02    1983\n",
       "PAN018   TESS_SEC17_CAM02     244\n",
       "Name: num_images, dtype: Int64\n",
       ">>> print('Total minutes exposure:', search_results.total_minutes_exptime.sum())\n",
       "Total minutes exposure: 20376.83\n",
       "\n",
       "Args:\n",
       "    coords (`astropy.coordinates.SkyCoord`|None): A valid coordinate instance.\n",
       "    ra (float|None): The RA position in degrees of the center of search.\n",
       "    dec (float|None): The Dec position in degrees of the center of the search.\n",
       "    radius (float): The search radius in degrees. Searches are currently done in\n",
       "        a square box, so this is half the length of the side of the box.\n",
       "    start_date (str|`datetime.datetime`|None): A valid datetime instance or `None` (default).\n",
       "        If `None` then the beginning of 2018 is used as a start date.\n",
       "    end_date (str|`datetime.datetime`|None): A valid datetime instance or `None` (default).\n",
       "        If `None` then today is used.\n",
       "    unit_id (str|list|None): A str or list of strs of unit_ids to include.\n",
       "        Default `None` will include all.\n",
       "    status (str|list|None): A str or list of observation status to include.\n",
       "        Defaults to \"matched\" for observations that have been fully processed. Passing\n",
       "        `None` will return all status.\n",
       "    min_num_images (int): Minimum number of images the observation should have, default 1.\n",
       "    source_url (str): The remote url where the static CSV file is located, default to PANOPTES\n",
       "        storage location.\n",
       "    source (`pandas.DataFrame`|None): The dataframe to use or the search.\n",
       "        If `None` (default) then the `source_url` will be used to look up the file.\n",
       "\n",
       "Returns:\n",
       "    `pandas.DataFrame`: A table with the matching observation results.\n",
       "\u001b[0;31mFile:\u001b[0m      /home/jupyter/panoptes-pipeline/src/panoptes/pipeline/utils/metadata.py\n",
       "\u001b[0;31mType:\u001b[0m      function\n"
      ]
     },
     "metadata": {},
     "output_type": "display_data"
    }
   ],
   "source": [
    "# Show the search options.\n",
    "metadata.search_observations?"
   ]
  },
  {
   "cell_type": "markdown",
   "metadata": {
    "pycharm": {
     "name": "#%% md\n"
    }
   },
   "source": [
    "### Search for observations\n",
    "\n",
    "Let's perform the same search that's in the example above, namely looking for all observations within 10° of the Andromeda Galaxy. \n",
    "\n",
    "However, instead of just December 2019 we are going to look at all data we have* by not specifying a `start_date` or `end_date`.\n",
    "\n",
    "We will also specify that we only want observations that have a minium of 10 images in the sequence.\n",
    "\n",
    "*The careful reader of docstrings will note that the `start_date` will default to `2018-01-01` when not specified.  Earlier data is available if dates before that are given. The data from 2016 and 2017 is only from `PAN001` and there were significant tracking errors for most observations."
   ]
  },
  {
   "cell_type": "code",
   "execution_count": 3,
   "metadata": {
    "pycharm": {
     "name": "#%%\n"
    }
   },
   "outputs": [],
   "source": [
    "# Get from existing coords\n",
    "target_coords = SkyCoord.from_name('Andromeda Galaxy')\n",
    "\n",
    "observations_df = metadata.search_observations(\n",
    "    coords=target_coords, \n",
    "    min_num_images=10, \n",
    "    radius=10\n",
    ")"
   ]
  },
  {
   "cell_type": "markdown",
   "metadata": {},
   "source": [
    "We group up these observations by the PANOPTES unit that took them and the field name that was assigned by the unit operator and look at the total exposure time for that particular \"target\".\n",
    "\n",
    "> Note: The \"target\", or `field_name` column below, is user-editable, so there may be some slight overlap, e.g. \"Hat-P-19\" and \"HAT-P-19b\"."
   ]
  },
  {
   "cell_type": "code",
   "execution_count": 4,
   "metadata": {},
   "outputs": [
    {
     "data": {
      "text/html": [
       "<div>\n",
       "<style scoped>\n",
       "    .dataframe tbody tr th:only-of-type {\n",
       "        vertical-align: middle;\n",
       "    }\n",
       "\n",
       "    .dataframe tbody tr th {\n",
       "        vertical-align: top;\n",
       "    }\n",
       "\n",
       "    .dataframe thead th {\n",
       "        text-align: right;\n",
       "    }\n",
       "</style>\n",
       "<table border=\"1\" class=\"dataframe\">\n",
       "  <thead>\n",
       "    <tr style=\"text-align: right;\">\n",
       "      <th></th>\n",
       "      <th>unit_id</th>\n",
       "      <th>field_name</th>\n",
       "      <th>ra</th>\n",
       "      <th>dec</th>\n",
       "      <th>exptime</th>\n",
       "      <th>iso</th>\n",
       "      <th>num_images</th>\n",
       "      <th>total_minutes_exptime</th>\n",
       "    </tr>\n",
       "  </thead>\n",
       "  <tbody>\n",
       "    <tr>\n",
       "      <th>0</th>\n",
       "      <td>PAN001</td>\n",
       "      <td>Andromeda Galaxy</td>\n",
       "      <td>162.791818</td>\n",
       "      <td>616.626258</td>\n",
       "      <td>1802.1</td>\n",
       "      <td>1500</td>\n",
       "      <td>378.0</td>\n",
       "      <td>756.00</td>\n",
       "    </tr>\n",
       "    <tr>\n",
       "      <th>1</th>\n",
       "      <td>PAN001</td>\n",
       "      <td>HAT-P-16</td>\n",
       "      <td>177.496965</td>\n",
       "      <td>759.741035</td>\n",
       "      <td>2162.7</td>\n",
       "      <td>1800</td>\n",
       "      <td>975.0</td>\n",
       "      <td>1950.00</td>\n",
       "    </tr>\n",
       "    <tr>\n",
       "      <th>2</th>\n",
       "      <td>PAN001</td>\n",
       "      <td>HAT-P-19</td>\n",
       "      <td>342.981938</td>\n",
       "      <td>1291.956877</td>\n",
       "      <td>4624.9</td>\n",
       "      <td>3700</td>\n",
       "      <td>1504.0</td>\n",
       "      <td>3082.00</td>\n",
       "    </tr>\n",
       "    <tr>\n",
       "      <th>3</th>\n",
       "      <td>PAN001</td>\n",
       "      <td>TESS_SEC17_CAM02</td>\n",
       "      <td>823.578603</td>\n",
       "      <td>11913.343655</td>\n",
       "      <td>21710.8</td>\n",
       "      <td>24800</td>\n",
       "      <td>10565.0</td>\n",
       "      <td>14739.50</td>\n",
       "    </tr>\n",
       "    <tr>\n",
       "      <th>4</th>\n",
       "      <td>PAN006</td>\n",
       "      <td>HAT-P-19</td>\n",
       "      <td>106.758235</td>\n",
       "      <td>241.452655</td>\n",
       "      <td>841.8</td>\n",
       "      <td>700</td>\n",
       "      <td>289.0</td>\n",
       "      <td>578.00</td>\n",
       "    </tr>\n",
       "    <tr>\n",
       "      <th>5</th>\n",
       "      <td>PAN006</td>\n",
       "      <td>HAT-P-19 b</td>\n",
       "      <td>27.053754</td>\n",
       "      <td>72.855889</td>\n",
       "      <td>240.4</td>\n",
       "      <td>200</td>\n",
       "      <td>26.0</td>\n",
       "      <td>52.00</td>\n",
       "    </tr>\n",
       "    <tr>\n",
       "      <th>6</th>\n",
       "      <td>PAN012</td>\n",
       "      <td>Andromeda Galaxy</td>\n",
       "      <td>43.272701</td>\n",
       "      <td>165.448216</td>\n",
       "      <td>479.9</td>\n",
       "      <td>400</td>\n",
       "      <td>55.0</td>\n",
       "      <td>110.00</td>\n",
       "    </tr>\n",
       "    <tr>\n",
       "      <th>7</th>\n",
       "      <td>PAN012</td>\n",
       "      <td>HAT-P-16 b</td>\n",
       "      <td>18.879781</td>\n",
       "      <td>84.730792</td>\n",
       "      <td>239.8</td>\n",
       "      <td>200</td>\n",
       "      <td>268.0</td>\n",
       "      <td>536.00</td>\n",
       "    </tr>\n",
       "    <tr>\n",
       "      <th>8</th>\n",
       "      <td>PAN012</td>\n",
       "      <td>TESS_SEC17_CAM02</td>\n",
       "      <td>102.444940</td>\n",
       "      <td>1495.348409</td>\n",
       "      <td>3720.5</td>\n",
       "      <td>3100</td>\n",
       "      <td>1451.0</td>\n",
       "      <td>2903.34</td>\n",
       "    </tr>\n",
       "    <tr>\n",
       "      <th>9</th>\n",
       "      <td>PAN018</td>\n",
       "      <td>TESS_SEC17_CAM02</td>\n",
       "      <td>16.475524</td>\n",
       "      <td>244.053126</td>\n",
       "      <td>597.0</td>\n",
       "      <td>500</td>\n",
       "      <td>244.0</td>\n",
       "      <td>484.66</td>\n",
       "    </tr>\n",
       "  </tbody>\n",
       "</table>\n",
       "</div>"
      ],
      "text/plain": [
       "  unit_id        field_name          ra           dec  exptime    iso  \\\n",
       "0  PAN001  Andromeda Galaxy  162.791818    616.626258   1802.1   1500   \n",
       "1  PAN001          HAT-P-16  177.496965    759.741035   2162.7   1800   \n",
       "2  PAN001          HAT-P-19  342.981938   1291.956877   4624.9   3700   \n",
       "3  PAN001  TESS_SEC17_CAM02  823.578603  11913.343655  21710.8  24800   \n",
       "4  PAN006          HAT-P-19  106.758235    241.452655    841.8    700   \n",
       "5  PAN006        HAT-P-19 b   27.053754     72.855889    240.4    200   \n",
       "6  PAN012  Andromeda Galaxy   43.272701    165.448216    479.9    400   \n",
       "7  PAN012        HAT-P-16 b   18.879781     84.730792    239.8    200   \n",
       "8  PAN012  TESS_SEC17_CAM02  102.444940   1495.348409   3720.5   3100   \n",
       "9  PAN018  TESS_SEC17_CAM02   16.475524    244.053126    597.0    500   \n",
       "\n",
       "   num_images  total_minutes_exptime  \n",
       "0       378.0                 756.00  \n",
       "1       975.0                1950.00  \n",
       "2      1504.0                3082.00  \n",
       "3     10565.0               14739.50  \n",
       "4       289.0                 578.00  \n",
       "5        26.0                  52.00  \n",
       "6        55.0                 110.00  \n",
       "7       268.0                 536.00  \n",
       "8      1451.0                2903.34  \n",
       "9       244.0                 484.66  "
      ]
     },
     "execution_count": 4,
     "metadata": {},
     "output_type": "execute_result"
    }
   ],
   "source": [
    "# Group by unit and field and sum the metrics\n",
    "field_sums = observations_df.groupby(['unit_id', 'field_name']).sum().reset_index()\n",
    "field_sums"
   ]
  },
  {
   "cell_type": "markdown",
   "metadata": {},
   "source": [
    "You can see, for instance, that as of this writing there are about 15,000 minutes of exposure time for `TESS_SEC17_CAM02` from `PAN001` and almost 3000 minutes from `PAN012`.\n",
    "\n",
    "We can also break this down by unit and camera (observations are camera specific for processing purposes)."
   ]
  },
  {
   "cell_type": "code",
   "execution_count": 5,
   "metadata": {},
   "outputs": [
    {
     "data": {
      "text/html": [
       "<div>\n",
       "<style scoped>\n",
       "    .dataframe tbody tr th:only-of-type {\n",
       "        vertical-align: middle;\n",
       "    }\n",
       "\n",
       "    .dataframe tbody tr th {\n",
       "        vertical-align: top;\n",
       "    }\n",
       "\n",
       "    .dataframe thead th {\n",
       "        text-align: right;\n",
       "    }\n",
       "</style>\n",
       "<table border=\"1\" class=\"dataframe\">\n",
       "  <thead>\n",
       "    <tr style=\"text-align: right;\">\n",
       "      <th></th>\n",
       "      <th></th>\n",
       "      <th>num_images</th>\n",
       "      <th>total_minutes_exptime</th>\n",
       "    </tr>\n",
       "    <tr>\n",
       "      <th>unit_id</th>\n",
       "      <th>camera_id</th>\n",
       "      <th></th>\n",
       "      <th></th>\n",
       "    </tr>\n",
       "  </thead>\n",
       "  <tbody>\n",
       "    <tr>\n",
       "      <th rowspan=\"2\" valign=\"top\">PAN001</th>\n",
       "      <th>14d3bd</th>\n",
       "      <td>6762.0</td>\n",
       "      <td>10398.50</td>\n",
       "    </tr>\n",
       "    <tr>\n",
       "      <th>ee04d1</th>\n",
       "      <td>6660.0</td>\n",
       "      <td>10129.00</td>\n",
       "    </tr>\n",
       "    <tr>\n",
       "      <th rowspan=\"2\" valign=\"top\">PAN006</th>\n",
       "      <th>6575fc</th>\n",
       "      <td>164.0</td>\n",
       "      <td>328.00</td>\n",
       "    </tr>\n",
       "    <tr>\n",
       "      <th>7bab97</th>\n",
       "      <td>151.0</td>\n",
       "      <td>302.00</td>\n",
       "    </tr>\n",
       "    <tr>\n",
       "      <th rowspan=\"2\" valign=\"top\">PAN012</th>\n",
       "      <th>358d0f</th>\n",
       "      <td>1389.0</td>\n",
       "      <td>2778.67</td>\n",
       "    </tr>\n",
       "    <tr>\n",
       "      <th>95cdbc</th>\n",
       "      <td>385.0</td>\n",
       "      <td>770.67</td>\n",
       "    </tr>\n",
       "    <tr>\n",
       "      <th rowspan=\"2\" valign=\"top\">PAN018</th>\n",
       "      <th>1e457a</th>\n",
       "      <td>167.0</td>\n",
       "      <td>330.66</td>\n",
       "    </tr>\n",
       "    <tr>\n",
       "      <th>54d3e9</th>\n",
       "      <td>77.0</td>\n",
       "      <td>154.00</td>\n",
       "    </tr>\n",
       "  </tbody>\n",
       "</table>\n",
       "</div>"
      ],
      "text/plain": [
       "                   num_images  total_minutes_exptime\n",
       "unit_id camera_id                                   \n",
       "PAN001  14d3bd         6762.0               10398.50\n",
       "        ee04d1         6660.0               10129.00\n",
       "PAN006  6575fc          164.0                 328.00\n",
       "        7bab97          151.0                 302.00\n",
       "PAN012  358d0f         1389.0                2778.67\n",
       "        95cdbc          385.0                 770.67\n",
       "PAN018  1e457a          167.0                 330.66\n",
       "        54d3e9           77.0                 154.00"
      ]
     },
     "execution_count": 5,
     "metadata": {},
     "output_type": "execute_result"
    }
   ],
   "source": [
    "columns = ['num_images', 'total_minutes_exptime']\n",
    "observations_df.groupby(['unit_id', 'camera_id'])[columns].sum()"
   ]
  },
  {
   "cell_type": "markdown",
   "metadata": {},
   "source": [
    "### Filter to needs\n",
    "\n",
    "The total exposures times listed above are split across a large number of observations and we want to find one observation to process, so instead of grouping, let's look at all the observations in `observations_df`.\n",
    "\n",
    "This could be filtered in any number of ways, such as if you wanted a specific `unit_id` or `camera_id`, etc.   \n",
    "\n",
    "For our purposes we are just going to look at those images that have the highest total exposure time."
   ]
  },
  {
   "cell_type": "code",
   "execution_count": 6,
   "metadata": {},
   "outputs": [
    {
     "data": {
      "text/html": [
       "<div>\n",
       "<style scoped>\n",
       "    .dataframe tbody tr th:only-of-type {\n",
       "        vertical-align: middle;\n",
       "    }\n",
       "\n",
       "    .dataframe tbody tr th {\n",
       "        vertical-align: top;\n",
       "    }\n",
       "\n",
       "    .dataframe thead th {\n",
       "        text-align: right;\n",
       "    }\n",
       "</style>\n",
       "<table border=\"1\" class=\"dataframe\">\n",
       "  <thead>\n",
       "    <tr style=\"text-align: right;\">\n",
       "      <th></th>\n",
       "      <th>sequence_id</th>\n",
       "      <th>unit_id</th>\n",
       "      <th>camera_id</th>\n",
       "      <th>ra</th>\n",
       "      <th>dec</th>\n",
       "      <th>exptime</th>\n",
       "      <th>field_name</th>\n",
       "      <th>iso</th>\n",
       "      <th>num_images</th>\n",
       "      <th>software_version</th>\n",
       "      <th>status</th>\n",
       "      <th>time</th>\n",
       "      <th>total_minutes_exptime</th>\n",
       "    </tr>\n",
       "  </thead>\n",
       "  <tbody>\n",
       "    <tr>\n",
       "      <th>3960</th>\n",
       "      <td>PAN012_358d0f_20190821T054434</td>\n",
       "      <td>PAN012</td>\n",
       "      <td>358d0f</td>\n",
       "      <td>9.309703</td>\n",
       "      <td>42.266753</td>\n",
       "      <td>119.9</td>\n",
       "      <td>HAT-P-16 b</td>\n",
       "      <td>100</td>\n",
       "      <td>134.0</td>\n",
       "      <td>POCSv0.6.2</td>\n",
       "      <td>matched</td>\n",
       "      <td>2019-08-21 05:44:34+00:00</td>\n",
       "      <td>268.0</td>\n",
       "    </tr>\n",
       "    <tr>\n",
       "      <th>3959</th>\n",
       "      <td>PAN012_95cdbc_20190821T054434</td>\n",
       "      <td>PAN012</td>\n",
       "      <td>95cdbc</td>\n",
       "      <td>9.570078</td>\n",
       "      <td>42.464039</td>\n",
       "      <td>119.9</td>\n",
       "      <td>HAT-P-16 b</td>\n",
       "      <td>100</td>\n",
       "      <td>134.0</td>\n",
       "      <td>POCSv0.6.2</td>\n",
       "      <td>matched</td>\n",
       "      <td>2019-08-21 05:44:34+00:00</td>\n",
       "      <td>268.0</td>\n",
       "    </tr>\n",
       "    <tr>\n",
       "      <th>4503</th>\n",
       "      <td>PAN018_1e457a_20191021T125706</td>\n",
       "      <td>PAN018</td>\n",
       "      <td>1e457a</td>\n",
       "      <td>3.287860</td>\n",
       "      <td>48.174383</td>\n",
       "      <td>119.0</td>\n",
       "      <td>TESS_SEC17_CAM02</td>\n",
       "      <td>100</td>\n",
       "      <td>90.0</td>\n",
       "      <td>POCSv0.6.2</td>\n",
       "      <td>matched</td>\n",
       "      <td>2019-10-21 12:57:06+00:00</td>\n",
       "      <td>178.2</td>\n",
       "    </tr>\n",
       "    <tr>\n",
       "      <th>2108</th>\n",
       "      <td>PAN001_14d3bd_20181108T050226</td>\n",
       "      <td>PAN001</td>\n",
       "      <td>14d3bd</td>\n",
       "      <td>9.581777</td>\n",
       "      <td>42.471700</td>\n",
       "      <td>120.0</td>\n",
       "      <td>HAT-P-16</td>\n",
       "      <td>100</td>\n",
       "      <td>83.0</td>\n",
       "      <td>POCSv0.6.2</td>\n",
       "      <td>matched</td>\n",
       "      <td>2018-11-08 05:02:26+00:00</td>\n",
       "      <td>166.0</td>\n",
       "    </tr>\n",
       "    <tr>\n",
       "      <th>2151</th>\n",
       "      <td>PAN001_ee04d1_20181112T050023</td>\n",
       "      <td>PAN001</td>\n",
       "      <td>ee04d1</td>\n",
       "      <td>8.573878</td>\n",
       "      <td>35.506061</td>\n",
       "      <td>120.3</td>\n",
       "      <td>HAT-P-19</td>\n",
       "      <td>100</td>\n",
       "      <td>80.0</td>\n",
       "      <td>POCSv0.6.2</td>\n",
       "      <td>matched</td>\n",
       "      <td>2018-11-12 05:00:23+00:00</td>\n",
       "      <td>160.0</td>\n",
       "    </tr>\n",
       "    <tr>\n",
       "      <th>2109</th>\n",
       "      <td>PAN001_ee04d1_20181108T050226</td>\n",
       "      <td>PAN001</td>\n",
       "      <td>ee04d1</td>\n",
       "      <td>8.601876</td>\n",
       "      <td>43.281457</td>\n",
       "      <td>120.3</td>\n",
       "      <td>HAT-P-16</td>\n",
       "      <td>100</td>\n",
       "      <td>78.0</td>\n",
       "      <td>POCSv0.6.2</td>\n",
       "      <td>matched</td>\n",
       "      <td>2018-11-08 05:02:26+00:00</td>\n",
       "      <td>156.0</td>\n",
       "    </tr>\n",
       "    <tr>\n",
       "      <th>2117</th>\n",
       "      <td>PAN001_14d3bd_20181109T052947</td>\n",
       "      <td>PAN001</td>\n",
       "      <td>14d3bd</td>\n",
       "      <td>9.554260</td>\n",
       "      <td>42.466606</td>\n",
       "      <td>120.0</td>\n",
       "      <td>HAT-P-16</td>\n",
       "      <td>100</td>\n",
       "      <td>76.0</td>\n",
       "      <td>POCSv0.6.2</td>\n",
       "      <td>matched</td>\n",
       "      <td>2018-11-09 05:29:47+00:00</td>\n",
       "      <td>152.0</td>\n",
       "    </tr>\n",
       "    <tr>\n",
       "      <th>4955</th>\n",
       "      <td>PAN012_95cdbc_20200123T024300</td>\n",
       "      <td>PAN012</td>\n",
       "      <td>95cdbc</td>\n",
       "      <td>3.286532</td>\n",
       "      <td>48.228431</td>\n",
       "      <td>120.1</td>\n",
       "      <td>TESS_SEC17_CAM02</td>\n",
       "      <td>100</td>\n",
       "      <td>70.0</td>\n",
       "      <td>POCSv0.6.2</td>\n",
       "      <td>matched</td>\n",
       "      <td>2020-01-23 02:43:00+00:00</td>\n",
       "      <td>140.0</td>\n",
       "    </tr>\n",
       "    <tr>\n",
       "      <th>4206</th>\n",
       "      <td>PAN001_14d3bd_20190913T080023</td>\n",
       "      <td>PAN001</td>\n",
       "      <td>14d3bd</td>\n",
       "      <td>3.287077</td>\n",
       "      <td>48.230305</td>\n",
       "      <td>120.0</td>\n",
       "      <td>TESS_SEC17_CAM02</td>\n",
       "      <td>100</td>\n",
       "      <td>70.0</td>\n",
       "      <td>POCSv0.6.2</td>\n",
       "      <td>matched</td>\n",
       "      <td>2019-09-13 08:00:23+00:00</td>\n",
       "      <td>140.0</td>\n",
       "    </tr>\n",
       "    <tr>\n",
       "      <th>4366</th>\n",
       "      <td>PAN012_358d0f_20191005T041329</td>\n",
       "      <td>PAN012</td>\n",
       "      <td>358d0f</td>\n",
       "      <td>2.977367</td>\n",
       "      <td>48.024722</td>\n",
       "      <td>120.0</td>\n",
       "      <td>TESS_SEC17_CAM02</td>\n",
       "      <td>100</td>\n",
       "      <td>70.0</td>\n",
       "      <td>POCSv0.6.2</td>\n",
       "      <td>matched</td>\n",
       "      <td>2019-10-05 04:13:29+00:00</td>\n",
       "      <td>140.0</td>\n",
       "    </tr>\n",
       "    <tr>\n",
       "      <th>4954</th>\n",
       "      <td>PAN012_358d0f_20200123T024300</td>\n",
       "      <td>PAN012</td>\n",
       "      <td>358d0f</td>\n",
       "      <td>3.570569</td>\n",
       "      <td>48.423297</td>\n",
       "      <td>120.1</td>\n",
       "      <td>TESS_SEC17_CAM02</td>\n",
       "      <td>100</td>\n",
       "      <td>70.0</td>\n",
       "      <td>POCSv0.6.2</td>\n",
       "      <td>matched</td>\n",
       "      <td>2020-01-23 02:43:00+00:00</td>\n",
       "      <td>140.0</td>\n",
       "    </tr>\n",
       "    <tr>\n",
       "      <th>2150</th>\n",
       "      <td>PAN001_14d3bd_20181112T050023</td>\n",
       "      <td>PAN001</td>\n",
       "      <td>14d3bd</td>\n",
       "      <td>9.507226</td>\n",
       "      <td>34.707545</td>\n",
       "      <td>120.0</td>\n",
       "      <td>HAT-P-19</td>\n",
       "      <td>100</td>\n",
       "      <td>70.0</td>\n",
       "      <td>POCSv0.6.2</td>\n",
       "      <td>matched</td>\n",
       "      <td>2018-11-12 05:00:23+00:00</td>\n",
       "      <td>140.0</td>\n",
       "    </tr>\n",
       "    <tr>\n",
       "      <th>2116</th>\n",
       "      <td>PAN001_ee04d1_20181109T052947</td>\n",
       "      <td>PAN001</td>\n",
       "      <td>ee04d1</td>\n",
       "      <td>8.547327</td>\n",
       "      <td>43.277281</td>\n",
       "      <td>120.3</td>\n",
       "      <td>HAT-P-16</td>\n",
       "      <td>100</td>\n",
       "      <td>68.0</td>\n",
       "      <td>POCSv0.6.2</td>\n",
       "      <td>matched</td>\n",
       "      <td>2018-11-09 05:29:47+00:00</td>\n",
       "      <td>136.0</td>\n",
       "    </tr>\n",
       "    <tr>\n",
       "      <th>4117</th>\n",
       "      <td>PAN001_14d3bd_20190906T084653</td>\n",
       "      <td>PAN001</td>\n",
       "      <td>14d3bd</td>\n",
       "      <td>3.287749</td>\n",
       "      <td>48.217046</td>\n",
       "      <td>120.0</td>\n",
       "      <td>TESS_SEC17_CAM02</td>\n",
       "      <td>100</td>\n",
       "      <td>67.0</td>\n",
       "      <td>POCSv0.6.2</td>\n",
       "      <td>matched</td>\n",
       "      <td>2019-09-06 08:46:53+00:00</td>\n",
       "      <td>134.0</td>\n",
       "    </tr>\n",
       "    <tr>\n",
       "      <th>4140</th>\n",
       "      <td>PAN001_ee04d1_20190908T085112</td>\n",
       "      <td>PAN001</td>\n",
       "      <td>ee04d1</td>\n",
       "      <td>2.102510</td>\n",
       "      <td>49.010377</td>\n",
       "      <td>120.3</td>\n",
       "      <td>TESS_SEC17_CAM02</td>\n",
       "      <td>100</td>\n",
       "      <td>66.0</td>\n",
       "      <td>POCSv0.6.2</td>\n",
       "      <td>matched</td>\n",
       "      <td>2019-09-08 08:51:12+00:00</td>\n",
       "      <td>132.0</td>\n",
       "    </tr>\n",
       "    <tr>\n",
       "      <th>4139</th>\n",
       "      <td>PAN001_14d3bd_20190908T085112</td>\n",
       "      <td>PAN001</td>\n",
       "      <td>14d3bd</td>\n",
       "      <td>3.274779</td>\n",
       "      <td>48.233228</td>\n",
       "      <td>120.0</td>\n",
       "      <td>TESS_SEC17_CAM02</td>\n",
       "      <td>100</td>\n",
       "      <td>62.0</td>\n",
       "      <td>POCSv0.6.2</td>\n",
       "      <td>matched</td>\n",
       "      <td>2019-09-08 08:51:12+00:00</td>\n",
       "      <td>124.0</td>\n",
       "    </tr>\n",
       "    <tr>\n",
       "      <th>4430</th>\n",
       "      <td>PAN001_14d3bd_20191016T065812</td>\n",
       "      <td>PAN001</td>\n",
       "      <td>14d3bd</td>\n",
       "      <td>3.283966</td>\n",
       "      <td>48.235876</td>\n",
       "      <td>120.0</td>\n",
       "      <td>TESS_SEC17_CAM02</td>\n",
       "      <td>100</td>\n",
       "      <td>62.0</td>\n",
       "      <td>POCSv0.6.2</td>\n",
       "      <td>matched</td>\n",
       "      <td>2019-10-16 06:58:12+00:00</td>\n",
       "      <td>124.0</td>\n",
       "    </tr>\n",
       "    <tr>\n",
       "      <th>4390</th>\n",
       "      <td>PAN001_14d3bd_20191012T065251</td>\n",
       "      <td>PAN001</td>\n",
       "      <td>14d3bd</td>\n",
       "      <td>3.287908</td>\n",
       "      <td>48.235233</td>\n",
       "      <td>120.0</td>\n",
       "      <td>TESS_SEC17_CAM02</td>\n",
       "      <td>100</td>\n",
       "      <td>62.0</td>\n",
       "      <td>POCSv0.6.2</td>\n",
       "      <td>matched</td>\n",
       "      <td>2019-10-12 06:52:51+00:00</td>\n",
       "      <td>124.0</td>\n",
       "    </tr>\n",
       "    <tr>\n",
       "      <th>4454</th>\n",
       "      <td>PAN012_358d0f_20191018T024156</td>\n",
       "      <td>PAN012</td>\n",
       "      <td>358d0f</td>\n",
       "      <td>2.979080</td>\n",
       "      <td>48.027529</td>\n",
       "      <td>120.0</td>\n",
       "      <td>TESS_SEC17_CAM02</td>\n",
       "      <td>100</td>\n",
       "      <td>60.0</td>\n",
       "      <td>POCSv0.6.2</td>\n",
       "      <td>matched</td>\n",
       "      <td>2019-10-18 02:41:56+00:00</td>\n",
       "      <td>120.0</td>\n",
       "    </tr>\n",
       "    <tr>\n",
       "      <th>4384</th>\n",
       "      <td>PAN012_358d0f_20191008T025413</td>\n",
       "      <td>PAN012</td>\n",
       "      <td>358d0f</td>\n",
       "      <td>2.977623</td>\n",
       "      <td>48.026023</td>\n",
       "      <td>120.0</td>\n",
       "      <td>TESS_SEC17_CAM02</td>\n",
       "      <td>100</td>\n",
       "      <td>60.0</td>\n",
       "      <td>POCSv0.6.2</td>\n",
       "      <td>matched</td>\n",
       "      <td>2019-10-08 02:54:13+00:00</td>\n",
       "      <td>120.0</td>\n",
       "    </tr>\n",
       "  </tbody>\n",
       "</table>\n",
       "</div>"
      ],
      "text/plain": [
       "                        sequence_id unit_id camera_id        ra        dec  \\\n",
       "3960  PAN012_358d0f_20190821T054434  PAN012    358d0f  9.309703  42.266753   \n",
       "3959  PAN012_95cdbc_20190821T054434  PAN012    95cdbc  9.570078  42.464039   \n",
       "4503  PAN018_1e457a_20191021T125706  PAN018    1e457a  3.287860  48.174383   \n",
       "2108  PAN001_14d3bd_20181108T050226  PAN001    14d3bd  9.581777  42.471700   \n",
       "2151  PAN001_ee04d1_20181112T050023  PAN001    ee04d1  8.573878  35.506061   \n",
       "2109  PAN001_ee04d1_20181108T050226  PAN001    ee04d1  8.601876  43.281457   \n",
       "2117  PAN001_14d3bd_20181109T052947  PAN001    14d3bd  9.554260  42.466606   \n",
       "4955  PAN012_95cdbc_20200123T024300  PAN012    95cdbc  3.286532  48.228431   \n",
       "4206  PAN001_14d3bd_20190913T080023  PAN001    14d3bd  3.287077  48.230305   \n",
       "4366  PAN012_358d0f_20191005T041329  PAN012    358d0f  2.977367  48.024722   \n",
       "4954  PAN012_358d0f_20200123T024300  PAN012    358d0f  3.570569  48.423297   \n",
       "2150  PAN001_14d3bd_20181112T050023  PAN001    14d3bd  9.507226  34.707545   \n",
       "2116  PAN001_ee04d1_20181109T052947  PAN001    ee04d1  8.547327  43.277281   \n",
       "4117  PAN001_14d3bd_20190906T084653  PAN001    14d3bd  3.287749  48.217046   \n",
       "4140  PAN001_ee04d1_20190908T085112  PAN001    ee04d1  2.102510  49.010377   \n",
       "4139  PAN001_14d3bd_20190908T085112  PAN001    14d3bd  3.274779  48.233228   \n",
       "4430  PAN001_14d3bd_20191016T065812  PAN001    14d3bd  3.283966  48.235876   \n",
       "4390  PAN001_14d3bd_20191012T065251  PAN001    14d3bd  3.287908  48.235233   \n",
       "4454  PAN012_358d0f_20191018T024156  PAN012    358d0f  2.979080  48.027529   \n",
       "4384  PAN012_358d0f_20191008T025413  PAN012    358d0f  2.977623  48.026023   \n",
       "\n",
       "      exptime        field_name  iso  num_images software_version   status  \\\n",
       "3960    119.9        HAT-P-16 b  100       134.0       POCSv0.6.2  matched   \n",
       "3959    119.9        HAT-P-16 b  100       134.0       POCSv0.6.2  matched   \n",
       "4503    119.0  TESS_SEC17_CAM02  100        90.0       POCSv0.6.2  matched   \n",
       "2108    120.0          HAT-P-16  100        83.0       POCSv0.6.2  matched   \n",
       "2151    120.3          HAT-P-19  100        80.0       POCSv0.6.2  matched   \n",
       "2109    120.3          HAT-P-16  100        78.0       POCSv0.6.2  matched   \n",
       "2117    120.0          HAT-P-16  100        76.0       POCSv0.6.2  matched   \n",
       "4955    120.1  TESS_SEC17_CAM02  100        70.0       POCSv0.6.2  matched   \n",
       "4206    120.0  TESS_SEC17_CAM02  100        70.0       POCSv0.6.2  matched   \n",
       "4366    120.0  TESS_SEC17_CAM02  100        70.0       POCSv0.6.2  matched   \n",
       "4954    120.1  TESS_SEC17_CAM02  100        70.0       POCSv0.6.2  matched   \n",
       "2150    120.0          HAT-P-19  100        70.0       POCSv0.6.2  matched   \n",
       "2116    120.3          HAT-P-16  100        68.0       POCSv0.6.2  matched   \n",
       "4117    120.0  TESS_SEC17_CAM02  100        67.0       POCSv0.6.2  matched   \n",
       "4140    120.3  TESS_SEC17_CAM02  100        66.0       POCSv0.6.2  matched   \n",
       "4139    120.0  TESS_SEC17_CAM02  100        62.0       POCSv0.6.2  matched   \n",
       "4430    120.0  TESS_SEC17_CAM02  100        62.0       POCSv0.6.2  matched   \n",
       "4390    120.0  TESS_SEC17_CAM02  100        62.0       POCSv0.6.2  matched   \n",
       "4454    120.0  TESS_SEC17_CAM02  100        60.0       POCSv0.6.2  matched   \n",
       "4384    120.0  TESS_SEC17_CAM02  100        60.0       POCSv0.6.2  matched   \n",
       "\n",
       "                           time  total_minutes_exptime  \n",
       "3960  2019-08-21 05:44:34+00:00                  268.0  \n",
       "3959  2019-08-21 05:44:34+00:00                  268.0  \n",
       "4503  2019-10-21 12:57:06+00:00                  178.2  \n",
       "2108  2018-11-08 05:02:26+00:00                  166.0  \n",
       "2151  2018-11-12 05:00:23+00:00                  160.0  \n",
       "2109  2018-11-08 05:02:26+00:00                  156.0  \n",
       "2117  2018-11-09 05:29:47+00:00                  152.0  \n",
       "4955  2020-01-23 02:43:00+00:00                  140.0  \n",
       "4206  2019-09-13 08:00:23+00:00                  140.0  \n",
       "4366  2019-10-05 04:13:29+00:00                  140.0  \n",
       "4954  2020-01-23 02:43:00+00:00                  140.0  \n",
       "2150  2018-11-12 05:00:23+00:00                  140.0  \n",
       "2116  2018-11-09 05:29:47+00:00                  136.0  \n",
       "4117  2019-09-06 08:46:53+00:00                  134.0  \n",
       "4140  2019-09-08 08:51:12+00:00                  132.0  \n",
       "4139  2019-09-08 08:51:12+00:00                  124.0  \n",
       "4430  2019-10-16 06:58:12+00:00                  124.0  \n",
       "4390  2019-10-12 06:52:51+00:00                  124.0  \n",
       "4454  2019-10-18 02:41:56+00:00                  120.0  \n",
       "4384  2019-10-08 02:54:13+00:00                  120.0  "
      ]
     },
     "execution_count": 6,
     "metadata": {},
     "output_type": "execute_result"
    }
   ],
   "source": [
    "# Look at all returned observations by total minutes in observation\n",
    "observations_df.sort_values('total_minutes_exptime', ascending=False).head(20)"
   ]
  },
  {
   "cell_type": "markdown",
   "metadata": {},
   "source": [
    "Looks like `PAN012` got a nice long sequence of images in August for the \"HAT-P-16 b\" `field_name` with the `sequence_id` of `PAN012_358d0f_20190821T054434`. Let's use that."
   ]
  },
  {
   "cell_type": "markdown",
   "metadata": {},
   "source": [
    "We can now use the `metadata.get_metadata` to search for the individual image data."
   ]
  },
  {
   "cell_type": "code",
   "execution_count": 7,
   "metadata": {},
   "outputs": [
    {
     "data": {
      "text/plain": [
       "\u001b[0;31mSignature:\u001b[0m \u001b[0mmetadata\u001b[0m\u001b[0;34m.\u001b[0m\u001b[0mget_metadata\u001b[0m\u001b[0;34m(\u001b[0m\u001b[0msequence_id\u001b[0m\u001b[0;34m=\u001b[0m\u001b[0;32mNone\u001b[0m\u001b[0;34m,\u001b[0m \u001b[0mfields\u001b[0m\u001b[0;34m=\u001b[0m\u001b[0;32mNone\u001b[0m\u001b[0;34m,\u001b[0m \u001b[0mshow_progress\u001b[0m\u001b[0;34m=\u001b[0m\u001b[0;32mFalse\u001b[0m\u001b[0;34m)\u001b[0m\u001b[0;34m\u001b[0m\u001b[0;34m\u001b[0m\u001b[0m\n",
       "\u001b[0;31mDocstring:\u001b[0m\n",
       "Access PANOPTES data from the network.\n",
       "\n",
       "This function is capable of searching for metadata of PANOPTES observations.\n",
       "\n",
       "Currently this only supports searching at the observation level, and\n",
       "so the function is a thin-wrapper around the `get_observation_metadata`.\n",
       "\n",
       ">>> from panoptes.utils.data import get_metadata\n",
       "\n",
       ">>> # Get all image metadata for the observation.\n",
       ">>> sequence_id = 'PAN001_14d3bd_20170405T100854'\n",
       ">>> observation_df = get_metadata(sequence_id=sequence_id)\n",
       "\n",
       ">>> type(observation_df)\n",
       "<class 'pandas.core.frame.DataFrame'>\n",
       "\n",
       ">>> print('Total exptime: ', observation_df.image_exptime.sum())\n",
       "Total exptime:  7200.0\n",
       "\n",
       ">>> # It's also possible to request certain fields\n",
       ">>> airmass_df = get_metadata(sequence_id=sequence_id, fields=['image_airmass'])\n",
       ">>> airmass_df.head()\n",
       "   image_airmass                    sequence_id                      time\n",
       "0       1.174331  PAN001_14d3bd_20170405T100854 2017-04-05 10:10:20+00:00\n",
       "1       1.182432  PAN001_14d3bd_20170405T100854 2017-04-05 10:13:09+00:00\n",
       "2       1.190880  PAN001_14d3bd_20170405T100854 2017-04-05 10:15:59+00:00\n",
       "3       1.199631  PAN001_14d3bd_20170405T100854 2017-04-05 10:18:49+00:00\n",
       "4       1.208680  PAN001_14d3bd_20170405T100854 2017-04-05 10:21:40+00:00\n",
       "\n",
       "Args:\n",
       "    sequence_id (str|list|None): The list of sequence_ids associated with an observation.\n",
       "    fields (list|None):  A list of fields to fetch from the database. If None,\n",
       "        returns all fields.\n",
       "    show_progress (bool): If True, show a progress bar, default False.\n",
       "\n",
       "Returns:\n",
       "\u001b[0;31mFile:\u001b[0m      /home/jupyter/panoptes-pipeline/src/panoptes/pipeline/utils/metadata.py\n",
       "\u001b[0;31mType:\u001b[0m      function\n"
      ]
     },
     "metadata": {},
     "output_type": "display_data"
    }
   ],
   "source": [
    "metadata.get_metadata?"
   ]
  },
  {
   "cell_type": "markdown",
   "metadata": {},
   "source": [
    "### Get observation metadata"
   ]
  },
  {
   "cell_type": "markdown",
   "metadata": {},
   "source": [
    "We want to look at some of the metadata and images to decide if this is a good observation. \n",
    "\n",
    "Start by selecting a `sequence_id` from the table above. Here we have selected the top observation."
   ]
  },
  {
   "cell_type": "code",
   "execution_count": 8,
   "metadata": {},
   "outputs": [],
   "source": [
    "sequence_id = 'PAN012_95cdbc_20190821T054434'"
   ]
  },
  {
   "cell_type": "markdown",
   "metadata": {},
   "source": [
    "Now we simply query the by `sequence_id`."
   ]
  },
  {
   "cell_type": "code",
   "execution_count": 9,
   "metadata": {},
   "outputs": [
    {
     "name": "stdout",
     "output_type": "stream",
     "text": [
      "<class 'pandas.core.frame.DataFrame'>\n",
      "Int64Index: 134 entries, 0 to 133\n",
      "Data columns (total 34 columns):\n",
      " #   Column                     Non-Null Count  Dtype              \n",
      "---  ------                     --------------  -----              \n",
      " 0   bucket_path                134 non-null    string             \n",
      " 1   camera_blue_balance        134 non-null    float64            \n",
      " 2   camera_circconf            134 non-null    float64            \n",
      " 3   camera_colortemp           134 non-null    int64              \n",
      " 4   camera_iso                 134 non-null    Int64              \n",
      " 5   camera_lens_serial_number  134 non-null    string             \n",
      " 6   camera_measured_b          134 non-null    Int64              \n",
      " 7   camera_measured_ev         134 non-null    float64            \n",
      " 8   camera_measured_ev2        134 non-null    float64            \n",
      " 9   camera_measured_g1         134 non-null    Int64              \n",
      " 10  camera_measured_g2         134 non-null    Int64              \n",
      " 11  camera_measured_r          134 non-null    Int64              \n",
      " 12  camera_red_balance         134 non-null    float64            \n",
      " 13  camera_serial_number       134 non-null    Int64              \n",
      " 14  camera_temp                134 non-null    float64            \n",
      " 15  camera_white_lvln          134 non-null    Int64              \n",
      " 16  camera_white_lvls          134 non-null    Int64              \n",
      " 17  image_airmass              134 non-null    float64            \n",
      " 18  image_dec                  134 non-null    float64            \n",
      " 19  image_exptime              134 non-null    float64            \n",
      " 20  image_id                   134 non-null    string             \n",
      " 21  image_moonfrac             134 non-null    float64            \n",
      " 22  image_moonsep              134 non-null    float64            \n",
      " 23  image_ra                   134 non-null    float64            \n",
      " 24  mount_dec                  134 non-null    float64            \n",
      " 25  mount_ha                   134 non-null    float64            \n",
      " 26  mount_ra                   134 non-null    float64            \n",
      " 27  public_url                 134 non-null    string             \n",
      " 28  sequence_id                134 non-null    string             \n",
      " 29  site_elevation             134 non-null    float64            \n",
      " 30  site_latitude              134 non-null    float64            \n",
      " 31  site_longitude             134 non-null    float64            \n",
      " 32  time                       134 non-null    datetime64[ns, UTC]\n",
      " 33  unit_id                    134 non-null    string             \n",
      "dtypes: Int64(8), datetime64[ns, UTC](1), float64(18), int64(1), string(6)\n",
      "memory usage: 37.7 KB\n"
     ]
    }
   ],
   "source": [
    "images_df = metadata.get_metadata(sequence_id=sequence_id)\n",
    "images_df.info()"
   ]
  },
  {
   "cell_type": "markdown",
   "metadata": {},
   "source": [
    "### Examine observation data\n",
    "\n",
    "The image metadata includes information from the EXIF data of the image in the `camera_<column>` fields. \n",
    "\n",
    "The `image_<COLUMN>` and `mount_<COLUMN>` columns contain information from POCS about the image."
   ]
  },
  {
   "cell_type": "code",
   "execution_count": 10,
   "metadata": {},
   "outputs": [
    {
     "data": {
      "text/plain": [
       "bucket_path                  PAN012/95cdbc/20190821T054434/20190821T054827....\n",
       "camera_blue_balance                                                    1.47754\n",
       "camera_circconf                                                          0.019\n",
       "camera_colortemp                                                          5266\n",
       "camera_iso                                                                 100\n",
       "camera_lens_serial_number                                            HC0205347\n",
       "camera_measured_b                                                          688\n",
       "camera_measured_ev                                                       -3.62\n",
       "camera_measured_ev2                                                     -3.625\n",
       "camera_measured_g1                                                        1024\n",
       "camera_measured_g2                                                        1024\n",
       "camera_measured_r                                                          506\n",
       "camera_red_balance                                                     2.02344\n",
       "camera_serial_number                                              302073027514\n",
       "camera_temp                                                                 24\n",
       "camera_white_lvln                                                        11765\n",
       "camera_white_lvls                                                        12277\n",
       "image_airmass                                                          1.74401\n",
       "image_dec                                                               42.464\n",
       "image_exptime                                                              120\n",
       "image_id                                         PAN012_95cdbc_20190821T054827\n",
       "image_moonfrac                                                        0.729501\n",
       "image_moonsep                                                          65.4458\n",
       "image_ra                                                               9.57008\n",
       "mount_dec                                                              42.4631\n",
       "mount_ha                                                               19.2496\n",
       "mount_ra                                                               9.57317\n",
       "public_url                   https://storage.googleapis.com/panoptes-raw-im...\n",
       "sequence_id                                      PAN012_95cdbc_20190821T054434\n",
       "site_elevation                                                            1700\n",
       "site_latitude                                                            34.22\n",
       "site_longitude                                                         -118.06\n",
       "time                                                 2019-08-21 05:48:27+00:00\n",
       "unit_id                                                                 PAN012\n",
       "Name: 0, dtype: object"
      ]
     },
     "execution_count": 10,
     "metadata": {},
     "output_type": "execute_result"
    }
   ],
   "source": [
    "# Examine first record\n",
    "images_df.iloc[0]"
   ]
  },
  {
   "cell_type": "markdown",
   "metadata": {},
   "source": [
    "We can do a quick spot on the quality of each image by looking at the changing color temperature of the images. While these can vary considerably depending on the viewing conditions, any major deviations from the the other images should stand out."
   ]
  },
  {
   "cell_type": "code",
   "execution_count": 11,
   "metadata": {},
   "outputs": [
    {
     "data": {
      "image/png": "[encoded data removed]",
      "text/plain": [
       "<Figure size 720x288 with 1 Axes>"
      ]
     },
     "metadata": {},
     "output_type": "display_data"
    }
   ],
   "source": [
    "sb.set_style('darkgrid')\n",
    "ax = sb.lineplot(data=images_df, \n",
    "                 x='time', \n",
    "                 y='camera_colortemp', \n",
    "                 marker='o',\n",
    "                )\n",
    "\n",
    "ax.figure.set_size_inches(10, 4)"
   ]
  },
  {
   "cell_type": "markdown",
   "metadata": {},
   "source": [
    "Here it looks like the last couple of frames have a significant change, so we look at the jpg for the last images by using the `public_url`.\n",
    "\n",
    "Note that the `public_url` is for the FITS file, but there should exists a JPG version of every FITS file."
   ]
  },
  {
   "cell_type": "code",
   "execution_count": 12,
   "metadata": {},
   "outputs": [],
   "source": [
    "# Negative index starts from end.\n",
    "frame_number = -1"
   ]
  },
  {
   "cell_type": "code",
   "execution_count": 13,
   "metadata": {},
   "outputs": [
    {
     "data": {
      "text/html": [
       "<img src=\"https://storage.googleapis.com/panoptes-raw-images/PAN012/95cdbc/20190821T054434/20190821T122700.jpg\" width=\"800\"/>"
      ],
      "text/plain": [
       "<IPython.core.display.Image object>"
      ]
     },
     "execution_count": 13,
     "metadata": {},
     "output_type": "execute_result"
    }
   ],
   "source": [
    "jpg_url = images_df.iloc[frame_number].public_url.replace('.fits.fz', '.jpg')\n",
    "\n",
    "Image(url=jpg_url, width=800)"
   ]
  },
  {
   "cell_type": "markdown",
   "metadata": {},
   "source": [
    "Looks like the sun is just coming up, which our algorithm can handle, but let's check by plotting the airmass along with the sunrise/sunset shading via the `plot_airmass` function from [astroplan](https://astroplan.readthedocs.io/en/latest/tutorials/plots.html)."
   ]
  },
  {
   "cell_type": "code",
   "execution_count": 14,
   "metadata": {},
   "outputs": [],
   "source": [
    "# Get the first record for easy access to site info.\n",
    "first_image = images_df.iloc[0]"
   ]
  },
  {
   "cell_type": "code",
   "execution_count": 15,
   "metadata": {},
   "outputs": [],
   "source": [
    "# Make an \"observer\" from the image location.\n",
    "observer = Observer(latitude=first_image.site_latitude, \n",
    "                    longitude=first_image.site_longitude, \n",
    "                    elevation=first_image.site_elevation * u.meter)"
   ]
  },
  {
   "cell_type": "code",
   "execution_count": 16,
   "metadata": {},
   "outputs": [
    {
     "data": {
      "image/png": "[encoded data removed]",
      "text/plain": [
       "<Figure size 720x432 with 2 Axes>"
      ]
     },
     "metadata": {},
     "output_type": "display_data"
    }
   ],
   "source": [
    "sb.set_style('dark')\n",
    "\n",
    "ax = plot_airmass(target_coords, observer, \n",
    "                  first_image.time, \n",
    "                  brightness_shading=True, \n",
    "                  altitude_yaxis=True,\n",
    "                  max_airmass=2.0\n",
    "                 )\n",
    "\n",
    "sb.lineplot(data=images_df,\n",
    "            x='time',\n",
    "            y='image_airmass',\n",
    "            ax=ax,\n",
    "            color='orange',\n",
    "            label='Observation Time',\n",
    "           )\n",
    "\n",
    "ax.figure.set_size_inches(10, 6);"
   ]
  },
  {
   "cell_type": "markdown",
   "metadata": {},
   "source": [
    "Suspicions confirmed, we won't worry about removing individual images because of obstructions or anything else."
   ]
  },
  {
   "cell_type": "markdown",
   "metadata": {},
   "source": [
    "### Gather images"
   ]
  },
  {
   "cell_type": "markdown",
   "metadata": {},
   "source": [
    "Now that we have a `sequence_id` and have checked any suspicious images, we will go ahead and download the FITS files.\n",
    "\n",
    "The `public_url` contains a download link that we can use with `wget`/`curl` or simply by entering in a browser.  Here we use the convenience function `metadata.download_images` to download the files one by one.\n",
    "\n",
    "Note that using the google `gsutil` can be massively more efficient.  If you are trying to get a lot of data let the PANOPTES team now and we can help provide the best solution."
   ]
  },
  {
   "cell_type": "code",
   "execution_count": 17,
   "metadata": {},
   "outputs": [],
   "source": [
    "# Get list of public urls\n",
    "download_list = images_df.public_url.dropna().to_list()"
   ]
  },
  {
   "cell_type": "code",
   "execution_count": 18,
   "metadata": {},
   "outputs": [],
   "source": [
    "base_dir = '/home/jupyter/data'\n",
    "output_dir = f'{base_dir}/{sequence_id}'"
   ]
  },
  {
   "cell_type": "code",
   "execution_count": 19,
   "metadata": {},
   "outputs": [
    {
     "data": {
      "application/vnd.jupyter.widget-view+json": {
       "model_id": "4bdcbab1fcc04abd832c80511d0368a4",
       "version_major": 2,
       "version_minor": 0
      },
      "text/plain": [
       "HBox(children=(FloatProgress(value=0.0, max=134.0), HTML(value='')))"
      ]
     },
     "metadata": {},
     "output_type": "display_data"
    },
    {
     "name": "stdout",
     "output_type": "stream",
     "text": [
      "\n"
     ]
    }
   ],
   "source": [
    "# Download and unpack FITS files.\n",
    "fits_files = metadata.download_images(download_list, output_dir)"
   ]
  },
  {
   "cell_type": "code",
   "execution_count": 20,
   "metadata": {},
   "outputs": [],
   "source": [
    "# Record local file location in dataframe.\n",
    "images_df['local_file'] = fits_files"
   ]
  },
  {
   "cell_type": "markdown",
   "metadata": {},
   "source": [
    "### Save dataframe locally\n",
    "\n",
    "Now that we have all our information in the `images_df` file we can save locally so we don't need to go through the above again.\n",
    "\n",
    "Since it's a fairly small dataframe, we will just save to a csv file in our same output directory."
   ]
  },
  {
   "cell_type": "code",
   "execution_count": 21,
   "metadata": {},
   "outputs": [],
   "source": [
    "images_df_path = f'{output_dir}/images-metadata.csv'"
   ]
  },
  {
   "cell_type": "code",
   "execution_count": 22,
   "metadata": {},
   "outputs": [],
   "source": [
    "images_df.to_csv(images_df_path, index=False)"
   ]
  },
  {
   "cell_type": "code",
   "execution_count": 24,
   "metadata": {},
   "outputs": [
    {
     "name": "stdout",
     "output_type": "stream",
     "text": [
      "-rw-r--r-- 1 root root 78K Nov  1 17:08 /home/jupyter/data/PAN012_95cdbc_20190821T054434/images-metadata.csv\n"
     ]
    }
   ],
   "source": [
    "ls -lh {images_df_path}"
   ]
  },
  {
   "cell_type": "markdown",
   "metadata": {},
   "source": [
    "### Next steps\n",
    "\n",
    "Now that we have an observation we are interested and all the necessary data saved locally, we will move on to catalog matching and Postage Stamp Cube (PSC) creation.\n",
    "\n",
    "Check out the [Stamp Extraction](Stamp%20Extraction.ipynb) notebook for more!"
   ]
  }
 ],
 "metadata": {
  "kernelspec": {
   "display_name": "Python 3",
   "language": "python",
   "name": "python3"
  },
  "language_info": {
   "codemirror_mode": {
    "name": "ipython",
    "version": 3
   },
   "file_extension": ".py",
   "mimetype": "text/x-python",
   "name": "python",
   "nbconvert_exporter": "python",
   "pygments_lexer": "ipython3",
   "version": "3.7.6"
  }
 },
 "nbformat": 4,
 "nbformat_minor": 4
}
