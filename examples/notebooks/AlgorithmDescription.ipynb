{
 "cells": [
  {
   "cell_type": "markdown",
   "metadata": {},
   "source": [
    "### Terminology"
   ]
  },
  {
   "cell_type": "markdown",
   "metadata": {},
   "source": [
    "* **Observation**: A sequence of images of the same field for a continuous amount of time. \n",
    "* **Frame**: A single image of a single field. An Observation consists of a sequence of frames.\n",
    "* **Stamp**: A usually square stamp of pixels with a star near the center. One stamp corresponds to one time frame. A single frame contains many stamps.\n",
    "* **PSC** Postage Stamp Cube: The collection of stamps corresponding to one particular source for the entire observation."
   ]
  },
  {
   "cell_type": "markdown",
   "metadata": {},
   "source": [
    "### Overview\n",
    "\n",
    "The goal of the PIAA algorithm is to discover a change in brightness (flux) from a target star as compared to other stars in the same field that are similar to the target star."
   ]
  },
  {
   "cell_type": "markdown",
   "metadata": {},
   "source": [
    "### Steps"
   ]
  },
  {
   "cell_type": "markdown",
   "metadata": {},
   "source": [
    "#### 1. Prepare Observation - Create PSC"
   ]
  },
  {
   "cell_type": "markdown",
   "metadata": {},
   "source": [
    "This step prepares the images that are part of an observation. Images have already had the metadata ingested into the database.\n",
    "\n",
    "* Plate-solve each image.\n",
    "* Calibration:\n",
    "    * Bias subtraction.\n",
    "    * Flat fielding (_we are not taking flats yet_). Be very careful about how this done.\n",
    "* Result: a PSC for each (valid) source in the field.\n",
    "* Note: This step can happen before actual analysis for light-curves and should be done as part of data ingestion."
   ]
  },
  {
   "cell_type": "markdown",
   "metadata": {},
   "source": [
    "#### 2. Pick a target\n",
    "\n",
    "The pipeline will eventually run the algorithm once for each PSC, doing a large number of comparisons. Here we \"manually\" select a target that we are interested in analyzing, particularly one that corresponds with an a known transit."
   ]
  },
  {
   "cell_type": "markdown",
   "metadata": {},
   "source": [
    "#### 3. Find \"similar\" stars\n",
    "\n",
    "We want to find stars that are similar to our target in terms of how they are placed on the detector (e.g. does the star fall mostly on a red pixel or a blue, etc.). \n",
    "\n",
    "For this we ignore the flux and directly compare the morphology of each source with the target.\n",
    "\n",
    "* Normalize each stamp of every PSC\n",
    "* Find the sum-squared-difference for each PSC when compared to the target PSC.\n",
    "* Result: A score for each point source that indicates how closely it matches the shape of the target source."
   ]
  },
  {
   "cell_type": "markdown",
   "metadata": {},
   "source": [
    "#### 4. Combine related stars\n",
    "\n",
    "Taking the sources that are most morphological similar to our target, we linearly combine the \n",
    "\n",
    "We take the top matches* of the normalized sources and linearly combine them to match the target morphology.\n",
    "\n",
    "The result of this step is a set of coefficients, one per matching source, that can be used to create the ideal template.\n",
    "\n",
    "_* How we determine the \"top\" matches is an open question. For now we just take the 50-80 best matches_"
   ]
  },
  {
   "cell_type": "markdown",
   "metadata": {},
   "source": [
    "#### 5. Create ideal template\n",
    "\n",
    "The coefficients from step 4 are then applied to the original source stamps (rather than the normalized versions). These are linearly combined to form the ideal template.\n",
    "\n",
    "The result of this step is one \"ideal\" template PSC that has the same shape as the target PSC."
   ]
  },
  {
   "cell_type": "markdown",
   "metadata": {},
   "source": [
    "#### 6. Compare target to template\n",
    "\n",
    "The template PSC is then divided out of the target PSC, meaning there is a pixel-to-pixel division. If the template exactly matches the target then this will result in a stamp of all ones.\n",
    "\n",
    "The real result will be a ratio of the target to the template, which by itself doesn't tell us much. However, as that ratio changes from frame _i_ to _i+1_ there will be a relative change between the target and the template."
   ]
  }
 ],
 "metadata": {
  "kernelspec": {
   "display_name": "Python 3",
   "language": "python",
   "name": "python3"
  },
  "language_info": {
   "codemirror_mode": {
    "name": "ipython",
    "version": 3
   },
   "file_extension": ".py",
   "mimetype": "text/x-python",
   "name": "python",
   "nbconvert_exporter": "python",
   "pygments_lexer": "ipython3",
   "version": "3.6.6"
  }
 },
 "nbformat": 4,
 "nbformat_minor": 2
}
