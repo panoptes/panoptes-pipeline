{
 "cells": [
  {
   "cell_type": "code",
   "execution_count": 1,
   "metadata": {},
   "outputs": [],
   "source": [
    "from matplotlib import pyplot as plt\n",
    "# from astropy.utils.data import download_file\n",
    "# from astropy.time import Time, TimeDelta\n",
    "from astropy import units as u\n",
    "from astropy.coordinates import SkyCoord\n",
    "from astropy.time import Time, TimeDelta\n",
    "# import xml.etree.ElementTree as ET, gzip, io\n",
    "\n",
    "from dateutil.parser import parse as date_parse\n",
    "import numpy as np\n",
    "import pandas as pd\n",
    "\n",
    "from collections import namedtuple\n",
    "from glob import glob\n",
    "from astropy.io import fits\n",
    "from astropy.table import Table\n",
    "\n",
    "from tqdm import tqdm_notebook\n",
    "\n",
    "from piaa import exoplanets\n",
    "import exodata"
   ]
  },
  {
   "cell_type": "code",
   "execution_count": 3,
   "metadata": {},
   "outputs": [],
   "source": [
    "exoplanet = exoplanets.Exoplanet('Hd189733')"
   ]
  },
  {
   "cell_type": "code",
   "execution_count": null,
   "metadata": {},
   "outputs": [],
   "source": []
  },
  {
   "cell_type": "code",
   "execution_count": 2,
   "metadata": {},
   "outputs": [],
   "source": [
    "!gsutil ls gs://panoptes-survey/PAN001/**/**/2018*/*.fz > /var/panoptes/pan001.txt"
   ]
  },
  {
   "cell_type": "code",
   "execution_count": 3,
   "metadata": {},
   "outputs": [],
   "source": [
    "!cat /var/panoptes/pan001.txt | grep -v 'pointing' | cut -d '/' -f 4-7 | sort | uniq > /var/panoptes/pan001_seq.txt"
   ]
  },
  {
   "cell_type": "code",
   "execution_count": 7,
   "metadata": {},
   "outputs": [],
   "source": [
    "# Load our list of stored images\n",
    "txt_fn = '/var/panoptes/pan001.txt'\n",
    "\n",
    "fits_fn = !cat $txt_fn | grep -v 'pointing' | grep -v 'ee04d1'"
   ]
  },
  {
   "cell_type": "code",
   "execution_count": 8,
   "metadata": {},
   "outputs": [
    {
     "data": {
      "text/plain": [
       "15897"
      ]
     },
     "execution_count": 8,
     "metadata": {},
     "output_type": "execute_result"
    }
   ],
   "source": [
    "len(fits_fn)"
   ]
  },
  {
   "cell_type": "code",
   "execution_count": 9,
   "metadata": {},
   "outputs": [
    {
     "data": {
      "text/plain": [
       "['gs://panoptes-survey/PAN001/55Cnc/14d3bd/20180216T110623/20180216T110816.fits.fz',\n",
       " 'gs://panoptes-survey/PAN001/55Cnc/14d3bd/20180216T110623/20180216T111125.fits.fz',\n",
       " 'gs://panoptes-survey/PAN001/55Cnc/14d3bd/20180216T110623/20180216T111430.fits.fz',\n",
       " 'gs://panoptes-survey/PAN001/55Cnc/14d3bd/20180216T110623/20180216T111740.fits.fz']"
      ]
     },
     "execution_count": 9,
     "metadata": {},
     "output_type": "execute_result"
    }
   ],
   "source": [
    "fits_fn[0:4]"
   ]
  },
  {
   "cell_type": "code",
   "execution_count": null,
   "metadata": {},
   "outputs": [
    {
     "data": {
      "application/vnd.jupyter.widget-view+json": {
       "model_id": "00679c88a57649e691783e56a62cfbca",
       "version_major": 2,
       "version_minor": 0
      },
      "text/plain": [
       "HBox(children=(IntProgress(value=0, max=3180), HTML(value='')))"
      ]
     },
     "metadata": {},
     "output_type": "display_data"
    },
    {
     "name": "stdout",
     "output_type": "stream",
     "text": [
      "The truth value of an array with more than one element is ambiguous. Use a.any() or a.all()\n",
      "'No matches found for key Epic211089792'\n",
      "list index out of range\n",
      "'No matches found for key Kic8462852'\n",
      "'No matches found for key M5'\n"
     ]
    }
   ],
   "source": [
    "transits = dict()\n",
    "errors = dict()\n",
    "\n",
    "for fn in tqdm_notebook(fits_fn[::5]):\n",
    "    if 'pointing' in fn:\n",
    "        continue \n",
    "    \n",
    "    try:\n",
    "        _, _, _, unit_id, field, cam_id, seq_id, img_id = fn.split('/')\n",
    "    except ValueError:\n",
    "        continue \n",
    "        \n",
    "    if seq_id in transits:\n",
    "        continue\n",
    "        \n",
    "    # Get the time from the image\n",
    "    img_id = img_id.split('.')[0]\n",
    "    try:\n",
    "        t0 = Time(date_parse(img_id), format='datetime')\n",
    "    except Exception as e:\n",
    "        if str(e) not in errors:\n",
    "            print(img_id, e)\n",
    "            errors[str(e)] = True\n",
    "        continue\n",
    "        \n",
    "    # Get exoplanet info\n",
    "    try:\n",
    "        planet = exoplanets.Exoplanet(field)\n",
    "    except KeyError as e:\n",
    "        if str(e) not in errors:\n",
    "            print(e)\n",
    "            errors[str(e)] = True        \n",
    "        continue\n",
    "        \n",
    "    try:\n",
    "        if planet.transit_duration.value == 0:\n",
    "            k = '{}_duration'.format(planet.name)\n",
    "            if k not in errors:\n",
    "                print(\"No duration for\", planet.name)\n",
    "                errors[k] = True\n",
    "            continue\n",
    "\n",
    "        if planet.transit_midpoint.value == 0:\n",
    "            k = '{}_midpoint'.format(planet.name)\n",
    "            if k not in errors:\n",
    "                print(\"No midpoint for\", planet.name)\n",
    "                errors[k] = True\n",
    "            continue        \n",
    "\n",
    "        if planet.period.value == 0:\n",
    "            k = '{}_period'.format(planet.name)\n",
    "            if k not in errors:\n",
    "                print(\"No period for\", planet.name)\n",
    "                errors[k] = True\n",
    "            continue                \n",
    "    except Exception as e:\n",
    "        if str(e) not in errors:\n",
    "            print(e)\n",
    "            errors[str(e)] = True                \n",
    "    \n",
    "    # Determine if in transit\n",
    "    try:\n",
    "        in_t = planet.in_transit(t0, with_times=True)\n",
    "    except Exception as e:\n",
    "        if str(e) not in errors:\n",
    "            print(e)\n",
    "            errors[str(e)] = True        \n",
    "        continue    \n",
    "\n",
    "    if in_t[0]:\n",
    "        transits[seq_id] = {'transit': in_t[1], 'planet': planet}\n"
   ]
  },
  {
   "cell_type": "code",
   "execution_count": null,
   "metadata": {},
   "outputs": [],
   "source": [
    "# Three subplots sharing both x/y axes\n",
    "\n",
    "f, axes = plt.subplots(len(transits), sharey=True)\n",
    "f.set_size_inches(12, 2 * len(transits))\n",
    "\n",
    "for i, seq_id in enumerate(transits.keys()):\n",
    "\n",
    "    try:\n",
    "        ax = axes[i]\n",
    "    except Exception:\n",
    "        ax = axes\n",
    "    \n",
    "    t = transits[seq_id]['transit']\n",
    "    planet = transits[seq_id]['planet']\n",
    "    image_times = sorted(set(([x.split('/')[7].split('.')[0] for x in fits_fn if seq_id in x])))\n",
    "                                \n",
    "    phases = {planet.get_phase(Time(date_parse(t))):Time(date_parse(t)) for t in image_times}\n",
    "    \n",
    "    ax.scatter(list(phases.keys()), [1 for x in range(len(phases))], color='b', marker='.', label='Observation')\n",
    "    \n",
    "#     print(t)\n",
    "#     print(planet.get_phase(t.ingress), planet.get_phase(t.egress))\n",
    "#     print()\n",
    "    ax.axvline(planet.get_phase(t.ingress), 0, color='r', ls='--', alpha=0.5, label='ingress')\n",
    "    ax.axvline(planet.get_phase(t.egress), 0, color='r', ls='--', alpha=0.5, label='egress')\n",
    "        \n",
    "    ax.legend()\n",
    "        \n",
    "    try:\n",
    "        ax.set_title(\"{} {} {} {}\".format(planet.info['pl_hostname'], seq_id, planet.star_mag, planet.transit_depth))\n",
    "    except Exception:\n",
    "        pass\n",
    "    ax.set_xlim(-0.5, 0.5)\n",
    "    ax.set_ylim(0.5, 1.5)\n",
    "    ax.get_yaxis().set_ticks([])\n",
    "    \n",
    "    f.subplots_adjust(hspace=0)\n",
    "    \n",
    "f.savefig(txt_fn.replace('.txt', '_transits.png'))"
   ]
  },
  {
   "cell_type": "code",
   "execution_count": 13,
   "metadata": {},
   "outputs": [
    {
     "data": {
      "text/plain": [
       "['20180202T061353',\n",
       " '20180412T063417',\n",
       " '20180310T123739',\n",
       " '20180330T111258',\n",
       " '20180614T093015',\n",
       " '20180813T090404',\n",
       " '20180605T092351',\n",
       " '20180626T093238',\n",
       " '20180131T120232',\n",
       " '20180517T091558',\n",
       " '20180521T092247',\n",
       " '20180607T090809',\n",
       " '20180611T064835',\n",
       " '20180624T063045',\n",
       " '20180215T131704',\n",
       " '20180217T073053',\n",
       " '20180412T094809',\n",
       " '20180419T122738',\n",
       " '20180426T091237',\n",
       " '20180515T061520',\n",
       " '20180605T062206',\n",
       " '20180123T073651',\n",
       " '20180131T085025',\n",
       " '20180307T081001',\n",
       " '20180411T081824',\n",
       " '20180411T084040',\n",
       " '20180609T095151',\n",
       " '20180221T101626']"
      ]
     },
     "execution_count": 13,
     "metadata": {},
     "output_type": "execute_result"
    }
   ],
   "source": [
    "list(transits.keys())"
   ]
  },
  {
   "cell_type": "code",
   "execution_count": null,
   "metadata": {},
   "outputs": [],
   "source": []
  }
 ],
 "metadata": {
  "kernelspec": {
   "display_name": "Python 3",
   "language": "python",
   "name": "python3"
  },
  "language_info": {
   "codemirror_mode": {
    "name": "ipython",
    "version": 3
   },
   "file_extension": ".py",
   "mimetype": "text/x-python",
   "name": "python",
   "nbconvert_exporter": "python",
   "pygments_lexer": "ipython3",
   "version": "3.6.6"
  }
 },
 "nbformat": 4,
 "nbformat_minor": 2
}
