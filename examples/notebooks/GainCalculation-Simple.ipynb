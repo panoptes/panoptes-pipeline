{
 "cells": [
  {
   "cell_type": "code",
   "execution_count": 1,
   "metadata": {},
   "outputs": [],
   "source": [
    "# Get timings for each cell\n",
    "%load_ext autotime"
   ]
  },
  {
   "cell_type": "code",
   "execution_count": 2,
   "metadata": {},
   "outputs": [
    {
     "name": "stdout",
     "output_type": "stream",
     "text": [
      "time: 2 s\n"
     ]
    }
   ],
   "source": [
    "import os\n",
    "import numpy as np\n",
    "import pandas as pd\n",
    "\n",
    "from astropy import units as u\n",
    "from astropy.io import fits\n",
    "from astropy.nddata import Cutout2D\n",
    "from astropy.stats import sigma_clip, sigma_clipped_stats\n",
    "from ccdproc import ImageFileCollection\n",
    "\n",
    "from tqdm import tqdm  # Progress bars\n",
    "\n",
    "from piaa.utils import helpers\n",
    "from pong.utils import storage\n",
    "from piaa.utils.plot import pixel_hist\n",
    "\n",
    "from matplotlib import pyplot as plt"
   ]
  },
  {
   "cell_type": "markdown",
   "metadata": {},
   "source": [
    "### Get the calibration images\n",
    "\n",
    "Download the files from google storage buckets. "
   ]
  },
  {
   "cell_type": "code",
   "execution_count": 3,
   "metadata": {},
   "outputs": [
    {
     "name": "stdout",
     "output_type": "stream",
     "text": [
      "time: 471 ms\n"
     ]
    }
   ],
   "source": [
    "# Get our calibration images for the unit\n",
    "calibration_images = storage.get_observation_blobs('PAN001/calibration/')\n",
    "\n",
    "# Flats are included above but a more recent set was also taken\n",
    "flat_images = storage.get_observation_blobs('PAN001/flats/')"
   ]
  },
  {
   "cell_type": "code",
   "execution_count": 4,
   "metadata": {},
   "outputs": [
    {
     "name": "stdout",
     "output_type": "stream",
     "text": [
      "time: 1.37 ms\n"
     ]
    }
   ],
   "source": [
    "# Save FITS files to this location\n",
    "local_save_dir = '/var/panoptes/images/flats'\n",
    "os.makedirs(local_save_dir, exist_ok=True)"
   ]
  },
  {
   "cell_type": "code",
   "execution_count": 5,
   "metadata": {},
   "outputs": [
    {
     "name": "stderr",
     "output_type": "stream",
     "text": [
      "100%|██████████| 316/316 [00:00<00:00, 30712.55it/s]"
     ]
    },
    {
     "name": "stdout",
     "output_type": "stream",
     "text": [
      "time: 14.6 ms\n"
     ]
    },
    {
     "name": "stderr",
     "output_type": "stream",
     "text": [
      "\n"
     ]
    }
   ],
   "source": [
    "# !!!WARNING - Download from the google storage buckets - lots of data - WARNING!!!\n",
    "file_list = list()\n",
    "for fn in tqdm(flat_images + calibration_images):\n",
    "    local_fn = storage.download_fits_file(fn, save_dir=local_save_dir, unpack=False)\n",
    "    file_list.append(local_fn)"
   ]
  },
  {
   "cell_type": "code",
   "execution_count": 8,
   "metadata": {},
   "outputs": [
    {
     "name": "stdout",
     "output_type": "stream",
     "text": [
      "time: 1.7 ms\n"
     ]
    }
   ],
   "source": [
    "# Get the local path names\n",
    "bias_list = [fn for fn in file_list if 'bias' in fn]\n",
    "dark_list = [fn for fn in file_list if 'dark' in fn]\n",
    "flat_list = [fn for fn in file_list if 'PAN001_flats_14d3bd_20180725T052258' in fn]"
   ]
  },
  {
   "cell_type": "code",
   "execution_count": 82,
   "metadata": {},
   "outputs": [
    {
     "name": "stdout",
     "output_type": "stream",
     "text": [
      "time: 2.14 s\n"
     ]
    }
   ],
   "source": [
    "f0 = helpers.get_rgb_data(fits.getdata(flat_list[-2]).astype(np.float) - 2047)\n",
    "f1 = helpers.get_rgb_data(fits.getdata(flat_list[-1]).astype(np.float) - 2047)"
   ]
  },
  {
   "cell_type": "code",
   "execution_count": 83,
   "metadata": {},
   "outputs": [
    {
     "name": "stdout",
     "output_type": "stream",
     "text": [
      "r   3496.47 2046.32 = 1.71\n",
      "g  13897.69 8075.13 = 1.72\n",
      "b  17733.18 9834.57 = 1.80\n",
      "time: 805 ms\n"
     ]
    }
   ],
   "source": [
    "for i, c in zip(range(len(f0)), 'rgb'):\n",
    "    c0 = f0[i].compressed()\n",
    "    c1 = f1[i].compressed()\n",
    "    mean = np.mean(2 * c0)\n",
    "    var = np.var(c0 - c1)\n",
    "    print(\"{} {:9.2f} {:7.2f} = {:.2f}\".format(c, mean, var, mean/var))"
   ]
  },
  {
   "cell_type": "code",
   "execution_count": null,
   "metadata": {},
   "outputs": [],
   "source": []
  }
 ],
 "metadata": {
  "kernelspec": {
   "display_name": "Python 3",
   "language": "python",
   "name": "python3"
  },
  "language_info": {
   "codemirror_mode": {
    "name": "ipython",
    "version": 3
   },
   "file_extension": ".py",
   "mimetype": "text/x-python",
   "name": "python",
   "nbconvert_exporter": "python",
   "pygments_lexer": "ipython3",
   "version": "3.6.6"
  }
 },
 "nbformat": 4,
 "nbformat_minor": 2
}
