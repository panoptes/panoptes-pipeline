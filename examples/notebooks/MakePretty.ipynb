{
 "cells": [
  {
   "cell_type": "code",
   "execution_count": 1,
   "metadata": {},
   "outputs": [],
   "source": [
    "# Time each cell\n",
    "%load_ext autotime"
   ]
  },
  {
   "cell_type": "code",
   "execution_count": 2,
   "metadata": {},
   "outputs": [
    {
     "name": "stderr",
     "output_type": "stream",
     "text": [
      "/home/wtylergee/miniconda3/lib/python3.6/importlib/_bootstrap.py:219: RuntimeWarning: numpy.dtype size changed, may indicate binary incompatibility. Expected 96, got 88\n",
      "  return f(*args, **kwds)\n",
      "/home/wtylergee/miniconda3/lib/python3.6/importlib/_bootstrap.py:219: RuntimeWarning: numpy.dtype size changed, may indicate binary incompatibility. Expected 96, got 88\n",
      "  return f(*args, **kwds)\n"
     ]
    },
    {
     "name": "stdout",
     "output_type": "stream",
     "text": [
      "time: 2.1 s\n"
     ]
    }
   ],
   "source": [
    "import os\n",
    "import threading\n",
    "import time\n",
    "\n",
    "from matplotlib import pyplot as plt\n",
    "%matplotlib inline\n",
    "\n",
    "import h5py\n",
    "import pandas as pd\n",
    "from glob import glob\n",
    "\n",
    "from IPython.display import Image, display\n",
    "import ipywidgets as widgets\n",
    "\n",
    "import numpy as np\n",
    "from astropy.io import fits\n",
    "from astropy.nddata.utils import Cutout2D, PartialOverlapError, NoOverlapError\n",
    "from astropy.stats import sigma_clipped_stats\n",
    "from astropy import units as u\n",
    "from astropy.coordinates import SkyCoord\n",
    "from astropy.wcs import WCS\n",
    "from astropy.stats import sigma_clipped_stats, sigma_clip\n",
    "from astropy.time import Time\n",
    "from astropy.utils.console import ProgressBar\n",
    "\n",
    "from matplotlib.ticker import FormatStrFormatter\n",
    "from copy import copy\n",
    "\n",
    "from piaa.utils import helpers\n",
    "from piaa.utils import images as img_utils\n",
    "from piaa import exoplanets\n",
    "from piaa.observation import Observation\n",
    "from piaa.utils import pipeline\n",
    "from pocs.utils.images import fits as fits_utils\n",
    "\n",
    "palette = copy(plt.cm.inferno)\n",
    "palette.set_over('w', 1.0)\n",
    "palette.set_under('k', 1.0)\n",
    "palette.set_bad('g', 1.0)"
   ]
  },
  {
   "cell_type": "code",
   "execution_count": 3,
   "metadata": {},
   "outputs": [
    {
     "name": "stdout",
     "output_type": "stream",
     "text": [
      "time: 1.18 ms\n"
     ]
    }
   ],
   "source": [
    "os.environ['PGPASSWORD'] = 'pan0pt3&-t3ss'\n",
    "data_dir = '/var/panoptes/images/fields'"
   ]
  },
  {
   "cell_type": "code",
   "execution_count": 4,
   "metadata": {},
   "outputs": [
    {
     "name": "stdout",
     "output_type": "stream",
     "text": [
      "time: 864 µs\n"
     ]
    }
   ],
   "source": [
    "# sequence = 'PAN001/Wasp80/14d3bd/20180609T095151'\n",
    "# sequence = 'PAN001/Hd189733/14d3bd/20180614T093015'\n",
    "sequence = 'PAN001/Hd189733/14d3bd/20180807T071517'"
   ]
  },
  {
   "cell_type": "code",
   "execution_count": 5,
   "metadata": {},
   "outputs": [
    {
     "name": "stdout",
     "output_type": "stream",
     "text": [
      "time: 1.28 ms\n"
     ]
    }
   ],
   "source": [
    "stamp_size = (14, 14)"
   ]
  },
  {
   "cell_type": "code",
   "execution_count": 6,
   "metadata": {},
   "outputs": [
    {
     "data": {
      "text/plain": [
       "53"
      ]
     },
     "execution_count": 6,
     "metadata": {},
     "output_type": "execute_result"
    },
    {
     "name": "stdout",
     "output_type": "stream",
     "text": [
      "time: 657 ms\n"
     ]
    }
   ],
   "source": [
    "# Download FITS files\n",
    "fits_blobs = helpers.get_observation_blobs(sequence)\n",
    "len(fits_blobs)"
   ]
  },
  {
   "cell_type": "code",
   "execution_count": 7,
   "metadata": {},
   "outputs": [
    {
     "data": {
      "application/vnd.jupyter.widget-view+json": {
       "model_id": "723ab14bf0e54ca4a181509bbbf54101",
       "version_major": 2,
       "version_minor": 0
      },
      "text/plain": [
       "FloatProgress(value=0.0)"
      ]
     },
     "metadata": {},
     "output_type": "display_data"
    },
    {
     "name": "stdout",
     "output_type": "stream",
     "text": [
      "\n",
      "time: 78.1 ms\n"
     ]
    }
   ],
   "source": [
    "# Download all the FITS files from a bucket\n",
    "fits_files = list()\n",
    "if fits_blobs:\n",
    "    with ProgressBar(len(fits_blobs), 'Downloading FITS files'.ljust(25)) as bar:\n",
    "        for i, blob in enumerate(fits_blobs):\n",
    "            fits_fn = helpers.unpack_blob(blob, save_dir=data_dir)\n",
    "            fits_files.append(fits_fn)\n",
    "            bar.update(i)\n",
    "\n",
    "fits_files = fits_files\n",
    "num_frames = len(fits_files)"
   ]
  },
  {
   "cell_type": "code",
   "execution_count": 8,
   "metadata": {},
   "outputs": [
    {
     "data": {
      "application/vnd.jupyter.widget-view+json": {
       "model_id": "d0ff329337654277ad9e47b21320e072",
       "version_major": 2,
       "version_minor": 0
      },
      "text/plain": [
       "FloatProgress(value=0.0)"
      ]
     },
     "metadata": {},
     "output_type": "display_data"
    },
    {
     "name": "stdout",
     "output_type": "stream",
     "text": [
      "\n",
      "time: 1.24 s\n"
     ]
    }
   ],
   "source": [
    "# Plate-solve all the images - safe to run again\n",
    "solved_files = list()\n",
    "with ProgressBar(\n",
    "        len(fits_files), \n",
    "        'Solving files'.ljust(25)) as bar:\n",
    "    for i, fn in enumerate(fits_files):\n",
    "        try:\n",
    "            fits_utils.get_solve_field(fn, timeout=90)\n",
    "            solved_files.append(fn)\n",
    "        except Exception:\n",
    "            print(\"Can't solve file {}\".format(fn))\n",
    "            continue\n",
    "\n",
    "solved_files = solved_files"
   ]
  },
  {
   "cell_type": "code",
   "execution_count": 9,
   "metadata": {},
   "outputs": [
    {
     "data": {
      "text/plain": [
       "53"
      ]
     },
     "execution_count": 9,
     "metadata": {},
     "output_type": "execute_result"
    },
    {
     "name": "stdout",
     "output_type": "stream",
     "text": [
      "time: 3.83 ms\n"
     ]
    }
   ],
   "source": [
    "len(solved_files)"
   ]
  },
  {
   "cell_type": "code",
   "execution_count": 10,
   "metadata": {},
   "outputs": [
    {
     "name": "stdout",
     "output_type": "stream",
     "text": [
      "time: 25.2 ms\n"
     ]
    }
   ],
   "source": [
    "wcs = WCS(solved_files[0])"
   ]
  },
  {
   "cell_type": "code",
   "execution_count": 11,
   "metadata": {},
   "outputs": [
    {
     "name": "stdout",
     "output_type": "stream",
     "text": [
      "time: 21.4 s\n"
     ]
    }
   ],
   "source": [
    "# Lookup point sources\n",
    "# You need to set the env variable for the password for TESS catalog DB (ask Wilfred)\n",
    "# os.environ['PGPASSWORD'] = 'sup3rs3cr3t'\n",
    "point_sources = pipeline.lookup_point_sources(\n",
    "    solved_files, \n",
    "    wcs=wcs, \n",
    "    force_new=True\n",
    ")"
   ]
  },
  {
   "cell_type": "code",
   "execution_count": 12,
   "metadata": {},
   "outputs": [
    {
     "data": {
      "text/plain": [
       "75813"
      ]
     },
     "execution_count": 12,
     "metadata": {},
     "output_type": "execute_result"
    },
    {
     "name": "stdout",
     "output_type": "stream",
     "text": [
      "time: 3.16 ms\n"
     ]
    }
   ],
   "source": [
    "len(point_sources)"
   ]
  },
  {
   "cell_type": "code",
   "execution_count": 13,
   "metadata": {},
   "outputs": [
    {
     "data": {
      "text/html": [
       "<div>\n",
       "<style scoped>\n",
       "    .dataframe tbody tr th:only-of-type {\n",
       "        vertical-align: middle;\n",
       "    }\n",
       "\n",
       "    .dataframe tbody tr th {\n",
       "        vertical-align: top;\n",
       "    }\n",
       "\n",
       "    .dataframe thead th {\n",
       "        text-align: right;\n",
       "    }\n",
       "</style>\n",
       "<table border=\"1\" class=\"dataframe\">\n",
       "  <thead>\n",
       "    <tr style=\"text-align: right;\">\n",
       "      <th></th>\n",
       "      <th>x</th>\n",
       "      <th>y</th>\n",
       "      <th>ra</th>\n",
       "      <th>dec</th>\n",
       "      <th>background</th>\n",
       "      <th>flux_auto</th>\n",
       "      <th>flux_max</th>\n",
       "      <th>fluxerr_auto</th>\n",
       "      <th>fwhm</th>\n",
       "      <th>flags</th>\n",
       "      <th>snr</th>\n",
       "      <th>twomass</th>\n",
       "      <th>tmag</th>\n",
       "      <th>vmag</th>\n",
       "      <th>d2d</th>\n",
       "    </tr>\n",
       "    <tr>\n",
       "      <th>id</th>\n",
       "      <th></th>\n",
       "      <th></th>\n",
       "      <th></th>\n",
       "      <th></th>\n",
       "      <th></th>\n",
       "      <th></th>\n",
       "      <th></th>\n",
       "      <th></th>\n",
       "      <th></th>\n",
       "      <th></th>\n",
       "      <th></th>\n",
       "      <th></th>\n",
       "      <th></th>\n",
       "      <th></th>\n",
       "      <th></th>\n",
       "    </tr>\n",
       "  </thead>\n",
       "  <tbody>\n",
       "    <tr>\n",
       "      <th>51395598</th>\n",
       "      <td>4577.5083</td>\n",
       "      <td>61.5508</td>\n",
       "      <td>305.161275</td>\n",
       "      <td>17.017465</td>\n",
       "      <td>2072.530</td>\n",
       "      <td>467.9012</td>\n",
       "      <td>74.64262</td>\n",
       "      <td>99.91589</td>\n",
       "      <td>0.22</td>\n",
       "      <td>0</td>\n",
       "      <td>4.682951</td>\n",
       "      <td>20203945+1700374</td>\n",
       "      <td>11.633</td>\n",
       "      <td>13.128</td>\n",
       "      <td>0.007669</td>\n",
       "    </tr>\n",
       "    <tr>\n",
       "      <th>435949079</th>\n",
       "      <td>681.5363</td>\n",
       "      <td>64.0000</td>\n",
       "      <td>305.581253</td>\n",
       "      <td>28.092177</td>\n",
       "      <td>2069.593</td>\n",
       "      <td>351.4149</td>\n",
       "      <td>61.48784</td>\n",
       "      <td>81.72353</td>\n",
       "      <td>2.35</td>\n",
       "      <td>0</td>\n",
       "      <td>4.300046</td>\n",
       "      <td>20222028+2804493</td>\n",
       "      <td>11.744</td>\n",
       "      <td>13.483</td>\n",
       "      <td>0.012167</td>\n",
       "    </tr>\n",
       "    <tr>\n",
       "      <th>99223850</th>\n",
       "      <td>1202.3519</td>\n",
       "      <td>62.6867</td>\n",
       "      <td>305.524187</td>\n",
       "      <td>26.617198</td>\n",
       "      <td>2073.237</td>\n",
       "      <td>251.5067</td>\n",
       "      <td>62.89775</td>\n",
       "      <td>74.89093</td>\n",
       "      <td>1.98</td>\n",
       "      <td>0</td>\n",
       "      <td>3.358307</td>\n",
       "      <td>20220671+2637121</td>\n",
       "      <td>11.708</td>\n",
       "      <td>13.316</td>\n",
       "      <td>0.004373</td>\n",
       "    </tr>\n",
       "    <tr>\n",
       "      <th>402764877</th>\n",
       "      <td>2755.9780</td>\n",
       "      <td>60.3190</td>\n",
       "      <td>305.356504</td>\n",
       "      <td>22.193450</td>\n",
       "      <td>2076.048</td>\n",
       "      <td>726.5176</td>\n",
       "      <td>101.94640</td>\n",
       "      <td>116.50610</td>\n",
       "      <td>2.14</td>\n",
       "      <td>0</td>\n",
       "      <td>6.235876</td>\n",
       "      <td>20212605+2211313</td>\n",
       "      <td>11.744</td>\n",
       "      <td>12.979</td>\n",
       "      <td>0.002369</td>\n",
       "    </tr>\n",
       "    <tr>\n",
       "      <th>51396993</th>\n",
       "      <td>4413.9731</td>\n",
       "      <td>60.1588</td>\n",
       "      <td>305.182025</td>\n",
       "      <td>17.479586</td>\n",
       "      <td>2072.446</td>\n",
       "      <td>772.9290</td>\n",
       "      <td>60.96803</td>\n",
       "      <td>136.59040</td>\n",
       "      <td>3.29</td>\n",
       "      <td>0</td>\n",
       "      <td>5.658736</td>\n",
       "      <td>20204178+1728450</td>\n",
       "      <td>12.738</td>\n",
       "      <td>13.979</td>\n",
       "      <td>0.007587</td>\n",
       "    </tr>\n",
       "  </tbody>\n",
       "</table>\n",
       "</div>"
      ],
      "text/plain": [
       "                   x        y          ra        dec  background  flux_auto  \\\n",
       "id                                                                            \n",
       "51395598   4577.5083  61.5508  305.161275  17.017465    2072.530   467.9012   \n",
       "435949079   681.5363  64.0000  305.581253  28.092177    2069.593   351.4149   \n",
       "99223850   1202.3519  62.6867  305.524187  26.617198    2073.237   251.5067   \n",
       "402764877  2755.9780  60.3190  305.356504  22.193450    2076.048   726.5176   \n",
       "51396993   4413.9731  60.1588  305.182025  17.479586    2072.446   772.9290   \n",
       "\n",
       "            flux_max  fluxerr_auto  fwhm  flags       snr           twomass  \\\n",
       "id                                                                            \n",
       "51395598    74.64262      99.91589  0.22      0  4.682951  20203945+1700374   \n",
       "435949079   61.48784      81.72353  2.35      0  4.300046  20222028+2804493   \n",
       "99223850    62.89775      74.89093  1.98      0  3.358307  20220671+2637121   \n",
       "402764877  101.94640     116.50610  2.14      0  6.235876  20212605+2211313   \n",
       "51396993    60.96803     136.59040  3.29      0  5.658736  20204178+1728450   \n",
       "\n",
       "             tmag    vmag       d2d  \n",
       "id                                   \n",
       "51395598   11.633  13.128  0.007669  \n",
       "435949079  11.744  13.483  0.012167  \n",
       "99223850   11.708  13.316  0.004373  \n",
       "402764877  11.744  12.979  0.002369  \n",
       "51396993   12.738  13.979  0.007587  "
      ]
     },
     "execution_count": 13,
     "metadata": {},
     "output_type": "execute_result"
    },
    {
     "name": "stdout",
     "output_type": "stream",
     "text": [
      "time: 34.5 ms\n"
     ]
    }
   ],
   "source": [
    "point_sources.head()"
   ]
  },
  {
   "cell_type": "code",
   "execution_count": 14,
   "metadata": {},
   "outputs": [
    {
     "name": "stdout",
     "output_type": "stream",
     "text": [
      "time: 1.67 ms\n"
     ]
    }
   ],
   "source": [
    "arcsecs = (point_sources.d2d.values * u.degree).to(u.arcsec)"
   ]
  },
  {
   "cell_type": "code",
   "execution_count": 15,
   "metadata": {},
   "outputs": [
    {
     "data": {
      "text/plain": [
       "Text(0,0.5,'Δ arcsec')"
      ]
     },
     "execution_count": 15,
     "metadata": {},
     "output_type": "execute_result"
    },
    {
     "data": {
      "image/png": "[encoded data removed]",
      "text/plain": [
       "<Figure size 432x288 with 1 Axes>"
      ]
     },
     "metadata": {},
     "output_type": "display_data"
    },
    {
     "name": "stdout",
     "output_type": "stream",
     "text": [
      "time: 996 ms\n"
     ]
    }
   ],
   "source": [
    "plt.scatter(point_sources.x.values, arcsecs)\n",
    "plt.xlabel('Y position')\n",
    "plt.ylabel('Δ arcsec')"
   ]
  },
  {
   "cell_type": "code",
   "execution_count": 16,
   "metadata": {},
   "outputs": [
    {
     "name": "stdout",
     "output_type": "stream",
     "text": [
      "time: 7.38 ms\n"
     ]
    }
   ],
   "source": [
    "arcsec_bins = np.histogram(arcsecs, bins=np.linspace(0, 30, 20))"
   ]
  },
  {
   "cell_type": "code",
   "execution_count": 17,
   "metadata": {},
   "outputs": [
    {
     "data": {
      "text/plain": [
       "Text(0.5,1.05,'Tess Catalog Offset')"
      ]
     },
     "execution_count": 17,
     "metadata": {},
     "output_type": "execute_result"
    },
    {
     "data": {
      "image/png": "[encoded data removed]",
      "text/plain": [
       "<Figure size 432x288 with 1 Axes>"
      ]
     },
     "metadata": {},
     "output_type": "display_data"
    },
    {
     "name": "stdout",
     "output_type": "stream",
     "text": [
      "time: 344 ms\n"
     ]
    }
   ],
   "source": [
    "pixel_scale = 10.3\n",
    "\n",
    "fig, ax1 = plt.subplots()\n",
    "\n",
    "ax1.hist(arcsecs, bins=np.linspace(0, 25, 20))\n",
    "\n",
    "# ax2 = ax1.twiny()\n",
    "s2 = arcsec_bins[1] / pixel_scale\n",
    "\n",
    "ax1_ticks = ax1.get_xticks()\n",
    "# ax2_scale = ax1_ticks / pixel_scale\n",
    "\n",
    "# ax2.set_xlabel(\"Δ pixels\", fontsize=10)\n",
    "# ax2.set_xticks(ax2_scale)\n",
    "# ax2.xaxis.set_major_formatter(FormatStrFormatter('%.1f'))\n",
    "# ax2.grid(color='r', linestyle='--', alpha=0.25, linewidth=2)\n",
    "\n",
    "ax1.set_xlabel(\"Δ arcsec\", fontsize=10)\n",
    "ax1.set_ylabel(\"Num of sources\")\n",
    "\n",
    "fig.suptitle('Tess Catalog Offset', y=1.05, fontsize=14)\n",
    "# fig.tight_layout()"
   ]
  },
  {
   "cell_type": "code",
   "execution_count": 18,
   "metadata": {},
   "outputs": [
    {
     "data": {
      "text/plain": [
       "Text(0.5,1,'SNR')"
      ]
     },
     "execution_count": 18,
     "metadata": {},
     "output_type": "execute_result"
    },
    {
     "data": {
      "image/png": "[encoded data removed]",
      "text/plain": [
       "<Figure size 432x288 with 1 Axes>"
      ]
     },
     "metadata": {},
     "output_type": "display_data"
    },
    {
     "name": "stdout",
     "output_type": "stream",
     "text": [
      "time: 265 ms\n"
     ]
    }
   ],
   "source": [
    "point_sources.snr.hist(bins=np.arange(0,100, 5))\n",
    "plt.ylabel('Num of sources')\n",
    "plt.title('SNR')"
   ]
  },
  {
   "cell_type": "code",
   "execution_count": 19,
   "metadata": {},
   "outputs": [
    {
     "data": {
      "text/plain": [
       "Text(0.5,1,'Vmags')"
      ]
     },
     "execution_count": 19,
     "metadata": {},
     "output_type": "execute_result"
    },
    {
     "data": {
      "image/png": "[encoded data removed]",
      "text/plain": [
       "<Figure size 432x288 with 1 Axes>"
      ]
     },
     "metadata": {},
     "output_type": "display_data"
    },
    {
     "name": "stdout",
     "output_type": "stream",
     "text": [
      "time: 262 ms\n"
     ]
    }
   ],
   "source": [
    "point_sources.vmag.hist(bins=np.linspace(7, 15, 20))\n",
    "plt.ylabel('Num of sources')\n",
    "plt.title('Vmags')"
   ]
  },
  {
   "cell_type": "code",
   "execution_count": null,
   "metadata": {},
   "outputs": [],
   "source": []
  },
  {
   "cell_type": "code",
   "execution_count": 20,
   "metadata": {},
   "outputs": [
    {
     "name": "stdout",
     "output_type": "stream",
     "text": [
      "time: 21.9 ms\n"
     ]
    }
   ],
   "source": [
    "from astropy import units as u\n",
    "from astropy.nddata import CCDData\n",
    "from ccdproc import Combiner\n",
    "from ccdproc import wcs_project"
   ]
  },
  {
   "cell_type": "code",
   "execution_count": 21,
   "metadata": {},
   "outputs": [
    {
     "data": {
      "text/plain": [
       "WCS Keywords\n",
       "\n",
       "Number of WCS axes: 2\n",
       "CTYPE : 'RA---TAN-SIP'  'DEC--TAN-SIP'  \n",
       "CRVAL : 300.177760408  22.7116519374  \n",
       "CRPIX : 2604.5  1738.5  \n",
       "CD1_1 CD1_2  : -1.63435136917e-06  -0.00286366151555  \n",
       "CD2_1 CD2_2  : -0.00286323323833  1.43308101192e-06  \n",
       "NAXIS : 5208  3476"
      ]
     },
     "execution_count": 21,
     "metadata": {},
     "output_type": "execute_result"
    },
    {
     "name": "stdout",
     "output_type": "stream",
     "text": [
      "time: 5.47 ms\n"
     ]
    }
   ],
   "source": [
    "wcs"
   ]
  },
  {
   "cell_type": "code",
   "execution_count": 22,
   "metadata": {},
   "outputs": [
    {
     "name": "stdout",
     "output_type": "stream",
     "text": [
      "time: 70.8 ms\n"
     ]
    }
   ],
   "source": [
    "ccd = CCDData.read(solved_files[0], unit='adu')"
   ]
  },
  {
   "cell_type": "code",
   "execution_count": 31,
   "metadata": {},
   "outputs": [
    {
     "name": "stdout",
     "output_type": "stream",
     "text": [
      "time: 974 µs\n"
     ]
    }
   ],
   "source": [
    "center_x = 2604.5\n",
    "center_y = 1738.5"
   ]
  },
  {
   "cell_type": "code",
   "execution_count": 87,
   "metadata": {},
   "outputs": [
    {
     "name": "stdout",
     "output_type": "stream",
     "text": [
      "time: 1.05 ms\n"
     ]
    }
   ],
   "source": [
    "cutout_position = (center_x - 5, center_y + 85)"
   ]
  },
  {
   "cell_type": "code",
   "execution_count": 88,
   "metadata": {},
   "outputs": [
    {
     "name": "stdout",
     "output_type": "stream",
     "text": [
      "time: 26.3 ms\n"
     ]
    }
   ],
   "source": [
    "d0 = Cutout2D(ccd, cutout_position, 200, wcs=ccd.wcs)"
   ]
  },
  {
   "cell_type": "code",
   "execution_count": 83,
   "metadata": {},
   "outputs": [
    {
     "name": "stdout",
     "output_type": "stream",
     "text": [
      "time: 1.04 ms\n"
     ]
    }
   ],
   "source": [
    "from astropy.visualization import (MinMaxInterval, SqrtStretch,\n",
    "                                   ImageNormalize)"
   ]
  },
  {
   "cell_type": "code",
   "execution_count": 89,
   "metadata": {},
   "outputs": [
    {
     "name": "stdout",
     "output_type": "stream",
     "text": [
      "time: 2.36 ms\n"
     ]
    }
   ],
   "source": [
    "c0 = d0.data"
   ]
  },
  {
   "cell_type": "code",
   "execution_count": 90,
   "metadata": {},
   "outputs": [
    {
     "name": "stdout",
     "output_type": "stream",
     "text": [
      "time: 1.78 ms\n"
     ]
    }
   ],
   "source": [
    "norm = ImageNormalize(c0, interval=MinMaxInterval(),\n",
    "                      stretch=SqrtStretch())"
   ]
  },
  {
   "cell_type": "code",
   "execution_count": 93,
   "metadata": {},
   "outputs": [
    {
     "data": {
      "text/plain": [
       "<matplotlib.image.AxesImage at 0x7fc4fc0169b0>"
      ]
     },
     "execution_count": 93,
     "metadata": {},
     "output_type": "execute_result"
    },
    {
     "data": {
      "image/png": "[encoded data removed]",
      "text/plain": [
       "<Figure size 720x720 with 1 Axes>"
      ]
     },
     "metadata": {},
     "output_type": "display_data"
    },
    {
     "name": "stdout",
     "output_type": "stream",
     "text": [
      "time: 463 ms\n"
     ]
    }
   ],
   "source": [
    "plt.figure(figsize=(10, 10))\n",
    "plt.imshow(c0, norm=norm)"
   ]
  },
  {
   "cell_type": "code",
   "execution_count": null,
   "metadata": {},
   "outputs": [],
   "source": []
  },
  {
   "cell_type": "code",
   "execution_count": 132,
   "metadata": {},
   "outputs": [
    {
     "name": "stdout",
     "output_type": "stream",
     "text": [
      "time: 894 µs\n"
     ]
    }
   ],
   "source": [
    "cutout_size = 100"
   ]
  },
  {
   "cell_type": "code",
   "execution_count": 133,
   "metadata": {},
   "outputs": [
    {
     "data": {
      "application/vnd.jupyter.widget-view+json": {
       "model_id": "b100fd761e64486d9fd5338641efac36",
       "version_major": 2,
       "version_minor": 0
      },
      "text/plain": [
       "FloatProgress(value=0.0)"
      ]
     },
     "metadata": {},
     "output_type": "display_data"
    },
    {
     "name": "stdout",
     "output_type": "stream",
     "text": [
      "\n",
      "time: 5.41 s\n"
     ]
    }
   ],
   "source": [
    "target_wcs = None\n",
    "reprojected = []\n",
    "for fits_fn in ProgressBar(solved_files, ipython_widget=True):\n",
    "    ccd0 = CCDData.read(fits_fn, unit='adu')\n",
    "    d0 = Cutout2D(ccd.data, cutout_position, cutout_size, wcs=ccd.wcs)\n",
    "    \n",
    "    if target_wcs is None:\n",
    "        target_wcs = d0.wcs\n",
    "    \n",
    "    ccd1 = CCDData(d0.data, wcs=d0.wcs, unit='adu')\n",
    "    new_image = wcs_project(ccd1, target_wcs)\n",
    "    reprojected.append(new_image)"
   ]
  },
  {
   "cell_type": "code",
   "execution_count": 134,
   "metadata": {},
   "outputs": [
    {
     "name": "stdout",
     "output_type": "stream",
     "text": [
      "time: 18 ms\n"
     ]
    }
   ],
   "source": [
    "combiner = Combiner(reprojected)\n",
    "stacked_image = combiner.average_combine()"
   ]
  },
  {
   "cell_type": "code",
   "execution_count": 135,
   "metadata": {},
   "outputs": [
    {
     "name": "stdout",
     "output_type": "stream",
     "text": [
      "time: 948 µs\n"
     ]
    }
   ],
   "source": [
    "stacked_image.wcs = target_wcs"
   ]
  },
  {
   "cell_type": "code",
   "execution_count": 139,
   "metadata": {},
   "outputs": [
    {
     "name": "stdout",
     "output_type": "stream",
     "text": [
      "time: 19.5 ms\n"
     ]
    }
   ],
   "source": [
    "stacked_image.write('/var/panoptes/dumbbell.fits', overwrite=True)"
   ]
  },
  {
   "cell_type": "code",
   "execution_count": 137,
   "metadata": {},
   "outputs": [
    {
     "name": "stdout",
     "output_type": "stream",
     "text": [
      "time: 970 µs\n"
     ]
    }
   ],
   "source": [
    "from astropy.visualization import simple_norm"
   ]
  },
  {
   "cell_type": "code",
   "execution_count": 140,
   "metadata": {},
   "outputs": [
    {
     "data": {
      "text/plain": [
       "<matplotlib.colorbar.Colorbar at 0x7fc4fb9ff2e8>"
      ]
     },
     "execution_count": 140,
     "metadata": {},
     "output_type": "execute_result"
    },
    {
     "data": {
      "image/png": "[encoded data removed]",
      "text/plain": [
       "<Figure size 1296x540 with 2 Axes>"
      ]
     },
     "metadata": {},
     "output_type": "display_data"
    },
    {
     "name": "stdout",
     "output_type": "stream",
     "text": [
      "time: 560 ms\n"
     ]
    }
   ],
   "source": [
    "fig = plt.figure(figsize=(18,7.5))\n",
    "\n",
    "asinh_norm = simple_norm(stacked_image, stretch='asinh', min_cut=-100, max_cut=3000, asinh_a=0.9)\n",
    "ax1 = plt.subplot(1, 2, 1, projection=target_wcs)\n",
    "im_asinh = ax1.imshow(stacked_image, cmap='viridis', norm=asinh_norm)\n",
    "ax1.coords[0].set_axislabel('Right Ascension')\n",
    "ax1.coords[0].set_major_formatter('hh:mm:ss')\n",
    "ax1.coords[1].set_axislabel('declination')\n",
    "ax1.coords[1].set_major_formatter('dd:mm:ss')\n",
    "ax1.grid()\n",
    "# ax1.set_title(\"Huntsman Telescope - NGC 6744 - $g'$ - arcsinh stretch\")\n",
    "fig.colorbar(im_asinh, ax=ax1)"
   ]
  },
  {
   "cell_type": "code",
   "execution_count": 113,
   "metadata": {},
   "outputs": [
    {
     "data": {
      "text/plain": [
       "<matplotlib.image.AxesImage at 0x7fc4f6cd95f8>"
      ]
     },
     "execution_count": 113,
     "metadata": {},
     "output_type": "execute_result"
    },
    {
     "data": {
      "image/png": "[encoded data removed]",
      "text/plain": [
       "<Figure size 720x720 with 1 Axes>"
      ]
     },
     "metadata": {},
     "output_type": "display_data"
    },
    {
     "name": "stdout",
     "output_type": "stream",
     "text": [
      "time: 481 ms\n"
     ]
    }
   ],
   "source": [
    "plt.figure(figsize=(10, 10))\n",
    "plt.imshow(stacked_image, \n",
    "           norm=ImageNormalize(stacked_image, interval=MinMaxInterval(), stretch=SqrtStretch()))\n",
    "plt.imshow(stacked_image)"
   ]
  },
  {
   "cell_type": "code",
   "execution_count": null,
   "metadata": {},
   "outputs": [],
   "source": []
  },
  {
   "cell_type": "code",
   "execution_count": null,
   "metadata": {},
   "outputs": [],
   "source": []
  },
  {
   "cell_type": "code",
   "execution_count": null,
   "metadata": {},
   "outputs": [],
   "source": []
  },
  {
   "cell_type": "code",
   "execution_count": null,
   "metadata": {},
   "outputs": [],
   "source": []
  },
  {
   "cell_type": "code",
   "execution_count": null,
   "metadata": {},
   "outputs": [],
   "source": []
  },
  {
   "cell_type": "code",
   "execution_count": null,
   "metadata": {},
   "outputs": [],
   "source": [
    "snr_limit = 10"
   ]
  },
  {
   "cell_type": "code",
   "execution_count": null,
   "metadata": {},
   "outputs": [],
   "source": [
    "# Create stamps\n",
    "stamps_fn = pipeline.create_stamp_slices(\n",
    "    sequence,\n",
    "    solved_files,\n",
    "    point_sources[point_sources.snr >= snr_limit],\n",
    "    stamp_size=stamp_size\n",
    ")"
   ]
  },
  {
   "cell_type": "code",
   "execution_count": null,
   "metadata": {},
   "outputs": [],
   "source": [
    "stamps_fn"
   ]
  },
  {
   "cell_type": "code",
   "execution_count": null,
   "metadata": {},
   "outputs": [],
   "source": [
    "# stamps_fn = '/var/panoptes/psc/PAN001_Wasp80_14d3bd_20180609T095151.hdf5'\n",
    "# stamps_fn = '/var/panoptes/psc/PAN001_Hd189733_14d3bd_20180614T093015.hdf5'\n",
    "sequence = 'PAN001_Tres3_14d3bd_20180624T063045.hdf5'\n",
    "stamps_fn = '/var/panoptes/psc/' + sequence"
   ]
  },
  {
   "cell_type": "code",
   "execution_count": 4,
   "metadata": {},
   "outputs": [
    {
     "name": "stdout",
     "output_type": "stream",
     "text": [
      "time: 3.42 ms\n"
     ]
    }
   ],
   "source": [
    "stamps = h5py.File(stamps_fn)"
   ]
  },
  {
   "cell_type": "code",
   "execution_count": 5,
   "metadata": {},
   "outputs": [
    {
     "data": {
      "text/plain": [
       "5775"
      ]
     },
     "execution_count": 5,
     "metadata": {},
     "output_type": "execute_result"
    },
    {
     "name": "stdout",
     "output_type": "stream",
     "text": [
      "time: 14 ms\n"
     ]
    }
   ],
   "source": [
    "len(stamps)"
   ]
  },
  {
   "cell_type": "code",
   "execution_count": 6,
   "metadata": {},
   "outputs": [
    {
     "name": "stdout",
     "output_type": "stream",
     "text": [
      "time: 527 ms\n"
     ]
    }
   ],
   "source": [
    "# picid = '243921117' # Wasp 80\n",
    "# picid = '256364928'\n",
    "# picid = '243952829'\n",
    "# picid = '248311256'\n",
    "picid = '116264089' # Tres-3"
   ]
  },
  {
   "cell_type": "code",
   "execution_count": 40,
   "metadata": {},
   "outputs": [
    {
     "name": "stdout",
     "output_type": "stream",
     "text": [
      "time: 27 ms\n"
     ]
    }
   ],
   "source": [
    "picid = list(stamps.keys())[np.random.randint(0, len(stamps))]"
   ]
  },
  {
   "cell_type": "code",
   "execution_count": 41,
   "metadata": {},
   "outputs": [
    {
     "data": {
      "text/plain": [
       "True"
      ]
     },
     "execution_count": 41,
     "metadata": {},
     "output_type": "execute_result"
    },
    {
     "name": "stdout",
     "output_type": "stream",
     "text": [
      "time: 6.77 ms\n"
     ]
    }
   ],
   "source": [
    "picid in stamps"
   ]
  },
  {
   "cell_type": "code",
   "execution_count": 42,
   "metadata": {},
   "outputs": [
    {
     "name": "stdout",
     "output_type": "stream",
     "text": [
      "time: 12.9 s\n"
     ]
    }
   ],
   "source": [
    "vary_series = pipeline.find_similar_stars(\n",
    "    picid, \n",
    "    stamps,\n",
    "    out_fn='/var/panoptes/psc/similar_{}_{}.csv'.format(sequence.replace('/','_'), picid)\n",
    ")"
   ]
  },
  {
   "cell_type": "code",
   "execution_count": 43,
   "metadata": {},
   "outputs": [
    {
     "data": {
      "text/html": [
       "<div>\n",
       "<style scoped>\n",
       "    .dataframe tbody tr th:only-of-type {\n",
       "        vertical-align: middle;\n",
       "    }\n",
       "\n",
       "    .dataframe tbody tr th {\n",
       "        vertical-align: top;\n",
       "    }\n",
       "\n",
       "    .dataframe thead th {\n",
       "        text-align: right;\n",
       "    }\n",
       "</style>\n",
       "<table border=\"1\" class=\"dataframe\">\n",
       "  <thead>\n",
       "    <tr style=\"text-align: right;\">\n",
       "      <th></th>\n",
       "      <th>v</th>\n",
       "    </tr>\n",
       "  </thead>\n",
       "  <tbody>\n",
       "    <tr>\n",
       "      <th>289163854</th>\n",
       "      <td>0.000000</td>\n",
       "    </tr>\n",
       "    <tr>\n",
       "      <th>288643170</th>\n",
       "      <td>0.112559</td>\n",
       "    </tr>\n",
       "    <tr>\n",
       "      <th>289164764</th>\n",
       "      <td>0.112905</td>\n",
       "    </tr>\n",
       "    <tr>\n",
       "      <th>383720378</th>\n",
       "      <td>0.133991</td>\n",
       "    </tr>\n",
       "    <tr>\n",
       "      <th>157542346</th>\n",
       "      <td>0.135256</td>\n",
       "    </tr>\n",
       "  </tbody>\n",
       "</table>\n",
       "</div>"
      ],
      "text/plain": [
       "                  v\n",
       "289163854  0.000000\n",
       "288643170  0.112559\n",
       "289164764  0.112905\n",
       "383720378  0.133991\n",
       "157542346  0.135256"
      ]
     },
     "execution_count": 43,
     "metadata": {},
     "output_type": "execute_result"
    },
    {
     "name": "stdout",
     "output_type": "stream",
     "text": [
      "time: 9.85 ms\n"
     ]
    }
   ],
   "source": [
    "vary_series.head()"
   ]
  },
  {
   "cell_type": "code",
   "execution_count": 44,
   "metadata": {},
   "outputs": [
    {
     "name": "stdout",
     "output_type": "stream",
     "text": [
      "time: 1.81 ms\n"
     ]
    }
   ],
   "source": [
    "num_refs = 100\n",
    "camera_bias = 2048\n",
    "stamp_size = (14, 14)"
   ]
  },
  {
   "cell_type": "code",
   "execution_count": 45,
   "metadata": {},
   "outputs": [
    {
     "name": "stdout",
     "output_type": "stream",
     "text": [
      "Stamp collection shape: (100, 60, 196)\n",
      "time: 83.3 ms\n"
     ]
    }
   ],
   "source": [
    "stamp_collection = np.array([pipeline.get_psc(str(idx), stamps) - camera_bias \n",
    "                           for idx in vary_series.index[:num_refs]])\n",
    "print(\"Stamp collection shape: {}\".format(stamp_collection.shape))"
   ]
  },
  {
   "cell_type": "code",
   "execution_count": 46,
   "metadata": {},
   "outputs": [
    {
     "name": "stdout",
     "output_type": "stream",
     "text": [
      "time: 54.4 ms\n"
     ]
    }
   ],
   "source": [
    "normalized_collection = np.array([pipeline.normalize(s) for s in stamp_collection])"
   ]
  },
  {
   "cell_type": "code",
   "execution_count": 47,
   "metadata": {},
   "outputs": [
    {
     "name": "stdout",
     "output_type": "stream",
     "text": [
      "time: 166 ms\n"
     ]
    }
   ],
   "source": [
    "coeffs = pipeline.get_ideal_full_coeffs(normalized_collection)"
   ]
  },
  {
   "cell_type": "code",
   "execution_count": 48,
   "metadata": {},
   "outputs": [
    {
     "name": "stdout",
     "output_type": "stream",
     "text": [
      "time: 5.43 ms\n"
     ]
    }
   ],
   "source": [
    "num_frames = np.array(stamps[picid]['data']).shape[0]"
   ]
  },
  {
   "cell_type": "code",
   "execution_count": 49,
   "metadata": {},
   "outputs": [
    {
     "name": "stdout",
     "output_type": "stream",
     "text": [
      "time: 11.1 ms\n"
     ]
    }
   ],
   "source": [
    "ideal = pipeline.get_ideal_full_psc(\n",
    "    stamp_collection, \n",
    "    coeffs[0]\n",
    ").reshape(num_frames, -1)"
   ]
  },
  {
   "cell_type": "code",
   "execution_count": 50,
   "metadata": {},
   "outputs": [
    {
     "name": "stdout",
     "output_type": "stream",
     "text": [
      "time: 2.48 ms\n"
     ]
    }
   ],
   "source": [
    "target = stamp_collection[0].reshape(num_frames, -1)"
   ]
  },
  {
   "cell_type": "code",
   "execution_count": 51,
   "metadata": {},
   "outputs": [
    {
     "data": {
      "text/plain": [
       "(60, 196)"
      ]
     },
     "execution_count": 51,
     "metadata": {},
     "output_type": "execute_result"
    },
    {
     "name": "stdout",
     "output_type": "stream",
     "text": [
      "time: 8.08 ms\n"
     ]
    }
   ],
   "source": [
    "target.shape"
   ]
  },
  {
   "cell_type": "code",
   "execution_count": 52,
   "metadata": {},
   "outputs": [
    {
     "name": "stdout",
     "output_type": "stream",
     "text": [
      "time: 3.59 ms\n"
     ]
    }
   ],
   "source": [
    "lc = (target.sum(1) / ideal.sum(1))"
   ]
  },
  {
   "cell_type": "code",
   "execution_count": 53,
   "metadata": {},
   "outputs": [
    {
     "data": {
      "text/html": [
       "<video width=\"432\" height=\"288\" controls autoplay loop>\n",
       "  <source type=\"video/mp4\" src=\"data:video/mp4;base64,AAAAHGZ0eXBNNFYgAAACAGlzb21pc28yYXZjMQAAAAhmcmVlAAFBp21kYXQAAAKtBgX//6ncRem9\n",
       "5tlIt5Ys2CDZI+7veDI2NCAtIGNvcmUgMTQ4IHIyNzQ4IDk3ZWFlZjIgLSBILjI2NC9NUEVHLTQg\n",
       "QVZDIGNvZGVjIC0gQ29weWxlZnQgMjAwMy0yMDE2IC0gaHR0cDovL3d3dy52aWRlb2xhbi5vcmcv\n",
       "eDI2NC5odG1sIC0gb3B0aW9uczogY2FiYWM9MSByZWY9MyBkZWJsb2NrPTE6MDowIGFuYWx5c2U9\n",
       "MHgzOjB4MTEzIG1lPWhleCBzdWJtZT03IHBzeT0xIHBzeV9yZD0xLjAwOjAuMDAgbWl4ZWRfcmVm\n",
       "PTEgbWVfcmFuZ2U9MTYgY2hyb21hX21lPTEgdHJlbGxpcz0xIDh4OGRjdD0xIGNxbT0wIGRlYWR6\n",
       "b25lPTIxLDExIGZhc3RfcHNraXA9MSBjaHJvbWFfcXBfb2Zmc2V0PS0yIHRocmVhZHM9NiBsb29r\n",
       "YWhlYWRfdGhyZWFkcz0xIHNsaWNlZF90aHJlYWRzPTAgbnI9MCBkZWNpbWF0ZT0xIGludGVybGFj\n",
       "ZWQ9MCBibHVyYXlfY29tcGF0PTAgY29uc3RyYWluZWRfaW50cmE9MCBiZnJhbWVzPTMgYl9weXJh\n",
       "bWlkPTIgYl9hZGFwdD0xIGJfYmlhcz0wIGRpcmVjdD0xIHdlaWdodGI9MSBvcGVuX2dvcD0wIHdl\n",
       "aWdodHA9MiBrZXlpbnQ9MjUwIGtleWludF9taW49MiBzY2VuZWN1dD00MCBpbnRyYV9yZWZyZXNo\n",
       "PTAgcmNfbG9va2FoZWFkPTQwIHJjPWNyZiBtYnRyZWU9MSBjcmY9MjMuMCBxY29tcD0wLjYwIHFw\n",
       "bWluPTAgcXBtYXg9NjkgcXBzdGVwPTQgaXBfcmF0aW89MS40MCBhcT0xOjEuMDAAgAAAL2ZliIQA\n",
       "F//+99S3zLLtU2+2C6j3op4mX0N1JQGblsTtOoAAAAMABnddzdfZ7UFwH2gAB4zEXLP/onQABnEE\n",
       "iD67fm+xF6Vf0Wb1aCxHhvgA+I6sRcH/sbpcBVXcJErSfMnbrXTWH7VDF540aDHs0eE7vNOiobDA\n",
       "ontoE/jyV0MR0IdkZu7omDogTopi0JtmtrdAB1kIAUrdm+4CGlg6/BHTNEi/eQtQ/D5eHB+pnD/v\n",
       "gHX2EDC3+gwQr3OBaoWkd3N6YDEm3GxnC+5TqpysLEDlbzWIv+S50QbiA7SGcoMjNTua5H/iOvhr\n",
       "gRM5vH47wKOBpFHnLmRb6Z/pCA7jWtFuqINosevugIX/9QOBlKIrwp9rlr6puEMjTByJozTX28x7\n",
       "TUFHtngC5mX07IRgg6dDcaIuuSZ4h/q9pGGBQK2cUAVaU9Fn82FjJnKxB1f5Oi1AwGlRl284gCqS\n",
       "byg1dXg59QCfb8DiE0R8ixrrxqoZXz0neLiOnnfUruWOrc+35x116hRx3O1Nc82JktJ3HLfTTOWE\n",
       "lEYJS9F6YyNsi9n52t1E4Why4DIdtCYtYHaph0uQ0zFKijshdR5M1MXCLd9y95x4cuZ7mfftNipB\n",
       "NQiMPFMaL2/PO7sD7CEWClKhnj/+M7Hz22cmc7XzP0Ad0rHhoqpIBiT8VJQBLPSUKGs9ee4avczE\n",
       "GFsC+Me35USmSGrl+I8j/4U3TtZdQx9i8qZZf6Ohb0/4rPWN6MXMevyq/zrOf/UuE9zkbm/WK8v6\n",
       "wzl8s5NDlux4zMNVqTtgQ25sOm1H45W1Nzh0JGRmgIRTJ48Qo9kO9QkGDnrpUGDruypcZYJ1QLUJ\n",
       "Fguo3Hapaz5eo4ghxod2vSUxTxm2b4G19rdsTgX6A7VEMQeSGalBN/igo4+ce7rkL4zVPTmvZAP3\n",
       "c2iPCfhYo1Dl/mLYqGuH81aVOTY4opV9B/3MmOcpUoFPuaiNgdjbqipT+7+FwlVWDeQIei8V94iO\n",
       "JAwG3PGa3rZ84+d9RnxDdkMk45fpyXtI4TgcEPQFbBDeu7vLYGzi/BIuAzBG7ZGGt777Ly/U9vZJ\n",
       "kimga372cJG7hP7aIny82qz9c9lE4uW8wTszhEPJ6oubJu1JvnR72Jkntk3mqu8CH+0My254p9tA\n",
       "ymgtDcbC9oD4t7O/+nwJTZ4OstUvLy/qRiX9w5VWpnJqVraJciMQM5JWQAzIoDd6mml+45Y8X/Jd\n",
       "Q7mcaCW0fHnz+7//+EEDWuONjxGSbqPna/CPtvW3dIwP9JkpxdlJ/j7uRWlG1EyTRNdGtT6yLxAC\n",
       "XbhK9U9/nHqqANMsDGR8fyIh+6dPoXkQ2XVr4yX6Ib+tOrr0evgcXjpw5/fWly6sDpgQmjJdPbE7\n",
       "6ZqLSawoa164q4ahBypSWu2qTkU+hAMnLq6vGI7DacgpzDVLrsqmTbaO1FeRAWpDzI3fhbEl99kS\n",
       "N1GWrSTzHZYByxz9tCzAojZbBsQnhVf//uE+IzfCAP7aSH0a0XA7IZUhu9BaqArSfH5XxwYU65nv\n",
       "8EMK7uuMQ07OCXVFF1g5i9OU0pOwz9puCOm0uHVsbjI/KlEguMWt2q4Vr6RZGPflMZhEGmk7v5rK\n",
       "FzTqEOLHhgU0BH+NFEOLoc7p0ZS2qqFZhnuPtZFw/rqRz1TsGvf2jYsu79N4bIs6fZHuR623Bc9h\n",
       "qaHt9EbrOMq37QFvV9LdbrORq8c2/XguywCau4yWMQbHoZzK2Dsi0g+L1Nm0bSc/B5chV2AQMxmj\n",
       "x8S6MgMObn5p/ftf11H/07ZUdHJdm48l8uW2IDbY4XKrtuWa92Zh9XADl/rMIoFNNlr8yEOjqYW2\n",
       "1b4iI50kj/9y0ViM/uKnB3KugHZf8Df+89YYrH59UWMUM0SBGt4QOK3jNdT8lilXns79PWt5ULyX\n",
       "MgjASAxHyUtVJfclsy6dzOCts/eXOGHOp3ht8J7IsS+R9z6Iq3JESkMt7XkrWppI5juCvCL90Rd0\n",
       "ExKTAhGOT8SDm1ibJtfKH660y8bEpCs91EzMyZ+fXMjQi951DUFC1aj+GnXJYFArv0mxTnNTv8hT\n",
       "QSsMVSpYhK7zlXga1HoPlklmv/8hups/9h2y2vHUOdedBbHrY6IlTEEQUTJz/0jhfunYvZrSb8R+\n",
       "YAzP0uFrBu6iReQZgDj8PqWn1S2g4BF3JGHCt92FvA4H/Mf/0rWTvkX/kvWKoVeqS4nJNNdVXbEt\n",
       "oHbxQrAvpUDaOblMJo74Ny2cbZ/FAwXP2Q/NBwylJr7ooi3u0vBiW1LZU9hPtmNPK6xBJw6+vqFz\n",
       "Mi1HbGe6maxoueg2aivF3nHpxZBUwyQNil+evm3tAw9HlTdpCiyQ6fQ9LUdvUsN2L6htJirTrssS\n",
       "VlNnFEOF7gO4AKb5AV9JV757YWC6anwQ7eQets/h4LxPBq0CjU+TEHjdWl+EadDjil8qZgOCx72U\n",
       "+N7/ASZRueQwWyVXvGsm1BJjSmNbjJIGXpqOOx8KkRePmqBk7qgH0ECYTyv8nCoPv6QzVhUwoftH\n",
       "4VRXT6xqMtks2x/eYKrlOJfBt8c0YQtkyZgXZpeKLXZJgi5k0cI5wHRynz7nkH8abnCzDCV8zASt\n",
       "tfnN2XQRymSlas0qBRtjOCop+a0Ti8242JItvLybTBESkKpaSI5n8WQ9PI9Tp4PU1tZGPhj4mt9S\n",
       "ksxA3Fnzmhi++wBtnqc/GcNjPVFYYYUq1CM5Nxp0GAhgH7+/Yzu+gB8ApRR5xcWtqxn6jmKPDWne\n",
       "/lnh5xUr2n20wbZgMHE6mpQk166gokba85MFIaNuOFyOnaRYCroGxox2wOqmVmrqGKEYbBkyLwPB\n",
       "F4FHHJiihnsT9B7PSCkvtdjgs6Y7+IWAesCqEdWSODxTcZQ68pfmkWW/DoRjRw5uMDL7QsEtWwsv\n",
       "EFxiEcql4i+unuOD8TZ5F2JWtVEitTFakkT3GMeMiy01hpAOYeKMsvQVKOTlU/ky6E3GFCirOZRn\n",
       "pAFT9n/lHX0i1KJwPydVVcg3aIdhknDK2A8ZTnNRD2PBy0bewbuz2N75TdpslOMndrDOj5XVpc50\n",
       "VIueNYjZauAk3g0jTUgnylTiNDMj7Lv/EQfUqgqC9VdbBnoL+dJqRQWQejUHLwrwUK48y2OY9X8/\n",
       "hGibOu0Srzx1EKFx5JToMCdTTczEehTfnOb2jCb25VP7Gnyj9ICOutCdHziJBiUTv2kjhiIQBmpK\n",
       "Xqdp0FlumF4p9VrHy6nnGsL2ee1DOUyXU4jvx3WPOU4O+vuKNX03TW3XkhwYAtrpybc+z7QsnaX9\n",
       "2k7n63Qlcs46UTRdEOS+wgIzWq+WSPdaIB/NqOn5N/LYlZq09zzEwxGLzo1Oyav46S4kZppHJToN\n",
       "8KnzExN8uQ++8hB9SJ4/G8ASoFG+d/3xlc7++N0sfth0uNAgWTuwEqd6Q/RewByKdXLtO63aaxAR\n",
       "v64rnmQ56+//8yQUHgM9JmIW48X/5B+ivcD1641xalWNWiRZkGTKLWed/PMJMV+Oi6c5wtCG0Osz\n",
       "ijQVDhpcncQT/bve00Cb+yWUmVkGqw0zKTlyLPm3UbJIGn7da3fkJZAi4ZFTsH9Si+xyN7PI+sgc\n",
       "ByMHmlUGbuV5x5+aVGNHvQsKGcVbtI11r3y8jo4fKaW9og5zTAAmNrM5vEYSTYqPEkybci08BhaJ\n",
       "lBVY18qdKz7tKhPJU/FZ7cud+j0ev66+rWv+dvixrXev87MSx6Ea5rv5c1Y/zRiqObad6Fqi6NIp\n",
       "KfFTOCEibFU/PKaZgFt317PGtbePg2u7vdPQhh0tpXOHohwPTxWCIuv6fxY9Ekszhao8pWVJ9KBe\n",
       "zwicCSXNvMI0MZVe2ggFyzp95Q/Gd5k+DAL1+4UouGBeIkBkLP2obl7uHb+YskxupQBbAexJDe4U\n",
       "wogH7n0Ea6cXlMKDMY8rmKYPqbszZMV575L+aE1yWnLmJ3mxmJTRQqJ8SKSxzd4XN/1cgNalr6ag\n",
       "Nov26+QCf6unX5FzIkZe0rJt3izaBnSPvE5qz4PoBFuHIuU1J3PFLXguzvky+FJefmvtTEA/f96r\n",
       "6Q88bW5dhWBReSCu6tnAc6ZdRoDDu8Zl+WDy2bqC5IHCCIY+7u/8oAHTzWJfR13yipgpNGv8zbwe\n",
       "OSinCayBGPZHn3MSsXou5FTJp/qNzQqceKNH6BvznhcgQDedUmm/RCXBR8uX5aRb5m8njZ1cfOOt\n",
       "R6YDl6Li2bQkPA5cCUSzyeHyLpjz1cjf2DKeCsqFWmVoT3tzXcUnGDCi6oyN400KP3FKSFnrkt9B\n",
       "pBAD8Wll5/9h35y9zZIxb7NURWS99vsihHxsAa3hrbha/n6UtdigrOsSPS6qe/9kZxcCUrsOkOqx\n",
       "7fuJZBhQv4EgZZJYADsTUtL9KcU20/Iuz78kv8wCiQq8SZ5HdPQu7DcsAjBDSSYgGzvhOV+OsI40\n",
       "OQtbPCOctIeeZG/rMeEP7TuqYIm4jGdLs3MHBWZlmylth+/YEbzEKoxydTy7Hxj1b55cWP/viAjW\n",
       "V4ttLJbSwqzMttzNqMPDMtCeMn1Jj0E5UlkWb6z+c9kkML3r75EXvS7plGXthz966bTthvKxtjek\n",
       "DqFMbo0BJwjjb8ZgaP1TGWtl8IWPEEpsTxdUq2mb0qN+JUeOlciM7YBhc0b5AqeQdf9ZRkHIx+6k\n",
       "rsDCTjcB2ogV7ui4VMYkxVi9LQ6lbBf/jO0k4KZ+7lhW8E4FzxHcqF5f6ISpW8WRK35Cl6tuf1wa\n",
       "/IfEsCACg8mm3Yxd3fxCOciJLNNcJVRHwPEJJCq9NKJkY7s9Z6f7rWqNNC3Za3ZKWns9kEOxOe+Y\n",
       "CoduG6UE6kpo9Lt+6Vs/SZDB3ibfkoi2BTUAdDm0x/zhjo79ft+6odDiVFL3Am93NKXqC5eluE5/\n",
       "BI9Qnd4ytG4fY9sreuyWv+L7O451QYG8tjl2jhxUkALhbMPd/IDTEoKE7HNzbag6dCpNrGsAhfDq\n",
       "BHbO+T4SLXKyCB9AJQ2ncDP/xDHxwWLDLjz4O/VD1WZGld92STFwLxy02bWFCQqU9j7WtwdhGp72\n",
       "f0BBPKGu+fuuQAenOwmtvIgI4r5XEX6Q+3islJ/8ymrleVTpCu5qQIxpzIU1XBs/QXIs+3LZH1jq\n",
       "YqBcebc2Q9wzmXc94G5N2OvoMZAdg7Fyp6P34W8xWv13wn/w4mfsVaBawsi3ZlNfl0G+D+wdDDhY\n",
       "UQGTWHPFoAK/FkrGFUByuKjulZH2z1IVcNh+0NvL4Ay4yzpHZdJaIUTnblMczj2HL7GgbBHpaTuV\n",
       "x14RmgvVxFDFM3gYFVdLKy28HR22EwcUahnMAJOn5Iv1wEZsM4t60STGEf0mEikHuT0VYl37ZU01\n",
       "UUAB+AExHaFrN8/4quVH+xWiHjCYFjGs/GdB8MIR/K4p5DWumD+0pD0lkiZHKjoMwl+6RkaPYXpW\n",
       "gd51FjPXOI70UC1O1Kh6m+ZaKZV2QP06mUH0vdxgexEpU1G4vR75QTzGuYzLFMt07HIAf/824Mlu\n",
       "hi0ibHkCvZ6Vs78t2X8zozSToEDUpVCaylNLhfe0QGK086JBKdfgJgMLlkYCCmuOWTJ61KErYRNr\n",
       "kWXBJzSTYWLLRic7qH+J1yeTosC+bUnLV8upzVeVghJZCmhC5/3DaN8gd1K8Oq6iypBZ/hV8js0B\n",
       "NgvegCZT6RFuEa4wXtMngxGf/urQljMn559yXlgGPppPLk4QzO8kpdmm9ZD629SvsYsFc5ptBjD0\n",
       "c6YMQTLZ0tzp9ranQjEaqdgIDLFTdcO2K4G2O2KhD6+EGPxhiaYgDprERVPWpbqMOeGe33oiBL1G\n",
       "8PNNsUtrdsrJXQIOXhcLbepUmpH3WnPxG/mGGWLJ3UNufifmuAoRyijfezVF3rDi5jJ7WfpI3yBb\n",
       "kdQ9oS+qmtW0gpvXYhoSnmo0ko8fkgWmp2r6/29ooFMM6WYzuYvEt7DB/fM+Vqe3Xjdb0ZuJJq/w\n",
       "6FvbJB892ab+G5fnxk2rwaIgcwOJfcgAnUx9r2bL0mP+xtRx+TrpwT3DjbaV+6EIOg1xfAjx1yY1\n",
       "wXrjz+frB8IakapF2CgAjmTR7VI9uK1r/15f9zF1OIVRDWhImMGscDvxdkbdxxmtgQVEbImoglQm\n",
       "44tHtE75SekjDeJ73YYIbpe3xq+iYHCyxuMV/pvC2Fr7hTMtXBvRfHF9bW46kfykSapT+8krT35D\n",
       "2Ab6OgOeMZPdVW8F0JRtYtzG98ZzlBQRrin72v/q+CIUz2zeCEssYG/8J0r8fK01eSaw/U/lcdd/\n",
       "/cheAeLVkb+GmL8/7vnOk6UuX2gTZWiCC1megctifavgzZqFwagVFlalyD30kCFISnM/dheJYnuj\n",
       "LHa+JhdaQzAAY1M28SW90ZQg7c41cbWgW97cIzyVD2lrtf0ZTx00mPxua1A06U4xXV+gGFaTMSsd\n",
       "w5sMgU26N2aowrQGHOgkWdsTEFDg2zlTu9i6S/0TXxV+wSMWHkDMkkm9EpW9fITakVMzf0Vn7ywC\n",
       "M79bfc0K6+XnhMpnsjuU3y4weeQk7aa+LavvaOH0kGNiuJoGMG2tfO7CbPGhz72IZUfb9oPBS/rG\n",
       "INdqOHQB1oQfQtc5xgnhhl8+/1+8LGuoYS52YDPx3N4Tjn6uxVe8H6/hCougz4MvHq/gkRwclZNY\n",
       "fcYVYNB4BLyMMOFFGkyOziCuvQIzrFUztikULHq8nF6tLvafaYnbDNAjzXaiKmJd2Ta9ck41TrkV\n",
       "8rJtctzaOsu1I+jUyFlewMddNTe/Pfkc+b50wsQRGPd2a3MpZ9wv/0KnpvPIq1LYwQu7lSGcNsug\n",
       "0GlIKXqeMRj/6/YNrVOB2PkutQeGlrtG/VpxYqXNT1lLm2Vv3WkBXlYoUqy8bLHjR0Z3U5JWQTEK\n",
       "gcGTHeXVCSl6cBIyR8m2mcDZ7HGftsdOF51rManCfVXrUkm8JoACPTG6gGOcIDiA6WP2GUa6RiqR\n",
       "3zBXRcjIzHSGqgVMQymstHGDmp00J2h41GhTe+RTDp9tWW6+3QIb9w+aJpOoWO9MidvT3VmwVBCI\n",
       "JBzQ3Q/aBzBYSag3yo0Odw4clMCGUzs6nUCN7hZP23fzI/VAYETiN/I6y5zWAIFH0xkJxbgUDL7C\n",
       "Inv6dRhYwBJ7+oGOUx04LxQPd1DOO5UqWhPAZvknEeOVmG+HaztDERuvEVG3LvXztNbsQ13o6aSs\n",
       "wC096+axG45OiO2d/tniIfLFUvjqrgGiWIt08btSBe9ubMDo9/g8J/rrlWkTam9gCZQjFXV5J5Eg\n",
       "A88y82m7ilNWzXdl25U0XsYoUNzCWCLe5rrPcOh35Rb9Yst9p6mFKCRklwjoXsLocxxDu0ktqY7Q\n",
       "aDyIpzfZcShNltV6rPi0hXwEQ/JeYi2p/GHCXP1xvvETQrkh0V8/S8T7TV5mdi3Gpj/RDqPKwDs3\n",
       "CurLmwIRkL/WEwzCydDgz9dE+V77XEmwr8UFyPet/44RpFRg1bgjMN7tCTWwFw2SPrseUePFHKkw\n",
       "wL5C/OhCBlFYskxgZXf7ocIOJJ2gfSx/vAjhhNEhzrvp1TVHg9RV8oZOVDXkfi1Nl1koaMSu/HRY\n",
       "TW/x71LUa7cHsSM3XF2e/yMlOwVhmqACyfLGuP62A0XwaBCW0OxDfF8wvPy0xYvWIgXPX/1REc8Y\n",
       "7IuRE2wHxrR/6iemEA6GQjXyIUfy7AI94XlQQESngBsmUCA3RmGSbpQ6DPo0iWdGGddr/d3PeTvs\n",
       "wh6Qwc5ech5HgAopWoDbgDaaW+SeVUXlQ/JjwjHxs1XJxp9QahdpAcQ0clYE5EngKitcZas4SY7w\n",
       "Y0TNfD5so9u9E5V6oURNwCLTIdSJXWgOXFFu6MQpL3NVkvMdyijO7ZRlMjQ2CvXNeFvOweXK3zaa\n",
       "dkltEMtzD02QHW7sCqPULs+L/kttSPVcJLdrr43V/escKIPp2R191JVPhbF+eiJBv/dBt7VoMmD1\n",
       "QVu2EuU+mbr6nJrTPGGqBl+zmLuGmSJ1S6Iwi1KV/4Dh0ROaSN1rZOD2KFhZnyFSP/mwtkrlODhZ\n",
       "ePguXeGoFnFfdZZDPlJdwj5TDz2WmlZEXwkuNb5lVQksIUES+lT6DJWJDNXz2DfdwA4QYih6PjsV\n",
       "orqhldcMMZZcaW+t5jnbd3cEOnGMLFD5+Ks4hpFIKfdvkbDjZgNqiChgpt3dHIlK/1Jpq2Az7JMa\n",
       "o8XcAks7bJd8WC6RjvXrGqUr6GM7U8Fht/OmhB8tPh9g+A6W1ljm2Qw6VL4Rx10Ac/73yPHacW1r\n",
       "lDl6p1doEoMga8mMb7HfSi+/4kfeZWnHBvYs9rA3nlOc/O8YwNabIPG+VnBOo4rXX535vGH5TM/h\n",
       "PQRdyVVQ45GN5ZzxhhSBeITVfvVwHJcEQusv9VB4IImYeeGf13+3eo6UzCyB9SCtFkanq0NQWWCk\n",
       "/A3rkvKjCy4ISuehgUPl4cQp5qCDraZeA9X/r1f54/pnTYJ64h3IcPPqSkg29Ea8H6rF7/xfvA5C\n",
       "qPNIEcF2LcIRQTitx6ay/dJTDzFsZgoi73tySyRfbhO2V9l+tZwmjh8yxTklJguxCzP11cXVICv2\n",
       "TMyesQfE3T9GTtUnK+qBYCtG/rW6/c8UVMi3DfjJKS6pUsUcBpRIWBmaLkEJoFywk8jLUykbSOZt\n",
       "ILCWyrP0wOEsku1ER/LMUaMrxsTyKxlNriBtPze3LuvRtuCvwh0C28AIlalwbvVIiluuu40nhfMd\n",
       "M/tXi8a6Y3MkuBiOL5EhfHvt9fhGXGQhtG9UUzaV/Fj0WuCR0oBsb9dcPDS5l9SdfBIdEqGCx86Z\n",
       "x3imXwDcDHsFSJGGpE8BTOwqKUwVK3cVR/7pvLZWHJOxn+jk1kRhPz5wA6HjFcludCrp0eYfPOtv\n",
       "Jn8J9RsKHYrW4ZrEh+NXvpUOWZAMCD9X/mfjpWq6OJYdtdRtvFnd0v9dndNxXmvNvFX4D97d+i/2\n",
       "UIDwzVZKnoXn+fTO+BOYmM550/SK8Aj8XWIL0KjbeRyDiJIzkFPm3peWwMMRN0L1Jf3uW/GnsouT\n",
       "SCfh2GS+py2FbnZc6lfzBfminSN37SGmcQu8t7btOxaCft7iiTVldDHRwrIQu1J5n7Bp3WRAIq7G\n",
       "m/Rd3cD+4SKYi+S9GSL3Sw/0icAZWhd/YhyVvvFM0ZKH0CAV7KrQL/3aXz4PmAKhvACHoMsPsD8J\n",
       "lV/1LBpvE5m/DS04/mzVR+OB960cvOgu1+8QKvXL/r4YS9MfH3ntOjr+4Lhs8KG8XFSJSooWA/v/\n",
       "mAt1cSrQjBblNgIGjMUeRnXu1rGiCkPlnFlTZiwztJRNnST4soaoGhWetnh3Ut65We9cjtJUaRS3\n",
       "QdPJkv8X0pzUzBbrvncOcIy1kX/hTZzyFiQQ048HQ8mEUm+yZ85+CM3VZoV5MBMT5daRTeVEPdMf\n",
       "Vqyf2K647cGDpFQYXvs1b/jP3lSSET+uaYaKKTqsiS+7t5ud2/xrlbB6AJPPUZr8l0zSOsFNtucx\n",
       "YIv5FQsIzS+0inCsyb9gh9RqXX1qXFKSdXqAzShO5vGd05ZXT6MoQtQ59fsJRUgaRJUiuIYdXXn/\n",
       "iTa7vDyUwGo9dvITlyF3cp0JQMDgRaLbaCl1qqiU7+4IysT/Kcu4oyfnTtvjgG6q31jV9/9cLujU\n",
       "/ronzZiSNydOimOWeWUPrl02Hbt0dVKsjYY37cL61nK0gMZg+NF67mcjcwR1XGaV7fDr4Ac+Qko5\n",
       "vs1dFCtPMzBZkXDU95NmXlfHVCoWGfSmbnjRS/43YVhQWNNSselKmMFrqCE7oMs/7T+jb0LVWi8x\n",
       "jgeiThzaafpJK6OKii2pQ8vxVviXk/e/7pMwzIHyiUz6Fffjzz4VsM0bgE1arZ6+2ncY9YrKgUsb\n",
       "lENglG2vsl7HOihC3l8yJftY8MtsWPz5A4qxWI3VAUGStQ4wCgONzE+6QhnwbZM+cQYD7ijvagtE\n",
       "U/AC7c+I+m0WvfXP9dv7BQQVK1e+iIS1GJGAzEaOsg5pZpmYPD/syeZZcdw/u4esBx/u3nsn6YIG\n",
       "IqG6BQcPwT/S43GkVjRlGHWueiT7e/o8xDncoDOMWL951LgyJ8ZElroA+5408JiUm+aMgHPOH6DB\n",
       "SDcziJ840l5CwqxPgv1LRnuc6328Sdaaws7d4oVR3IZZxM6wFTzgOvUwQweDM+Hbug8A5uhnndpz\n",
       "uWoT4hOLekg6xElAyLT3yD2NiCwtjH4TYfGFLh6ZXWeO9O7P526yLwIDfCs7D5dTqO7MNtraRW3E\n",
       "HSEBAimQdoisopizuGCnzJi26doKZgsMCn+cJ4S7j7ZSXFv2hveaOf0rf4qAex9XqZWLrGQTBo6x\n",
       "x1KPMW6ZO0kuu4q+nbQWEleOy6yD6ouhyHYmIVU5iW8ElznC9pvXR9EwCTiUSKq8nMJnRPy3Adxv\n",
       "vPwI7p1X3Z+71QBfSTKK16+AmBymUp2tre7qscFE06BAaaUr6xxGFYvdqqyh3NA/esM2IiN7Jy+s\n",
       "ykgHtL03P9Oj+X3Q8gw6P26kfVQ/tQFXfCS7tMrPkkpusnozzFVf4vlp9ClioAGpeJZmZgW4IM6Q\n",
       "gkm09BWdFsruCh/rYWy5nBEbmeCBwzBjJ1qKGjgkX/lTuY2lc99ajCHo0Ehfl7vGjK4bvmE8xJaz\n",
       "DBlZzm6dB7t7x5DKlNOcF7KoTnjJTZDnve9mGsx5Tt8PBXbhIF0bltyBqKmSP1R1m2VkLnyyhOlX\n",
       "fBbdYYxMKm4GHVMegz87/fX5Klt4YL7jWAwX0PLWr9Jpm2D/LeNPhTZEsSf0Ff2IH+a1ePH7PWzj\n",
       "Z8uL94WnyuYkXPXJBzo4F3YWHFAkr/SWuRrEA8osS9b+s1ga3V6xLtFCj5IJME4XwhIY/5MID2Im\n",
       "cGdFcsM3Bh/EvCQK6OGRIjBbl4OM8ovUNr1isCxv4pvv7+Nslj5vUA6Uheyn99WutXUonfEXu/Nk\n",
       "yDYhBG4U4t0eW8N7Iy79BoPUSZX99COAVNgovXtXCxwFPNrfX9A2zwK4VMy4pgUYj8dCJouTgl7d\n",
       "f/kLiNpdYp1NCTxP8mXlALky2i+1nrDpR+gig00+rHvDfld5xr9sb/oV4tBIsBt3F7R5bIhiMybN\n",
       "8djUKSp3+ElJhzoN+u6zT4yL4/M4G8Fru4nlWUN4BEAwHqqhchCzeqXuvFRacEOzSMY/KBzG6uK8\n",
       "B06tEu2mmvaI+5GYkvAZ8eAzGZsmPDiM5y3/h2W7wMLDfbfHWa1Qo8jSlE2ALBwIMj+6zZHsxjvp\n",
       "1CPKfgFp2mydIhE/cT4exOtQPx5/gsHju+MtORp5k4B0m9qhUJRFqqKinNzZSSbC6lPPE6PNnJRL\n",
       "vk88oYVLMCEdhvJAbN9Km2ilvbiFlFuTbmcWtQPf6owfTbQt4O+SkXmc52iIoIIqUHCgfV/3FXIW\n",
       "L54qsDzkTXSvgjXxF1PyUlTAX0oYiJ/IYoPPJKWc1LyF/8ACUdpas7t6OjA3FhA6vKvLtK6x/xKs\n",
       "g39q3Dn3wvUO/eu1Ck6twGZM+YY7GevvY72XTeuwbJ/DzpMRn3WK/5Sd44KNbJmdlpKPP3CGnv2j\n",
       "jd9ZM/098hBRILAydODZGB3oM3Dcs9mF7IO93Kg+ROlFWrsVuM/LfemxMRl4GeZtvRCn/4IUzSWk\n",
       "3GCXo0Sbi216Tn5yRMV3CM86b7oCFMzTFDUZSyU8h6lOWCvUKtLW0Es+AyawCAXad0cNx/cx5tHQ\n",
       "GENZjD5xGIm6n2VYQXDYIA3qel8DcnYOEAHm7s+XPdbbrtK5oKB84nLESB8gb+i1ADqcgdZg9aKL\n",
       "GoS0U4/74TkIJUd5slz3jJvoY1oB/x4BMljfHaMbGHPaxROrkWmly0KHHUB6byArSGXUavuSFNoH\n",
       "rx83b0K0gtIRX/y8mhEn43OzHD0IT6auHx/yDxwfMola9C26UNDmI0ebNVEwl3F3gVOWMpf/NFBD\n",
       "iY2w+PUj7TYP5rMGv+c/MkhyVsxKF24zfMwza2Wr4sIgYJWkgO+iVVn2uG0pNVGJQ9Y2SIu66k1U\n",
       "3KcUIAZS+Pxth2Wn5nGiYDh+8ewQ91eQUlrvhjLYPPfBkBt730Yh2XzHt8N2lz81WviHy8VcN7Dz\n",
       "LMCfDJ8B2tbCLw8FSzoWanqfZef6+cENPft0TV/zB8PSNF4+JCRAHWsDXHuklB1yOKHwnoVnootB\n",
       "0eogHKEtrp4rsRHUeOrVGabMV9fBzGj2XTw1fjPEgApV06LlYZrv1z4kC/m/STMBpSGGU2jGP5nm\n",
       "5ThQApBr71bJ403z2LLbbmm2rDn5pNB4x9K1noFeqndR5aSwKVE+w8ngcC4e34uP2nRQUGwG3Zjm\n",
       "C7ijqCrNxJnicMOxrp4m+EQDZ2yTJnpZXFrxQqQK2qjhffapxqOcZnnVmlNFwY7uquSWapDiFM1i\n",
       "hCmT6wuzcu9vj06nlzqPuGwiXqNpFVu333VHRtDnqqoyPB//PqzCjNvGhPulSVahcSvZlkpG37IY\n",
       "hZUT7yka3x1jcy16rSjbMvyTjNGrV43c/NhgDBEYfQhta2bCAPhXf8zMvi54VsQBoVOTv1+nj7x8\n",
       "Ve7+XLUni1tEoc/9gWMHVd/QNc0s/wecaTw3ngYcPFcJtH0KfrQ4kULvWxagoodjKwomXUD29gS1\n",
       "9ICS9An0ZlUZiQps56YoopZuQvV5pRVsppkUu9ZrOfULCpBTd/2uPh3f8Ru3vxb1Vv1oQNow8sOV\n",
       "MSxI9eR+Ui8HhChDhHsgd4fbx1rv5i+MpiQJEpzByGzLAHOaxPViGLYJ3lkUL7RRSvh8sfLi2nMW\n",
       "1HAVqZAShSy9P4mCfm2ruu44qEZC+1xk/bk5gzD2xR63RDJqbmdJepwp1zU49/gCB6HViTGFOwUt\n",
       "7f9bEKYk2YbQM3CIUjkbNzciztsouoHgLQ92s6lPt1VsDlxSzke9avIWycRiFLjVUPDzhZwNCCEA\n",
       "VJnEhEvuigXwjfNwP74h/F01QZPZua3HmaPMs64Gz8xf5I2/NS9a2Vc84SnN0PRDzoxn0xvkU+ea\n",
       "534iAzp8aGBnucNXIZqfkhGTfnv5TNOmE3uJMTpl0MJFR1aMPxs97nTuJ/9pV8YPZF6Jt8yjZtru\n",
       "qCv9J5wEnqjbpgAirpWElFJNa3boFG64XyyzH75/SU9ylhKeH8vBhOPe9/0n4zvSIkS+6UAjw3H/\n",
       "fP+b/idyrG+S8x1FDdepbAyp5VUEi+TxuwAfn7/a1r654h44tv3GSnC4eaLpiZkWylW4WR4ejFEB\n",
       "zPQYAw46Br9F54WT7SIwzSEPakmVFohfaEWMnwfZSXjwBcFVVljNJ+zyNSef/6ChoSpaoIXg0arf\n",
       "n3SlyJNBQbXDuuhsaSkUWRgsgbUn03wu5AFX9cwXE35O4+Hnt7JTtmHvaMmMgIFFnPqueLJKuGB8\n",
       "SEboEzfQNDpIzgpsvYK7TM43GCnTEt/J1QiOkqDapCrNnzLT8H80KfnmU3vrTXzCgfVIf9qQhgtg\n",
       "CvJK076Ju+CitEL0oCV5v0561w/rqnMrHURTNi8/B4QSxiirRvx8OqyZfovtZP901Q/2VB7+Ref+\n",
       "qjIaBQqKvIwVv7ROG8ddm2Qj82KsdnLWubwPu6yueWBZxndj6xBhmK565xV/TAqP7I1StW7t0QcW\n",
       "wl/7Bnw/FZM6ImxcIAU5xNq0Y0Ew4m/8h1D+jn+94e7yZvdpI2gGZjdnf7feG0G4+dec/sakm5R4\n",
       "6HS3ThwZKKkU5qqFqdj4N9z/SzD9eDxIUsYcPS0Wp2vR4KaPyD7dZNrBjlXwr6RSTtk/K0731ccG\n",
       "GCQRJcbH4Jv4A4oBsVsqAwfDezNFEDWIzSgTnfc0QozUccYlCxS/QsERDjFOXdae+QNH570rMCTJ\n",
       "8gPwiGzoMiWE+7inoJpbZSMKO17buaXus7i6lKcR2silyQoF7N7SmjY8tLLgXrnoJFqugBPfyOoD\n",
       "4mV97szqE8yerD0Dqa/8OWxbtsDaehCCPpIAEXybIUpqv36R0aBoNSJdjDu8PFIr59zP8TCd+hHm\n",
       "o0SYU7KtOXoo9QNyvlxloAL1oPGTzZoJUtRqOfc4y/wQBkxPK98ODLoQ6mfxC3kMepeHTLSiOXNH\n",
       "vb6YiLxO8nz8IZeR5B0KEcbJp2Bt9Eg4uR1ZwZcs+mM+sianu4wj+YEv0YBwU4Er3SQ8mY/5UYGU\n",
       "amC5z57t73Ahl78x5nl5j/juUyr7jGVlYzy2AAvespE6xiGO0QDB5kAobfgOIkzmjWshTFIacFcv\n",
       "jXYi8oFbcvMIvvxKT4F8dS5rDkw7ONSH3SAIbhNEMp04Eh+6KYwdB9G/OBKao4FVSSQbBtiSYPdD\n",
       "sZAs8P230wpcnCC1ZsNWlqhen1h0dF7RiEdc9ln4MiOOV8qxrK18a6mMh8BT0loN8TbOisM0cx+c\n",
       "QSKoEvU+FYTXue7BprPWK5D10ql25GY7DuI8eaq+H8AjSDX4+BKFR7OAX5m5nf1KChG0XgU8Y41c\n",
       "UkgGl/BbLfiTBTJVURytEYdwlWnmuEwFJArGKcMUt4cG/Ese/VXdDYUQp3hMnmO7/ZHUgSRzb8zk\n",
       "K3rf3yvtScWulo19yk71ceS4vPpJ6NbQK4I7lxuqOjJuAwnlKolJKVG3nC9Q9GKzjfR+8xAdZ3PY\n",
       "+tQkC3phQKjA8T7+7ybc6E5otPxn6cIIVhhbWO+enclxCaa4/CIHVoog0C/Ra+Zyyf5PGDQIq/qJ\n",
       "Eo0XJatjxNe4oTEZKDfUtrcieo4lDf/8OsEJ+7r2Nir+ru+nmF6T1DCIxHeGJiofcdp7eNlKE6Ea\n",
       "zUvhbM46TP754qnVHDlpR8lfadNG4PTcD7lny5Y5blZJyFn+jiUX0qqngerHEWhYviJS0MM50PXf\n",
       "m1FVoykUpcaVv6z9//54vYRDp26cnn09N2g51GnQ56quF+wUKXwe4sgiHshjeXsaVVQl5HlRWD0U\n",
       "oySDRbAo+hj4CiV5gq+lndvz2/jdWLquUcMV1iP0l7xv4P58hTurea0RU2b5qHNSkUJEmn9xxQwM\n",
       "W0XfD8GxJjF3p/0HimOecKBdbNzGHixDa9+KoiaO+9cyZftZ5HxCBJFn6QHgPDSbPOFGjLjp4/p3\n",
       "NC2icpcqRrulJnj+noQ09ENlyubavT5rky4JG0puElGzKHPO+PDEM3sBStFN5hj/8/BHUEB9MifK\n",
       "r29HC7I+RC239gyejMcPe5FwHJqQy78aC0mLAmVMl+Q4Qa4yh0zNuJdaL/Ky+db1T4tPgSNsvEKA\n",
       "Ca0ndEEB6B7LMmimJX4UDEEYFDt4CahZ0WksN/vwnH+X50Iusig7GDA/F1Pvuzt0Jz9YF8g+pxA9\n",
       "KyPFNk0DTW9n0j0hnc/J9lTbJT0VTiTpgIsURw7W/HacVnpbt/63Diwu1UGeXptE/hJ5BrYv5GRp\n",
       "VevfDewO8YPMN/cU2ZgrcHm+2gdiCdLUsfG74BnIPobwdgUTfPH5plHBXRM73iW9zmhdRVwKWOpV\n",
       "3/vci1jdpiS/F7oEy8Re6QXvRY64e/iw3wAIVueFW7mSK2xCmf4sQiJ3FevUKYpkf0p5YHK7G22G\n",
       "NApVZCMk6PY1zRDWp8VLKFUGWv2CaSh9aBdXB3mPY4LLouh9LJjcn9w6IE6WTIqTKX4znwuZq0w4\n",
       "26Uu5/jqzaj8xxZjl4eX71Et9PyJSOAx7MJwzxAt1z+QO9+j9Tq2C0UWvofgR/X49aGypc72ZiNy\n",
       "e5RWZeNz6TWR9nsmWgProxi99ePltWcnnMPPsOKdpMhTiiMA0S7krPnz/MTusvOgZ4WFOZpWZuxr\n",
       "ts5UmQSBoESEi+2IXLPLfrtyyv8p77Icdhruks1s4bTV4A5IDVvnqZ5vm9df7ODwIDxD/Yl5fHFi\n",
       "jyQb9wFvUV5lR7k73rlFU6fnl09nRPu04i8hIYHUMtaAmnYGGdFv8bdRHddPHa1HO8aKykOTq7G/\n",
       "tvvDp36AfMPbK7jC+ITO0aWtzPo/1eJReHFjaG3C9yIv6B5mxTWshWWD1aMz5ky8WcJJeOAh1daD\n",
       "MvUEoyYEj0wQTQ70NtYiynfIcYoUWnzGDqbIG8/XFfEUVpNzRPXG50x1hAiXhiwSS8OKgI/gkjxY\n",
       "0Qq4fDfHoN67AqYhG3PtpgJjLV6n/2eZDWFvTI4ATUYOl2DOSZ61HtaqcMNxbWHhPqsrvm58e2KH\n",
       "nFf25i3UMqThLQz8PUzTTIaMUWTdPoQXdr001m0WyMmXmhkISFfW7vjzA6GVyX01v5EJW8tXJReJ\n",
       "tCGpBRdc1Ku8nmYtFiDSSdRKQvDw+ZQGnNHaciCtrvplky6aQG9WNMkWyoh2iQAACPFBmiRsQX/+\n",
       "2qZYA7oXSxADUU6Sx9TkGjRTZx0V3q87myqYs/hy7SP1TPodS+xdauRf2iY+EBTCL/8dHFVvRwIg\n",
       "iW7WtBBXD/TMfKApTjvatljaXlk6aaXqElLfKxRYOLdLt26opLW+2XlQc+i4CPGquizYF7Ghsqbu\n",
       "Lo1Xy8EJBhVUa31e0+GVG8Tt2EhCVyu+ouQY922VhF734LvIuTotfnNFdzKZVQUpaqoRW1J6PoPI\n",
       "2zPz9s3Z5nRiexRkSBH5k1cc5U+CLRi1/hOZubpigL1FrlVbrAdqg44NfgspP/yFiKrL3I8tJ+eG\n",
       "+chf4vJ0G0YHXcRPwkJXzvhNadmp2w8cQmfVDdXqpHWgxIgdF/6ny8F4Ce6W95sMdp+kroY5Xg8n\n",
       "zvBxQfDsD0L1gpGOvMOw+IQZIkHXOkA0X9b5YhGXPZFxwfZUl8LYqrTqhLMa2Ns1MDYRl5hNLwQT\n",
       "zt4qmO08H7xI1iAsRF+NdtNh606tA0J5VD5Zqg3iEaPjiBfjeTnAM9lAMDUvyEe/MEZjcKGJXgig\n",
       "UCR1pxaHmwNMszcNx4eH/9rHpbLeMgqxl+rmxzVwRhEkMjtPBkQ+Jl4FpiH/FgM75M/RRoJ5SXeN\n",
       "Lqt2uoU//jYHEe6TSWzXlzhkoyGcyDA+sWKatRptNV/zg5CJViFPiNEPXj9njQJNR5sXjjuLfF7M\n",
       "81q/X5qJLjwBMukfu2MRfZ6r9mY3e2xQdO0C3gnh04udmFfkc4PQFTJlcDiDno36MGSIMooK16FA\n",
       "hBTaEOi46mjGCXFVOrzjAaDlYOMWm1Mkv/bFYOQJCkb5vm3C0Xsq1cStmCK1qGgI/L29hyLSB1/s\n",
       "rcge/nOkKxvaUAZHYk6HOUf6cr+UQUROJjWAvcn/p4If6KPl57+rBvijXI7++brgzRkTqz3FPPhq\n",
       "aT/kQmk1ArBe9pOuMRGaP6iEakjSV4Y12chr2Ccyxanem27MWV46Sx70aEsv4L3sybyBpR5cpfbD\n",
       "yS134ZMK7hBG9q55wZ+AGV48rqpTpE/dIQFWR9faQ4+l4Ye3ujYHF3tYzwc9JS75TYi9JY5fAk/W\n",
       "DXBB8g/TOUeLMuYaiEOS8pMadrG1tJ22Rvq4YyPzaPnvNnKjvOBZoyRZJViXOKTWbeXRNId30UwS\n",
       "yy30e+If2sREipbWb7wl5zYAU9fyc3ATlVhxNK/qPOXU+LfhQk2nw/V5CPTtdMPn7G+BjWmPNn0I\n",
       "PRk4ef9umKFOAqQNf9rYcsrFERtyTl04UyrJefCvKkLSaZIQLeVNevisTOOEJfPYTXszEJ+45Flw\n",
       "r2GuyriNHR34GNcib+iuzJPm5mMuutdjcx34KqtNN2GUs97rjY2eUNS0JzXeocUu81DOr444Q2e5\n",
       "4yQ3tnyTJYqccdaN34GYFQ0IKeLmlu9Ix3SH5w7dFOSmtehlhEbL3S8d/EB7Ig7SdLTP+x5recX1\n",
       "6OwoxZujJ2duXI+IBT8aQB2LBo3g04jDWU+Zld8cHn2bmM41tucIPsZzqLq7ubp9+UB8oXAUuoIP\n",
       "ZnOc2owPSQwHFmxLAuCO+1Zw44j04lqq47Yby6ypa63NIGsBH6lKCnPMfe22dertJDAUASelYgSP\n",
       "fmJFdE6oqjPCeT0W44Zuck2O3+4FH/H9OUE/9x0tMW0BKez/4sz7XuPfmNooSTz2ctYERuCLYasL\n",
       "iFGPLrNvuIfvx325N3ibMjpOJkwryJFv1lQata/4tvf5oS/5RO9vHSTpuQsAAKl0Vuej6gWv3TN1\n",
       "eFEEai73r0MJ3HmVuDkadQRqVbugr7+bIZSJeXRDu0rxCGMac0G4cEOHc4BWMymZeoOZL/6aL1NJ\n",
       "vOdZnUJd8H2k3u9Y2hmD9DGDSaxwKSrgjAgtkMsc7a7MDBX7Vz64cgbrp+XK45RaMbtCP9o8/Pz7\n",
       "Ifz5634FO8WsD4PKTTamrCSp8aQUiVgNMtYse6RlJFtgDuxoSM917vdJ9qXnSt56Kb0fX2fEHF5v\n",
       "JoD79xm2bOCE7n7WLfhzB9fD70ocsxapwvua+/y45CCxc18B9xr27SVXsEXFy4s6WnMt8t48Izxa\n",
       "uVDz0vguBBeL7JKDTNKs9SDBIupFvCRigZs/D2FmodzJDRzIFxx0FAqd6OCmNQgVUL7VYKfZaQ1Q\n",
       "lygWfzOAnvTAOWz0e3cUsC05QjoFQ7aLxyyJh5nZj+Gz9WE/8288N5mjWsatspRWkz5A1CK5t+3M\n",
       "FyJd77cYSEclw7SW3UIA4VSJuzwHxWyK+qZ5m2rnhrf7BSLz0D7PCrSLd1n52V8u3+JZxgjzZAnf\n",
       "F4IdtKS3xnmXGUTdxvrvRimeXo9pZla5cw+HDHujd2bPeTFM8qD1ZRBh8uDIkJdIKwC3ufbBlR3I\n",
       "1CT5TFAEvYJRp2vgxAk5eRsUfWCr5M2RJCzjp4HaiERLBO0BS5Z0hfH+EmasV/lv85XCMAqlfNNw\n",
       "rFFyq5MyKykqgIzXXTFPPjZC1SpiH/p3XMJkpnYjUb0ZOTbKuVCt4kuT0/8vl6f2nbdtF2+ObiIB\n",
       "b5Zs29tFecKT2krNIy5GmNjrumWZH1phZn1OWPDFhmsWUkoXt22Z8jcTIHpXMXbhc1Fks4Lhn4T7\n",
       "Hh4LXIRheV7ctltrOSe9gjPTP8sAUpptrap+6DJGvppwjaSAyuwnHpxJXS0xoLWEFqVWUBKC4JlJ\n",
       "SeajMZwQmjtbJW9d2VmvTc4nMTFfq7rIvme6MSdn52Qme2LVEfgux76IpP3NU9Z92mXwdJpzsLHX\n",
       "S2aOMvz41QRpggZFoxL52v1m4/WzoSGZM31cdyddgSY7jdwUMEWgjqm+J9sw9HxjmWVm9uTHsEqc\n",
       "SmIEDyE31u0JoffagCUEMRy+a3cLX34x/2MPiPkpU0n121klhLG5nFcTgJf6tVbEQzcWiqW1vWc9\n",
       "lIsJV21CvYOV+czXoIZ482iVEjqRN9tN7iQVH4+gdxI8SBeZ2HigBktQZoytBtncTZHwUjUUpH3y\n",
       "5HvZhN3uJBlRa+5caghwS8jmPkvAmDqivpVbj1+Pku8RcYN9+1L4aPZlNKhZwAqoK+ulHhj+WgDz\n",
       "reMAAASgQZ5CeIKfAAJJWtTAgg6gCLoU2UsMRValh70pbvhKLUSFJ4JcpPhOrIDCBkzCM27uAN2x\n",
       "3idSlPGFAg5/DVT3GugjyARuOskxszRc3/GI3Xph0EYQaVXvbAzxdpEA79NWKSvjSBcm3gHv++24\n",
       "LOntckWctPChJiRahThtJgBHuJNglOhPRurgdVhjdfdZjLpwqRO/Y7YCkqM4X2r/jEB2mMbEoeFj\n",
       "jm4msbQnOeUTUN4t6RX3vBUxp0rPgDo+E+4xDszFITsLiIqfr3qkl6inexao5+5L8bFvzEzXXq/0\n",
       "FUN3AhFjXa0z38Udn5EEihI84Zki5CMkdGFgr/dnE6WMc3XW8ttSJDjrxqWS9rvvXp6xtm9KtXKg\n",
       "8Iz50fuJ1roWbbPAPJXzEy0h5CllxQU3/XHtq6nmwZrWCjv3h3UqXRt2/ZvOylbn7IOwWjunjBkV\n",
       "tJ5T49ToPUyNmUCk3/0wIQ/p7JqeGpl7Mo0PGVwq8zJG00GisYvIvUj6hrBYvRZGsL4veP+0C0MU\n",
       "QOeW+w6JdJZWe+cV7sNf4RcE7bQlQv1r/u0/Q2P/WxKkdLVbnG3+9s68+zq+X0zMcUslc+MavPA3\n",
       "cE2nHmcSb7poGGkH7chNpHyuNBm4acf4tS7QJkuOyMdWt9BTDQK7OQ8zGcLJXR5g+1JNICiPiJPn\n",
       "Z6eipQoCmRVSYUL0d/s5jiNvzAVgxFmn9zBbUWVZ2AKA7RXcQs+/ja7ebTnRfWDXmkURNYJBQB6q\n",
       "2Mw7ltvntQI5y8TX4dQnfV26qym8UdN52yxWkWdE7V+op4ZTYY5lR/UT4kdIbw1gUy9o/WuibmvA\n",
       "2w3G2QjBgJZzlX8agnas4yMktY5baMuMiDmAumGDPgHTBS2wuW9ZMJ9KWTop+ZWvY74WbzTKmJ68\n",
       "KzsdCoKyX7wE86EGpOFeToUD15+50ASpu04UwebtD76HHibJkR0/pSmWMlyX0zCiexY5gNOZWuJT\n",
       "EFCm4ELdhw+km0q1D6Bl7QzqC00hhNv0K0HJdOo5WHbU1ZR5dadZo9PfUKDvCtqCO6c1hzX8B7H8\n",
       "iBMW0qXK/XV0BiysbT4EPsE0tQ5ZnOllHnY3rKtlzQXc/49XFM8pFmJKcy7r5BS7yJitnwX1sqaH\n",
       "wAMmjsqF+OZBZJVYPWRgOMFxoGa3Dhmbe13JnzTjBZndWGZzRnc+N9pzKHiLu7DYW0DrUQrfC+RC\n",
       "znoF1txt4Mq6QD4cxcSGqaciFYpfmCBmv5HZC+29oRZJexIHL8yFGoTO0jT0TNi0qY69dkFdKvVC\n",
       "gVzUyahJTP06v6kGUiKAt1X29E5PUDYYjuFs8sGnyRaC6FVZ23Cl94G18GAi+IeoAzaqlQvsq5xs\n",
       "9IptCn3ePxqdSpewx6Y8sEk/vg6LeLx+a1Y1IBaGFv44QRiOtokkdyrHhCQmBzaRU197WVkI/38E\n",
       "IThZWy+yyDfRsIua8ueMkTMHx0QVQdqRrDYBHj15iNkwA4kHp5khafTrbyzb11GDROH7neDb6PaQ\n",
       "5sYjteSeiKX9oiR27KHe1l7C/8cz3VBAr5DnlKRY9Cw5/+9/xbPbe1JRhzdTLa0RloEAAATbAZ5h\n",
       "dEEvAAmwNaGwZXdHxQeLxAG1/97M+RqMMYN+Vz+PIKDwTixRs4HLmFPon4UF9EsQItdcher0eAsx\n",
       "o0KapdtIiOPOI1hx0tNOjfi4WeA39+GBzRea8L6vJwONI13TdT7Gauprk1aLx/TPuG7cpUp64sCN\n",
       "HYh6EiHkPwik/u5nHWDrTtCmofyNyq+itrT7fogNkD1mRlwTw2R3j3SQh4a8F62tUUPXRhOUhY2Y\n",
       "ixa/gu6/2WkIOd4xvNwgVRUwvKxnNkuUVfoouVZCVEdMJHGZT1R6VCgqNGgCm4rhl6FdlSrSQr4L\n",
       "Z4nWkh9koxf1i/t/f7fQXvC1kaiMaLD5asv7vREjIcIS+a0fLNArKWNZYjdPHUXgKKP+R6G8I05z\n",
       "d0KWHTtsfOzJhw2jB2PboC0xZUKgsYAu3XrkN5oAiMIfAEOGOlnYjYsP7SL4/R+1c6+1IujUywNo\n",
       "jTjdOJXjmSKM1kBU+tou8BjCA7Z2TI+yziDBWk4FBfZACUL4j6RrlVdfUS5sg8CxANjLMgy0PavZ\n",
       "p3/kQSFdtBkFeBz0+UubmBWThbQ3rWk99K+qBYwF3fHpupyOYpeTd6DcpgIV/NLa8Yrih6qyblcm\n",
       "rfq4ZMrq5aSThPVl+mx1/08HZWmIKjP/ReRGPIDKkKZpgFOwP7nFOH1KiiNfdmneNDPt/gyoGPo2\n",
       "6eqGDQXy15mE23fIITrITWsc35F08KLXbyxqjFoe0CsLK55j7PR2mwF6BNOHG6l+KKWo7tIedsUB\n",
       "5t7+eJ6aIAN4csfnzpBl/4vXXF0OgiAApUD/HoXTJppYFT+xD5Db+xUsZD5c7PFzytUiduffZFYo\n",
       "e1p0d16J5y5MNGBp+SR85arqYSxu2T+XCzZrb1aKHh89UnXvAKtAtvV/w6WY1dVdWhKlwMYmMeBK\n",
       "1sSLsagXr4ss+WWDw6uySe+wwJzNUj+w9QqAVpkwZGKWMFz/ufiGJ7wCKL3FVpVU5tzuM7VrO8ne\n",
       "YsP0MW+BywQ0PTYVQdv1TEnrgXcLh4t6+3NA+CRWJ/W2+MWrQVBp/POdWyFKpEBT0kLh9eHNqMLf\n",
       "fzpfCTCki+bZkqZ/55vvkiN1bYBR4bJ8vSAznuxUW02/tmolSHpxkJ9uCx9/tvC4Kb3iKHz+dIOV\n",
       "p14zWjW2O5mRcXj0n5mh/qWbqPNXHQ6gBqszKM15ST0SlbRH9bSTZUKDYm1cShMQISpW17b20N2M\n",
       "u07mM1+gEDod7k7lB5TBTvZ2NVvoELJz9QHVLcaquFumVL0PjJOvTFtp7gyxAr4Bl115R7TA4CRL\n",
       "exOnW+JeZHBTdXkt8pzC/XFVNXg0iRDiWiwKKUcUzX4Iua4Fd/BzsqpBRSTtrCrybOojFqrF+4Bh\n",
       "XfqPhkPEYWzH0Ca3WF5dgtW5sMYwE9w0TXbtTCey8oUs/wcavdA8OjGbVdTuN2SjbJmvZxnzK9YX\n",
       "UhGJwokU0WFK49JFSOdNBrw2ncQoa8FVxQlMtpZ1SneXhjVGCPmUWVAn2l6GAAoHaQLOfbMXH4vP\n",
       "5raQOEctHIdgrO0fJjCTjrJ43mCN4rg4Jti2qoUTK3nFLhWPd1bTXhT4lXApL5xD62UiIaWW7yUl\n",
       "yf2D2nVC5RlwTfUQ6C9q6vDZtPyRRKVXcZF2uo0MO0b4JUGhkrtbWPWT5QAAAukBnmNqQS8ABhlM\n",
       "baL/2HRAdrRHcsABUapxP8AOhY935l4oNx5nq7uyGpgN31QQulfOHF3Pb01C5z+qJYZv8lOPn22z\n",
       "YlCINeMuqMZZK2oXuC4+Y+QxJ5At8nW2FZjtP36RW16eSquoD2IeMJSWDPcvWsQESOYnuC8L9QVi\n",
       "ExniF7IerpE5rELRhQNpoD0rxs/qa6wGRe2yH9ISSv9odQSsQ/zWV/gvGUFdQPdxjazHo3t2Dvth\n",
       "Scr7OVWPIP+MCabonMlz2VmsbYWRw8q1KwEASRmBrRFqeiYVNDF8pY6tU9gSQ3Oz35/oU2SwjA/f\n",
       "06uI+ZilwpuKPKF4EBaKWVs9tubCaQs0LJFsk7gYDwvMey94TyY8kJMnEzeLsPdMPy/WvW8b8b74\n",
       "K+GdW3Ytue1QEQWJfZFVXxEeFLLyQT4Jjy4wRmcAKIitHoQ03XBYSxbJoyLDSXMPGZItaVFk+XVw\n",
       "V4lqx2Ri6M2BHkKpyQKlFw6V1alKz/VMzABlb8OG1bD8dkD/vgiWUYYkM8lAut8xlm2gUJWQaRG4\n",
       "wsCAhgFuw3HKHCULjvyTVD/236KwEolI6X9P+tyGCR+aMRvXbrIg3eOHOHTCf3xG8jh15wDTzsx2\n",
       "2oQWxBO1ISSG0FH7626DXv+EEQPh6G6HJ0GJxiRvRJwLH0bCTwTv/5LLFMlAJx7UnVoVkfSJUamg\n",
       "Z0MmozIVZeCa6bhJQHUD8ufQz9nt5rzsKyOQhxMg+zsucbgrjHclEVzNg/SAAAakPjCwANBkncbD\n",
       "hFsQQoGQ4jD4H/n0GFL7z6NfUKQLguJvsL7Y5lxV2adjc9hUye1fGVOdoyp6STx8MRyAVhgXRe1T\n",
       "Oa2bkoTfsPfMX9ERK1xqT9asHN0sxuq3vBuygdfCGmwDdLXHYt2fQx7zgAV/nzdmA/kOPFd3ThF/\n",
       "vb60ttu+reWyoQ53nNQw8OmV7CV0Q3W+PSog52mV48le70eav3JTwEjD+FI/EvX10iYRAAAIL0Ga\n",
       "aEmoQWiZTAgv//7aplgDuaD9N7FNACIgqrXKh3yJstfWZflxrfQ974SROtIK6NLL+p+0QJt3v+1h\n",
       "qr6h07M56jlAQBiMyfu+sug4OmMtR7CxRCQSQ++RgO37W8hGGiuSuHGAxLGJtZcDnCIRVBwddgi6\n",
       "nMFQqLJzn08fVGdsVU5nx/ZfDdzENtXK8O6g+oMk7RXt1u5tTq5/OAvDqSB1IP70WW5xnScjc80+\n",
       "ouJHwN7LBkOBBM/HD95yYOaC2ZDXUiAuNMOyv3pQlDN7fDoKDpGNZ8NofXxlUpTlt/PuuX3e1/et\n",
       "FqCwFPisVGwJj5UPDAt2qquJjN4VTcWgp9qayXXC/Oiw6BAita9fVW8fuvZQQPASkd3BtENP4ZGF\n",
       "W1SbrX0gC6Ib9glkD5nwKNB13aP78cQdeR4ZPyAQccKFstmsWA7lrcEL0W/gnDh7XjrGsd3ia3RV\n",
       "LUHVQHvSB20MR+dXYvrEPjT3PUhAqvBOAOSdSffnPXWzkyJSGCjc2g5vSawvgFiEb4Fc5Do4x+6T\n",
       "oKhy7etPYSAtTT7g60WpMQXXvSy1fMnwIBnDzQznwmKw098ZJkHYKaRRUYMjs/xCU+juxV9PJNyL\n",
       "oKFeMpkO4DjMm2Dus2tAx/QhiBPLRxhRIoC27G1CzDq0xg6OIcE/GBjHRUQtZ7RT5YS7lHKvLQIh\n",
       "dgwm1D044GR+4Mz4YRjsnsjL48IanfVApg/ktWg3gDmfSSNYValDOK98ds/9IqbGlP9vhDa5QNSA\n",
       "8b04Uzjh+fWhzeEhAMAenl9KqZvBMmFd2bi+JkS30O+K/uKewa+i4MS/zja2+9uMXUbQ/of7CXML\n",
       "Dd3MuRtGXxCKhJFvKd7yJO6f4WeDLPRCYP5S1XJYU9dHWPSVHDC6MQJGPAdmhYH4jiLSaD7oKgeT\n",
       "qv5Q+5PGs1CKj/oCojHAtikStpmnMJoFCJ9zO+5tfLky6U62Uc8cZxqehlcreoX5mkib0+MkYhNr\n",
       "Em7D198qpEDwlvXcZNmWNch/YS029BzrYmYbDh6dsn0W++/drpQE6KmkAg2XtOWfQaIP/Jwmm4tp\n",
       "ozfsQ+Ju+nWNE7KcHz+opXcZO2BOqd473W9cG/OkSH/JCtxtuUcLTTjKFgrL4dgQBE8NHztXyq1/\n",
       "GDLfbH72n51HxajYWCIKHGyRGEw2LSqs/CP5bUzy3JzY0qGb0nSxEPRfkAA8v6Ei+MyaM0tnYxkG\n",
       "0eyepTWfXUlrHY3uMmxXtkTmqvC+PfM7TChjWZ11kGF0e+TP+1tS2yNhH4MR4Ule9/g3kg8ysz+H\n",
       "GUZgI76HAjoGaZDx8OWl6/dVocNx0boBu1NTtsJXlXWxqpzuLAYa8x1oPszKARn3mmDhJUaeuYd7\n",
       "GWDQyfYalNdcq90JiYtPwdbRU8p/evDdblxTcniz8tUTgbu4WqPwA5/KzmLvRXgwdtgIUhcc1e4v\n",
       "/MUYBPGrHhetD2PzRr30T17MvqqmzDEVrs61BA2XbEdKBMzXNN2hclY5+JaM64kbrvPAURItEtVy\n",
       "pBRAr/kM+y3rwJG4dzbmMvhcijYFM0CvV8z73tlNUSsBHjlXJZdNF1cdskMz8ZcmPGRu/NWJjiRo\n",
       "UpJt3OoOakU6E8qy/n5vRgpL8FkVnIQcjvcJ9J7aOMUeRmUcDzORzXMn24+P0BC8wU1zzOGdLgfV\n",
       "YvOqh4Z/Wzbk61J+aOxgs7aESThoM9AJKJBEkRyEqf0LxpfkkGTE/UX7L+cT7xQuEX5imOmPR9I9\n",
       "zWzbrpC+H7j53S65yxwdiLK4MHkweRE47iT8Kmye9+RWlZcaQC8kpxmhc74KuJDe3Qb5DoHeMXe9\n",
       "6doplAXDPOME/3bZOoap2FJgGVtvKhAcontCELWpkLf1sJeXN8GVQP5qOdGbf2ksqfR2oCCEndS5\n",
       "3hwaUsl5z8pEepfWapt/BUSWYDZx2bH58paPXr3qC9VmWcl88Y+UVw+0FFjuGF4cvtGz03vsToCv\n",
       "3lmUYnTJ6jeUcW1veeef7dwy6LiPOPIxz+L/M4VxcYaa/KuRpvomCMt5WvMWRWlqDPayyJm9FXK6\n",
       "PU/DCUnNYfgzn+XBPbqeE+/f2MwcLOEcngomqmbe6dzMqqBDCmEGxsQC343ZGKxOjbl1VcO4Gr9P\n",
       "6J5lm8MmTCdy4xOA/O74uAk7h3YA2ZTw2fiXoHCRSInSSlATUO+POfiOxKHf8Vj4NUuHCD+FL0Sm\n",
       "zAqLFTgfZnVilbRbv9PLzRlEFCz+46lLNH8MDeXjlF1eTrMKD8+L7LkWK3/Asr/2mzjhvkuQ/cX0\n",
       "YuZ9yYcEYYM6c0PA+FKxtjUkRuzI1ZpcS0dXnKgvj3/6ut2+i81OIBhq7/Hvk0C7GLthQYSxfXrz\n",
       "7RCKztvMmOslU6mKGi82yLtnW/GrBqdJPDvZvVrL36+ihg2qxc0gNEodHgdsUQq9CTdLaSU88CZx\n",
       "3YlCgSMO0wFS82ok8PcgUGI90lhAjZ7J6vO6KYxP46148z2iJQumCyqsQSCVYm6xI4M2H1c5e/Pq\n",
       "Bgcwy5MbP2CmxVzEWS/RNHm0AzBmVoeko9AIHR3xwf8VfFN1JJ6a7r9MQn5wnr6hrBVs5ROw6uI+\n",
       "0aTPEOtbIFUpsJF2wKQztWiGMJYW+qO+5MntsLU4rXHvv6VZmmRm7FQKOPo/hlEH7FXJdJQiDda6\n",
       "STsTlN/CmvWmu4nvICsRHvel3MPfvQtlCNeFiA7poN5pVLUPZDUtRcjtje/fqt4jVBo5/bEqlmOL\n",
       "4MhJVspomZN6IXhc3EAR/p/9nv/8N+sfHY3Bnv8THLhF7+ShuUOyYgcAAAPRQZ6GRREsFP8AAjl6\n",
       "6wABWG6pknAEg8ictJA+JJJNCQ8TisNbiPHrVDWhv33HP6jyQRqRgUGwNthX1ch6oIKIwKR18OEg\n",
       "B5LiH4d6oM/7dlI65R86JlRIlr30GX7GV+A/z89DIKN0gJCS4kDdRMiFTn0QsbN01Wkc2NIAAkqa\n",
       "TuioQLFLEFUFcSM67RmIfquagzQuSyMPmbofFMexIR/i3IDlZ3Tx4sEllb+25CFh/TEAWIB5T0qE\n",
       "EGMFTB228r4CYSZX+iCBTSuBPRHcut1a1J/7gQbR5sfm6hwCBKQgyWIawui3vwHKWb5U6dHZPMge\n",
       "XsDatNyQrdJKcwWy8/JnfB+tgdrgadzV0HcZCC4muajcNAuqStcAMLWkMXFPxBS5o3CfWZ/2YdFv\n",
       "GkXAl9Md7sqGxmz9oyWMXLlHxhB9TD7Tqqhxyg4TMu9WBuS3+ttpIJhmI69v7ToVz1L81vtk5X+E\n",
       "sMTA/c90jvs4GMYyjicymwNv4mHoXwuFM5D7bY/15ehV2jTrAhohCFIzwl0Oi8MvSegV2HdpAyws\n",
       "wBET3r0c4bFWmWT+/Dc0c9on84RZ2HDGvFjTuBgXmPNrqlxMN4IQjx0YjdwwrllzkLLVlfbCbTFA\n",
       "59/9SW2HcmDMbulkpLOHHvzHzOW3OPdEPVJ1/5vGG2PxiYDrXKkiLgo5ZC9oT6L/DL9vu2F4gmoA\n",
       "InH2TBED7NgoVzuEl1FguUtEH3g3akJ0yAaQWebJLDv4B7C844cH2R13DgFXw/hCrGtYPUzyLTN/\n",
       "IiVa7uspHYTDIIUJsmkT23gd3iD/nnnA20bYShL0IqXxzMLqZwxdwDQ9Ci+8UgLtCCpBdQr63FYN\n",
       "7e/mJqCvSIUqUko6ojSMwrjWAtk8882YJFGQmQ+e9itN/ifiSJ4JJPphMsEDILfMlfx8G1ASGXXz\n",
       "NMn51SWH2iVxqTtTxPLZlQtyc8aRQOP5p1Z9G9D3MYd8FkWvrC58spZXkzVZLdSQh5nRzKtwEsqf\n",
       "5JjFGB1d81XxkVH+CppPScSFfneA46V3sLHjR9i2RYqLS2VRvLH2JRQ+vRukHeFbs4N5tujTKX15\n",
       "VZP2WCXi+mvbIz6WNdSHKx+JOFcBJgxNB7vnO0/kT1WrIxpIZxLeY28MxfMjY4UA6COCNqsF4u7m\n",
       "oa6TKfL0aY+Y8ORfjvUnJ51uKVbmbXUY2/O8GQH8LlAafcfdipgnDoKYGkcyJEa8GKtCMTtswTp/\n",
       "b95RUnZl4z58mpoH0HKWfIuoE8scV6XCikAYffClXob7/tUYN7oAdx1QO12UWxf3fu77tVEAAANQ\n",
       "AZ6ldEEvAAZBNSUABwkdBLsD6/+UshdHoUzK7FeGMvCAj6QO6qDDeLg3S9mbyoqeZ0cwFteDoeZR\n",
       "ZPvu9DSynzhmOhvS1vplOoMkScSn+xWxAZHIYOv65AbtCWm4zfglFEXRudhn6ZYcry5ukOUrhQ2y\n",
       "oMWn/5fGSvqUCSapERzbvVYm7WjvR/XTyxMgCnuYqRQEG7ZksS+hfaeTvYQi0q3PmQHQJ97DPQKx\n",
       "xqbjMZuoPFNo8lSBvgOYlQsCEnn5dsgcz+8+E0koE7py4svUR2La9dkvGJZFF3qoiHZwZu4CWUEF\n",
       "kWIVCRaNWs39T+vPM+5j43sV8zaLFoKhqubddcB/yGFvYBME8x8dLWl5Su9PTmFLO2E7g1r2pC4T\n",
       "2P9+XPcBpobm5BwYTo+W4VLXBDGAHcBDlIXrapHRyjMmuUwIPDp+EQmtbPUhz5xIfsQTX9gvchDq\n",
       "1HDf9/XFA4GUL0b1GOH1KccNMrrvS/5P8i/mFQ4gxeOWlVEBCZ+jyOziRjTG7sp/CAWiLVo8sXPB\n",
       "+XbXfqUDO5p1e94VKfh3Mi3daon+7A+x6FgeF77xWk61R4MDqQP7HKs/3eYB5ABiQsygzf4PEZJl\n",
       "W0y4cEeC3f0f4DVIHlkA/mifYoZ9r8z4h1DKJXrJLzrn9XZMR+Z6RhirGDJFEcqHbnZECy6DcFMM\n",
       "NcGLvUT1LkeT8YQIy0U3uJyWXjhkmklcQyc8fq/vVB4tOPp+eamB1gZ/T9mxvbQmU/H780G2BLxT\n",
       "hesSckFGULE9ASLdM79ukaV7t53dZxb3wM7Iv9JzeFAWrlBZ6seePgOcUBYGnYJ3G3dUfMedmAxO\n",
       "aIaZKK1iA2H5hHvXr5H/wbC7u5+b0sz7R8oj/8qqFLXkMKAIFAulV1aMG/7ftojdFg1C2MeH0HIg\n",
       "Cun3WKOxMU76LUrBCQyvCDB9zSIbwvs46JYOW+p3PckRo6kZFvvRACtfJClp1NdWqlAC01JvRlok\n",
       "aGXiDtDsQgYtxC7L+ouavMKosBqQSiuRwfpOKb90kZ3hhuQzbmJ6VuOi7dIiOFa/f0nlt9EekybQ\n",
       "d36gx6u9Gon++48WBbk+31VwD7iClSHGT5me/4FmXJ3N74aGmXBNmZ/TWdnr83j50mEAAAR9AZ6n\n",
       "akEvAAmwYOuAqgROUAXP+Ren41NkO9hmQD3AOYZXWEsn0aCdmfJ+I7InGfJMcCPIH7ss+g3wa0ZE\n",
       "Yl7ISTrSLWbmGiZhKqc1x2qLsurwWxmxNa86Jn1sEKULY9+wn9M6PAumWeW6SiQDtjRnpmOv/tca\n",
       "Gkmt86TxoAzOEA07nDXxBDP7jhmRdMXZcwvP0BKMWlDuxcqDgBSMhdAKjH8AU/0xPSdOrpc+dR5E\n",
       "m64Cyqv7UFQSkvmQiZECmhcFGqx8yARFqpKgZGnUDffT30E0MGfAOlPB7poD7PeB0AwP+/HmMUCC\n",
       "xnHrtjMph7S4iDCiiDXmivLYNBPUslz9KspFvxn+4R2FxPU1R0Pd/F51pTZthgnhTCLNmZdIydfX\n",
       "mOh5+b9+Ctw0+55oisPWc5w64dluSnNeGGheHeBYd84oxz3IXL7NzdFyskpc8HLkRrfbtiJxuGRb\n",
       "RklaNWN9VkXbrEARWPeFBV80pQMJJZZ7+bSStSkgDMsJ49KM8laWoBi31CvlVNB/JQyWzl9hG7UF\n",
       "ZmzFK+SE5ASwKeUgGY5Srzo84cYdYEgYA3CpV/Y1Ag7STiYk95W2LMwEawvQOcbm1QbH6NeRtNPL\n",
       "hf/RAgDMqV/OObz/IZVmnVlawE/QbNXVk1I0JoYg1QAXLbUBU1RgcmAEK38eQzf/h3eFUy2QstTP\n",
       "joAaIKwb3dY690lYHBKWziU50mvBn2GQcQykSaRfYt5bkjoLk9SUXVnAASdhOqnxJYGtInYEjt9x\n",
       "ZkRskHGw/eAvTF9Rlob97didgvGq2s4ozHPWM9GWOF/n2myhKj7BxlkgR+M+t8p7FM0JPE9Ifp3/\n",
       "lrHcpQ99VLkTt5kdUzYBGOJo6k91BuD/IDdnchtLOKEwpnze4t2QjKdPabN4EPuUr9ebUZroYnz3\n",
       "RNB/TjHxmjHlykFPxvGrtoFbsVoGhjrEtb1ffmxRV0brgMvF54Q29ikVPfFkOj2EmDLKCVINoxsP\n",
       "M1ohhINZUrqK5iAdNOxO8TNvjGylmtDGlINgjPHp1Ti/Vbc3NB0xjRHOdensXuiDGsgYXJ0FmWaN\n",
       "Kc+DV2hXHnPtQYYrrPL4uGVzJWpUnb9ynfON3CgNDRoUf6hRTFNjHOsP4nxKU7rgYXRQF5ZIT9yK\n",
       "f4B9NCCIUtyeI4uwdTDQXJgMpp22D8sGW44N6oxdXnGlZU0xVTb2/n/PxCpCdWM8/o8ha/gouMbg\n",
       "99b4oH8VWqEGxpn/73508AiDkJA6s3M56WfrlI6uej7hc0+z1qnroYggP9L380LuMo1qhnQcDxVL\n",
       "si6ANgN86bqdezZyNgMzju+rfVMNlMZE+WLUJZ4hpkbfEfeK76dojEzjYIbgAmbvkcvi299nLBtP\n",
       "/y5PkF0e7D0HFpvTc7C7c/KWHjKBLgAKbNhLuDBU/O7uzXYatcSH4HTBN5hcH1i9fmrspMD2Ifeo\n",
       "Ii6cWK6RkVRyzDpEobOsGyvx/WOwatHpbsz9xL21QBNVaxStkHATzfnPO3WTOhHCpzNgjbewYZGn\n",
       "IxhAoMm6AAAKrkGarEmoQWyZTAgv//7aplgDSNXWkANdEW9uDi6txokv9E6oKuG34Y57cqeuV2Gx\n",
       "3E79vMvYij+3qhxnBfHGzmo1aWQYlRo7dndvWYzXjrxmfcs29BAU4CYpItfRaN2z9zduh5Mn/2GQ\n",
       "kTIusfgXKdwkfEgIvhtRM7HyVMzMdI7FDtDvA1dlhp35fKoxWrI7cKf+QCMVeEU5TJvlON2O6ZRY\n",
       "LZX8nj2+lmHiWC0cXdx2qOkeGAt6yFRYnWKu9nMzZYExhR2f7JITo6BEAqcTFqiRaEBCiUfFBJ+r\n",
       "qpWAG16TdJUUwvPVKTwgm+Dq05bHUEGSrw8wbmFYP6inV3wmmNC5yB/8wMHFetT5IjkEEDxCYFKD\n",
       "SAlcKfH+HxSsJKtPYXqawFbe7kZWPLUEyHCNeB1iJ8uxugjGb3kvjn6wbznKFTzmpydBDX5QB2oT\n",
       "CBoNnqmUgtuQjpnEW/NqSFBdEaMfNpZQpetM/Hl08qLce9c6kmgG3YSahR+C7B1v0mw1+CqKWRou\n",
       "GVzwZuAuWLRprwVaWL/sKjI1K73p5sX3Q9wmvYiTX7uKgdoD7wnfoq0zURCUaErBB/yowR2ZCEL2\n",
       "xd/ZokXZ8+6uz856hO3hqhfXvjtdf0Vqm39QkljatsUaoJucYiwfUC1SPQ7ff+bZg1ZqAYiR/qXW\n",
       "w/62nmJsNcj9M+nsfTsHKJdXSL84wCGJM7hoqazC0QECo6ZgS2IBjLRq2SXb2a+CSfzSZimGR8b7\n",
       "pR+Cf79QXhIijvP+TtNWRBELRZzAvtPJQTDy5Bjd/CHDxRcv6h4IK74XZmB8JgFeP+znCPQaHGGx\n",
       "PQiciDz0SV7YJh2hDWBXL6gT13UUXCYJCc/KbuXYF3V8QmSUh/W2Z37VPE+kznnCWyKBBP///h7l\n",
       "Fc+aJGv5LySWRj+ZSA6C+HUL6nn14A19A5/P/4E6BD5movoXdeIWGecZ/ZQ2NXi04BUU5BqvTnId\n",
       "TipXnshMFpjwTG0RX8uTwXfYIqDpWtT2/udA5b9HZmLrTQEyRmoV4C8uhaP+dkjUkYzPHfJJSd4C\n",
       "bsaeCBFAqlfJgAo63halByObqglofUPFyo+anTBBwEJ5O5lTI0a/gcfwCqSgJC8kAJw/NNmSH/kI\n",
       "XuXwHkRmRuesKJYEV1ej1pdJeMqSRbGVpNj/lAFmCEVE6YF48ue+4vp9IfUUXnYWuXouUYB0KVrC\n",
       "UVtKY5NNAtxRynF8hlVOsMOLzASlb0iaHLuPlMBrNfgVXyYejhgNTZz0WjHslkTT7BnDHEMKyMww\n",
       "L6HCtmY+uJ7+EkO5zt5uM+i6PJ2v8rIIXc3Ns9nzZl5mkfsFmGOrU4rBGoZ9S+dm0sR+APdbDZeZ\n",
       "hI3dQnsTt2xasbUpGTXdXLvuR7oOssX0e8S+n6gpDcLHLyWS13Xhlr1jjUY0kNgQpAwyHLJhPGxl\n",
       "2lJsIOvuW6SF8/m1jz6cLIBcrdwXIX4uqj+O41PddZW4/nPbnWaWPhgAGl20oOmbgy/mVHH5ZvAt\n",
       "Z2JYcDFQNa/1R/ErdqkVJ85HjT+7T0FeQp8OOJ7ePbIU6LWZ69Yvf0gC5/UchuWgyrUKQ55KV0rC\n",
       "ydjBSnPDv+dArf6QGVZpvvjlATAYRfwXfrzeQz+OtwvdqWjY/IZHQwGJh0FrfFPOu4WiwQsJUkJC\n",
       "DnSLJMXT2FFXdJZtaOKCWDrWUO2foOukvkoCE4mL6abehQ5P9UFKZThPcEEn0rXPgh5hEXw9QKFB\n",
       "9n6t3KOvi9yhnkNnBou7Nktxwch6KC5UztP+V+rqIpXKY1g98MfH3PkwI8xST0KpVQ8TM2IkEj05\n",
       "ihDiOKJ4Bry/zLqjSXF21XLhrqUADDGrnX/bjcz+L0m9BYvQqUpJfCdJrLEK+bp29Iy1H1RolzgZ\n",
       "UQdiECHI05+oob2ImGCwr6eiSmdf3qp8KDI2rGm2y2QrvMp+CT+htCGelieixoUr8QPK1yQemBtG\n",
       "mZg0CCL3je7V22dsCdv/RFhyljzj5CNRz+g7Q/XN7yul/UkKTbHdDJRhhLnv3zmaHUw0dIpSAEFh\n",
       "k4nxgIdAOACcaioWn/a7kIgwhSChcnjEv+dhMyUs+/dngiQ9FRUe85ZtEmA8bRaAV/MjdCOl5Cz0\n",
       "veTvwOOfdLRnMChVCtKmXtK7xTMQ8D9XQrAqj0yAsySR4SxrUVQlcfmNnzlc0J3+AEo905lh3cAQ\n",
       "VgKalgH44r3k63+WbTYDm5NknZqy0O2fldH2IF1qIIvg/LY70u5p1jeJd9ohaMQzwHNwxpJjWjmp\n",
       "c24sqonmUfFcuXZ1wJveA0osDzk3++r+tQ5JKVPbIJ3QarmHC7CUCGVMgm/RZYR7pkuc9p/MmOSz\n",
       "DmW+nDljoPV1rIEgCS9vH1/eSei6qt446lKggLuFucrHSL7+3AvoZYktDj1faNsGT8hqHhsMFVIq\n",
       "D3zBsHLXjG7McINZXaUObzk6L6XgzFvNFF7k+3dYX6+r8y6P16Xu/FSPVJowAiuSCRx7psREov+D\n",
       "KsYuTMO2J35depP1KVT+fsGFgnLQLyRg/OSoxF7uwbm9DO6jLNBQgIdTG6RN6Bw32emoQifiQAdg\n",
       "b/XkdZHgPeRRQ6Xui41/k20bpGJ7GzLE38lP3Ar43aUmUjo2JAVOMhuQPRfaPPMac25EoQ6kZMn4\n",
       "kwv4pv/WBvRMyHDHilC/YIlWj2RrecuAL0cS2z309TWU3o2qP+Fit1gEpeGpEL7o7/xsvN14jbRZ\n",
       "XZ+pufitP+h57oN3HEf1K3TgyyRFgHbAaiuhY0zxSva04QycA0qdDbrn0WD7H1asYlVFOOEXOuek\n",
       "GzEhpAFhLxLa18zIoZEXpUKntxM8sZoe0+W/+cZD0PYU1qVM208l/wxROM/FkAH8uMGyWJT5x+Pz\n",
       "fokALWgy3a/IXrHxUPeann6cM7EEDksvcMYCjUo+Gaq5VcJffQcUXHFaTIcyRQSJInVziQhvjLl4\n",
       "Z0b4b5d/LuH+7v0Sk5fcPBMsqefTlEOZ4p70oJm4CDRh0dyEUWIaUCPPT6E3hCVbLAmiQ/snEaK3\n",
       "Xq3quFCfjSfzXkcUQcKlo/ywAjhIOmGOLNdhp3JyfeQUkAw1EgvmYII0AxtkX+SdQlLme2IwBrEY\n",
       "CY/8AFRJN8mcrt2mVPEdOYjQHHy5Bh81rVEjC8CGF0MTN0Jb21ux5PjfEgTe6SfLEX31p4L/Bk8Z\n",
       "b/1F91eVu3LOZSFEkDvKlVqYmMvEm+09NfaOwIz+G1Xg7no+LCZ07CSUdcWbVmBh7TVDH63seqcd\n",
       "dkvtu+Hx/gToWBAHzIQ9xCuwpH3q229ZlgO/0AaP5NnwM//VALNI7+uCciTkmc7cMk7tRybhkI/n\n",
       "zsh/WAla3bvh4WiW1N1Z65UCNjJpmfvsqRABWMxO3YYt7hdc6yarIWEM3Pv/5o8fQs7pIv86ikOt\n",
       "CHMM7igp6nbnQVQ3OBJ32HyN+eNDGcK3hljl7Ligdlh6OtuHzJsl7d2+fAb3a2Hs18t4Bcgz30qD\n",
       "MUSJvmDVwX/iTfQHKB4xKCDkdl3DJ25/LPRnRE4LHI10RGKMKl8LQNdzfb1UNBFXoZWZHhRGXQ6q\n",
       "XLevy0qTtpVnOJ0jGI3tOMH+CLiF0MS78CwM6bzbEVB772XK5JRFAgHBhEa/djcywUeyLKN2b0Yl\n",
       "ZngmwX/hxdIAAAJxQZ7KRRUsFP8AAila4nCRhSAAU9oHOZEq4QqqYrqVOraqiEy1r6WCeYd7OpVs\n",
       "GHYwBYsqBs0vyc+qKMf/IBpCDxwIro2Tt4PofWDdlZvIf+tg+BKK4ulqC2vpRgDJdt56R4v6d4ki\n",
       "bxhZARwMLqTgek3b2W9kc8xQhn+/GkbpYe6DSGuaoFoO9GpZzLzcSRAD+fqKQtd5QwqSV2Jhe8fK\n",
       "evuarmDMMyO7iwOWI9ZtiovCEjD2g78mJ+QtWvoRuAAugDQZjS3UoL4pqUHOgLCSZ5a5SNbxihF0\n",
       "aY8FgEb3dI0kxPpyvHEF4qvRz1zOZoi5+TFb+kn+1KIbcZ+LZ6EHLbg4lipRMvcQbhZpntDHIb40\n",
       "xhIoJj6dfE+OpJcZduBcaTsyRBs8R4W9lez9+pl1yFWsO6wjgJgx9PYJZzZfuJvjniEZC9aZ2UUw\n",
       "Z4pH3RNoeD/sLseX5l0SH5STD8zVH1zJE87rLNxaWM2+GomEWaQRA4gCj4rpw1mQdDRp+xNc2PT1\n",
       "f6WzYnYRdl5nDLzEe+IJ/RtKZsJyih37xzIopwtPBnpH3hwNCLLZpTI6yr7XDUf8ek4jRNTzUcD7\n",
       "bl7ImWKTiFpUy0YX0D4rl/DpE7jIsWvmHA24RfiEZGeAmUzdEp5g6RIEzNkBs/+/8BZV0kVjxn7C\n",
       "cKGPKEjQ9PzkAvZBhDx3YA5rt+rhGVmIABLdA5PSWRg6GkC8Mz5ftb6c3T1kQzA4ZiXuXFn4SGTa\n",
       "tKjZKJyoYDWhrsqxjwyVI01StQp3NpO2+rGBRJZivVqPP7FE+yspGuVqh5ZHq/3jdoggUGPk4fH3\n",
       "P2o0hE2qs50PuQAAA4wBnul0QS8ACxX1obDWDckWwi58ABuAXiKNZVGAT8Gpbxqmc2eip/aqQ5zO\n",
       "t0dD2C0fyzx+cnT8alEEfJdihy7y6cutg1MqoU5CfK7KBIHnRT5LreDKY9ggJ9kQC4N68orCz16C\n",
       "wzHGBPoFEoWtZyDVuJ8JkjHkVi0xr/nlVeLzfvxseWVonELLUWWB6qdvwOM6nPF52emHHKa0xOHX\n",
       "Fw6kbfuM1v+lCEd0xb+j2fgGLx6q/8etc4Km6KehX/Jih4QWhYZNQs3YIHBGQ11GxrbqpEjDbwAs\n",
       "APS1hG5/QKbS9ybKNIYEbXDHiVx8ZqBW+mFWovo/fVKYuctbx6CKuaiL1GCe1Xq/Qlw/Zo35qU6Y\n",
       "hsufJeRyleD70FEU/eHNk/OhTuzqvwM9nOEQdXSMEZr3TLgaLvKf0R9eWQwlDQUl5kPA9A5FWFae\n",
       "qT0jUKlsz7YcVljfYaDnItTpAWm56bJpKzbU1QT/wcriTB4Ru8NjkLuWiolwT3atJ+VKp1+h5T17\n",
       "fF7TOXzum2A+2WaZkcscoyZmJOa9yqMvO1LaguaETTFx0uEPpBbI2doGS+4Uz28kpo5EK6lCcaxk\n",
       "rIRWoWOpPAL3AUQAVNfonf9X8ea4Eg2e7c4dc2e40hOv75XDjuVP0txdLtkO4VSjSXyD3/DbAbe/\n",
       "uN4gZ68N79tZzMu4dUciWoz2IcC4dyMs+iaIA4qYo92l/tGFRm3ghob+PYKOCghbAF8aqbJfS4lS\n",
       "SjHK6gdYYiJM8h7/IAoT5JixKwG8tf1Z5gbMY+BycttRDKOKzAbQO84ZUZ8Wjj6QNfcSLMnK8Oho\n",
       "1HmM7pwoEu39kycv+m6fccM1Nt4Xq014zGQHPcPCH5Fpbsu2zPChr2rbmLLMqumdDbhFmP501Up9\n",
       "Jwio+TnzhSRYJxTZJAls+7SQhzDPfHsMbjpcooXYv0EjaVZnfRPGeOwMxdoon3DGisvwc5tsS1D+\n",
       "wu9y2aNyODmjDSH/3GHinitupVKjD/f5iuQ1MvPSmug3HHY++cEfhieCA6+7/vj6yzy2Pr7XJ2BJ\n",
       "5J8twLFFH5uYldbDq5DfD8IJi5/2U2sEv8yoKCQs+EP5U2N9U9sZGc527Olsp8dsC2rT0dwigA7i\n",
       "g/3788isOg37hmq1gZ6z/A43P8PYJhsy6rr9VHjkACPlbXivNxz1HiLMFWQg8aC2Yumn00evLp2z\n",
       "NBNWK6n4+b4uYAAABBwBnutqQS8ABmlMi/KgC56ozo9e91Yg8j8P55hTJOY8dQa1EZjLD8IIN2m+\n",
       "xi4ZvB3b4oGiaYdd2qebwuAxWqgpCSbBShMOFuEixiE4izyq6zJy9JWqSWRemyjSNwp91/aY3L1q\n",
       "rcmj2qgC8euHSbPED07m+vKFBn3Q31MeFYXZxccjZVroKkC4O3DxvIqh/6FwxzTaENCw6ewTB0q5\n",
       "+3FtkVxmLkDx2ZNhXA2wmWCYBhqVyiMLpZK1+On/DtB8V6A9G+DyCoRDwf/vH5NI1O47g358WzNI\n",
       "2q0cyxQKLfDgboTl2E29S/q6ldkxcV055xOJJ62D0rm2+h4Zn/VThB7YRau5W0TFRIcOYQB5Hc8f\n",
       "oOsFZBzaJHbMbOVC9YZUBkYhBenoZO2VDpxVa+hNueAe5o+NEKzeE41XJgm6d0Clqqf0Ayx/9rsq\n",
       "IsiuWQ+SAhn6gqLy6Ie2ggL5ntiDOTJaCA2qTYyAYiA/vg5dIoPJQmTUW11gk1IQ+nLNhxk2gMJC\n",
       "sQpWrFLYvE+WyPQE4j74hu3Hm2NB7HcWMbqfpwBDKs4hIKnzbrLqcKap4wjYwQWh3CerXHnE+Bi/\n",
       "a8lPjoX258BgeGu12Pb8KNFJcI7Cib6hfinedjcWnxUYv0Pm01zbg6rBZ+zo/LFEFFgDtwNomAP6\n",
       "aV+HBcz5Osr2Inbn0DtJBjIlcLxQCfq9SNaau6sFlAcXLqsJfuTM2BS5eVYOn5QqaNDxA2iRS6qL\n",
       "NJpYNs54g3DCQG2aUyqwIE0ClHteIz8EcpD54ZEnZB/GOXzdz5MDptqWAl8MdrJWwMO2oF2mVpts\n",
       "yUZ1bKKHpHc4EieP0TMVVVx0JhwXsERX8n9hOThbvvFDIVoVNc9FxfnDmGAihLZkwR36EDYgL3vQ\n",
       "RrgPYZHnpUoZNCD121VqDgOn/X1tG5HrNmoUE1eZO/fT+H4qrr8OEaBfHXRoz4uNxEEMUIHbxV3z\n",
       "MIGzjIiLiiHpxzcQRZj2P1R4Au4GX8ycwXlzJj+Ut8XA3HXkRmtZRUkVuw6aEIw6d40eZy2CPPgq\n",
       "FYlv0Pt2uvJC6zrhDTvzHIsfKYhWdRX5O9lBqJORlQFtR9V1fsRtxZdR+4Lq/GZmyi041RfgMhSA\n",
       "/HGRR0CuqQwf3pwjGZseyYSmjV8kJlF8E6VNaJfIe6YsiqoVez8Kxt3GsPsDiZApGt4pdHsKqM3Q\n",
       "E0GoHPYv4+dMBLExCW2GeLCLzVNUqeSiV+R6eEGVwPKet0KhSJgephj58H9KwG9/tblUNO6AyMTJ\n",
       "S57bO2R+vZowuKnqIYlkQCUapv7tbnz9TjCU1v9mP9U23b4fCmyoFmgLDueTuRg0xlfihbiqmkDa\n",
       "tUFwLu2GeF05AfMgt4X8WSe/RRw9xnoNFYrM/vfzXxoGBdV3Op8hbAAAB49BmvBJqEFsmUwIL//+\n",
       "2qZYA4/cVIARD+8tlNZVyRuLKOQhI4+QtWlR+j2bL9VPyvy8n+RlWLdrAJZclVO0OytbH3KQDVnm\n",
       "ooxL/WqpFf5iWHnF1ur/4EMCJEBy8IyeUIRs2Gpby6DRB4sdlsQLW0VcRE64ajukl+LfyDUF4VBN\n",
       "6Ox6AceNF2Bw3UvXTkfZDb8Mo0mouD3/u5YDqiS6GEUMg/ILBkq28UiYiXgxMUdiB9GKVvDt+yk2\n",
       "hvp/GZ5M4hloXAbEiKTsAyVVcqQoo+z+64k5nw5HMH1W+N5keUoiDCIrv3kPozXtTMWXXR1M2yh/\n",
       "7gUWHzsTcMQW2531vgdoXzRs5mZGiGGiWwvAAM+M9EJU6VnF7mUubARIpkyHOe9DF/d/XMCz7jmi\n",
       "s94xFtMRcDX9TSq+7O8udeZPs5RRY5krAj7OGor89GBO0nAyfJYCrSWykHIUdnm05NPTrOnPs9gp\n",
       "HFgGqTSgA1kX/FqKg/V3hUv+70dxgPxU33qKudlUirsA81hvjI8E2J08l4sPMEEAAKQBxojvaVCO\n",
       "g+Rm6NB+1MJ0TYi9hfv6yaEQW5tc7APemhoEKLdwFrxNdUWnz1ACXQGc78EqoR5Wn+vN8IbsZzPx\n",
       "Oy58GIGX3MTGYKZvSuMubyEHWM/sXqBXQd4FWkvr7jgxVlXiB4fvVvCKbubJgjiqBcSzYYIicteW\n",
       "/xld0q5hfiyMYgq2lJKl4MpXxZ0BtkYmmfvsDVNfhgD27c/mtbc8enrban02bRgspRY8kAwnkAu/\n",
       "xiPu12A8g1S/PXE53twrDP6oCuomDQBctNPyKliluVKdYV25p46Y5rJuzCdoJpjwUMP3w/pwUuZf\n",
       "C9mQrGYMFCbukM7QlRy0bzxHdnnzCeeWzeJHRH4+dXkAUNIZXPcZjvWnjuSC6W8OA6NeNYgxhWRx\n",
       "2NNZN230Hb9OBZdvDotbZWtEQEDZVZhIiHTUW2WXwx3JGm3ypVwJ03k0oPZPtpjETSxAixDdOGXC\n",
       "1Ei3c0kg4mnRrYjiL80I2VKndHu0EicdhzBPV/+W7bm5nYM1raoVCbANR1JTlYCOlnJvDgNuZBIc\n",
       "uT7GFK2BRpvz5qHm26+daY4Iib2/Ba7TBRdf16M/T8JS15C/kIFx1kz6epB9SWnBhn78K/IYtcmS\n",
       "XzLL8fMIw8qWCPVWId/WG1ynPS1bRBFLEX6I8UkvnR8QEShyIOnZ62SLCr2lyrL7dGlElA0JIWfk\n",
       "dHthanrNAZyoQLilQPn43Fveav7ouNRVfPnKAJgsRKdvGrUiWXVqt7aM9ytnKH3xbAka2Mgccuqh\n",
       "KeEOIRjYmo4zFQK+1t532Woy8R0PBbC43b1AxhM2AMyPGXJCe16CV41t0qE2fnxyscC40Pmzj3kO\n",
       "DapME8+JLbyrO7b/UGosHO5/vHsZMywBzws/0rcQcBcaK+Ab1jUTRqZK6pxhMroBcR3xnxDBo06S\n",
       "QAS1M1Z8K2RuB76tFtn89+ckPAE0h1P3Ifp7q9FUctpSG62E2WJrouEt2ks3WhREhpDz4oB6MZxT\n",
       "MXvyyStaUSKRr6NlkSV3lbVB3wxGgvDiAFPtbIIxwxSchgi4Lmk8dH1nsYgEdPFzLZupsOyb3NbN\n",
       "L1zeJ+IKT3liIIpb/Vv5rt4/oH6U5OJkdQ2/wbuDNqJiHIaHU3qVMIdvzt3EhLqoDsmRM+jXpNFP\n",
       "Kve6xQ/OXTIYu7fi/Lkys8qWj0m2KdX049ngwI0HN0DndmmnyOJZ8DE6M6DOwbLUo8q865Y6cdtT\n",
       "GIyIoZAOMD9bhtHoXCS2tMCHrDpJd0RU84ABQB5B4lktgINe90dJOgk5kVi62ZaASHyJ2MvEw2rR\n",
       "UzcNsh8P34JKlYhpIxUN15mXLTj9ARtjAkA4IdjXNljMZr255nIBCOPZ5mZ+wMk3sqvpmSishDE1\n",
       "RL/Y0qpQ0v+HDhmeFtHyOg/2fzEgoyKz33VtaT/kh0tT5o7A4S38JB55Xky5vWTqCAdfi5UMkBAp\n",
       "z5ger/l2Yhabb9Mt/AGxNjmGo9R33Akfba0CSxMbCWPrw1eHATBq+mG4UHHty20rzb1mtj+BD+WQ\n",
       "2tyFCmlJFRbbkWYMiBRXdLst+f9AulZIa5uVfOINWXeg7jC3ViMRBiDYAl2W72Tev6BaevSxqMaq\n",
       "SmvQdhfDJARkwlaY3Y90xyDZnmsoWmK2b7ksNBnq91fY2dJanTJNfgXADTssqz8HRkelqIread+k\n",
       "zvXfPYrZaOdqERpf1LS9yFI3cacHB49ft2C2CSv9PR4fm2naXzVk1KyiKNcYnDDComIhOV5mxqYt\n",
       "LHAi1wPmfKv5HXrn8kdevvTohuXScR8EQKQeEX3Jq0zB3YbCvFc27j9vAsDsUiHhXfBMm8NciNKN\n",
       "sSXG/Ki8xN9dWFcQbCvZdKR8/7wofVzMA+fnaTdfveSXEQ6ZSBzJdHC7tfwqc7QCoX8qd0cCUCw9\n",
       "n6SjfKj2+UMOHBmE2iELAapOcZ0aXGLhnsaJVeX1vUnI/Q01loPY7azQIbTYauLgqHDLkuZNEqxo\n",
       "LJ+JXX/2bAJLxMlH/TQCJM6HtOzpqXxtgakymtvC4Q4W5Sp+97168YUAAALtQZ8ORRUsFP8ABC61\n",
       "xOEwR4Lr1y0isAAq/U6mJcbQfY1LfDdeZ8NATnPHYPw5CRMsoHxDmRqYZHuZA4nDT6ehd2nWYNeG\n",
       "HGjuv5TulMymEKA531EEpSVsICzQb0aDO9z96ou/V1iTDBpHMiaROAH97CwXNmrhUlS6E457D/vA\n",
       "lL6xPtB2Gyybij5kPrVhljpgqLWrKQX2TzDRlBTnrpRY9kntjUOsiGRZA3xfj6OjQEXxDQ3Y+5pp\n",
       "6wNoRW6W4A8xV6kJTvFmNijfuJeqcgdgH60u6f1s0/cobUSwY19P72alTobKSGj8tJaZzYHlXLOI\n",
       "V3iEWfn93y4YUhy9tK7DcBzaoMi0wbnp+oxnOc9LnR/SRYuPulIrjDjIeQ7ktxVoWWXtfUbNO2e/\n",
       "HVKx/M4j8LPnIz3NMgRUh5DCLGCWcoV4BrHP3XfwxAlMhNdUgC9wdXpE+Vj96xxtGeaO8Kmm68gm\n",
       "Hs+P/k4d2x0o05uQYCY5WV+NENd0eApaQ6H2VRoeOjSdy7RPR/jBZNihbjcmNf6Y1c6xCoTS7B1Z\n",
       "mdxGP0tRrcw3Dn0/O9J61g+Z8acgDk5Q7HGtSdyG0rTx0Yfs0g0IdKp3CFc8AzJIe/IRxC7D5ayl\n",
       "rY0jwX3YUTqsXmDRIBeF7hwuUH1/WRR4k+uqYcpm9OIiM46H3Isbp20o9/jKioXk2n2kZrZ2dFhP\n",
       "ByYymF0x790iAQNFKztajG8V2gqZ2GCSAfdcaKvNgvRZNKN4Gwv5vg/w0R7P13gKKgBLCG71rovN\n",
       "J8nULl3I3MHPARhEjPSz/f1aza00TxBGmZXKRrlcxsAc98tUpkxmfzJGMn8/Y4dtei/UB2QivgKp\n",
       "5Miy89ONYqxhcjQCAaflh1oClV4xXBwGxu4B5hxwLJqph25yRabYLWMSRYuxcZJ5kZdXLbXa726B\n",
       "xF/M5HHXib862Xsd8WwhmJVMwfP04spdHcVgXuOD5DNiMxPmGndfG5CWwhSE/68SBhzjsOEAAAId\n",
       "AZ8tdEEvAAZBuTvGCAKeie6OmPX7BJSU8pQ9a8UAtRMYiiq04eUAo2Y3ZFrm/3VSYgQP6KXqNgiW\n",
       "YA2mm/bKYS1Dl0SyolidCWOMPIexsWkjCMoJPZDryqgdIqCBcn8Nz49NHTTTOfxYg0UKm6T3Lt1c\n",
       "2bECZlcX2V+yCvrBQzUxEz/5UOrSQ9rR74uxrrgvsTmmV3SApiJ9CRCPmY2T/i1F3TfZgMF4rjLU\n",
       "h8MdZZHilnw56n3oPuAtm035JEbWzzStI1VzjWXHRI3r1ZiyWMEUIm2pXtuSKXh5bMI2+wL0iZk0\n",
       "ZMJB9P9P7nLAGJTFAqTxShxEgQce20bXa9LI/Vc4rmdncSB13gLVNHR2AZPhHerN7ekuhOP+Hf3z\n",
       "KJkWbhqlnHNjvd8xhc1axUi7TtDEDah0XfYYznBPcnpRFRxZc5cyrj40ST+qTSC5n8FCP5PvrRMs\n",
       "MQsZAA5YdpHgsahZZdwDxUaT8SmdKrEuiVezLIHMmY6LU5aVuiCmPND7J0uZXuHwaQQvrrCjEbf0\n",
       "D9maOaSH/4ivMzQanULLBBac/3gViiRmSbuSUbS6T3Tqi1eh2MfIonnx/CwrUx+5spArjMOWE9Kx\n",
       "j+mzjulbXXuZWmB+IN5CC23SLKziJlpfF2NhHjcWsp0fvGn0TYWr8b1Dsxu41+tSc9jeih02iuyN\n",
       "XS25IEZg56Pd9vSx6TYDV4fR6JrNxHLIMq6zYQAABMcBny9qQS8AC/NHxYSogACFr+1lnsnw+uTM\n",
       "zWU1qLw6RYw8qSXNOMuMWwm74dHiqqSO9a/GtwELrTv9O15D5uLY80UK8qnoDQQTy6TsXh7V7DT3\n",
       "I6wu2bA7tkCXDFz+sSU2d3AviIBATKzfR6Xs/oboT4D8m7+XZ8Ol3zBqg21knmGLAQ7fMqbIWe/3\n",
       "QTnH1n7w+n55DCvGzGsrZN5BV4PyPBxuTd2NsEocB/HzNEqmGowbWnKbcvkxSw5i2i1xdhi3uUWl\n",
       "IqiCea94n0EPNM4IEZpxBn2g5rUZl5HXA4BLbC+ihykjwftTwnS1c7EGyqmHijkltSW/kpsx1AYh\n",
       "ECgcDPdXbVQSCtplYCfdrQ0drOZ47bd+508ARGU7CjNwT+DSKPF0dMh/N5+fAFfKtd/1/hsWTuWQ\n",
       "LoWpLT7lofZDtyygGaS9C+1iNSB6vzYV0VpSf4+wjW80XCr3NthbOpcwHZIKwCCQRHlFN8UxmGnQ\n",
       "hY1H9Qb4jni6qD3xGVSYCOYVA2W1YZOlSatZmODqibdSiS41kgCds20kbbbcX6sjMTPNHhsg4wOL\n",
       "3IYpcxXmhDKDSICpWSs2AK9Fvk8nPCAu6EmvF7/0DDtd0CyaP8wWTS+nxMny4izXKayjiD08SUFk\n",
       "4tvxvWPIB9S0yCOVw0LnPd+3DVp9ceya8g4VJFOCJvDp5aWY8mXZob91SGe0rtr47dKXeEv4re1w\n",
       "1+ogIDh9mzMhKjAK8QqSzih98xls+SZraZv3j7ESzgF2bEdjqFaTMpIq4yFS5oByWs4X3u/Wr482\n",
       "y0p+JipHJyySaqY6/fHeb2rSAiITFj4l9yrQVLp+sn3br9/wWB/PqPf3bxBMLhGIXZn13gdIQWiH\n",
       "MKYiSxZcaMqBVdXx1ka/dqQk59R64/AOzqEBPDVuyZePFp62Cfjl50Lcgn6+z+yLjmekKoRY8JdG\n",
       "0CwzIYwsvnWtirRmAK+FlnWaWhdtJK1W9u4nK2qhUtnmowok9xzs54GE4A1Vt/PXZPHnRWiEJcb6\n",
       "u/M7AWk3lBvez5bqHVgsFWOyDrFxyrH3WYBREGoplDDdB5hulCmugFHQqM5pZs6tus0cxb4b6dC4\n",
       "+sZbXwtn6NZVVflZG/zR1J8TeW85dZ2bm/0kgkEkfsa9UOpFPoJI+rKOp5G5OhUabLfAOndumf//\n",
       "QfMTK3h9Z3qAO6N0lKGaGsfvl653WiackHmfrXgBxGEoPJVFuWZj6kgLO8LnKI4S1cCVtWBlSIGc\n",
       "CciwZwuktI/qKCJmDAE2BysSfkCixQHeeGrrw6pDoztKay5HuZEvAYdNdmJ3pM1MyDdhYJaX4oUj\n",
       "73PcHe9ezrJHIjigHPVUKaLXAAldzcnIvym1oajwq/by2Qu+L2YkyQWEZztNWoo+UPOG0RkEBZgV\n",
       "5dUi1hFZuQ24kDqPsZgGNWIXeyHGwS1qHh9tZ7IzNRHwYBfPc0ZpyDmhptMqcKgyaHhf7HSdvH2l\n",
       "DJVTFVQxO5a5ItfUCynjcAsEFdOsdbuKYyIQ4fzoj9izEaDjEBaF6cDgrA2RjuTeC12pq6/J07ob\n",
       "4SdS14zysPbNxn3hlB5/hhsbeDGzg6BdUSK/GCeoFCDQtNnmb5Xh6gS0kHAGVuoKNLJwMEXR6P3t\n",
       "4AAABnhBmzRJqEFsmUwIL//+2qZYAtkVIOAAQmVUMWiHGqGq0MIICHlPO+rmVrLk/M5sPOjP/9CL\n",
       "wsP+Tr28FB7hLseUWYkUXj/IIaL5Q/44WwxjkRvB0X/QJgTzRbOXSi4THQGUUoqWACXOgpjQO8kL\n",
       "shEp4clHhAQY8+m0+r5LTcrNs5ExuhLWP6N+p45xkQJA0jl+SgmZ31yYKbbghDSDnpXjPeSZtFIm\n",
       "pSVquEj6SOj91X/QJPERykxW9JUAw2s72X/YhCC6JnY9odUkuHk1heQ2MjiCgfPiIj2yBeNvn5/k\n",
       "hrdINad0XoQsGfq7bS/XS3AsLDLiJ6XnX1UtQur1zDpru2En/wsu4xeoD2E+w0mRIMWMjYcsLWgQ\n",
       "PSXKI70IuZFNrK0rVRxiQ4W+S11/l/3Yup3xOKoW+pV+3Wt1JW3KPRWjZYuEuWyP3MM0C0xgNC6V\n",
       "rGL+l9Un7uO6RlXIjatC9gSqRanpbqC6Q9zym0/4m+4UcBdBdO5h9+N5DQueciWRnw3sE9kt+6nL\n",
       "vbw3qr+eMaux6b0qhZK7y8dP9bC10teQjUUl33E1rsLS1xHPZSp5xX3g8yP+E0ffA2lvPBmWk4Jw\n",
       "BPlRKh1Fc20OtyTYayJd0XT15V9cwAFZZzTzlYTkkkbkJGjoP43pjBGQYaffC3hpmR7bWemHcFOC\n",
       "ZqtjXNxMkZMlFosVu7gd5Grm2aAAEymPpNGYWw0k2NdzW9CP5kRLdw86Bq230GLGH2lFptvcSIkv\n",
       "JVgWulVnrTFRmksarsKXWgMtkabbeWiRkx6EzWMrrs2VJhZCcYoCyaf4EIFc+RtKHwdWwe0VEt9b\n",
       "329B4MfzrmLlnWEr5o//0Znc/MqCB9TiX4FtbOrWypYHcgTn1iw8fDzYhftCwUmrfBIB3XvDPIfw\n",
       "Y8QBaSbToM+BKPl15OKnPfzadIbEsoH0dmf0odd+Y1WJ9a2eN9/w5vgTT/VRbRL85LeiI0J/CBu5\n",
       "wrS20oP8Cj+UnP4R1PHKHiU+OjFJQhPaHfxu6RAKrcxVdoVh+ewFEjhs5qd0q2hZyPeIhWc12RUW\n",
       "zOaqeYt/9QWE1FK9WPeMcG9Y9rNoK7tHNsBBB4Vwh4BND6ttObkS+bzwAEj8s8p0qWjhNxvxpxGm\n",
       "/hoG04MyAI+D2KlDjiDT7efsfFMeZbmlZjAkmD4clOvmhpPNDO/TRuHSgbkMZkRpjRXsIkkZ9cY9\n",
       "Te24HupBnafnIpU6zGElBG2vXpaxoo9Wa0ozyww6KnJA00CZ1LOGzs87js4FS18zUXFbHomRcMYf\n",
       "UuNaWgpljh1Ue6UQwrDv0lmehriMhx59yks9AdzSi+BDHfPGXRtZlLcrAUGwOevvellW527nZ4S1\n",
       "IQ5GDtog1QuEnxbk0GA9t4dNAkeb+EAuLujs+EEm2IycL2MlY/96E4Wfk+317rQ8/dcxHaJri39O\n",
       "jyKOoaifesm90vIIAvfP/BVgqtHIaCpTyBAmF6sYKHP7ubZCGyFw7Yqz0LsZO7GX3G8vQdnOQYON\n",
       "jZt/L8VUsy5NPN3777U1sJJt5FFGpZG3+I7yuEaHUdchvRKtohhBWeT4gdROiARUN7AK5QtAg+T/\n",
       "AgmXV3piC00ajQvQWtJbaHvj0926QLss/LEZfOThHKi+mso3uQ4tGFY0pV+Fzg2kmsV5l2vIfF1J\n",
       "jOOYVydn1yxVU+9kODM6rlmxLz5xktuc6nH38ZJeUMUXBFVtTEJSXj+REt4BKyEkuMqe7s/W06h8\n",
       "Xj8xYJsg5LYw68NIw+CqoctOaTC6wJSvs8If8wdEc6He3JdpTQuok2JcfghgWnWq9zhPKr5tayVb\n",
       "OydLtiXU5h4ONuUlkP9vcsnkcOfC1Y436R+OIPsj+2RhxHvGv9LzobMnnmwSKkB+J6VW4k3pJt4t\n",
       "meBYx48ln5OCYRhqg9F4HJbYffkF1xuFtApiSo56MonhJqZSD9SZIqnqQ+owkXmXJUSHanPsKSTX\n",
       "+zD0GQhofsNpO+4ypxLSHylvrFTyRgoxhOtscc8R1nlFMneGmf6lUij1SUl2ZwOiPRRC0kb87ePg\n",
       "7tFi1MJ/+P2SqNHuxf2i54mLRIpFA3tjNjVhOgBEu8kqPa8IjcsTvQw3tnnFspl5ckdvNIZVXV5b\n",
       "woP7/6pa9xeNrMLwuy536cYksOibwi5rXNY6WMStcZPmKrbHaNv0SLYmmQttSJezbA+aYH17edVd\n",
       "FInmNLGLisAAAATvQZ9SRRUsFP8AAjlqiX8ABUJIHH6LP4Aoc2GGwuha+/2KOTX2RXkzuWshGDEs\n",
       "ylY6udPG15nasrisZ9ZclkBUjFCYNRl9sawacACsDzH4uPGGgswCkqPCBo5+4MWVs+duAwplfX/A\n",
       "jXAj8juCz0tW0vtcf+CK58Iei4rN+hW/+BfZtZP7X8ouQ0VszYzosc+1MCB5IlHmcKQGHPgr3vux\n",
       "L9dxoiVdCs4VLBjLZer/hKTnK/bWw20w8XDnrXLoqv/NSj/dxlT7jJvw+3/SwYAg7AEhwjZCjr6Y\n",
       "EYxBbVf24zKn7kxPP/uFZgsz12CjCjXOWsnbagNKsfDud66SCmDVwah1afggdVOb0WizeSXzGg90\n",
       "4QuHOyXaqUtzOzczfRgUq4dSZzCt5sOLdRmo7BQ/vsj23j/POfURLITG8eDwsphUErKS+Mye7Y9J\n",
       "FFAvG4CPo/JkvK2gcAi2hl90FsDnOnVwpk66TxGqftVtIvpnxWv7TiVqyRqXRYuhq/GcTJTKfgNQ\n",
       "VoX4N0uNMGlcVMDM9z/cxzNjwY9NwFJfq1OH2kR8Zfrl5noNeBCUjzpvKa/XPS/rdMSEQWT+zqZ1\n",
       "eqEcyFTw6zS9TkFNep+FpNutW/GQk0qa5rUajSopOUtjCRfQZKz/xdMP5qUaQ56v2r2+mHXH1SM6\n",
       "3y0NCDQLAcvPw1xlHtyI655YaLgNT5cRULz9O5VAur3WhppfPyF5DepaHz6Mdu21GsUAh0uJaIhZ\n",
       "QqsMC0DO/rWXw1kQ3B3PqRmSEbLMP1VZ298vkeAQN6wTz1rwflT1XOdjnQcSrc3Ei7GQHFk/F7z0\n",
       "M8zeyEhEsnAWw7x/H1Fxqhe65LEPx0hED4cEUNX4Exol75d1OWz1l17glpbsCvxomchIUA/AvaCw\n",
       "Izd9xxv9yUbqoNX4UF4tE3TcdP6Hw0yXe3Md3c61x1a2CNIZGQmkkl1/1jV7RrpnydklKRc6yoMj\n",
       "S4+vG4fDcjEgymS16WFSP8szaYfcanzp817iY0GLO0RVoUNSZsMBFF3af8oSF7UGfYDz179edPTY\n",
       "r6tMpzynvvgcx096+/DZroCPPMaOAE26GNWmH0y4hk8pT4sBhja6a0AWg5jFNPJx7N3NPlvHCRW0\n",
       "lGom9uhz3IgLHp2mHRivgVc/ynpuNZOK5oBzGbELzDAWDAzeA9NGh9OwQzO9c9tWEBDYPYZ1LLGO\n",
       "1v6rRcF98G+27IFYsvtVAMr0t1wF78ICqBGgCfEOqQFy/z73kiHe8jDHu5dtrfZtK9WuDjhYjkcG\n",
       "P4XLt7igT6WM/TfbNDJpnY/w/X68bghZWOJluJV/RKaLIJIQMiEuxhcTdJ01Po0yTpm+UHYVP9HM\n",
       "Vml2SVNhrVu88frV39nZKfcpd4Mqum8oZcDpFp4sWmZ3FZwsTcd9dTMfaiHhVPwfseNNwRiBZrO2\n",
       "LoHrUC1YyajfqBXMKrXKVvMLvk07NuuxFgFY7alpX5dN3Iq0caIDiXJodRTevL6qIXVwGwKOp+fX\n",
       "Pjo9E7rUdL+Y75hsuk3Aeza3Lwz6XeUUcpUbhTP88sY27LYTnW7JZHWut2Qerzf9CFWAAAADAe4r\n",
       "ZUeOnAneQRc+/u6howYWw1SDmvC2qT49UJHtvZd9PIfLVkpWiblp3+2pBY9vh+43rfh0Mi5VKo/S\n",
       "sfqqlrv5TJxDZ0kuFPrcyejb9fKnAAADTQGfcXRBLwAKPfXMUFvSBF6A+CMQBvq4jaF4i0Jm6Vs9\n",
       "c5qBjQlWW8rqRN99PxKah9s88HaHbDP+v42tlp1+QmE7p/LCUleSs7f1fnxPLVIbrFplgs7kMDYN\n",
       "2YZ1wLZvoueqe4TpfUv79i58sbpnlWamGeiz9EjMnCZ6KkB3BwNxCIrcwM6FzxrBFIHNbZgfLnCE\n",
       "CymUFZ/jRXdkVMmUwBpQPD67YXZSJfq8u9bNdL65ePwk29I/TIv6Z1Nx+9POCGt+ImsHdi3raDkl\n",
       "V5JOCHXg24+2fRK7ysEYytYPtNGwSn/0jdxmMwAOVf4el6tb3q3hP+6ds0NViCoBUtaeo5fulO6K\n",
       "CBdM4tFlv1QRT7Vme466XXau5n8m1hYoacAHE0LsX5a3obtfNTaaCuBVTvReIGpIQC4u2Rk7OqJm\n",
       "PWauYRSqnb8tuV9s1VJsRzSCmUOOcGcnScrzUQFFgSq0n/JMXUe9nTUVaos1BqApgzz4CpNIBTMS\n",
       "m+VmqF8dDQa8s42Jz0/J0EWmLH3yvPRy/53dGdW6L5jTh7qrX4hUrbzCrqE2ogM2iL/Tbmp6zHEk\n",
       "4XAebvm3xsqkvD9DlzOnf8AItYE9mQJZuUOS63DVF0Q2oBXi1fGs0ZATu5kfYJOa77AqDCYqLju9\n",
       "h1CKRtd4yh9MeD657AXIojQW9tXysIMt92T+uFPsC+dxTD76Qa+vnPNPwIsG+U/nWTWMA2LAU7rS\n",
       "8YWTNFAmHaJ1/HFvah3xXo9J0b/D7Y7ylNJ/mlBGdEnM71QewcVPmVavqI0PyYQrK/UEiDdiB3td\n",
       "7Ax8in/kCK018/uzAsOf/t8kTSwFjvb9cto3A5eA2HduWC29dVkOj9DGKinuPnazvzdAw+nZ+VAT\n",
       "54Pk3ta1TDOdxvEOjKJDArsjqd8SmRXntFADX0WRql6Dv3kdbnngbgnOrE/eOP+ElO1+7OeXEecg\n",
       "tmTObwFcV9ylvU5+9qm8AEdeluI8RvtajwbdansyUIQDIXUy56eTl37+1mA7cPnsVjTcaRe667lU\n",
       "d1XxXlP6CFoBYpDDO+9e/qEGuhs8bqGJGDZylXsIhVWeKJproipIH9rVOd2ZwlwX2e5RqiYUuptV\n",
       "G1GNbUWFP2UGjhOoPOeAAAADqAGfc2pBLwAKzrrQ3TTWXAEdH+oAuetA1brtPW+DJE4cUaIPG7Ua\n",
       "ac2aNQebWoYoW+LluM9DMjOdzF5heHlsQDNplTI9SPxZl1w5XEFBtzbArtaO2/n70wFBMGsq78fJ\n",
       "jEI8ilAJGoLNYalA58ZvXUKTmgF9ff+PVaOyg0J8Emfc38BLvlT08Eo4dl4cJ58sMz3YjNQfxf3Q\n",
       "vkSptRvm8qUEpTxn81oKserX2v1B5Ln/s0+VFsvXrBmNmJuMmdudzNHfVCeMcxb1hOKSHlt7g9W3\n",
       "El0b9ssztypHqPwnQtUQrgEkftWeeXhQuMU72cQXauyoe2ntZc1lThnKmfPt0amDZS8cBhUgC9wn\n",
       "gOigYnWbebCeffiDpez2ZLCHMAM4MYX8AncKgkAUNa304HQ6pv009EjC6bzOcXV6hGWuBhUQRrMa\n",
       "grO8aYLGKR4egsHCnTd7+DuA03AsCkXHAw+kR/djz6DNokkevBbfXg9yakGZNqnje+2vYZb7+g+1\n",
       "bs1aC1slJWRBxStprYyPtcwrrx/2NFXaic328tj0WOQpSlnATQYOKKenMRMGiCUdDDVqpNnf4t6r\n",
       "iUbwgr++ZrO6uqQgq055qI8oDD5BLOZBNJ49dpXfq95ADoQbnOqYfH3cZMK5J9sD3vpe7SzoNrxS\n",
       "xlXFeBOqOszhPacjYUUFMAOaAsmwtkONYnmkzdR9NXQjzOSgKoYTOko8ufjADDm9Ax9/gdrjgPxQ\n",
       "qUDlr8XeyUfd/cbtV3jUUiMFaswb8TUydbyq5zC4ygHcJ41HGYGds5lYbw8IZGk9dVQb1Z06Tagi\n",
       "qSUroDxolQHHVPdVLxqSkAS0HYI/l+tQQMfeTgUb3Q8iBvYy5+Y2qfBjMgTgxWalpODWiOHHSkPT\n",
       "1wfyYQ1qju6tF4JjNgXjg46yf0A3XhzWwfIora0PGK/UByExlcAsKGgVwEQX3zjKuyeKaezCyRA3\n",
       "dgLAXdEKZOQNRxSbySJ46hsDueRNnlwkHznXZrxtExzqzcgKFCfEdlxYA1/mHrsZBLEVDPkXEyUd\n",
       "mmE4CdRGJQVYzgJtDRk2BV8OsLcWCFyPBkT6+8c1dpwg3QaOgr9dTVaGYOCFSF9qs1Y/+1ZztE3M\n",
       "nZRGmzrFRNPs3rgM5FhG9I3sPBFIAABY2beXBi5HPBj1VCUc4bj2rJUeedeXOUAvk1dJ05gyQKS+\n",
       "oRsCFdW19qpeCIV697JAnimFcuX1pbTdsp1y59muicX++GcwCaCYbIvo4AAABz9Bm3hJqEFsmUwI\n",
       "L//+2qZYAtjb1/dKl0EAJXoEY/E+qiBP+UrN9VZ8vp1sgLA6GRAr2rP2k9wHh3IuYe4KWEH8hryl\n",
       "qtHk9bHAmmC2AM3aE/DqgWM/GhzmxseWXb/P7uVmH3kaKT298bI3yxjnZ4ndahFyPYMc5ukgvSJb\n",
       "pScQXGKv/ogvzvdlTv6E8Ddmz9AItXXyeXwLhTHw5cYWLc02EwOhcHmS8zYWo/v9WMuE9py0Cp2U\n",
       "r/TVMdofZnpA0AALiWEJqrxveiNbDIzCk8bhOGi/+vPjh8TI5lFysfDV1wDEDTR7TyZqod7FoHBn\n",
       "mrD5YRfvS2rLnFCcZ7f3jt9H2p61ubB7Wvaz/A4d2L3ggpwk3uwFVl8UQfdkDzN0xyLWlAfaBymn\n",
       "W1CcXEgSsbWsH1wLozymOAVlRsdV9d3WdKt7hld/PoX9SOXhSjqZRM1POWQM0UIgOaOOWG90UYJf\n",
       "XIMDmpE3vimumhAfoTRVDIajVIwf/DrGr8bfxmK2RPhdxXHuIqRcPbpCEI1+zz0g4xGcdxJPokpu\n",
       "f1M8lf9GSIPPzzNbZCFBcISysZTVsqt+/I7AdzZSNkU5qebJL/cdEMmP1GZvhlulGt1ior9Izodv\n",
       "J0s0XFdtT1YW0QkJggcQeX35RRMysjGLclPdh/0suPKpjGLFv0B4YxdHjwZI/LGu65NuNerq0yel\n",
       "1arAT/S+6QSiAOyBkABupPZHq+nlfMhjI9VLEETfU9teWoNcCuvNBVl2BwMMmc4+qi4CKGq7UGm9\n",
       "F066pHst1SHe3prjT1EmQP+/uoByxPF8QPfg/4QttJoQPRrvgT5h3hhzfjO8JDuN8ET4NqWSyG4E\n",
       "G3+IETStJyxtkd6hdclG34YSZGPe+AyRj1C0YBmz8KgsUwZHkX/9qZrFMsnjj1BHIKehmcL1QQUw\n",
       "14jHLqgsAkqGVtsOCPcHZ1NO7oFUXCBKC3jLjVH2RPoWoDQyn2neoE2Yw8VdsknPJSgDhajskmQh\n",
       "fbxN2LWRtmOEu7CPT4c511Avd2JX6T2ACCBcQwAqFSQVDMCH9zG6FuRjXogFTy3ouUM2+mXa0jrP\n",
       "bBuVhp1eJhsFpfSxmp/pIobrgVGb4MkkRchuV+XmkNfd1TeImKzejNvNHo7m+m3RfUDw7JaGsVai\n",
       "Bxa5hisn1BczQq5oR7ehsaY7PdIUAXEMG5cBhsJcMPBo1CX7txhtJeB6HUPnd9O/D/pxiVLP6Uii\n",
       "0v2fuLJ0ZPgnHWeJsfsZThOb3GTLAchxWh86d0deHHLo0t8EUTtd9mfT3EzcwXCPSCSbDwu61BFA\n",
       "oUbo645VBJXj6Lx6lwr8tsETNIPlLNP626Ula+uOzWPCyuyvBqGBb654KbMgUZEdQ59hz0dsnT4N\n",
       "5CQ17JGunGuQt8n8yFj2WVa0RTU0N0/x73upvEgmwSXZHbNa9VaoPezshVS13mezdQlQj7tO5m/s\n",
       "TY+UFvg9DI8wuIazB9QOaVYyoJjUMPyUYFPaods7/bzY+GfOxhxXaEdpv2CQAE2S7k7Ek9pv5Xk/\n",
       "XtYUw4F9EQIH/uJoF39T8GbM6wuSa7H/5j/jEDpaGtcch1ClenqsZiAknb5nHUVJmwAWMFvxj7TE\n",
       "EWnZgUy31otOAxmuCijPDFDsjmi44uFSKktinpee+ny15Odv1iIkesEBKC6TroscHqAh9iJi42b7\n",
       "B7+OD9jYhbl+rMaA/xd5CBHqrQuNREkLE3a/gWLmqezT3l4hfv+LhkkSqGFZ/279YGLuBLPrcxgi\n",
       "48SgJqKM8Nc8aLKH17nMu9uKsKt9U6lzMPnGUYGqVyDKxrOE6TMbR5jg1ZURIU4BagCQGiucUoJt\n",
       "TIBJO+mc5LsAG3K5M0JNQ3om/AC5Y9SHGBSMhqnOS8SyWVAdWinA1qgWroROKNSq1ydw+97VQdFI\n",
       "nu6LCCTTlITht07tpOwens9QT3sGfvTx+rA5wVTdUylHZ0olx3L9bxz9W9LTdeRBgqVozRnKoMKy\n",
       "/ryK6Ko4kHqZmJJ3yZHgipMOHZzQViGyvcg2LKOj2O39s24XkCt+sJTmZSawy1pYVwVDwI9fv6m5\n",
       "/n9SRr3dv/ePruHLrITCRHnd9IW5oe7VKd07ijLbHDXBic/+AsWaJFINzG34Ou+v4DYEOfCr2fUV\n",
       "WLm+KDSPWiVqITgxdFFLcvBbNDDAGS2kxu5aS0rFRDKqkjYyzSXsBjXyuQ6IT/BTcmnv4bOA06T2\n",
       "+pIdUkpWVQnN53oL81nbDfrTBwVu+C2DIOhrNdJPiZWTm3Z5WA9jimQLSwK3sJDhd4RhVo2XRv4v\n",
       "ErPGoStwY1tdm3ephpD00QaW4AZxDArA9H3NaTEu9cCL+x7JPOO5bL9cJczcP15I3vyc5h7CHtyN\n",
       "tqk9WVhcr5UNpZmVkYEadQqB+p3ag45IzPlzZj4YA2h+EM9NIRZ4gUVIEn1xN0ZRBGjRXU7POV9f\n",
       "cthhCJ1ahtjp0Y2UOvJDDwZwEjOxAAADhkGflkUVLBT/AAPFhngymTowdaLtu64jZ70ABUJHtrxs\n",
       "nPHMO64c6tegGQkH52uqjOVK2bTULm5zzuDoOvwGfBzAV7bNXnfZH6vnE1BIW0pvVTF/VLZLlqTo\n",
       "FKG1hbRT/7oYqb1ThXZet1WQLelf5uFwkeV0o0nZmqa0x5rK2SVSN7tZOfM8kwE/FOwLp9dzXJT2\n",
       "Mlw0zOjkv7bP4wUoMxH8zKlYaCR9w+fgphmPnuXg2boEPoNuS2L+SP73b2KvsqESuExSXhZdBII/\n",
       "N8o2nKYinRvGMybdSdaOlHuOcfTyRx0aoj//0CoJuaNgRugeh0wEtCbTZYL6VzB/rsoe4Aa466JX\n",
       "Bp15B2V1pq6PaPJq3GNvGzgX47kISaJuzuOjJNqhzb2OSZEZrwx8UEpqaQrstB0bjEmAham8NcJC\n",
       "xestg0fMm1xdE3HWl/gEZdtODZqOct8EPx9wcyPgdOSGLnKY29FSqJgNfwBaii+EnPcInEa/VEih\n",
       "a7nVkIWDE6smalQJM3zpjezZg/rmyb8rJUJ4txo770lMfd/2/LLl3qfaWS0XtKFi/OMaE9s32dHe\n",
       "nJuxaF4Hi8zYE2abbfCjOI6RXJvgWScWzVohUhg+N4INfdSN090WEj8358McmqNC1Gmx/Ae98Pwp\n",
       "7V2hZe3RXtvB7ic0iu0BDvjjGObiCsqZdLzNxcp1CLKHpkBF/+zog7URpgsF4fLN9YFwii8ZjzAi\n",
       "7gdyBDGtC86M0dUHTKWZjzJj8d/P+lkrHGKLWpeGLEL9CH1gyobFFonuaR+C70AqSw3a+pw0P6oz\n",
       "xDp94rXVAX24JLrx9rsFw167vtkKNnD8u7DeUqQIopNKWD6jU3m2h5/tOlZaEt3CZtTtYiilgRN4\n",
       "EKgo18NOU2W+FtnY3s+Lvu95YEe6tRdvOEwdpUp+e4hWL/YrhYNyrYfVGeWnVwOAXbGA5EdqVoHr\n",
       "sEDCTlNFbeN6zWdS8cHG2GZBdoA6ZR2W5ze389icqhLhgmpPpRmZCMnht2/YfLYwy8hMnG+BbT41\n",
       "mftqE8Ms2Uht2j1Qu7fCMxdwgSkYjT10P5GGS8SwBkAcntXATxtTsqrQfQJ3G6LrZ2Wx5jOp85DI\n",
       "HICBkorg+t/tIvzj1iM2dZi/JC4Ctg3l7HfWSgw4zBQF1a00u81nAwmmQ7SwkVNa4GEY8sTRrEOy\n",
       "x1xy02FQ5S5ALjumeCJIAAACUgGftXRBLwAGSd9QBczkhsFwEc9CGDOa3Qjy0psTgyvl7Hd3oeYG\n",
       "nIjE7OmFBinStNsKzqbU2WGxHLvURDGyc4djPuSPOFObCz3jnI8E6PSPXCoxSBOLhOMewYvX+W1Z\n",
       "s28qQYG2/Y4HHdE+aCdE9FxGCHOc0iG+QhXpslZtyNUZVx05CMOuz+l2zhDE4hS1uC9FavFRauPc\n",
       "83AjlHzl7Xtm+76YeC15oLtUrJNSEfdjq7cTh35vaSFaTBJvXxMEwFSnAEAZsEJ2kaxwJi/7V6uk\n",
       "xfR/cD54h4ocH7DQpD2eJv817yelL1eN1VxCAyQcrbku2TkrmcvcXF6jpbyFPDCBR3GKkxRTsCIx\n",
       "TI3bKp1OmLR60zrFqb8kCiSoxBq7cHy0b1ryvrsddUm6xPkb7ahOY1pJD7+EZjIN/pt9Z8fOOcnS\n",
       "xGRZ2/SuoEb1Suttb9mGEvndmLOzoLmWY7kr3BgaUis4xUqnaU4Hjx1vFPQzQyyBWkpJZcXTQLyB\n",
       "+Fv+Qt79jGWJwmZ+8sZd/2SfVXUHFkK3hDw0D/7gyrx3XARls0DRgDeKtD6TtHJCrut+AJg+aQM8\n",
       "Se++Sx/AnVNO2Aw7mht/tH7MupadTbdnu/NcQNG7ixvkvLpn2dWgf27jkt2Ib+hgF3yG7c5ATW1J\n",
       "T6AdQsI3CQgMVEfzInvgKyv2YvgCdJfbnv/SirL5WQ3iTahx6XJuIwVVANK5u7jBq4uvU3APIHfP\n",
       "QnNcB7rbS/AtqubDBMpFo98vrsFM6NoN5WP8LIhjvjAMBaoAaT8kRS/MwQAABNsBn7dqQS8ACj66\n",
       "02TWHZte+AA4gyQ2C4B+V3bC3F8IjlbiyYXSqOHfZ/3sKV4cR8zCGx9f7Yvf7pIL41PhacwZjhN6\n",
       "Hrj023IfyHdObrETRxBA0ZFDyOmea9EbSyvaIZlf30K2r9d+/C4ebd7h4cIvwtdG+EzwCK2Mo3mU\n",
       "E4tGgPnjxzCE7rHm5yLCh+/M7aUnpy+PvMaAuLsEXER7ygjWODGKfKFI98DiYeif4aCJfTfs/AZ7\n",
       "vSmpaJ8LaT4G1SB9qPtHRw6v3s0rpYGKcDzVmoWd2Jkub9H1UGdiip2E+bZJ0vHHEteZVO31xopJ\n",
       "9etf5B92F9s4xFbuNRRh1NCKXU5n5jzhaCdhuHtZClBT4G+LMz+BEog3XeVcV5IGIVUp6+Kh080D\n",
       "at9CL2D3C8j4rPrX4AAAAwCLdbmRtjpI32dq8czlruN1E23kjdAnwjsvSmdMwtNCrXCa4ES96lq4\n",
       "9/WrnFXNGNvKcRc3ChVX0pyFvypTfTWJuPmQkH00YC1DnukCz7DG4CaYoOQsg9x/+RgABg2UHMAC\n",
       "sxULWxCqDHbTol2CD0H9g706ZseoMAio9tY9UoSci20TnJukYCZaMK/HHYgKBi1BIsLrCCtrMl0q\n",
       "JZiKzKZ+XvD9c1jEQGKo5tngcCbZGrl7AkkErYpWviClJI+1AsBbyhDVaHsmlbOopLzBc8bgaNxc\n",
       "iprIRrmznO2vw3nDU9jmGoCFr1doFvexus7JKWdiJL9SIPP42UGMJvby1cd7ZbRtCbiFGJWFCtoz\n",
       "kNXdDfdrtLcOJc6S5a2AANFzfdGS15Xazks/D9n6hreUIxLwoSPtnfwOSYE5mEmgVEGAv6BygyRP\n",
       "znprpvdv6mB+Ho1i4yaiT/bOdpFSylrT/5QgJ1MewZnvkE45Chu3ZVm7KXo7aTMZL2tX/eSWRtF8\n",
       "hTl9Xcw8Ohrf16QB4kRplhiPcsYid97kQ3lLLZ8NgGi5MQ2YjceL0FsUD/DKE5O9PgF2N9epb/Nb\n",
       "xpht038BscCi8xHDj94SYJhrtsBsfgRTZQVWKIA4ckP9D6Ac1yXu0h90UfG5Kubs/fz0iHiOUQJC\n",
       "ogfE9D19of9GwRiN/KX+q4rT/VjROPjiNqFhamoolUTVh2sIqwXNA4DqdTgqcGgHhnwvRD/hNUK1\n",
       "jcGnL2opAGCEwshQ4gzOeBWNFQRY+xCF42SqG5hpIvw55AJ+1kYodG04un9IBp+7tXq/7Gd8cY+V\n",
       "/s0dSKIzMseft2R6dDS58rkDj6zEP1EPaex32Ut+qFcnLmrP5Z+uhyLXMXOubqfBUjdGrzvhKK9H\n",
       "9nmioBtDxmFuRJ2yngTy6jdiahtN8AoNZQqdg9aulSYmloIvzib/hYYnNP6YLYHAyBP5Vl9OpKt/\n",
       "5cFJSKXTFiSiUCkK/CiWeFg4k3og5QEPet39dLKOqhryv8WTHFSSQfcBWCMxZPpXX5ojtFdIEC4M\n",
       "Kg37VUJUpNA8enf040zY+kMykX6I3VTNJQQbsCOWcoM/g6uZ83k5JWG/8qMLDsSxHheJn3k44JzH\n",
       "cYiNOXUmUlVASaY1hFsx0fBX8TNbX6S5GoVIxs9awS+Gud4l32WoB9J8tSbuMHrYBOZJU5Fg0arx\n",
       "WSDkBL92rQ3OHHFhqJQwHRt6SOEAdUfAnJ83hCN47PL2ZWofAAAJA0GbvEmoQWyZTAgv//7aplgD\n",
       "St7ABwBCwVN0xN/XxJ61tkdjf0ChgNomJIuIaYup3EJiz5R1YZRU/cft3isENkA5zmNZ1qN+wFnK\n",
       "u+dysFauo/PCFdzebkzgnSDMAxuEqF79axQfHyPzuUh4i7BM/uwZV6rZt06WmRdEZkLouJIF1D0S\n",
       "CzG4+o8p89CjWgqNp0EfMpFeAv16CWpJdso/p3nKYoi9OGtCiqSked/GA9buNaC9p4mAePNLOsLZ\n",
       "RwMxcw7dyRPmast08hVrCV0LY6zZpUtKa+5UpHBdWqmr4njR8W4BOcLb61FyMUQk839Ya+YrNT6e\n",
       "eCjsblPD+xjSNAWm4ImEVkh+vH+4pNt1xrVdBttV/MRJv+H0TecQVCuGmva+Dvu0s07m7PqIEKTB\n",
       "/OzMAmhnq8LSKGar/H9cZEjYH+annMgQpfCH4r14yGRqU7zfjLnAiu0laStdpdD+IwwJ0fEBw9IU\n",
       "TSTTeB/Kt9pAhDohTsyC/BzW9egaBJSJy9PwFlpRawlZJgx25Y8R3rKROjZoqWAuH5JZDsJs7coU\n",
       "NREAIRGi8sChzCqVXqI+Ys1XUYZoNRgscSax0ei7wvC4tqiWauW4lqXmFQpcTnZ9xhlfuvAh5wLl\n",
       "xQ0iuDIvIboIrvV+LIBCw7VLF3az4lm/WyU56umB9jBw/QVUN5b8kya1gQvcsCRtgZ3ztO6sIh9d\n",
       "dTO2Pb/VZPqR4J6Cmh8g/SoQ7xTIunzukC+YGOqrqPoheDDr3IKkz/SpEzGwAASBYGuOs2zP3+1+\n",
       "+gaA0NlwS1Sqvc+xFp9Y8MJXs0rzQoNXx/MWmMEJ0Ekt4obMR+7mZ8oC/oSADT4cEoaLjcLQ87u8\n",
       "wwTtG1t1peGBeYGKzfXPO7CKq6D9ImC7qkRqHN8xlG1u9ZM08d0PSFGMtP/1uP3jhY354yzv5aog\n",
       "cf6dYILM9eEGJoUgOfW961oCrKAAyYQKmi2YYD19WZd+DwcsNn4v4MgH3wow342yhqeAJL/PEMws\n",
       "9rX2HpnOkKcq4VdsWe53fWg/e7GenSF+RnNI3lAP2X8aUBbaI62ca3tJcH0Kps3g44hz5knusIvM\n",
       "dIsb8NgCfeHbZv2s/2NoAv32SCRqrk7Z38qxB+lZtzZVeS3t3bonajPZhUi9PyP2w6SWXrLD4C81\n",
       "24TGLsSnJX7HdYk80gjgsS5/QvR+pDCD8SMfzW+GHhQwCEmVMErxLWn3KwYD9UNHynF1U59exZgr\n",
       "UjJyftPgG9C4QY+7lA07te/6Td/XwPwvpudFZH/nSzTOLYIqOkVTiFjX05rKIb6k3ZowiEhaOwTm\n",
       "m0F3a3CCphSb/ZGNfd2OjpJX7y3EzmBNC8e6ETd0XSx9UeMSpj6/IfAY2FHGXGP0QwBYpSxc3dtx\n",
       "4DMAVFwc5mwsMr7nhT3VMvZiioVqGx/DNvqgt4LinhsjczYJEdEn7gUggcSeBb8DmdXdeTB8niOj\n",
       "8FBA7Qlu2m8TMN6EM5ewgRzC+1bduU03Az1ODL5UD9WqyVy+ec5/TmZmiqcyjYQrDHbtHGt6lcko\n",
       "EVaN9JWoMP3lY8rA0vEN9oBY57vRtfrS4GSSvSKKne4diNifetXXFtOOfmT13cGREccxKkMLFHCg\n",
       "TMfF7Ix2KD/y+oL3sY7h/0hoLhXu/euhN07/ArDkXgVQYM4bZmKVjcVf1VXX1FhvBaITYKvuCFeX\n",
       "EEAYY6OO33vImqBerU1EqUO9+SNHuCcinelbvXsiHd4ismFJw0hxqM2o6MaZxUWPjT7s78YHC2ZS\n",
       "YVLsRk5rg6wJXtMNY1G2G5qgNa7WhaqN2n2/6FE9UXXIcKx9atxoO1LL0dt8B6VzYjgdw6Embtix\n",
       "mxapLgqswP2GBBi6mu4IG8aQr8jr3tpkgKu7P9+sFqVobnmteBaVBkts/08jnfCerMTokBikfQLD\n",
       "rjqcvO4PLRb1UcvmVRfxpjpXt4uuYbkPVJrsl922RPXEzlXuQ/MZ4KamfBPb4+YQW8LuswGvb/4j\n",
       "TK4LoT33mK5hw1+OfOzuTPj9rFZdSizeGEpAX8NflBHvKpvYcxEFDSNtW2Z5k2Giz0kX4kVm+Ox1\n",
       "zjS3QaOizeaBrpUnKvmx8axTG/NsBmkEKvGRljqkAMg6fAnlfbmsN85B7oVKNGjaLqr2ejMx4Tk9\n",
       "uKlbn+B6tWURom6wX0KLitbhtlDMWFzEAgsiOKwl7QTKTgGBt5DO3pRdd62GKmiC2igWuLQKBDzY\n",
       "g2G620klINkzn8605k9dl3SwFDkd77R6ogJ+NT92Xc3BwWGDE4hn6GlJT1Pxkk2KKlfz3AnAwi3r\n",
       "q7UuPGhOPK8RK/d/2ORAreeqqaHX3L8KzB7SqSYjm/KMaw2VdJrcfTR2pXkmeKGMTjq/3wR1NRrL\n",
       "rImsmhhmU/yz9oL5MCbUM/FK5+Y6Vj+g2XMIwiartgNipEgLuTNPsgNQWB/dbhaGvhnf/3rIhL1w\n",
       "oLC5kIMqorKtdAN56bcU9qj4B1icogif6Xhuea+jcDMdjdXh0R5P5cDvTkq46YTtWSGzCuZCKCI2\n",
       "rJwNSkxK256YSUxpTy3ANPEYEcl2d13OcFaiHrVih/+eFNH6t/+pbhBZoblJCpLlOeM90kkWr8e+\n",
       "sfc2VC6brnrQm+UBp52Zpg5zk1v6iL1xlIoU+JaYWIfP6cKvqsh7LoyhODUAeV4G/msbzXxuM/w9\n",
       "HLUH/a5DguxeJs6N48g8GRx0oEB3DoUmnxsiESYGdgcrmMKTvObUHhlvQ9lbU1skNdIzfsBuazhD\n",
       "1CDwLyqLtVXGoKdhB4mvSYcmxyxYQw/AWTTUpKmMTFk9UF3lMnA9ffuBB+RfJhtGMVMxo1IBIlhm\n",
       "n1mT3pFv8z4YGGFwi8W0kOTfrM37IEP1Lp/ymXHpWrtLiFwxPFB76RpGNWnMWuGRQONy8ceSzLa2\n",
       "+uEwFDoDvNVR6VYJ+43JHi5LyjqJY/93orY3LnL3qUmwdx4JPLD2edjO1cepYCc+4LIRByhVq9y7\n",
       "V6otN1k0XFEGIMiA6VPybYg9KtpGjLqwJVvAz2+TYigbjDa+NjtkW2HSAKLg12N+/km7PVJdyDOI\n",
       "upX3gHdIqV936AAAAyhBn9pFFSwU/wAELrXB3ACWXvlfqnoAi4SxUtZCMKEe5/UtCXgeZurtuc2T\n",
       "zqG1xlma7+7gDWDE+liMTv/p1rI3Da+eH2/+YaJqv02BajR+Sz2Z14hxlm5dzNZqs/wSaT09LMFe\n",
       "HR04gifNUrBCa1feTOxNrd82ZSp1OXS2YoS5CFtg00HZPuitHL9RjIo4DK/cw2mR9fqrKWsBkoOE\n",
       "wmkH3Yr+GqoRMsJMQl0osdEpea3k4BmAfp2GLInGazVWN9ndv68c4N96hj6j6g8czMGNGWwgZvl6\n",
       "vxZr3dsaaEyvvcgzTsGqOfwX6w1+CYWwvQFEd7u+Pa8bgCnovutdqC5lRMDIXRHnNdc9ahT26A8o\n",
       "gq1ln1CdSg8cPXyn6rq1Tt+Z4ZbjBdFE1/irVaUD0L33pjdl6TH2QkLbvv1t+Ic8DaqoQqpqpTn7\n",
       "3VqfZLf4A6fb8eYbC5H/VOYmuC/nUe5DkEmS1DaHzwPcb9rBQ7nz5J5KvPU7/5K2N6LBxmynqF8j\n",
       "uH/Bec58riSxmT162DinLJysJ8Iq94BBNFWu/Kaj9u0hSlACDZEvOnZuwHKSt6lZ2z56zznL1nrM\n",
       "uBUHBBel0vI6KtWFnPPxdkX5dLVzlViJ1X2+zuPNGwCyi0f2RGL2OZ6xOyxaL4h15wRiIgAEwWZJ\n",
       "/LwUy6g/XnN+kf9q9ZDDxRUaGu77/b2qz+KIqh5286XLsH3mwIV21IhV8vbe2LEtmMbNiLQEe0J/\n",
       "fPCbIegLZZjO9uEukqlGmv3oACftw4Mn2tBVCc9ziomDcGAjc/sAchBkzG2C2FwXnd6jNrIIR363\n",
       "a4NpWin1Ew6N+UD0fanQKeq/Zv59kjP1W1agt6xQCTS4KRu1hIrOZkHXgIJ6CwgvZ1Z3j3JV8k4K\n",
       "OQ+eLfzihy8cE0MRnKxR4Cjoc1tF6v3sB89R1VUH4NGLwHjKf/EPy0fk18NKJtuFNA77RiCNu861\n",
       "Semn53LQeIPDRwqkrFeeM8B+klzL1MDC65lEMsXZBqcl+p9gTrY8QOXdVRtAnTAg/2uvaY1hPO1N\n",
       "co9GWFJemYex0sJ6ybn8YE/Al6DGmTzBAAAEnAGf+XRBLwALpfWhsLngcBdfgAOIMkNguA1eDvdF\n",
       "+V+H1lyoo4n1RATPCYlNsrCX9sso+V29GRuiflXGcadTtotGOU43zm/J+A8S6EKg2B3H8+BK/tAC\n",
       "aug0xxn51kDNRa1edkwL7Z6H8gZtl3Eir/hbOScYO+g2hOg3qU1D0nDqtI9i0G0eBXMG5vcXVn/Z\n",
       "NYC6YMfvWQCCu0ExXr4wO9tNljBVNKPsBcfBbh5V7HoytlMVwpVZvK/ZJXVWlsenVFpEbhuj/hhz\n",
       "V/l6oEyqIT7uN4o2cTGb9MPP7FL/QpE59HnHO+8g6XqR0m4Ex+yUeXID9yeBFYuDMgMpsqunOcWW\n",
       "/G/izD94qO1oxvqF91VYiHcoUtPxTLkdu71RKrQpbaAcrZsYCXzljVDO9uXUhcFSIgS3EXiDXdea\n",
       "DEGOTqm1GkUs3goo5AUPreKjDOhnpXJJ/0pIknOkgAHNdWjfBToN1iU+W/J8vet98CL2m8xMugWB\n",
       "ji+5ILEF+oo/SeMmlVZ+zhlnWJ5O5qssdQR6SbJR/v0OUoeqFcQGtObsfZfl3yAf37mosEKdYJkS\n",
       "2F19ItTzhWDwOfYr/rOLzS7UhJPeMzgH/VwRKT9nA4Z9k4rvn+P0eF6qCFgaW+8v1eMTcCtolHuv\n",
       "szaKAGGzVz0YHjQcXbodFnHr8408dVeMhzA6aK6A80/xgsamLaGyMxk17jPfCM5dm6dP6pYriAE9\n",
       "K+bKfx/lvLVoB0+zEtjMbBo/E1UilPqdV0DcZX3XW3fzwGElpmJo7MoKr0b8mksxRZMgoQEbcCGj\n",
       "vuX8Kou583z3aQpyN1dzV7J+K40IBvQdXEUID1TZ+C6nIlmbRR9qrGEJi2sT1YlcT4DGVKWBungI\n",
       "Kz7SDJ5PfFppD84tyMBUVuh63zDQu6T3KpiK0dsxsQxyE5Jz93OsF22EtlvN8Ro/SmAOJnNzoFu3\n",
       "prc1t7V/pKWepi4CrEe/DDpls0mnDCPR6rQm0+P3g0nOBUJvOCYlSfpqupp0WjygBs/cGUL1hlGG\n",
       "mel9pDTPL98KsskhArMruvG70qFxSkXXrh9OlclKjft95vq42hDYnu5WkCO7Dh6FcAilfzCY1jbo\n",
       "wEnuGoA9MGs4BLLWR4r47Vo2SqeqQeK3dxUfCwMSJJ6ynWSuENHRfKGjxI2zcXqoncFu5GqkShYx\n",
       "KL43LXnt0avprpqfbKTzMTL8fPTOSk2hUQeH7yvBRodXRcUh1b4mblqCItG4rcsvgzm5fKoDpu0S\n",
       "yRaRRlY4DEBTIFObsiH0HPn3Ac8ZHIojWaxoAf5ME+QagJ/Iy5QImJSQ4z9OVDgFBu8Cy4tgZFp9\n",
       "LBpHJDgAA7dkJtLdFGfHnFbOy7B/mYmcpjmcEvEm7R4pKVonWxV/YQLg0KwjUIAk3EWKM6pZEjxy\n",
       "Jm5yllWSEPD6x6qZlkSjdDWwQcqMK0mRpVXZhEP6gwaORrDbql7Ck/6MCgcjvl2q6Xj1ImQ9gCaI\n",
       "nxJREIV8YGMCvrSVjwG3e7zM9ITGypsyPW0CBri3kCXmryvVwmJb74D6yB7NMiEqFIolow/REbXG\n",
       "Npo/j7uqVB+zmm4AAAOCAZ/7akEvAAteIQ4QaiKnuVygCLaBRyxJNcQVLApqwT3Q03aXVH7x0In1\n",
       "0VsG5tjga3lJbcga3+P874NTAYc0LgsdTTm4tPEVNVW0Mg4IjXpLbZTgzzj5mv1NEm1/YTE/5UsH\n",
       "KkcG9b9pujOYSH5fNyKKcxiY2FWHv5kuBMkyGdOswuspR5/uJb7Tv3JllyDReQfOVA2q61uHhDCR\n",
       "GDQwjjJJnphPrQe+3NwMkmr+fLKU3sRF2b1oIwZLRjIcPKKFnsoFn/36jn/w7MTxRBzpCmKN1GN3\n",
       "qrkgtFEIC3UsuhpsjxrU/CUiX1mpKmvQsj8dPfUzXMtvp4RqLS6PfUpVQWXDL9nE1VEKmw4Sdikf\n",
       "EwJyJ9IXdqSIFLF3Ds0A9mvNPTZqTbsQ/6gUnUYDx0HW+LLfwPe04g7k1/68MfuL1enWdjxQJIMu\n",
       "0q2HbMw7uJkU3bEFU+LS+X5v/iO96ptxQu6H/jF7c9wgvpH6MM8WVlhcjTKTt75GlJZfPG9v8RgO\n",
       "ENyizGkpSpHKYB9uyUlH/jLGV9ot34SAatHuAGL6APTs9zpRtgROS/NpbXpbK3x0LG/iy9MdgOC4\n",
       "fm1D0Q5TmunF2B/E4QoMaxKStjUBPq3dxrhYntNqAr+3HxJOMc0+9fBdwS3zkydPg+UD3NlbG6nA\n",
       "YWFswbnAohoILf5VV5Yws55rWXWagwMqfYUnHHMikZ5+g+Ww5Odbz13LghE/6N8/AIzqn68s/d0+\n",
       "9r11mI9pT78+x7Tgr3LkEFtHY3n7mjGVSYbF+3h4ffTiP7fbkGHdZsQBusbCqx8MOEvO/qy44f+k\n",
       "ttBafoUGPZvqc/lcTxWgxoEvJeUTkPytcFx5nqNBfa0eCnpi/m0bdZyKQ8NJIQ8tGwqT5jV+dT9u\n",
       "cn2sd0+Mb55cdr2s4U7+wdQX7YC9EyFKwv8avNPhHbDortdGmFhcfNz1kopH2sNyNjJvf+LTJCy2\n",
       "yRRnIAaJFa1isdg6U4JnKc0U4DQrxzDYNCGT3XjNiIXgLfSA+V58oMc3kz7UuFsV+e3eQFTtSjbv\n",
       "KZuEkG4kfGOgAMvXCoG/GySx1vb5MIa9fhQD86flTvZuevvdK0sbwfoRXRFAm2k9qwEGBPu2sYbT\n",
       "3rNkWmV/3rqYwmnKkSo823DbwOHyC9IC8AA03OVEkslRF2YkL5lOZJH4nLFCjf/K7jQUh1mKERAe\n",
       "zQAAByVBm+BJqEFsmUwIL//+2qZYA4/dunABuZuvqEzCkHtPegflbu6eQ3GYzuMrW8LBgm/T1vWi\n",
       "oWgRNhRLbru6AyMUGiDf1pUwMGhu2i8hnXqrllt2KhITLH1YeM5aM/hFuyxzzklEYr65DdHTS37y\n",
       "S+QaYkN6AT5HI3TPxum9iCW6rfCsKt35wqAZVfoiK8pO09T19PSmax8P+nk/miIu2CXlo8/X0DwA\n",
       "DYgUhnTvsj7x0lnQtDmnbaotER2tfYWq4JSMEThbPK7anpugvbVZln+ppkoDer0dRgMBERl+Dc93\n",
       "O6gUeRFvQRRsFVT/jMnjybocIJEtZhoZ9avwjtV9nVB6lvDVAchJruO5n8L4iG49MgWdlNHsnLPc\n",
       "Bn1yUeRKhi1K6/y+bAfnoRgZectL5eeDb5NqNajPFJ0ZPIY+8BxXBN2nwKPOOWBRoo5A4BQTRJ9j\n",
       "8YBDzV4usbc1BCnajePG6P5/CuoBXEqmAqrfFUz4Y7i+ZzJU7uos9aWmonRrzy8rZHQRcVip8K9i\n",
       "t3ItI3HsWy9nHgdXu2dOPbsjpZOZGyXvrFOWT03EPLqF3OneC6CFz38jB1yxY5fy485I/r4knUXO\n",
       "l9Jrps30JYBZvIT0gThRvU9/x/o/iFSndYZ1jYOX2HsHfMyAJX9/BBf+bXUfkntutLh+1dnMZadH\n",
       "GUxRqbTtIhFs/6l/dQwC5y+vL6giILVHPHNMoDpwnxMVjaJmwjanjLv2G169QKMZ8OeNyQpDxISa\n",
       "kP6AO+ehtiLsJ1fotcozleBN7ZL5TgDPZboCFL9UPfNTEPjx6WUY8/5ahwipgSc6OPePPQwxPXTJ\n",
       "944hZ0utNDhBC1wXAFQ/b7ptcy/19Huvfrsrw9laAdQks+/ZSueYnPRYRnYvfgkzFtxWfQZBt3t3\n",
       "XNr2oiDzVq0ObDi6aePDwssoOhT6/NoB0V3hlsktb+QQeqGPlF+7Nqu+XFuFN7tRIcQI30v9wG0h\n",
       "Dx/iFm3wfFn7toBV7CGwSUEc46r+dT5OWJOQ3nH2uusyR+AyEsgJ0FLri9D60i6vZCjIotulfVWS\n",
       "vKQYAa7+Ii0W2stOM9/SuUXXqF0NwCsxXm9dpofW8d1n/4j26K0Bi/9lOOguigkrBDa7jhGlCqeu\n",
       "JWSecNifTbYXH2dyQafn2+To+q85qIzpWP1hF61JlkSTPyDSQeE8d3MZft+6qi9SuVnN6+g38Ng5\n",
       "cvdCG9NNPcZGNfYFYpyDKZH3HF+JNpEi/RrdEAA8XiURKUR+JnAquVlm6HmIXQLV4Caxr5eI/HdM\n",
       "IO9fnvkfT4f/0Ogg/9i4OVMpOtoHcHaOwAJR6JdRAUpBQyNCMFxfcNuLljDSm1S3i0Bp028NnNOY\n",
       "4XS5ImeR6V6LuZCOz/VRDGiKoZHK79jP77r/kSW75OQIdMK16K1VTufGpwz9/eOhz+/XKz0Jck1k\n",
       "TalMAlNh29xdbjlWL/NtSzME13Lcg93wr1x5E4hWsIt8KaZQHPdUK84NA4YMhnmQ0T2+BvRdgcIM\n",
       "6N36R8PP2IKnAHZtit4eVByRk7Hc6zmDFsUYAdpojaFDbp0G3adUemza1caHu1jKtZBTQMr2kPGE\n",
       "b+kuZooeNoQOy80nVpDmW91Tx5q4PHGuZkjLMK12oF5jfygwb8uEDbcl41jQsUdocoHKUWHJcYte\n",
       "7jXmtER0sqsSmy8+i33qMvTxq58+QNdABHf4RuWsjP821sgLplCFbpkt51TMdLQHtkLJaOfBpxFn\n",
       "5TwP5/9vrUvhRNGcjVX3k9RzwqFFaQcT2BWxGoexcMccmcacDUTgFhD7gJ/KQLhD9e0fIsY4dKhD\n",
       "leAuZBnGoFsRqnZnOvmH8sxHvlpgUS89d9W7sFf/PNKZbORXA/IK0IYqGNSyygr/5T0PlSJiGWlK\n",
       "fu9WyJ4mm5aSnsSjsUY7rOGlRgNf3gFmiotttGspnnMTFAVLgpE73UB/bkosiHkr4tXO04ulqaRQ\n",
       "nuJWU529y1hhtMNeZUbn85oKFMYw/hGOco3U80ceNZgQ7WO6qZRIeX2DyARwsvkmLmLNmdlII9Az\n",
       "PN1z8zSEkqcBmAjIOR/l3CXQS+byfx5ItcblZM1hClHPoSyYY93PxuP6w7lxGUJgqO8Wiw43q3XX\n",
       "8nPjE2gpBVV94/8on6d18dyKB8cd/UntIuB/ZA026aZ8YnplOmRkHE/u3yLZN30uaZNjzGZmvJ9i\n",
       "Fc9VNKPtmirwLc9jYWtCrLEhw306Ur+HQqDe6V40yJWnThMmlfHleuX7Vpx4q0e2ft/Jw6gbuJZQ\n",
       "lNTG74fi+KKF5G2WPbUKo6ZITNUEk6Zyv2uvCTOfS9nkWy6x+eEvTJytCQF/VSwNrEMMd0WMkebh\n",
       "kH3QByc6YDc0rE8BelicB9J+TugQ+tNfYUy9uGlw8Z2XlWq/Mv+IsRhPLfsxKAGGVsO63kPSXLCu\n",
       "GSr/culyjGomnQAAA+FBnh5FFSwU/wAEbrVmIAStcwhds2h1wD/m7omG4rvQ3SqegGzzeL/uRE94\n",
       "ZJKoQ1Gi5q/tX37XlsQctu/28+SvrrNvzgQVX46pYI9l6IQD7qjDCps4eebvRNta8uGxnxNAgLCy\n",
       "eR+79ksj/4oaYT+RPpTidurT00l/MLtgxfiGnl0m66Ek2Iwk0/wFvCTGwADA8LeniilXdAXHkTXq\n",
       "HMawonZwxSNe3LNysFDnQlPeQKvn6/LGoeEbxr1IBjo53MEWk6yS/SQeI3oCneLoHyD6pHqJm/W+\n",
       "3DcZf3C1JB6n3MNW8vZB8ZBoXspm9VZigApoQwMQTdGA4Zb6Yw0Hs7+2TP/bXr+Tze3D9guB3ZZk\n",
       "iq0yhj7RjamQFxrTXNce2bohNQcgt3u4CrYYETi1RAypNmMpcu+MunFKHDKYL0sbAV3dklGCmspz\n",
       "gSrSd5Qznbgysa/i6xcd5ZzSbyI07hlSfM+mtq+623r4hcgEQjLpWn3dZYCS+c4ft05wmL8KR79K\n",
       "YZXXuxtSj0eV3TX65vaOba0OlcRqnJ+wlcO6AwCQQJCKkRSparkyGY8yIdQbSSmULQXRFIVMM7/c\n",
       "Xf6nnnNU+5gg2c/Dr+iA96+RcPhQC1kDItfZzlYg98Gwhb2RYhowuuIj844abmZK9Q3IPWqesZTK\n",
       "zQtynQ39fDVRM1QHvEDLeWIbpmhaLaKvOCVaLphLVz8xZe2tkKXgMVunKK9nB/r0Xh0dB0PKVRvS\n",
       "I6VMK184jinM5YxSEjGnGY57tQ0ubl+4VsIcTTGBubyZWOfvNuXkolifqJcsg1ubA0hCFvHQ1gKW\n",
       "kaxOxT6ckzaxYdBLlm7I4VVp0H691PwCKFKmbelDUxKHyuhqGAVRGrjkXMgAE5DIwL3kVhHbPwsg\n",
       "gE7aPtRcNJmsucu2I/ctPk5nX+TdsDc4zObYwLeV31tq3b0avKBIReavArmYrwyCOyku1+uFLlpj\n",
       "PGN2efb/daGIUtVf5ga91ZKrD6CrZJGSDgBxahgjKCcdY6Gh5iOi7oI8OpFKdXemVd0PaAU2AVEb\n",
       "6EXFoY6pJagBq2PpjzB9rA6pvquPU3n2dDrKMXqL1UUXK+IpVHsq8U9WIuGtDXtNQlyo8Kwa860H\n",
       "mX6f0ILsoyizCW8iWASmXKJHfbJaGwiC4ufZ9E8S+Bomji7xNjz6mNHuaOmsM8QXblUY/Sgi64Vy\n",
       "Wjd/M9g7D0pCrVl/rhJQeYYh+RDmdMhFt/VPLN/TBJVLR5XHmAQ5J1eh5zaXEfVW0H0qz+EVkctA\n",
       "Mwn5WjloKagCsgTiXcYFSXGGnnvUHOUtXDdRzJZCcYCC3GoxkW4AAANcAZ49dEEvAAySaqV6yZOc\n",
       "BEKJu+HAAG2MchzvDSSFNZptsadvVtTS54I4C43hogF3OjzlkBPVIndfghiT4eY1Q+tP+Wm9NgRh\n",
       "9SWmoaoNrc2bf41/z2gw4dSWgiDUAwilkueqGu8M7kTNtsaFwNy41fdDj9AjbAe1QuccncNfBWWp\n",
       "PgJFFo2DLHF+bi0CFLj5i5CfdcqWL707ewiz8lBCwieoAFE/PAdlgHjdLeTe1hH6Q8WkAXb5JpJg\n",
       "Cz4T1a5sieHQ9XpH1+RrFe1oYuLcMi6dICSrghhHtRJ8Cx7l6I5nIeo6TY8b9mP/DDjhnmT12fWA\n",
       "ngtFBCX40w0sI6uIh5rkjptb9WWu6B8+zYylfThXhq2nrG90eOeM6mN72s2loMz5XIrC5pb3sNbc\n",
       "DjemTc94G3VKobZ89pMkcBOxwFVSH3yWFFbdSh/81jT5A5Enb9Po33QvLN2Ojk8uH6md1gAa4AWX\n",
       "1icBnIGqZOri65u+j06eG0rduZjE5xeYoyYTkg3vu6MHejQn5/VBNA5s/DbinKz127sl/adP4nqX\n",
       "ZIXH4X81B4OEXgXSGC59cD5DANi3DNy+2a3wtvb45Xa0Cz2i89FY9wBuslF7xcwEjo//RTIVFQ1f\n",
       "CnMh7IXcH8GQVfB3hey66QUufJczjYPPU/mrTLdvLsiy53SfDG3qu/n8GqZN0BSIucJsl7H9ILbu\n",
       "eu2Yv51U8J5kfXi1pNkFZRb+motEnEDJEONvmbBxHh9ShkIM1V/xDN1vUweVutpSkQIc+H0abADR\n",
       "crKzKvqT921QGh+z/cNla9NzKnlrPFMV2Br581K6d+XpLKFrXU3y3RQGApbjEQkxYf58IROREoid\n",
       "Ve5USB20mR5ldLL85+mnNIpRUiAfeJ7V/JX8Nmo61Bd9WvdIK1td88Tjc19egOvQ/j0HkmilEF2u\n",
       "uttNDYHjbD4ppMjlIiHMxBl9J4sOzmgHFbxSkXFsGXgPYHyaBLbZ/wxtMF7Mh/BskpPlIfnBrK7q\n",
       "UN6SbIJmXAPOdL8jxG1sAN5Haj3IvlFm4RPKUxTvuO4qEShzvAGrxGDwFs83SgqhLzvZAx6vbzPD\n",
       "T6G8QJG9yozkZTd+HwQQhRXlD81znl49NMUTkDiCbIxgITDOMjzGqA8h48XKoD8AAAOiAZ4/akEv\n",
       "AAySmMdILHTqsJbznIVAFqokBRC9UKj5gQrDG+wm1agRYvt9a/wpKFE1N45u5ioT4TLufcRD5BFA\n",
       "ySUm+q7PxqatIETHl3jC6xqKMyBKeUIW2G22lLGBoZWLBhanCa2vZQcoBiwTPAmoYqf5TpgzYZ8j\n",
       "iE9kt0hRPnP/90S8fmPDO3Uwi7x+PXOPYTLhWslhjm6ABhZff+efp+GBPc2u6mZmfyYNdwK1WfX/\n",
       "2ujhlA/Xmt2GTdgZ3w4JWulwNw4PP0jZGBzFKoqSDryXDNmdJktxuz7aCbWzvlY9sRzM5CtaFTRq\n",
       "Vg+kTBjpbTmoydyt9+CO7pciEEpPLTBgaR9rZaX7ew+l8If/fHb3/xL27h75yYxs/zrm3oer/7/A\n",
       "lWIwNB5yU4572vbY1AogKI6IcZetwMRH0xrcuJQKFKj7Vr7SfPGOwH2Yx9IO+EoLbtfhnaJk/d/9\n",
       "SR9RvgVPs3ZDdH2iHPD09u5eyxBhkC3sWRqXwO0S8T6zhDUHwZn2VrAD5hnFgVYZ3zIil5Qks/84\n",
       "p5LMKCdH7Ltd+3e3hoMm8AY1Fv42C0IW9UoqSq6h3eS5DoLKQXOe8K4dAvtOw36GWdcc0QiUexwx\n",
       "unkVFK/5rsisKFvGsJdSMX1ek9V/E0Ju+JQ1exrHQPsf+fQVRWZlsga4LEg4Aztr4tC6tfXdtgc0\n",
       "4v2flim+RHgiyt0ynMEdowVmlromUFsh1LQW35MdVFcyOlYMHKtE3tor+EpJF4ohPvM+D+nXxKIs\n",
       "qxa2KhNggpnaDpKzOGO1VfFUvpZ/M7AWKfEY3+KYRGihMISY2H2Hkw5HQXeq9BeAjWHsxRqgMphV\n",
       "PLm5E7UJcCZNjzDLW72/21PeS38FgSVl5ajxVa/storFxCJ9fqIVoeUOK9Fuzeb1kCjqqf6BOvDO\n",
       "4kePCQYfKYQyTGIVPMeuBydzdeYjRQJuPy82q3CZd+6vD/usxyCNK7iAqQkH2K3Fm00z//mK2ZK8\n",
       "S5BRcpqG/O2607YT5ekovr4s5S9eJbw4TWK8BgxfKYEOwCCtZnN2g2ISUQ/p9Zf8FZfzqu4o5m4W\n",
       "+ASTQ35rATxTkiHefZzHRivbsjAtgvzq1FFayOL452sxvQDYqAKtXmGQtICVpKSDz9NIhQpVptMM\n",
       "7j969IT4e3iZoojct7zorhFaMe5GKFsbn6eWbb+Dtytz08EG/x/LlJj0tz9PteDbXtThpPduua7x\n",
       "Tf3qRFjVoFSPZyedAAAGt0GaJEmoQWyZTAgt//7WpVADj8hHkgCnjwfFmIxM8Zl7xoZiF8cG793e\n",
       "dgkZTybL8s9RG+MbUpMNWP202UIosxVtRiTz67PSMPdtNM7BeotjiLq39ncwDk8VZbhj4gsRGIbs\n",
       "drxbo1diVflpPtWITQOPCCl9GuTJiKO3vQw4siNIbjjatf8wQ9g9yM4qEskK9IPQT6j1729id+3S\n",
       "M0FaVfyBOs0Lg9w5BxKi86TijjXmehJcdAxGoBJGAQTTRkLMjjLyLCtuiABJ0Z50DyERpKxHSVIa\n",
       "+OHTUz5jpqTP+jmVXT8sauLN6rX5dz3MxVIyiwcm+yy1JbyzjShvnKD1om5EjzOPudLLc3caa/FS\n",
       "rTPGg8SrEx6z+Xx1SXcM/pBTnWFB8oe2Sz0C8j5ud5H1W4PtKoL+FHwMVPzfnkFNIubHgVaFkgpd\n",
       "yEo7lj1aCkin7IHG2xawvdu4g34/sXiAu8rmxMZVm7TbQGIBT++dVLfBpOBsSUv2D5y8ittieXgg\n",
       "L1PNPRTFgQLyf6xy9W29tuJ9uL+R+5+Ni1eekZMs98EtDPbCaKLKfI47Uy154O/XSBhCuGdUds4c\n",
       "OYG1Ch8bYwT6MiEkk+PFhj4gjyRppWR3KdYkhmPWkMvKAi04Wnoom55/vkflEEmdlMUb/OXilPe7\n",
       "nSfR6OQfWU3Z9m27bpNmFIB74tNGstLzbTbnYEsQnLBQvzhz1rCnBU59oE1WMloUKyjB54VGV7Fz\n",
       "jfmJvTVPAbA5WYBR55RiiJBnnRiXcpTSNDFqVS200W4ktIAP44ggx/YGbB9xwBLiApGWO4lJbtuE\n",
       "s9OGuKsoomPV9QiDZ0AzFTR2UrjSUjk/vDc93039OhdqmEBmNOqAfWI3ovCM1xkI/bKst6gXwWE/\n",
       "hoPnkJAkcnsgDLkzKZd+noG2/sQ0XGw/om4Ofnhy6VC61aDzJpDYw4PBBbbuHuoeeCADezOvONLF\n",
       "SQ9qwZnTQjh9rqFtDMqIPQGO9FmD3x+GorouX/WQQ9QWGvFZvvfQtw6rAcm7MPihEOl35MuQaOr2\n",
       "8anKz/Pr4YhNXqGpBa9XAi0lIwU7pbSqc21ggdIz5RyoZJSc4hD10pdfA2K9dA3Rtb0lM31++61E\n",
       "wORLtcvhcF4gRstZWs3ui3Z1/hQsKRB9SXKAxJ3bWNt+oBS2XSwsv8Jqij6MYfNDn4wccd9Z+/qE\n",
       "brwWBc7jT0EuEYP20tjgypiGhPNkO3zDQ8KZKXQNUsPBK2RVmMi2ZKVxKBcHpVcQvBUMe1jZs0p8\n",
       "d4hHLs64vdVGw/a+183IjMhPFFxwagn6l5ZPoz6c3SNsxWnRG6Flcs0SMRrqNhWJdxEs9T2+zhTh\n",
       "L4tBiAmClUInGwntxLA3+St0rskZXfdNHGhBpYOSVhTOrvQnejA9aUgYdttltz2GBCrt/YKYTerG\n",
       "B/TVFP5dbLd8m5Zvo6fz/ZfrH5hFVDA6Uaxc4/eVuwMu3MV0nJn5FZisA5YgfcAeV/g45WuGCREK\n",
       "tZ1vYC4NbKGUOjb+YScnUsZyBWJGrLUpT/mIPumRNYYV4BLYnPdqt8C/DveO77RbU3K3V7ute1YI\n",
       "6QC6Lr2l45HUG1XoNu2buNJDCiU3CTrnTlJ3nXorALdxKxjR1a8gcJgePINVxL6ASKtrWD3XCjfI\n",
       "BiQdYgCMuN+yw3c+A0t8Saz7ZyfYfei+K9VJigjASXy/mJxY+TPaN6LJUt6EP33H/ZH7mtUTQr0/\n",
       "zc3UM3qswUJxxnffeouQyODBjY3k+734ojUoAnqXUy1mTuE0IQwn9xhDgZ4Xi6WwnmkD27A/sK5A\n",
       "1xHX28UQH6w3m2/eNNt51AH5k1Gk+jdwVnXLodkguafhvU1JJ4tQm1h9MqQg/Bzz00RN2nyKEX1v\n",
       "tSs1Whtvg+769/M22kIJ8yQSmdSZlpMTKO4BbpKe8eSevYNMLPtkS+4sxe3MBRs+wXJhsk8G2Vrf\n",
       "Mh1JP9edsNsqYY2loJGt+vYn7/uEb3Zz+24hri9STMyRliShIUhqCiUvaishAJpLRvK8E0FQlPZ4\n",
       "PaBjcDhsH0pdmvaFh2uDM9WwmXGAM/1QtcsyMb/7QHYROrVY76wbwZP9LMuTxe81e1V55eUAxGkE\n",
       "CT8aQDWoM1S4kQqzBIpQoxYtqmpf+PGBYghQ/yJWcXscF0AqydkQ230F4d8BvPahkPeXjXvVUjfL\n",
       "jR3l/6QL4ntmjz+nYPXcAbnBpmQDFaOHENpv5JEmHxoPMyXWkkARGxcCsve/AOcbErlcY5of2zug\n",
       "9n8x3dt7OnwQtBCHwsOe4DygfysQW6wXGAAAA5ZBnkJFFSwU/wADbZCLEU909AAKweRMwyn9TtiY\n",
       "Ae02cSsjbncL8kxcui26qJ5MB6IyAgzKUBGBGjlGrSHFaDmjLqSemPvjFwEi20yAENi1FT3tRc1U\n",
       "/pKp24639kC/qtYhkifJY0i6bBzhpgbC6eVPL1kC+2slsAIQQ2prqfoaOWj9yRuQM+923oZa9wDl\n",
       "ySyApzyM/DfWJpGwl7CEi25K3LaC+O2988syHwuuE6Ij/VUkGJoavDPMZQpaB6d6m/sT9MwlUXyK\n",
       "+cFkqwMYm90sTSljhH5crj0pf+wVQ4wPAg7TE2eC6+k3F3YuLgf+Z0d0gL7cZEqdVfG6fkciYcgj\n",
       "T2b+wAioOzZP7nQQcdJFf7LZpS53vcdGqizJX2N5nVt9UhC2OQBQfyn7t7n4DE6beYK+hFEKxkcE\n",
       "grr1Ak8YgdcMIHl9eRyVfcK3nR3XjHOLGobuAfQUx9DglsqZ4DthZ3xAorjZYTZ5QpAD7iHqtYt/\n",
       "++orq8cjE/21nk5Q+jIxnwEuTkmNKCfkgELGMz/KCAlRoHwlurS8r1N0+q8/+bPk6V+C8KMruBn5\n",
       "SgAgXdxMZi/P72FAj4L5WZ68HSgd+Ny+yFUJe2PboQtLrsJk+dCZY2KeWkDJVKTmht83qo9j1sbU\n",
       "BXVJ4CepnwORyDgnrFt8qwUeTNM0Sfi2JpHbTR10N9fwsPp/RALzBZxPvP+WC+gdy9Ddqk6FkKBL\n",
       "x6ElQ8urN8oxcqp4O5QayfB0rejDJdzWNTNpMmF6hEiFJPv/7DQEHmR241dojffRg7nMPgnWh6X8\n",
       "ywvSkfPV/rYD/nYWr++xMxjFdbvPsCtcNOQXSe1sfYLlZHp7WZOtwfb+z/tCjF9ojmxzgmGJ7I5O\n",
       "PQahcvSHVG6jFZkliSfKB/65bEVnHdWDd7C84KhJaGhbs01RBIuHNHhKpZFFWhXF4k0IpFVF1ocY\n",
       "viFD6TLUkTA9ncuAIcoTkc44a3U/p3GGk6dtU5nL90gr7LUCfk02dmh7g3L4tyMkVC+dbHWqDHf2\n",
       "RTwT1u4dZqKj8wOPxu/3Za8nEdSRUZ51sSgrRjyuQVPNPreCpLUVDfjdo5u9zlqQw5NMgzdad+Nd\n",
       "QEExsH73pQRsEMLJt+lin8YHM3DqPrEiPSkhP7zK4fcbSerIfqS6fElw00PKxh8GraUtWU28tiw1\n",
       "jmIalEFXnj7qsvBCVVULY/sWQ2vJ3exGpERGRyDVtNJaxpEAAALWAZ5hdEEvAAtd9UoABBh6lQqt\n",
       "+4WfJ+in0xUKDL0g0l/hx5Ep1+XM6J1xozKH88eV8x4AloXsT++gm3Z5xW2cSGf28ReTxtt/xO6C\n",
       "Uf7A7L6t36Ou+CSuj6ZQWLzOYPp/N+cnAuD8wa1rbNsMiO1COmUsWrsQGSESPE7k+Rj4/HaEryk/\n",
       "wbVENyQuB9XY+SRiKwrmXpweMiM8tiB8DBGsFmSmxnmQn29WSmeEBbwIhSJgTfVpb8mvEa2UEL3l\n",
       "/KWifyzdwEZEV74ZgnMtw0dT2KdPXQ/DD1it6NRsmw4kSclootrepM8fq0mc1potfp82oALcN0+0\n",
       "mLxU+WLWfeKzqB2d6KAAATavAiovLpUxhrYccL8NLizOp4XW47UTcxZ0ImCnxFydS6O7023oi28R\n",
       "Aq1KUUcr5hC0feyqttBWX6y+jjnh1RUQiGBIaRTwKIKd7puyyqXoq00mfVuJkdEcAJ4zklWmDU7c\n",
       "O1meWe+Ea46VL40fvpWmENdoICJBnsjdSMq7KV+863ssmRibYvhwYLz4y1wajmWWRDxjKk0+G9hP\n",
       "8VpI6paz1VlKD1Iqm8RRx0PukV03xfi3/UWJ9oZxdzVGa9CO4QK+DdBMy8xE89ZNJ9ICrVf1kEWg\n",
       "XOxgC8nxdzGRNYRM14R/kTSV7RBgoOAEFRxo2Vwv3RyskV7Z4/tCTX941d7N9IECaI08IWRXpfec\n",
       "xpZc34TKWoWqLV8qWkKZzBTbM14ugWdD1MvWWEkfYWLM4fd4tngaGBq5/5Dvew54QAO3uYO0AMH1\n",
       "JUw5T1rQQ5RJMAABW/eEpaMQAbanj9IHNK8d2aTvxoAOoSRnyyaLPM4vLTTKofPVqMrqSt6Fn0bL\n",
       "GG7DOTEe1uA++VsSLYuaqLCpIwx8v7WwLt5Zt8IVThxYDa4xJY1f0SyN/b+rkpo8eLidLirwOE1a\n",
       "kMNg3bqSUGUrg4xnjY5s1e2WUDvDq1pAAAADcAGeY2pBLwAMkpmH7oIBCjyAp6gC51qLaYGPcFzm\n",
       "jnjSX+HHwy0ez6Su65mUP50W2ycXOmEylrjc7mIg+IAFHDFdB9heQ20Teev/oiMMZMYmP47Q5ek6\n",
       "Vvy4R4KDyESMsblFJtN1gv/tzETXvBias0jQpZPat2mpbuj5owrkVK4AxocOFjz4APur0gaSaH9K\n",
       "W1UA+ALH8gfICD8/0kXHf0vJ2+NHnooqhLwWPQULEIeK04906I4Uxw1YtsguR8OQfTRvzps26+Fl\n",
       "nj8y1tyqi8QnaxIDoDSwvZtMhM09UF8OUXVaqsl75YzATHabj/2Ca9AUN1IK+klxhAKKuVL1EhlC\n",
       "irJRLjp4UE+uxtsUjvcz4b/W0stmmj1uQ5JxtbhfuAaV9qrhNMEEeWtcB95X8IA0pwCYKlV2jidE\n",
       "kFEmNF+cNLdsAbvCDMqr+4xq4YY1cRPWR/xMtY9oFW38QoXOAJMaOV6ehQDeKWNkW2wN3P0H/jf8\n",
       "NePcj0QTCj0neLh3AYIw6hT48/BOKS4f7HWb5Ld7wNRmrX8DBUUvPYKnTm7O6FcBNQxWDWlSjxoq\n",
       "aXTvICFpCVGED4B8y0w5TzD46M3qXoCZN8eWdFvqyswjcZT2J/+aGFmWZtAKkxAnFympgVYaOgM/\n",
       "ehT9eonLbiMbxPJEAWY8pSj3YsD51ddra4tnkRRGoC9GTIWyKpWgVjGQPyFftqGYjnkKj2Fbbuqm\n",
       "04zLPIdNhKoKXVkNWX9/Nd2YUrjLxOdeOHZMablsf93Q9vlRIDx15BdkJ75KNFfU7YvlrAw9FXH9\n",
       "tlFSzrVYOL41TcmmmZ9EapS+19zEdLKTV3emX5OHWLlsuHGPznfrrYv9sGdWJ5yjWizYNRZ6rsR+\n",
       "obpU807oGAMov2JR8jdGNMzXapzm1PSF4lTYVawT4aBlTHbk+yjk3pssf3OGNIqVmhLSs1VQypgI\n",
       "KA8gIy8to2qbuMdgcin8qoGhiGtXK/1eXbxI5FjVhHnfZ9qT6qc0cl/JKj0yHNFtX/RXxdzhUQT2\n",
       "pPWpolJTCqmwUfmlIcX94jNF6UfJ89eclClr3IAArDoyxCNrYTuj5IDIDR49Si81193xw/0vUY6q\n",
       "C1O4yGA1zruZMzpYAoTbgtD+i+DyJNE80gwTiapk9XGhe2OgAr/sab4Kh/j+Bim3RHNlAZkAAAb0\n",
       "QZpoSahBbJlMCC3//talUAOPSeUX4f8ABCkIuCkfr7Cegy3+9/rVYxzR/q3GiHah2LdsP6jlOy/7\n",
       "hp02VevYqNz4sbz0hCS8sRVk5+ij31zTNlGVSL5DXUpZtD7e7crDwQPGUDT8EXjEKTcoAmNpoJ1F\n",
       "jNvVH4jrTK3AdeUQnf+QRtoqjZrEH6iAUmrS/4ij7zC52F0K+2ldzjSRDLZuAG+U/NR+0Z/GQ534\n",
       "/Za/WbbZuHt6IJ2Z/hbaXyZSz5IeGImyeiTDJtJpLAjOuSkHv606lYNJG68Sr0TXaF6xJK3/SYrF\n",
       "0fB9W018umRFC39xmykzANnpRdFybV+J3MoTyBfRQ9ntQv+L91P8YGBDT8mO8OqbEQs8RJuuHzQd\n",
       "JJLUOkDe1AF0x51rul5g2iMPr43yGd71bKRiTK0WlpnbZgiSn42h5c1W2GyzDrU/h5NBXF3ySyXl\n",
       "OJ3qAlu+b3BwrKa7CtSAQPhCbiLo4VyMBi0WQI7KA9kyu1bkiaG5kkSTeS7TSrZDhY0B6cdb4xbt\n",
       "yJtH7cZUp0nppm9jAQm//OvMM34Iwh9wpniqYnQyPvLKrJyEQmwXoXfLpKRCU7pSdXaOAwNmN01/\n",
       "H1nvTyY3xLzZBVPEnVwb4CSOL1DrlTWLReHRi+g+RBOyb2YtH9i3b5m3RFnWCTHz6F/jwkce4bhz\n",
       "7uaHekxV8SBgMnyiUCSxuH73o4v1P4riHcQzbvzM31rqabFMgJgxyy7ihwFwufkojwwIOY8gIq5H\n",
       "T//Gdkpnd+OW4wgM/Ln0nwoU1TB5brtU91d0uab/Dit+Hcp6/7Py8lQXoZ0LVVtGi5okzddo03Pg\n",
       "BOin/1peFTBmSE7+RTHPZuj8zXZ60+RJd49MRompcspf5oXi/F7z6X08fu3xZZIy39VqN7oPuN7R\n",
       "3z/5x1EXOuQtnwzwMSrenIXovSmM9miREF9n/uoeZOjDIOZsRWVuYKr/lgrwoY+0NqFE/ZXQ/4Ao\n",
       "TAdElHACkXqszcdK/KtZbjoMGnOpfuiq3OUTLElf1/fTR7vvee65GJY+yB1hJRXlpoX6yESjxFDm\n",
       "YHYLfmPlPC6A/sSCS1kCMjsCkVSpgTynYR4AY9g6sSRkk7Wl0uJPY6p0IpXu1H5914kmuXIEyMGV\n",
       "mpF58F3KS/6Pmi9Jz8RepsxLJ8Lf2DuBSc+/KY8so8QzZoUxcacgMvCUwldtT3TwWedBHJwmiF2m\n",
       "G0XsgTMI+4B43678rWhTgqgQ59unlOg3XbKRw/35ZDHUkAtZhIBdYbpJyNwiRXhWc/cJuuz2B5PX\n",
       "wzqpuRgG5IP0zYx6khzEk2/sacYvAs/Rks8zGyPuRorwQpLPs8C5z6CfKklEtt1dhMIkSjQrUQeq\n",
       "a4wnGfXE+09aDSwYhX/+wdv4TQgbTi8tpcpvfZpOU/xi6MDb0c/kxbl4URXJaS8oJcaFmgmZYIPN\n",
       "FDxFqJ+hfTst1PXpBYGk6RpKMhR54Ny0uE7nJTu9xb7X5DOypv2n3wIJWmJdqRn3pJd1nwJsO20l\n",
       "W761Y8xla7AiJhw52kGUPdKnqN02gIGoKfLdR9r1SeJudfMw0rBOFuLgADw5HY6mEgk31YS5/YLm\n",
       "qAMQPSGJDNNUnZyAtT0PEM6ApN+laGV+PdrLpP+XTb+boqno7A2bfzk79cURXW9aMHpHAz5QUH9G\n",
       "I88sZpH6bBhiGzmyTjKYS4tu+ebmpCTPR8qx7UcPXG1QeKhUKSrp7FGoOLJW3Z/s0CePjDjKk6Cz\n",
       "2nI9nLowcsz2aqVaO+Bn2WLysDEnUT/iS73/iJ0YFaYO7NjG3/RZQMVx4KsrCukmoVJMcs9ckZzE\n",
       "1qEQq0MB+IUZNPWnsioY+OluaMYvCD5Cwzbbt2Gw+AYpTlGmyoROSZ7INT96Erp3JMEh+++bP5zS\n",
       "bgagA6bSKUcCGnTo33GolcMqeGjHIO2c+cBpVjV3x3TWUkpLCJ6yao4+RwhwiKRooksHj0Ed3tQE\n",
       "udEGG77vv6xghVgA+R9dWi20NcvPC8HQznNme1VgBoXNharSP4HvIo4+pWVuw5DPSFBqMflmElT7\n",
       "OMeLABUEz/qYJb/reGxDJ8dbzFwJzuj0vSVCJabV9kiFjsGAzQLIVnPHB10/37aEJyy2OHFgPqs3\n",
       "HZKV7iuN4mg+fiQ9FsE2mlq7chyGQ67aTz+B4eVKaB4XOEJHLZLxCksiKMpt2wlv/U3WPViRguax\n",
       "wxm8OzYf1WbHTyMCQTcHNgfEYC+YktkWFb6EWI7kSqHu7HCXzX6OSbXQprWBE9ltJA4K470CHFKx\n",
       "q9lbwY4w+BVbAMefNLXLYTY7Snev5Val/L3kZTQInxrPAXKdYsVVewdKBLqS+WWheoVhvIUNDMRv\n",
       "t5lJr1w+vMkfO4k1vQAABINBnoZFFSwU/wADxYZw3mOAAiV2OXuSvHaAaVL0yh2VAdk+jdkqLNH6\n",
       "rgnUvPDHmBKlVMQkrpsNHys34KzD2vBlOj911k4KWJ4bnpP2rrehQT6h882+lOz340V1mfOeoEbd\n",
       "/yL563I/5x91UNMMDDXWAM31Xx8BwWC/mNA+yQJ0xjVU2Zi9rJQeFlK+dV9jFfdcCm+gka+ZiHqe\n",
       "kG2eXeeAu0AoD6n/Fbivymr3Uup4GiDpeziTcpJsZ/icLTAuhPeZs0K4azdJGquofjZkFDlPpXo3\n",
       "xPzdxVnLGiZk0dqJCEwDpj4bYq9q/gWIbxL1bqqMTyXotSBozpNv/jW0e+7NhhNj9tC68QRWMFT9\n",
       "itMhE6CFNW9/tudvITR+yi5ZktyNFwPsy8L+YNCb6+h/el0nuZe3UhbACagp5PiKHtA9jcwyH0l+\n",
       "uXUBjYbKI+UNmSHMTeKeab2CmjQlz9Dd3ZI4ZeB+IBYVsKQBzLMm/ApBaVBPOhlOLrL75lBMd72B\n",
       "9otY235ALcXf6hbMMNX6tR7Bcfxo9kZYs3TYaySAEUQ23cRqSVxcZBEf+VhzMlLZjfOsKGubKnEU\n",
       "bZyH766HjG16qCKh7aLDgJC1HY7YnvfwHtAD5ADhlltB0bFv5/OYoX2HB6lNAS8HYFtpK/8zOQHr\n",
       "wwckz5UMUUjvwyeXLtqbF4xuD/p+CKPaNQOzUNKaSE//yLKVgMvaIOFtalyBrxQK/WNA9SPNpuxW\n",
       "r516EE0wEGn6+DSwQRA8qKvRJGwDaVMtxLH/EeTsIVc56mCyxfhSrnBuqk0gRtfTJvCy8qc92/yt\n",
       "/mv6Eqh3iiv1rdrA6RZLvAYqNOdIZ7OnxSaw8l4gamDQbzIAJtk099KR2XSl67bAiWdU5285oT0z\n",
       "23yAClNSwUpmG/1xVY+SYKZxWqb/HQjFO1yZvpwy4ziaExb4Pq3lYkrhgPVwSJoPeLBd5iG+xtLK\n",
       "pvaK9Ti0nyhLMacoxzue10oc2MtRbizzWoCp+PDmlLHkNG5qIDKg4g4pS8qaRGUtLFt8DGE4TtVA\n",
       "tumBxIJZ/EJErMIvqSAdVLrt2jvl2JgS4KtjOLhDldmKhwGhDY1+WkYKwQ9DLAA9FSb++y/fpw4i\n",
       "Xp/KwubxmBjO6dNTSRR1N1EGJjuu/RaU0pTlMMVSfQFjuZMsCWaMnF3oXQVkH3vBEoJtqttY/qHK\n",
       "WXTa5qCkRsiwcVimcMlwAHyPgMpSOmbGC5lmxrR43B5Np/QdTfwW8fkGiBe7I3bCBMbGYLuL4p7c\n",
       "2N3jzBaeSLt0HTbt+CaRTawW3BDKkfQZc7tYAFbALcmQ82p/QndrVeWbOB3NIgNXHCp/Dqxnrws3\n",
       "UZTDldmxynEdhzWNTYkotoiO0HBbm4ZUV4t5dP8d9QSlosGj/ciZK/LkjHVUJVNPcBb+3IvJ9WIH\n",
       "83+74djThFQ7aQ6kYSYSjMRqRVFckAeQcKa+9feUu9GNjj08ZK5xFdQ1Rvud03mmE+NQTmLXR4T+\n",
       "VbSr9zXrU0oaln+vTt1QPqVbACI6CwUDG+fz5fh6ExMAAANhAZ6ldEEvAAtevcBEPfKLAoIL4ADc\n",
       "DABYtZaMJSayE0B65TfVy4RiAdbQL6qjC0PmalGbe4j/FpuCOV83FmElPGTrxLskPnZdzcs51WUU\n",
       "4g+vq/uaILdW/HaE0bp4cWDJ7WIA39/bk9Vr9HScuWF4nQLe5yyYXgpme2Tn0ArCByVaT9NvGJwZ\n",
       "py2kqnm8A6sFNlHnkkpIGvRVGgr4QnboryvnY80xIzuD9FDk5MxBRPpgCFxpUglk+36NpLT38uaH\n",
       "hlgyYqp52m9oC0fxHFip3NIsKOsGfKvRgcQxCfR4bgT9ehaBFEYrJo9Xnr/674nuMjN/TKZWJjp+\n",
       "H5C3mFrarRmH4RBhoehOf3FmTVScCOGGysRWIXbq8tLtXK1nDzeqsbDLvOP28HT8XpcsyU03IBK8\n",
       "TVjsUe2qb6yCzPonIVB8Xt+1s43hoMPkURTjmOATtbLXed/uoKSKNihmrxUIK0rdFdXfW8LDhrUI\n",
       "tneU+uBIteFk4R7vggFV4XNFfC4KO262pUM1FGEfs67ftajwq4tvY3apJu/VJ9Z+EVUZZFW/TLiI\n",
       "B9knJweig2ojOogrM13sBGOAMn6fBYAWvCd68gbORs19NP7eQxJhKz7nym44+SN4SWTjHdrke5AQ\n",
       "7v1JZBAjS5aRiOHQGHDgYBJPGYomPl2a/HwDGudcNREP4BdS6p/oqztxODz9keFGxLB82d5z9BhE\n",
       "zrfxtgX5xyKxiRMOAZYgJF991dWJg7dOG/ctUMVOP4U50RS7tsA15S5s/rxHz9Qzo/G1irlU56HC\n",
       "P9MeGkIZLxI1cKdwi65r7ezMaQsBc8NUwUSEnvt3zyF/Z9lHfdXRdlENLlfDx03lQ2QYb2JKD64T\n",
       "etM1+dhli8MX9+mJ/4joS+41jtwbkcmOM2D1S0nWXocbljzaADn6qh5vcos5ADcle9tC4xxDTHAA\n",
       "YS2ZErUGTf0k+VV0cLmepmQQustiX6LhgFz3GSeGJhN3PQzhzgQHpc6pqzLBNOcUpFdwIvhyzgaO\n",
       "kSM0PhJJJ6NbRJnFm37WhxMKYDIoNZ6RZJP/pBVnyBsxHzj0aIf+sAGzv/+Xzua032j9UTCLFEVu\n",
       "XTQnlS2tj1LndTOGU9aR/dz3SdjwMacKO6zJJA7awmCCQWilOUMW5+b3Fp0HLQAABA0BnqdqQS8A\n",
       "BhlMZUv1AFrRi9VY45/YY0RupPtLtFULeGIh0Scl6sJ8uTPQwJy+7c1Ig/vAowODouQZpqXzAfoQ\n",
       "9ADn9Z6QV4R1yrrJYzG9HWxmGvqxtGfgbPpzVuCNz2x89iTB4HE5ejWt8GqwlKfHgus3c/5N3wVf\n",
       "//IAAO3O6pjkXRh7L2aWynbTRUX+Gf3rA1ZfjiTmutz6f9AEhf4T3RcuVasWbJhpmddjKZXKNBye\n",
       "nrUxYkxAMJyC9zM9x41FhV2A8mCRHRdfknlBVGBPm513jrRT3ungnxssPSpZy6FgCOuaryYAPuQC\n",
       "Es2EGWinMBh/2RGjZVbj4glKEHeZ5nb/3HM771kw0504PQkdp/6XkUS3muEfEBLTO8gfMTTsN/K/\n",
       "bNgHLA8Gl3q1ZldM02oAvvQ/IYx7rqkJ0qAFRZFX8+B6RPsDhnpMXQ1rxs/gTFEhYIsESuqJhpB+\n",
       "cJwH6VoLoCcGhE2qmOWwVDaRhrKcazpQcwjJ+kyI+4ARvFTk1/g8xxsi/ntt5IMZpZs/DHLfscTf\n",
       "bHigqK8H/u/KAgXvbKg395xnimYb0KRIKZAExFlIfsjjHbZMZvVAMZPfZtTzmGRGY222vCGIjsE2\n",
       "yamCiKRDw+89jSJo4TCUSBzTI2GPe6+rS4YRQMvveDC2m7h5xpdVuncQN4MJFhxQV/AaV4Kgvzi+\n",
       "RHrmm/X35NXw5ndtLgaVxASQEA47P6d8yU0PFX7MEai13mtRXoqa5n+e/TNmJAPzBz/18giSx0vn\n",
       "C6kF2af0XKSTA7CHQIZ5SaOdn+/i6OIk94QDp3jhRq+B2LTSqBNYJnlLmcT3HVzvupZjuiphPxUd\n",
       "wCPFAJ3lhn52vx0T50E+YVuMiWxYhMkqxa/TNwpXTjQTrZ4lPbt98VQ/+8ofnSZgtCfv8Woo8Nz2\n",
       "ze0/H5pdT6zKvm3VIll3qXHZ/4D2Bbwf5FsJfUj14mCZwqDRBCKvQLYyynYEeBLieDIWH06Fsd5F\n",
       "eaNegvi7NpJb9Wp3zdGCf3EArvaDeYpVa/RBl05BdZt0cerRica0xdJ4fVJpi+RqTDuTOXM8YOBh\n",
       "yMW20LJXIc5dXjnYxX1zkY+xmP53uYbq+Bmb5kDW5gztpIANXmbMOAUAVYyMI8MxhY62VrCBkxl8\n",
       "6+bWXaax4vn9Ee0vFjljdUENM2wAG9MfKxXGb6HBTpiCW2KqRBWvDpCKK2juszL4ViEmsXBe/tsu\n",
       "92m0APvhLAYWgWKdejv2vjp5sPg38SjCE/D88glCgEY51HcwcJ0Zesbykbz5I1ZmV6wycY36gHb6\n",
       "QEenYMREOezuaoUEcNutyJ8G62+YgQ3PQUp7A03heJO64bRiKTGBo+KXYh+f6ycbvPwTSXZrz3q3\n",
       "06j6gAAABcBBmqlJqEFsmUwIL//+2qZYA5Thf+8tQbAALg+HQIlys0m5mZT0VXJN3xANVhs4kfD2\n",
       "ulWkkBMMRj+dPc/IZflZyZgdj6EcNrhghAxTlAf/JNxb1239Kz3fGNDDLjqZW8g+CjXfFWZl7rXk\n",
       "/f3TiSGi9MaA+depWPZJ8zftao/XV2jbx0I+1OKEu4xELWFq9ti7CDAvSGw04FLaR6THPfHDsCbH\n",
       "/5xWiEMcVxjsP16sq1wR1rkrv0EdTe+Vt+GQ9NbD2q29gMbhiVYIMvMn9vNYZVLpE0IOSqGZkYbQ\n",
       "hjNs3S4ZWwG5dtFlcf+t9+YbK6KK7Hqe02ZqWS30Fi3SSJ1tSLcf6HmbVRHOPUndz6pfwMDddcSN\n",
       "D8Zy4t6/uascacmIKNLNw0Lf8QN20tWjLm1JwPG3yxfC2gxGZRFiL+j0jDwPAlH+63MCHBImTqij\n",
       "OQRxuvZL6tQPSA8w7c6MEmEZZEVobfOx4SpVyGKCHnPxyCndKYXvgLOBcCHSFQfPn0zWBPfV30/G\n",
       "4184Dwf6o8ni+VzIDj6LxRxfa+7/p6N7MeNop467wlnaEuelMFD8Tnec9JDziKbQFjIEF/tLUAtV\n",
       "SR0AfYYwNf7yTXv8QRb6HjtpKR0V8uvNONIfxYgNsKojmssSr8r0A6sbsxEzaftNeGafUggopzm3\n",
       "Y0IlxVUGD3vq3ciLVg1ZhaDU6WOixWnTMK76Y/71Am0fSv3pyyThrj0sE8IEb5mdhb+RpMhKl4DB\n",
       "DOZbj4zgbraEZLPSXyCuOzyVzFmya52KfMNmZc6XYEjlYgu7kCfmJcmBhSEMjde+L6rklhTCjf4V\n",
       "/o2hPd+LRoL9kuvsrATA3EKPTtE5Jkqd812Q996G7M1EAAAuRUcy0Fo6Q535qsdblM8s7WOzmMvr\n",
       "a8VruB9aIbvlWoakwBofjDCLz0MjYrtEemgsMYZ6JCi5pJUTUFGQ5p23OkC3yDRHM/NhX12Td7Ur\n",
       "Zyaz6kcwEMz4hosb9LzfSvXuWgtAIAhDmjmEXBcZfs2YYk9JofiplIrzvVJuosYiI6IPSg82/6nE\n",
       "DO6hhn8+UyctdnlWz4zR0xJd5M/WaXX0qgusna4cDWy1PhIYuAWO8mYIIfo1/GwZXpnwacyzMg4k\n",
       "0eq2Xc9cfUx050upsxV3T+K5gKmKT+3PFbtt23VyZfXGeLQHWsvlVsRuegn13AqH2UcHZO27tQPd\n",
       "/te1KuJGNcowa1vjPydVzpOTx5tVjHg6jlDFREXr2qqfPznyJ6cATE1pp8BRfQ5AaDrFkFWzz2HF\n",
       "YAltChcw5syBOBMosJ+iuKenwSXP68+k8p6Oj1kIfWE2jEwZJD7v/90BhSydgA/4Vh43dUtuDw6I\n",
       "jKRBK3oiR7bg2C9+wQYZu4WAjrkLxc2rYyx+fwMyPDn4ZJmwdv40Msb5xegVoFDUjcbA3/HQyJFb\n",
       "K+phZHvlFRAqLd2z3JJviy34OOl0qO3Uey9tTeCC74J/jde7k5xRxm5fM+B31ztisWDwPVBwvtI0\n",
       "x+WOepxRsivBC8H7subP0bHUBm9kMGaw/LaLH6G34zdlQgAcvBOJIXtU+tEcXoHCd9ehLDYxDmu7\n",
       "OfDmj5TtkRdCMIhcplz5oYr7fGBYF7vORwuaKNRwpnIcbTJqqyz0uG+ZdNzFCheQonsNNMrzhtTX\n",
       "3vfC54760jyLWPc/DweDEf5v9g6u3qOjOq2OelnaRkx0uXln8oR2MQvasdj/Fc39aJY0AtUEFgaY\n",
       "33O3mYIqfgGjZVOvyLH5Yge/FGBvBj21Ok8qs37GUMiruhbONEQ9z/soW23LYN3qS+zjVhC00iF+\n",
       "9HALoAh3Q8tnxgxm5vqNoUsrwDT12c0wJ/fwR4KRv2vI3c2V7vfnH0uZIL/lHjV5SxjS0/Ne22AN\n",
       "e0QRZvgq8KUdjjveqm58Xf7OPbWQH160Rzsu7B8RwU4eSku8bM0Xa4UDQ9ux/Kazbei6JkttgAAA\n",
       "B+9Bms1J4QpSZTAgv//+2qZYA5jIY5oASd+bwrB+ynQWi6rAtmsKP3mHXBJVsnu95u1ar203hHTT\n",
       "axzxLxbJ10r2yAj7PXTzmKkRcZMaBUgYr2VYxyrpcsule4JBeT0BUt6bReWBI+Mgdupba4oWGn/K\n",
       "zBRC3TU+/l0C44my84i04JoszjrFgSK/Wk7U13N0F9Mu60iqVxTr9/8LVzMZ+dr8ugkLMFrBHweG\n",
       "ZCjbvGjmTIFZhI51dqV3RjCw375Eo/dwNne298Uz4ZOAAsz3K1YYcXmxVLqc/qTLBS0XpskoHwwg\n",
       "UINg/kvGWCwvreLpWw3XdjuQxvt7x1GB2df43oBZjhCgknqeoKH8mxwtfhDJHqiN+2ULdiko6Lyc\n",
       "pZ9Oy2qe/+0cGi5Yil9qb2w8wp/FImhq38PhpU/3ACgmv39vll7M7SLu4QfjKQ5QWfk7jgZLUgnr\n",
       "L+fqrzGP9eD1Tb50u74ab9+exyS5iPbLQWM1roNwD/hxdgOdqfGlxgC5SQjZL47AN3xYPgmoovLC\n",
       "opYUeiVuJ5lc/sUCEzj4DTkAuURzx6ZDaSCVoD+0C97m4OkYt8LA65cNw0nbDPdX/74hNMeNKhi8\n",
       "xDy/CbW2P/CsTqee1rVsph4dlQTsZgNcDfdxtlSLj4t54+JmdvnOWSXYbckMOtLwLwLJ8KWDoft8\n",
       "x4TLg/p4MduvgPQq+7ZMFQv2r8RzAecwBt48bkKzqyiM0TSzHz8RoVAE8CSmPaajSL00/va3Gg63\n",
       "4gLo5ujPRjkTl/ZvmGWBFrEiQDsgZiUjmZpYRcrQ4+uqjpNkV2P1BveeaIuSL0cA1WZghvnn3VkH\n",
       "EAUJYYJMMaXyT7Voq4mOzAxeCuGAy8ezTNVdA3xvE93E+WhmWTAy0Ct80cshznP01E6PAQXKl3Xn\n",
       "DVuxLGEufMZKYHaEpDbhQ1wMnOKfm+MMkET0zLXkRK407uAqNY2VC2wjKj3/SXRBdS7QAVJDiwbx\n",
       "gB+zxyYt9+u+B6L0xepQA545R1AFVcvQqFNvrtYePg5n68fK/zS0MngRysB57M/SNYvIZ1/fTxsV\n",
       "6Im6+NrNnc9cqEwkQgCTHlw2nb86cTJ87v0hV1pN0oekTturZu3/V8up+I2jlehDRXbjLak1XBCV\n",
       "7jgajQ22h/XPrsYqD6TfAs7j+jHz4N1SJwiNMNGWQB92WS708jF8tvkyI9TqcVorpnqoLoZH/Xt1\n",
       "vXee55KzaY8zbzQ4f//JmD2a3CVuc9ggpXdLihhUZMeERCJSItGAdQPaWHuYfmnZGqgHTYkqcBDt\n",
       "L6KBMJ0UGhRYc7MRSqYl9ueadOfLNL+WsJflQMhME6qyGnf62ZYq3cZiXNnuM3Gz+btxCfZBWU9N\n",
       "dEDRrANsz+XhnB0H/i7cF/MsONznIq+K5priyIRJHRZodVhe32qjANuSkW2kj4fU6Sprw4VR/cfF\n",
       "fB6KYejxIAAAAwARcvbVjw1kf/Dvq/Cvva0fSetfrFmHxC3GpWjkTgTqjFd5J5OtJ4akzZPqP+Ln\n",
       "EZPNn40XaZ5LEzrz8Dj9yZkpW5s7OtfOfCe5B8NcV7nGoexHn3I2n7hHDq1pESTDmPuwhZuNnwl0\n",
       "a02PfPamzoLfrssGCd1+e8wC2l5NnlMwZ92tM5bjIXFT8gSvQZLTK3hFlT/Dd/30IScgNmDZ7kKw\n",
       "BJ8v0siK7K7+EBBGXmVvzoEK1Eu1ZcecditVyD4IlPiQ7I5g5qvRILEQEtKsGsuFkYu5SA2FTtgS\n",
       "nVKLIpdQEY3Pjs3aa/FBoZ8ptYGSRE1R8lBH4Hp8v1Qk0ovVN9fOGju1EgNfBL4jBHtn3VAZ+b5Y\n",
       "utkUT0hgfFIuRJ7+DA3jTqkLe1J353J/X36MU6qHqLorHiCGe2kxqru7OW9WtSVqEmFtYseu1krw\n",
       "FTFafhv3jyEn+txdJ9zPmf0ld2xCSklsC3ejclN6mLAEa/9tFK3YGHqvt7lRHV+sX0IHpKeAp55J\n",
       "DC6AFwxKu7kn3ZuoirDdT2nF0DzGaant4RphnZ6D7mSdP6kS9SoAXBaET62qESucUbiXI2258Fe4\n",
       "n77ACjFzrDgVDK3fA8h4w6D8FRdzjFQEv29SJQvsAlKFt2vMlQuM5e7niJuPvnL6V/w57hmXJqYA\n",
       "2jtM43EcAB2n634ptVE6RpsDQSmIOkB+IQpiVWNOLwvQ3YUc41n1V+H9BZgTvZWuKr0QsXvHL6am\n",
       "s9L+SGtA86mjzapW8lYIBrKOCQcJdaix1R+zb1DrlFxABYW3/ok7jLKWK4CG9jGZE65LsCTslgjO\n",
       "q+rulnSMQunBgrj42v357lJo0cHE2CMXO5/fMeXjPmadAvYFjFH9f4SI8WFdHIOhgHePVJYxqDX/\n",
       "6MXra1zmbN93zlyxXeEn/LSrXw+k69/ArE4EXE92OHqsflWAV9ruDhA5hVY6TNXp7h3gjJg/6myR\n",
       "4Iug0K3oOfQj0hKx0mUtoHxtzmTtvABeS+NZE6YlL6ujHd7T8fxiYqLZPhYO5QCd3gtak88h+brj\n",
       "/3FfJ2aXSccsKxQGnpGnyf902GsVefJUcIdmJ1yBtFhHkXnUFhioYP4BoZQpJyi2pXf566rUfNE+\n",
       "BEf7NN7pCvV/p2d3MQFaBC32TCaGrkygE+yeZPyhTB0X6MeKfShGYcjC+lUTbYhSqQrt0/nQPvO3\n",
       "jnzaqq9vz1Cf7ZXZkUfZBRyfHOlDnrWMqJx23CTn4Yti+ahVjYEAAASnQZ7rRTRMFP8AA/GGcPkx\n",
       "LDC8S2HbBSAARLmmppduOmEpYPlnTqJVHxO/8OvmkHTRLH7TJZ3e7vba5DRm/X5c7pXu/FLNR4/j\n",
       "4Won7ULba/BIHVXHa5Q+xQTKpvJgzyBt59Rx8mtnccjyV4rmBiWkBR1zU859USM4Z6vickhWAQ25\n",
       "wxZjoS+BETR5dMuqIUabZW9x8ycZemd8RrIDDQcAzz0EKn0QfRm5hjAslgGG8uBhhRztAq9oIL4Z\n",
       "t+PYE2lfBEeOF0Tbnc8cytocN4hKZ+iSIqDHoANjQ0CWx/UclTZqcMLKJQeBmp4xPJwNPwyCnsKk\n",
       "Otncq+djnUGOJtRfjAf06qYJ+IMbA/7K9pdFmcmxmEYr3XoiqXKj8y3dNn+QDmLtJ8jPcj3NxefT\n",
       "gBuxMw1CGu6tqNDKulcHbaBqiYR9kAhzmQ9ay1oosWJ5+DLndxpeHHJSw6GaYOcVBbUtTcGut8cI\n",
       "mXeuI785pvzpKYOvFdpFQgsQIcXHf4DQbOxeK0CaIes51q0UfaOXzDl+dOJwC1VvxBzJrnga5wlz\n",
       "hqibpYPiDMk1luT/CVQdaMa3sQESGDgHSGua9hxryzD0CryaEJpUQ7v0qEokRDAQnTt8A8FnXMEj\n",
       "6bH4DoApT6f++z1/R14PB+KvXAYqpA99L5vZZSoNkmxeGvTmHXIwwqzWwh86NNUhQ9KeHnpKkH0F\n",
       "Ox3mcx0dErbKbdmDdN1o5Ga5I+TX5EYbkCqr8iVelFpeiqitD6CDCxa4DC7bqit13mIRH0XTTD1I\n",
       "olVQ23EgctSpWiJQvHhu0FcxtuexZiAhTVgZyAAGgXh7KzsA5pqLDCU8inUPF+Y8BJ97DhP0e9wr\n",
       "fne3F9pHa7SLUj+Tw7ZZ/g9kLMZlDMRCB86T63KK6ditoSxjEhbPGmQb15YPDbPRhZ7zrYuAzxxU\n",
       "1cUky8CAUhzQUE3kuOnjonbL+df4KYiOvHkZ6AF2Jyvp81rpLnz9l7VGp7Z0jqRfNuDnL+KjvQwP\n",
       "fTV/2ywqMuIwjsbiXTU5GyDGPee8ZqNUmzVv/+wvdxjPrA8h/7flL/uRCsqmcq5Jx9fduC5T5QyR\n",
       "q6RDS0nYzM5BAt91SDhTBBcx8xLxBmRE2StEu6RoP43anRHs0u0lwqdRD2lhLNCWQiKrgfyT0FbD\n",
       "ofKOg9m+gDf+TSg9I8VooW2x98EyzvTdgLeESk8EAxk4O7fjtYtCDxSTT/eTq5Vvsw3udwhX2Yl/\n",
       "KzwU0sr/Eqn8NkDinC+eMDHMgXJlSJrya0QK4MEshkizdoJ3q0hbapxghmctDJfYY6NfwNWV1kx8\n",
       "ezs8KdtTm5ccffz42uQrusrUrdG56eXSfyZp5BmohOC320yA8IWb94fydqFQ7W4tVz9yJYrOj5lH\n",
       "EDVgBBUyVY7QBpfmc5nHLB01XX7a/rVpwubr2ZMqUrhi+TFkJl5PCDClfNXzZgQAJczsQtiBb8RA\n",
       "oeQ6RMs0w4SdIz5zYe+menfAcZHd/mSpp8sKvR/FjQoDrEFYmUCzrldjfrM2JzHF6aYFfyBxUO7h\n",
       "RbcT8gJwBhSZ2nenuyt7VVh4SB9ElZhgvy5nW0d3w2RSp5nyAAADgwGfCnRBLwAKzfW6tO8QBvq4\n",
       "jaUyr+3VTXti3lbYKJyuLYMIMMYvbnpc15lxzr6ZXBppATc2Eisw2FgbDyisFaLxlin6vm0DlpLR\n",
       "nEQ3xNN7XXC7cWrZ/KGx7y4n9wIqc1U1Af3XXI+38nSyM49ynDLr0zcXQEibP3akYKt1iM9aL8lO\n",
       "UxwDp3TcHPq1gHQ9AvYOH+l5nrCDd73/Tm+v/qGZByA7NH4PZq/U/Gl32P/lSstwoANQFFZy87QP\n",
       "J/g6pFia8N++PTXDabhpPNs7p2/YO0woTqdtt1KMz1yVINPP1Uc7DZIegA0PkhdSc0oMwHhsxMZK\n",
       "XmH9cbuppvuvREwd/2ua5HtXwArfSF6M3JlW7y5NvIA+C4iRwwhjraspdiRvaZ8MPDkrEOMFIfH8\n",
       "5Fkc2ajbE0Q8BXwIPXVitdw/jy3ofXvPbDTevC4ApkhHiGeQSBGyGVd2QLgktHa//CCBDhqyN3OR\n",
       "hESB+k/uLFNflf0Hh1LGcxKtp0ac9rlZi3KrVLcJTawn+00lTrIceyR4qaaQFfLKGBbnHxjln//E\n",
       "Ngn50YfCs5MYRYtD10VBVx6w+rlE4ZQDrYOUEPeF/uz5kQ6JHtvM/BisV2eHRVpUYTBMVB13h7Wc\n",
       "C2EYx+Iv7LsVWzbDfd0Ik2kmLRAs9U2TXs+biX/2nRy9+pbPvClJ5tw37ixcgKUUp9VyIWokWDBY\n",
       "4NFDkdy26rgQW7whCqnyW3HTQL6iASjGcTNpqNVBSrciQaf7qbV9Ut+AeRelCBKkuJqA6nn07aT/\n",
       "U2uvNSxD6bcxUent+UHwp0+eRUGlDNJFjC5Pcq2WchQ+QIOnRg8GurbBXLd4nVnW8oC+QcrBxgPf\n",
       "knULG0B5427rNctwPGALqXO/W4NGwl0MTu95ITrH4FwVW0bAYp9IqB57+0y2Jyt/wdtKbDrW5cVT\n",
       "zkGNbVDjvUXVTwWXDT+BG6UBK7KluhoiJULvWwOcDJeOEVgyNgCVi8UB7h7GdE3EqqlYnT5i3eT7\n",
       "nhn4+UPBcy0yIWGEa8Hz6qa+9Ce4oNsyInVDS+8xRJuehfDmdPUl3oD90qTNKnksmX7tf5QEYlWb\n",
       "OJmL86L/7JkaqeiH38uqdapCEpLO7xnVNjqe4QZAFFlfiRzLqTnIL+MxqchFGFANJzxps6gyKs1C\n",
       "tWAztZXCthbVhaFI6EkMy9GhlOPxaJVGymnMAAADZgGfDGpBLwAFzw9oABVY6xPz0aRiqP9IIKr9\n",
       "sPzE8S9n3obnMvdfaa+qmlvMq0cTgBbvYykgZF0zmjzW9Ks95mp6bmc0qZpPl7nMD6lx/NLSlwXg\n",
       "PCThDHDuk8NRnV0Uw3/hFxkagtfglznMq36U7vl/hbX1h8x/kvezRRk7TVCYnDe6DTNgkRsy483E\n",
       "/4uTg/S8e987sXeEVsx1ziK9Ny5/Kr8P5IsbJxG/Oy4l2/mbQssI1mw1EnGx7YzU6TF1NJnMqqr9\n",
       "l1Y10bTqkShdFEe4zxpxKvaL8T9/a6hHP1qjjcADFQ2YuN5i4YEdiH7jYTuSafk6Pe3cZLPYVAHA\n",
       "UoT+g5atTRqWdG7o7armasGsr86Os6oyGFgBreaGDCQw4LXORqOzo3j1broKLLmopDfcqGMPoLp0\n",
       "3kmE3eQvg7IpoypaUFOtaStL4Zmp03ME6onOdAioa243s16vvH/saW16N0GwK9G+LnBQiSy6j3Uq\n",
       "bozA4rcQS0mbtXn5Pm5GQsBFjlkMWndz/KBHgldKlZMSlLKK4LtztZc5tie3gJ3hSqKIf3M0GDuy\n",
       "YdSIYYUBIRBBt4DIz9aDVxADKBtbp7KS/4myXu3OApGhC5pAvORl3WxBg+TZQ0FfZ7cXV7KP0zLO\n",
       "qoG9ovmdRsogJ0ar9n9+uvsxthuPu40R5SImnLlLRavpgn/3tfqNQYYDW3QHTC1zwmLd56/KBkH9\n",
       "YV1PLi5YWeYxrtBCiNq0uExR1fLhEA5vLgREQWZDQLxbvMAf1tub6kHXLuxNZufUX9YWlSUZT2uh\n",
       "lPduLhlL/PN/pVpVK2hA9IiUkoO8iczp9GMBCUd70pTBbL7KAiVMq8nAnag+GzLz82f4FIJHKChk\n",
       "8Pr6Ia7ShE0LeVqT/3g/dlvb7XXB4BcVk8k3HeY3ayl5ejWKoG95T8XsEHlZie4cn6hiFc6tn8GP\n",
       "3kuqm81lFHSwCzT7+6Pm2LjaUrhUnAoTQ+Hy2jqVn8aMRKasd05ls93dOx45eDfOj8mXEv2rtIxC\n",
       "lhMpON7cWPEei/Kv+rA9t3Y57qieiEla9B2TsoW08QXbTcVlR08patGW3SC5fbzvj0urA7BJVgmW\n",
       "T2DZyP3v7YUl4pPMCmXys5eLFrkHbzKpAwzrJ+2xTmrnG91H75/pGfGOfvlybwAABehBmxFJqEFo\n",
       "mUwILf/+1qVQA4/FZ8oANxHvayvcTO51me2+P2wXRaNXSIzawNrc1rnGRNWAtQABwUAnCo5IByOd\n",
       "7OZ2UJqw/QyGfNTnC8IKwCwKl5e711VcEqtk9VxffYDGkYgwNvIkHyU8hC/HWnAaMdXjsNwxk1gi\n",
       "XXkrhaBsQU7bEMfw+3Re5uaEyTataV7myeLYskd2zE1lzUmOM7c3Xikq6icKFABp3VByBSIMl2Qe\n",
       "20+/bIbZ4YHDqH3Nz6Cp9VfTXzWgNc6Hr1lan/irBlDQyX5CZwCz4720BdMBrDCxSrh4fWzcSA06\n",
       "kpm6T833f//BM8Me24//GNdPQy6TUsljPinWezgOl9cz0UTqmIYS1y6jzrc9ZXKedS+W97lAiOca\n",
       "7xUjWT+fJaZoWdsBTdIhOotwCtrfj/E4GcdPdfLDwMu3BwFcbLs3jTFsb6jc0zX2pnXki/x0Ruw5\n",
       "R5/PIIeuzJhcth7EICEjiCrBylrH3MRSmD/E2BeWhbf1Ky34Md7glSbm6FdkRjbqLS0TaTbkWIHX\n",
       "5q/WDwnREdQ4rsI/AcRBST7bt25DPxnDcaLLCsXv17CrUb7Y0MCsWw49RuYpjyH3D3Ad72lcyReQ\n",
       "h76kMpeHJ03FWnX66bcYXdv59XbNm0VhBqBcStwSkKeI1w12agsLf/c+bH3olaFGhCHYfq8dCMUN\n",
       "uLrPhPQKlw1dzHrB5H985APLwCM4CPZsryO11WAZaziD8V60RcbJ/NZFbJXOBYB25I1A9VPvyrai\n",
       "q86v6EKc4wq4OzWvyuD9ISlMj1JK9gaKRbC2RRhi9ZPjC3LuedJONdAOtXr3zd6aJxyoduvg8Vkz\n",
       "PGhkuLXjDw0ZbNesAm+ZXIc0dpx8mJaeCwNlvnY9m+ENBwdpxfEGiSNEWOzufA6QoYrrockqlUwc\n",
       "L3B//v9w/9j/z64ZcnGGj1e2qmpiZS8AYt3d+xkh5sKkAkXF7eXHHN14D3ITlSd/e08QOcPgH0KE\n",
       "/BkOPg1lpOl/H2W+Zn79p/6hfyBJ5xg4aYBj9FZz38ZL/ZYMufCSLLsZ9cH5ECyJPj9K4RRDxd0W\n",
       "tyQPdf1MGoCMD0nRxbVoUAdv8oZ0oFd8FYEUJzdtVZH6bnSf5oXg8HIHzY/pIguZ3hQyKQeik9nc\n",
       "rQOPfhfEWs6ZwVm3mP/3EsFF1US8LZhDuOSqY481AnvLKj5rjrFwAFmmNBOCbPdq2dIyp7vp7JY6\n",
       "jcV9zlHNHV9uBtDxYEXPAVfuLJtOIZI7h5wj7RkWygdFHh76pPM+3axLHXU1kMi0ud+ypgUSVIwt\n",
       "0wAWLO/5h8m/Y+NdIZKGaUUrrq2l2EZGT2M4kgWbMadzzga6Tk1R0Ax82vFsMO78dXK7ur5vMQKR\n",
       "sk6sPZY+ph8f2rzuYCb95uUFrTDmVfLsVuPxDg0sbskCTn0NNLa7gdauWHBkjdyrdzn34gyQ6a9Z\n",
       "91zL8alFbC/GVlQLHDBFq+9IYH8pBaO0ugwZrNqHWCvRoQiutAfpaqhjjAOiv6gzCN40r7RlgLHN\n",
       "rNt9fiRBvsBFG1FjZ/Sh7R8pkku3Qqme+oSE6111S97NOwxrDXa6Q7gXVn1WvVBm+8vgQykapXLc\n",
       "E2535OLXIADJGqnPjwDVsh+0MfD8Ey/bLeIN5qZCf7YmEmJ/CCp5aPC0ajOYVReAoQhamBm/x1CP\n",
       "uGlq1Zn+Sp8AOmwIsErIhkVyxvc7Yt58hchBkErBeESPzTBIKk5ljS15Rc7sKz65ZW0LYjx8qIQi\n",
       "x5FWzAfcdHY9XceWvhK1nnX1XNUfNlZEYMtbkhl5t0rbdwH8jL38uz+6GrOCi0fYXI+Af4ezqmth\n",
       "AzDINrYArQpTXADtHlYYltO8XvfCdnoroItFCh7lej4aSUptHf0L8EM+3oRQfCPXZZHL89lDW+63\n",
       "LxI3A9s6lUu49HsUOYiS5lg+ysfGg/gaxo/Q0iKmoGA54YCBHK7sUzhCR8Bqs2fWGyfb3Htzz0fQ\n",
       "pfbNh25pukuOM+JoGxhDUdfpcwVXQO0AAAREQZ8vRREsFP8AAila4d68P2JqAIcor6vnW47VKWtF\n",
       "5n64/QryDRZp1PBrpBojZ97SdIFG/lAWCl6ma8zAxOcEbOeMdio3kAz6YvHczLGMfDnG1J4y8lV2\n",
       "Az1sl5kM+BpwedXq+3qT2PROA1x7yX8Od/BiVMIVzL19hdvPmRykjubjovoNgdgkdFIhaxWqKYKb\n",
       "XTjetvh50XLUAq3sUCNKlmlq2Lb8tsjkVdkL+oBn3gIwjnfa4ubHVXaWDM5yFhLGz+knBeiA7nyg\n",
       "jca+y7sAPprXcQDzybJCpDjUgl+5I9nr5vFGHxKtioNwsn8ZhWKN0M5nr/K8D3GXqo6k6v2nh+wW\n",
       "V7oWTST4aqwISxBPg23IDU1b5QKwlF5+6N7W/hQYVGmoejb8dqw6wtb1st9hIgTQvR0qrr905aMX\n",
       "jtIicGEnt4glYfelx8bHPH+zZUJwEGsXUa7El9tc0nPo0EZVexYwovr1C/Lwg39m+ULgmD3exF4Y\n",
       "AfEXjd8xcLjwAI+ihV4v/xbh7AGPH3i8w4I84OkBXTvnAJX0q3rOuF4jdbeLsOGTd+6jt9TGCC0x\n",
       "yJs8eeaQlZOKJIeD29du3fdqOyvlcLqL3xo5HGkK8QpOqqgO1fk6HmdW7DpAu9lAZf+VAc18le1f\n",
       "TUCe74T3T2Fs8xRNctMi4HY9ZZDi1JYM9oIDsPt2UrZtOmTN8GLDQ6y780IJt2izl9kTLXSlUcwp\n",
       "IdyU803O7cxuY4hBdEkWOy6Dx17Im2rI1E1RcNvnm1GiaaLOxODRA7jfuRrckm2GVdBooMoKLUq9\n",
       "hRQ36hJJlUmEWqF5falJEp5+u22OJxoMpf8AzNGmMZmWEGcHu1KWpHrlXMYVv2VBY4+QU1TMA3uS\n",
       "Nh1Z56/e26pk0VgtD1eHkoGynUwNinkrQfAS/Y4B2RBG24mGr5SBsH7MsD6crsVBE4DnO7FduYvH\n",
       "LiJu1Y/HgQxpbBUSAZHAhRZxuPgq5OMY+P4NoSmzC1F4Idn0snmV3exz149D/WtTCqah7ACBTZZI\n",
       "E5Q90AyvQbxt7FCGgvPskLv9Lzy7PfC4vwxppyLIvtBQAdgeFfXLtC0KR4ChzCpIOfNU7qWJsD9m\n",
       "MDL0QY2rDerda4GmKR7FhoAs8FOBZ+x/mhfrsJDj0MnUb6Xlbrn3MixFktwhjwKRAtv413tnQQJd\n",
       "2I7toNd7QmtJXwORaQIb9T7rdaGL+mrmhIxsyBh8rPp68KB4BDNKFP7X4EV0hSL9I4E1ZoZE3LSx\n",
       "XDCrMjCzcxBhHb+N/euVvfkbmHa4NvaAJaM/0kpthANiUlQgVmEY/kLwAyTchO4jAR9xYKPzMrro\n",
       "SMzEZHajCGv2BHF9l75IgK6mmXNN5XL3lTvW6CqukliR9IpXVrDpDD1AwGWHyjudOIoxoBeK8S3n\n",
       "9bbnl7zLSdQ4E1nqIApgqbMiPyTc4FSF2hp2wbYJK6F4NClhAAAC5wGfTnRBLwAE9vreNdytJxcY\n",
       "ADiE8xi/gZxiWnUgtlfz5n6ExzMGNfQypZY4ocbSH3eomcHqtf1H6Ffji4VkDHh7vamtOjwr4ADU\n",
       "f0uHljkUIyDDIk7I/zEc4/M7zntApnkFBgTQpbfY0o43KGHyvx3tVrqfTlxW4Ye2/5EODxuqWX2e\n",
       "SOVupf3rUF62vNjqgEtj5pNQ7M4X/iWJ3NhEncoPJoJYFZFt0oV9D57HmrEpvSpnSVZsJXi+BVuQ\n",
       "E+gD8XcKvakCaGmT0Qz0O0FzfYh3j5NU62B14icsLYt8+lkLnBNfyWkmz6f4d9F1cEaGZs9aRRDv\n",
       "hNp5Ohs8mPjm4w2kcWuM4vIGdSd9aNKAftFvHU0QKFFPamQHQzx/DtRbvxtpmDJn38YIQypqY2PE\n",
       "Emg5slugWlgvt0Av1AAQX4n6zDWjN0AUKik9kW97f0HB00PwNmy6HsvbTh70Fwkz+alQEDR+CW69\n",
       "dYZ0/WguHFnC6qTtLVJpHtP7e0uWd4O4EASBM7IJkNar/h7/jp0ddwdzJE/D6hGAcjldknp7bdDU\n",
       "KxHKJLSYAiO1HSZzn3uNJSZcujOTc/lFQqN9xl2YASI8NbsQwCCmqY5jIsSpQ2dmdDICsALzBzj8\n",
       "Xq0pYxeqKrbUqZS1Tz4m66NfENr81djUFnj81IpaEf6K97nXqzDCQ/OZuBRhTDIH6K6PnfGfK5lW\n",
       "f7zdUSMbf4yzzev+9eohnXnz2uuYWbHYax0a2GVPSNB9VMq+GHNf7wUuzTWVSCCU5QP8GgTnO9t1\n",
       "UqK7xCoOv9ISBYOCWv3b8wR68yM1sMDRZmq/7ySmAww1Ph5269mDLj5jIyhdF6yvx/SoS5By8OuQ\n",
       "t1HjEGwK4Z4wf4OjLABH3hJLddxArzB1CRRRQUPBxtlQvO+TNJ/HfzU2MI4sOd6hLNloBhtm9wpS\n",
       "nMMnWv8m/iWfP+tCsdvSdaK4c+m7xzlpYKvQObv44lCdtVLzm34BVHiAAAADOQGfUGpBLwAGGaUK\n",
       "XAAVdu6X8Nn3lpPzOsd5RiR1BUN9mYRN+e42EWuCOzRIRIOZl02d7fHz6o93tuZbd1Av9nl71tVr\n",
       "Y8fNyr8oy6LlzbIQm2PSeBTjln0jLRTczGt9yUUenu6qjq2brJxbk7DYgQc8y+JYBPYn5olGWGY/\n",
       "5IhiJM6m9lNjLCgorqbfwfJIe9Cfw36+kwLEFXVY9vR45Hhe43LNK595EXH/XVP3zVnc1vGMET+I\n",
       "wfoZH+CZeIWAOedExgansIaNiIwyBEMiJ9dPnSfpDBjSaqK8nbHeoAmjpfa9wzP88geMVP1na8OZ\n",
       "Mqv+3vM3Z3k8/CknMreMJRYzR3aw/w2EbClQBvx70zAmwS0EcU8xAOn2597UInGWNfF2lYigkmyf\n",
       "37+K31GRwd9G7noqLEAjgXYTsgB9nIySp3Bl3TR8aNjTiHwxI7z9t/MGc/kWp6Nu0h5K1+MsYSn2\n",
       "U6IvwC+DEk+CN4KMzrOOq7jHh5DbckVhlB1hJdjgRc0DH+eogwTqsAHebZbSy6TaFY8pp66F+e5z\n",
       "HxfET5Gy+2PYf5EHJZjQRKD9QWyUIn3Et3jFntG3IUJHwEom7pUQyC+63W/MMqiTmD1xluBoPy42\n",
       "9GQztxGQp+/XadlzXblhxM/G7lyc/zLCz8p9CHVSC5gp0pSxXiPGNui59QMagyPU0yHBzT3C4orF\n",
       "zV59Xc1zesAWINBVgta7aahVjUnVYz7wFjfKgE8ZSWjuJPz20/NsSSTrg1vYXCi82vxK13c7haak\n",
       "/449cQqpaUqZ4RQYbSOb+7Rjvll0lFBtNF7xrUiVjQdvKPERPEEHeoEWWN9Ybu9VNffOVXJ7GGTk\n",
       "JJJrZHBA5Irr/xBT/I6qWaIS5S49NXloPJc2cSss8hSK0sx5OPB3ohqAiH3WkTnG/BdeqG4iziny\n",
       "stWoBs0LZ3U+8/oYCw0QXtKxzch4Zg+A7NwaSNokUCiysthOmnTl/5iMj3Av7WUtTC6q1n+D5Xhb\n",
       "JrI/C3s6A7R4Zc2cw8XNQs4gyziIvvBOhxCnOyaUTKMciHi2eVVkJ9L35YfL9c0ldeTF/KHvncIa\n",
       "D/QtW9FLvFQ/0fylQp9aiAAABQdBm1VJqEFsmUwILf/+1qVQAtik86nyr3gAFmHkDv18npDiDA/y\n",
       "MLmBqVgnhmqiWTjuTDSJ2aqwCR841wJmlUbfXJ9M/7LCDoV9F9v8UCTqVmZkUIGYmvH/v8PK68+Y\n",
       "bnMHr4pGUemXvH+Gh+TSWepGsdXhSeg4Lan3xXL3NxkcsPaeivLV2j+lU9JSR8x29m/0qaz9DAe4\n",
       "XjR0ZdCZfGYbkuQCDw6qRXx1fEaMWnTWIcKAtF/bSFG2bGvCqIlHHKIIXyoeXqtHVLsylWmM7Oss\n",
       "vKe8ffue1SkBtOvuejdjvN4f6KBKtw29fTHyNh6kwwYxIwAAAwACmEqhMLlzbw+ccp+/zRRtthX3\n",
       "5aBKnvRADjRiE5Z+rt5ujGiZYgknfXlaiAr35ZOrAeZ72bQusO8WpL7WUiuHggx6WLVIEM/ArShF\n",
       "QfdIJvmdSGndfTziuFNtJ/0c910DQv1AZTx3vYLSqO3JoszoEDAp3Uue7b7gD/74W58PE2TdfJcj\n",
       "jZSFYiwNoEh/xRWLSnuioEtoOZQdNvES7bw5iJULkeHOnRph0ej7G8vPfWccZUkf2d+m2p/zS3Fl\n",
       "9q5FCxEsVY/20PyKik6bizMQ9SlN1b/dB3DeQAQdBbYMAacliK5Zg9vpKqp9ATgNB0ijQ3FGxWVr\n",
       "3rA6e/IU7A9Xeg2/1OMyni7UxAglyMK+DZu/xhU7rWUFZJ2BqgGD3hkZTjuZ6rDfQSuT8k0aMJrD\n",
       "PxeRmVS/swXTqtQm6RsvczjnmUINBMaBtQi/SbIg9hWTaU5RFSb8x/16e0WZRo9DzO1LOu2/4TrM\n",
       "dmcd2PO85LGcTF4g44gkBFKxV0VsftBt3WDQnbMzZrxk6+gaWkl5Tau1udz/552VXEokLAFabjET\n",
       "bWZPuK/evmpu2kERiAwdzd6IuJZw8/fQYRFrXFjRpQ90nIdA1EJ0rdMeYy2eDcQLKxAbaT2PdtBP\n",
       "g5rkrLRU9Znlf157s5D+umOdKBuy6z4yOyISqBlfnFzfVKY3IrLxuQ/eg5lV/efG15uptwk+4qa3\n",
       "be/vfuwC02JT5KTD8vS9g/ZqJycTonPpPGl3q6rccW8ZmHIJDUPMpcKS6m7xaalriY7z74dGcOWE\n",
       "Zm3Mcts1V3Krh1WstlgjLlunGNV96YdBekPXusPXEBnJEzkKJ0OnlGetzDjj5Rd4bOzWxg0ctW1V\n",
       "bksRCh/8jEnusaxq9sw2qY1SpWCjJKi+yOCndbq4SSiurGvdeKMD6Fqxfy70Xa3kM+/+zOThE6SE\n",
       "34q5vyX8vEKZz8gXq3ahTb+QVanTbHtMtpeKq4Ljlat27RSTAD49QYgtGDu28gtN0QNNfBAkKJll\n",
       "l2+W47nJTOwCraXFjEHQHatKGepnVVzDAIhtSRbA0P1HJzPNmOGtB3AQR50+UB0hPSxM59WuKI3O\n",
       "Sag4yKfEky2cS7/diOeyW6OPXOdz5aMxrbYuVtO7JBcsMKJVq7bwzMBdDWdpKQlXc3y6n9zf0+zz\n",
       "TmOooobjfudCl6W/KDpFz9KUlw0/HZk3ggyio7CPlEZovd1gAAhW1yXK3enIn9yeow7OxvplpKLM\n",
       "L3GtlrvupkGvnMY6IAq5L9TmM8INR3SUIV5EUqAITA5A3UNrJYnADFH4Boqiz2XS7FpXbpfyL5Dr\n",
       "7Rtbfezn49KewoAAxddAAAtfLMuQzyNt2N1jQgBHFAOhIj6ivI3MTHw6tb1W5KLwW28uyoEAAARn\n",
       "QZ9zRRUsFP8AA5mGcNXap4gDZxdXkD3mhhjDllsFOuSqAszr6jRz781tBqUrJ36fOCaKWRGL54f4\n",
       "9IfCQavu/o7sUPNIhoQZ3QlBdFPap/VMY69vRCnTrL6s71z/Pwo/dd6DYs6d85ClMqOjOkYz8ATP\n",
       "vFNLSsg60RMJJydvYOxUCsX2PFjYB5iqmzygOFnmo/Wx35Gfzq2V8GAjNwpONgUlINujhOU5EA5O\n",
       "y8Jp9Mhcp25q91VSaz/gA0mPd5DeJ0VvSoTooWA3s/L0pSTmwAAz9/v1eD9B3A4fhtC3KHKBHpBc\n",
       "tViGfbDugXug5rO52ctRIxU/6vNfjWtQPHSDCduKW5zjPOh/RRN/CmUOfuh7HFbKdLP+HT0UUrcY\n",
       "nUCtF6rDb2QotKOhsX7jhtdMqVJ1R87UBE2dmDMeMXbkezL27OF8dcUwfCTU0UFtDJ7Zie3izFgf\n",
       "sze21514t4tfcoaFcfjHgjqelqfbC+NhoCv0mTHWlX+BL6FMXqzQ39vRBCTZrwBm00d4hG+tfvan\n",
       "Bo7VWDcqEVsRRXJX4xY56CCXbrHbpN16PjL9BF4WldJPk7QdSlpdMfEwzcmP6XZBZBa0sXx/9TSM\n",
       "l99wLyAY/yCyXR9Fh8PT6R3vt3T+b2TYLHoh+V2p4RUCyGY/s9zds9FONwGsK19gXby3ifbngAPf\n",
       "S98eJ2x0w7k5wAYHQaMKeNx+GzmX9/UKuQgaSUz3Lreh/8wZpr4KXH6BmP8lG9G52AOA0J/RgdTe\n",
       "YOEoXKB0/Ys5dfVaOkpyyuRf2S+yc4rCm3r5lRTB1JQtgQ5JmLTlqGu2pCwH1BxTds2kyjDs9rps\n",
       "3UWJgxbDmGFkZ+CKkOUXapuKALONqkKt3cI/DNWLJiHFeiPDzgF/BPFOE1QonR5CoSZbRgzmgBBH\n",
       "x7Cr5WEDpflBe53W7Bsl8aAexMEGFzLUU6T4WiKzFXeQaah0I6zSr5CtMzvgP0NO4aJvWFFmXQFA\n",
       "vk9LhkvqUjzmV2cIqwGHp0PZzviawEZnxJBB2MZgJJyQIfDuMQ6JXnt0PQiVMqAf5HH7n9QVj/kv\n",
       "e11drZzJ11WQAwCg6O4OuEtpiaozUjo9U1auhDNHmF2TE3OoNgVhYDJBmDTN7yydu/j6mB2NOCHv\n",
       "vFrc7PyNx8yoMDi9dtK2imAAxsqDzPdkeyjJYKL8P6X4MLUlIGJvKbWJrsxaW0t43zW70QSbGZQr\n",
       "AeZcqcJZhRXX6JEKAVgdKjGq+EW9qe5oqCFUtPR3A7AX9UPzkFcS84PccqQzBugYc2dXqBP9k70s\n",
       "BBO5HGPGZMO5df/9H6Mg8cWlYYr1qC9Rf8pNCa5NPU4yYuvJ4+xZHBrUz/KmgvVKtTUrrLqVZwez\n",
       "wTOjLinPi+jjzZR/nFS9sLykoatkgq/aM3KrAkABD0j3Bhk85rvBbU37DgJTA+KVXmqW7qzCfA/F\n",
       "St4pG/iYjg25lGCu29BC4QxMFJCGadIAS6hpt9Sgug2ega9CBjahwpetwWAAAAOCAZ+SdEEvAAWr\n",
       "I8pHllLMQg9hBS6qRAJzXqMWSlGwgo8OMf9Qk/oCr8fqHef1+b9y0ZHXng7wf0dOZqBRsG0UeTb3\n",
       "72b3h4OGdpW9vH+tg45tcmjZuWnkB9th77w8WP9X6vHwHtjgAcl9ufMQBztD9dK45CXqv5YFEW6T\n",
       "ABlF1dK5/I0hTMvAz3O5Vmz3SGwk8e85z0H7v0q2NI3/l2WPau8nPRYbuxPlJdit1AeLJdXsktOd\n",
       "U6knc/noH6954uHygCcRWMLt4e4lrPeQZXV6UXwrK8FtOLNYxn/v8COXadXYFpIywnu/CGzyO/Jg\n",
       "nC3T1hd20aWuB16ajRLFgYDwr9LEifGBMzGD+Rue6fdNEYyaGU+Cpx/P5CNd7hJsIlcaO4ErTC+H\n",
       "uBilmNct0mz81X0yC//iMauHwLQJBD4ExwNtFQRLOVJi0PVbD1StBkipWhUwfuotTdrD7rv0omXc\n",
       "BxifgLGUPQnewBGnMAdu34UuOzelorkE6pZJBhUWl/Lq+3KJFam17bfU5SRImTo7vauMV5cNZf8M\n",
       "CYeE9IzZ3953hdL5xsosT0RAFCek9Aq/4a+kcjaSUx64RZyCnyb70Yx5Q7Y345IdqfRVt9pXTWIL\n",
       "Oh+DV+sPuslKfA1b4ZWfa2mMblrOnyndEFDSSsXDAeuxbRoqO5hKtVwgl03LVWCwwF5D2ux2Y20d\n",
       "4nVLkXuFzoFPMnZkmsfFc6NewBiL8vD65hsarKwby/FGBLHSJnnvplKmk/Fra77J0mn5Qm48ayff\n",
       "LqKIc2FJOWAR7NiyrFsnM4Mwaqz+L2V7fvTHz4Rt+L8ev3LGe8MdhM5xjVoIL2I+q48GILL14H0n\n",
       "USPRmYiOrnfFzCaDEMFUhPI68mZegjZqh9fyHOidjx4xRAK9X32Us5jumT6rpiiKwxzmEEe//SZQ\n",
       "rgwR0S5FY3kaXi8SwUy0xQQPCSiVfIuYs3dQPZGAvq3Yl8mJSZvQt/elhzWew7Zy0yLBm5vm2f9b\n",
       "VXNpyct7BJQwar1d9X1fa8fAlYavLOapT1kJEQngWViTjdw1p3fVVUku5sp0PWO+wMYh4HzHJMEs\n",
       "cMkZY0I6a0nG2a/0DARjRBYe4D7tyVuKRTvuN9e+PpK6gOMV8Dxb+4u9PbvWahDNEcC3Z7buMbGM\n",
       "G4rWwp8MZ0eYbb/MKEagEVsU/bNhJt5Sy9F4KVhAgjB4QAAAAokBn5RqQS8ACs4e0AAQYeIBVH+8\n",
       "UABu6MREQ4ea6nfdRrfZ+Ck3kKc1Bs1uOagDMEdpET5k2sLqO1LrvtJQxF24xeksWMCJUawO5b/v\n",
       "v5PYeEmOpciVhDI4edBhOwv8U1TPtLgzD7QVE2/hGOf7SodntU6Z7unbcnfWXd9K8UB8wyIRpeGj\n",
       "pRH2p1qqSkcRobH1iFEaIXtDbKhuL4wGowD7gAVLHGGWI4olFSEUyR0BmUjcl7g33nhq/K/MpnPz\n",
       "qD1ditAXLywsV7HA+KsC2PVFAdiJnxYFs4t9vJx4kD1q3Wp1meN2g9wGkzwZO5CS363p6mCVsnR2\n",
       "Kn9tMc7F3X8vN2hfuVIZ54XoH6gw2YmmkEe+CL5m9K0P9oSDGJLhcBeg8JfPoXZoI+RoqFHCsD0G\n",
       "+CiLDEo7LDdVbNpa2dcFlNsiQGS5vuYya2mkXhOXNzJVulejkSe+xIkfr5+MH6yqg++wNdMcqbPe\n",
       "65/nzQxcGicJlg6l+/1f32NFzcEvHPOR5JmPXfty+SZ3YkHyQdUFPeji8IBi7589HsCNRQr5IjuT\n",
       "mIPYry9cs8SCVGeYSgguNn3LxD+4kN5CZZvUkJBaY2EJWXSn9e+KWN0VmIm6z6EQvosnEUgQlcxS\n",
       "zAKI4bbsG5luWImVwaEUovFAeCXxn35AdBDQX2nxbRhlEuW4yR1wAw+Co++RXeNZh4diOBNYZeu2\n",
       "DILbR2/NJoLzMhMAEADdGeflcHx2vbWGyaWBaNQtkZyoxkRO2nE92qKG22N6wVENAUEz1B4uMM0G\n",
       "dwoQ28XgEy7SfrkUrRjvPJ6CbA7OC/0eMkRg3oVxe4WTd3T8vsicgoFAymlGya3SiE6ErnrzzBnW\n",
       "wGrBAAADL0GbmUmoQWyZTAgp//7WjLADQQT17IIub8GE71AFx9KMd5Fg9hOCEtXl3DRNFcpclsdB\n",
       "Xt2uRD+4b9W56ftnjtWN8oWpG/buaaLyJ0rZqkj5e+cn/f5/4+Ovl1NHhjsPMFD9DkEk3A5uqC5s\n",
       "hSNPGVe6ilvFYMeb+sU6LNgLMqj3rXWN2eYRJBKsirkHnMZAU3KflyIt/X/Xr0yu9aFc2UDPibOk\n",
       "svSCQc18/uT9sI5pvPMQ6jr+25AVF98pG8Yv6a57Wsk4bHZEYsmXubA7ccIOXgFWtjgjGKR3Emr9\n",
       "5XbA6gdnX9EfkvTVz+7Cm8ZqEIDG69Pb3st/IBQWzTKS36xFBlBDEJ8XjN7om861D9gJQpLOE2N5\n",
       "cxQM3dJCJFVWpiJTm+NiqVnLu2/5rS+IZnuxFHZibR6Sq961o1vOE0HZgA/0Y5GUptmnUVtHH6l0\n",
       "Z1ohiG06YfL2pQcKye67aAXqFiRU+K05g+FKu/ROWmHMam02xhXZ6YHonlw2tTHqqPDx999/RjVY\n",
       "bZ9CX957ag3x7wGaXEcbW0KopRQR41jI1KSKonqH+wsl2kv2AU+vef0gu9BNuLNRvwblGoDqsiyp\n",
       "jWrV8+0tjDhxujMVoEyvWEFCdg2ur6H0le1uvz1CJecAROBRqItQ7fF5Erw1wxCAitFGtaOwTba4\n",
       "Zpokr1oIuWSH0UkSv6zrwX9rcFB6HrL5z6XHFw54knsQBmfUHErcW03jN+ig0vzHtbZ59AJi4MA8\n",
       "SwbL1FN6HgfpCpKrszpZ8aZI5jm23I77FqVm5NTNfmhCF9E9jvcJYKiqe+3tI4Idik1yZOCDpj+Q\n",
       "cpUbhNjzSXikt0JdJn54zkfsX8bM41ZsB0HNPHQF7xd6DCCA38Ah5ZtuLhAfgyvXjcmmn8e7KokR\n",
       "pv3z46MDXoKaQ7myanbdIFf3BzIWcUVKTKGkK7g20PzrOabDwTonLjrWa9rr7XiDXvEl5uQY5FuW\n",
       "rdvK/BL9k2aIa+x4aJwHN7ZVoYDO2r8F5JaWPVHuEgTEtn7FmZ0KnvJeWyQ2PicxLV9OPJOW8xqG\n",
       "QZvQ7ydFtxiarCyCdbY59LRmck0JF6BAAAAD/kGft0UVLBT/AAI5cfnlzNF3NZEvccABUJLr4U2b\n",
       "xa0rXXxcuoRrc9pWJczuJ7m4h3NqrTl0DLceiXou5nOkP6ZZKsEm6yB7mz0mxmfrzfr1yurVfaJR\n",
       "Za/LSaS9IQqH6CTkUTjoD8tO6D45Iilsjg31ZRH4fUABmQcCGc6Q6wJPGh0eh4+XxS1C7YOZr2S5\n",
       "vsFPFfq9oGxr3kyFc+bnv0XUiYU6aWbRvAjqewBF+pDtn3qof3PZH7Zg9+BLNs9oaHXVQfkS9sMX\n",
       "nbpHilyQFA8So6RSnvmXj3KWlK1whAR8/UthtuQHNlZCih092l85T/ZYTpFUHm1QSMrqXna5I6eT\n",
       "yLrz1EfAE83aJRu6K/1ANHVPQDxYpEo4lkyn6Kk4sxRd68dinhK7iCwA2UknYth/7aYWkO0VvwMt\n",
       "BXrrxm14aAbLFsA+d/FHF5UiDh7UXqJnDQwsTdWZ6D0zcIwSBXmB8MlvESd4Zib/Hl9VWhJBBmxc\n",
       "M3r4QdCMNfTCQKCf5bdLjfmdqjLB7cwTLh8xYOVgAIW7oaUpQr/jLASPJh0DocMwxCOSQzck4MNS\n",
       "kFN6vigaoFQLwvw+T9T8uL0pHeBOfd83IkptNcfhh+jOueur9xapl3wC5muEih0E8yD6tkfZ9Oc/\n",
       "Slx6sov9niC/SIveZH2ycppbHWeOqd9I0gocKiodu5w511wHQX1YClxkSTEpdag4ja84PrG0MDpO\n",
       "B3HBjXzuxxPViewXogIVzwgnRuaGdz0UPuqSwEet6Ers4DSmbmjpjWmPyZHQ9M8HMoyVWhK9daZq\n",
       "34C0+HnebQowfLI2Udk4pm/ZI9UR276/AjH7uwpgpi1k+VUJvOEhD0J7GOLBX1luX3b0A7p7RY+F\n",
       "HizaYhWjpbsOPxmCYFsUeB+VePj0xCcnG/E3IvdXpBbBXsgNkNFQTSJICnk9/s7cFsOzlF4JXqBY\n",
       "UJrsmEewBDQ9YiomVXOWZnQwtlqsFH65LYBeEYPbzzZuAsbd2B7Mk68fV3wY68Iiy6Muz8G46ISq\n",
       "C/chhB3ETYr3htiaY+JdgbGHqHK0pvR+uIDk1zQ8U2XX1MvUhAxap9hKM0WMKkYya6+1RVdCRmIj\n",
       "Sqfb8jLGmzFDhxvLbjsrCqUOil2zF6vHUxgrUKaO9bjxYlstJiDtYKpKn9wNh7wqSQEyyFANDExW\n",
       "7GV6IiD8k2nVcIQ/j5KwydgCYNSm2Pd6kntgLpdUwDZ1X0hJxLrs0XJ0rfHU31oZxIeD9rw2BId+\n",
       "wodcm0dNwuNv2OHhjZntDDmAG+ttlmqAWz3Xafd5eKzVzRhVjwuNW5BP1lKG05Coue3OUiPeF1fR\n",
       "qDzws+mLAm8hYZB94fmfKKBRfMHW1QclAAADMAGf1nRBLwAGGWMjbwgOU/1AFzxt8mU4o6MMqgB7\n",
       "3cXd1YcnzvSp1FGQOEVYpy5qTCugidG58eQVsPbVDQYLYzbL+aFZJKr6oN5XyV/bpggmdZLS9s3S\n",
       "ydKtC887Fe5Zn+VZpAZvCGXykPHs3LeuUBud2irBvSx/49eUnGhjdI7nLgs3N39ovKDvIBxJPnDH\n",
       "PW+iwSy62iqJ02g7yOAhZzdGiGk4cJE93fX/i3psGbCfzN8LpM7GrDmozP2DjihSsKH7Ld4Qqu7B\n",
       "lMP9VwTv+Fc3O1id7X/Fy3t3RpDNiuqRHodv+6x6OcTeSlWArUfsuGSElTHc1YH3ClzSxLG1GTv2\n",
       "IVxRcig3VDeQxBQMlABwb1Z1xqRbmGLjyWuC7jzTUEsIldFshdCRAdEoOuDTfI6KTg88qHvLUt1e\n",
       "z9jcmMocFoG4s3O7Caz+3ha7CfXeXH/vlVrKBJgfaTpITH/OOc/zQUynaeL3JvSfqfdArXbUDZkO\n",
       "3fhvcDb1Ux9CBFuvu3A/LTMI70/QmZif6OLFsghX/likn6JHbtY+pqEza33fB3NvTcoaTXykWz1u\n",
       "o9kdb+6mbI6Ulz5YLOdY/RV237b9XXEpr9wYL2NUEs+Pkt0Dh7wCXb3kowsCVgut7OARh1rru4qQ\n",
       "/OpM+iUop5d1rC0u6j1QqEuY5+3GTgUbEiBMQrMtx3IpaQ9WVCoA5YBg0ypUN3zbvGVe9g2PbD4S\n",
       "TzbpLWKtWxcU0LOmM7y9MOpWvS6DuXI3oAuRkQL8pDO7Zq6p24xaUM33y5gzDT2ojxkedcIa+g4k\n",
       "tlMmYlXlceosIbONJb8C5NpuVTC/OUbiF/oEqBvoxpiQzzBn8gyvBflR582ODf7fDDf2+en6AmFy\n",
       "v8oujnv4Z8bgz+FS8tVoTXFaudY9ZXuhI+K3YO8/Q7sbcwdqYj4HRnmF0NA8MEbYB3pRMCBJI/B9\n",
       "XxQB6whxHIi1IvctzOF21P3QxmQ3egFeR2u7Kdf4Xboabe4htdU/Ymul41QcLOGH/Jvje7nCTr1n\n",
       "9WHVnFLOV3erezHYZoZIjinetzFwMZ13x4UKXnMDGBVVxaZpbTGY+JnndqRC8QAABRUBn9hqQS8A\n",
       "BkHMorB/hyCAKiD/cGeopdWExl1v1XQ+57Jc7eENIqnFobCz/vTO/3OBLesOgvQ9qj6Ut8lKxlT+\n",
       "adXaabH35Dd/itt7W5n0w+0G9mbm/xLuRKd0HEdteQRu3UoIivhLrF6/TFno/h7eUx1tOcPg4ZBF\n",
       "hWtFAce3cjxIpuIHN4vLrMmwD4VmRS3+u9W+EZyYnoSWMfGojul5TxsFKsZYBG+A/44wmNgkp1ho\n",
       "pzbK6fwpDzTYH4FG6655C1LZSTPDuXp6ST0TkcUdy1hwYJ6jMORsGqSar5OK2CQCz2JmZWpDsCQH\n",
       "db0HZfbexX9f/LzIIJoGJhiCnAx6AMTZgriOx1cGs+sYQbtqjVPjmMRq4bQaVNFmchVwjGIvRUCI\n",
       "6Fu1ugfpXRV1jEd/mCS4UDgaGD99QW4a2aORLRINrwf0Q92NT2Y0v9UcQJe5/fK58OA8PrnLqiXC\n",
       "+AYbxGSnuujn+OQzUyzbU9TIkVZhlHwPKJ95eDQgKj59QDRQ3CNvjoRVX57Vyz9YKg1VvymnVoeg\n",
       "j/+mmt2y4wyGnAOAsVwI0vPbACEtZ3TZ2YBEYK3VjjxaFD+64uSR8kqmMuTvOWLtVnc3P77O+ZCs\n",
       "/Opr0vLu1c/WfGtkTzeH1myx1m6BJ0jsydG364g3yriZSztFWfRFi3BJsme1RY19toV8yEkc1aXQ\n",
       "CWo9e56SDJg6smvEVmg20PeSA0bueAZtF8rYNhKijBh1l3qCyNDc1Mz8NLlxRIfZv2S2W2XcwP/s\n",
       "2u6OkJ1tYP/k042rn09gErYOIs01qupPlT3iA5SWrvmKh69FotbJRLrx8sS9qPLQUoezUB1KEH6U\n",
       "ILbBfYfbuOif6dve5WZON6fFeJuGFpzX9u56qpol/6ttVMGZID6aYlLfX1Rqi/3I85Itl8TMT0Kd\n",
       "7o8m2Te+yDFPlb+pEusP12F6xKO1qsm1JXUCJmtIBgCsHwCki4qNF5sV+34Ldh++vT3VoDMjHaVG\n",
       "Dt0IcQbmBd3J03iS94RX4TfR8YtE8BJuH2TjcEL+IW9cqzrYNHpB+BILHiOuu4QLwbksYQRg/E51\n",
       "ZUWQfy2Gna2qWfYx0cAaFWQrP6kc6Iqli8qGVdSv4Vv0CsIOtAznpFNnnOs1hQIu6s3LdMnDKJqN\n",
       "pFCWuRtGgbNY0YqzwjvsFB5y8KlAL1DCYHppTwtb5nBXMf6/3mZpDXnEyWgxzGAgrZet1HibPyop\n",
       "KO1NtAg0CvrHo18xEFNHh1w+vafPT5x482hlH8rdTKnMgpkDpSiABF/x3n0IgHFqE1hnYnr2y321\n",
       "Fu3Ap3Ct2/98wFTG5/Y+sZ1XwAiOxhDAQr0yaNKInfjjY3wcYFcwLoT3e0IyvX5cp4Cz+oivxFkG\n",
       "/Q0h404u6I1gEZux6Cf/wtk0OBUuznGm+Jd888mF10vONrIhExfwmTeiDk8B8VfV0CElkLzM29In\n",
       "vbMUwAQlMITTyl7EmX9TRz1+efEDVLIpl9BKWXVjAhwfBOOFv287BW5LYGh4QmkrrxOuaFcs9BKs\n",
       "Ft3iPvYm+C6qZbhStvpMhL0IoJSvgx7ZmsEDxClAvPuJkBHqkgLk5f25kWHP960Ef4cMi119sf9Y\n",
       "DZ/U7vvCxfti7hVAuZvOQ/YrfRanv2/oL2tDetCl32845SD7rJmkd9nTz7Kugjk2ftNEMH/ihV9d\n",
       "ZQBAjAKLjbYtTAhfLCoTN8Rf4SCyYKoY3bOoj6TVYzZ0+Xc7+RS8+gAABX1Bm9tJqEFsmUwUTBL/\n",
       "/rUqgAyluGgAHFrRbTgzEcVVyykWNM64mQb/CaKnwC4OJWlMF8ldR2ImpgPRJxl8qzt0iHYS5L1f\n",
       "M2/OijoiKKWsSujFkryVmqssN9d128HmrzxWgpXJJBQUrzPF4XWWdSxrenDQmlPj9j82DsFfn26W\n",
       "Z9H+KO+ykmjzBpyMfssv6XNkL7PipspvulPnX7+wIjNMXZjZk15zpcstJ/rF6PVVbuHkeqI94LDV\n",
       "NVaK/QhlHZ8i/eT6VHYAcImYGYhQx9lHAXwua/v2ViLvNk6ZkGj79RpeNVdGz6AoUCvO2pIa/+Q1\n",
       "2zPc5Ew0JmbofMo03P2iqg93V31jVGkaT4lm7XYQztBu0Bf52KsEaZBKvbTE08i42GmqN8hV8DV7\n",
       "O5wBBIoIy9XJySt5fZK3aKMcga8WIjfwuWWJwWY2C6aYTS1I9p3sTrHbuBvJZoiJi4RhtpMcwDXN\n",
       "FFzesG60lG9ROUTIW9AKjYlaDSw+p4w2LdJIU4zUrqoYMRmgc9HFR5yIABQvBf9WIy/xFA6GaYiq\n",
       "UDNtctIOG3nEdR//yKFzgJZ6DoDLenhni0os7F/gVSHUE9JQ1tPOV6srUU8o5t9aaHNX2t1EYnof\n",
       "NiH9lDPh7in3db5h2OrI1+E6FVQiM0knWSXF/tcn4VthS5tv7elOzfyA2fUTJCnbWwYOZs2ne2Do\n",
       "VoXvLmWS8t0rJg2bsaLE1j7zyspY5Qsx4AktobfRLMWO2DN2qP2wJ9cirXLrLpfLh6DgWDW2rHNV\n",
       "bxxXQoSE2aR8hPntan/RFMUZhaC2acgUjJsk02ThjpReDcEb+Im2X286I3XdemqrvaIDAJty4F3q\n",
       "TxsG66w0gufG7I3K4nmZAhZbsBqS/4co+bWP63xf8Ixf0F6tCCpdBv81aLC1HujuNpRYQYRkCDub\n",
       "EnN7+lrDQK/1AO0LOGdCuWD92mg/xI2JuvLHz4JpW39VqKRNk/BKLiqofWEMCP0balef6zokJ0Ap\n",
       "1sxajsfEkB1bW5M2M59phsH/uqv25MF1R7tn8hd0fv+5xu/0NvnVUOJKmm5p0PlJQ2TC49OvuWtA\n",
       "DpPiaj6RiRzXpndhW497xmUYzTQs7KGqmrJz0wZIyKdNKT2Qtg5gwCFa6gHbOUEFTplXrPX1z31A\n",
       "eIDzMan0JXNAClD+fZA0YV0bP7pv0f35ltWX6Q4oXfNzYKryCb6gaJPH1OoCT/KnvShpV+dXO4im\n",
       "AxzNZgJBqEInrvhuwTPTjhKLPwPnQfVDNlDtnbjcFyMj6NUUL6+T4+cx3YJokfXb7LcWnZb8s2tb\n",
       "mn4kLj3+O2h/GPorB+LgxSGGNjB/jXdmTjCV6AA/nkC/r8aUYfteiYpVeo2fN5GqR51bfZ8ZgN/l\n",
       "knXC7m8KxODFBoptqxyzbDE/d7wiSyWmj7Icw84/oQyNRM3wi9xkN+4RDhv104MAW9GuRWAaAmxh\n",
       "68+NO2W4xloxw5fIjc5geYGX1+rlArqoRN1vUgkcXrnr/5rjcwpElPklZKQqvnrq4gHaX9961LD8\n",
       "PGvNYj3tZJjjMTDtw+CXmn3OQJG9/l5irWoAIaXkleGo6yNMmJ30A1pvWN6HwRIfkoaS5qBzcfUQ\n",
       "CPHzektxd2/4960lUR/ckSaBFF2ENd4iE8PiHvWGrXiDFoPanBQnpTOp1IMUPR2HGo9kYcMWqUUg\n",
       "Cni1edl3WMEzYGMpyzFwP271f6WN684/78AJY8CnHd5fPtqDMzjPAtXU1pXrECoG7RxAO7ktwVyx\n",
       "j4G2kda6y7mab9XMxrQ1816KST+458N2ItVkqwhYODdDYYaVN4yhQHwZqugbS4nAqdD5g0TqmGuq\n",
       "0RDLcKuNET0aFT+zWiVK7CDs/gxG39OnAAADSQGf+mpBLwAGQaRgwAHEpXEhBcSdnrUGG7j3WfdN\n",
       "l3uZ+nUnnP5nB1yOfmV4Qe0XjX5L6tkByWK/TBqn0rAE2zgTsSGeOp8oR5+tw06QSs1861jh52D/\n",
       "5ZOFpbJ/CquZDDnNrDASe4miqIXR0OdasS9ujWM8gwR6Aw6Tn8LB8YoJFq8O+gAtBdyvVEks/504\n",
       "F/oWkG01XVjlmKPUUaz4YCKI+5fTNX1qxfQBvCBCUElnaEvIYKiQmNT3u+RdpR2JI0rnpJt2A1Gh\n",
       "qtX9uuSuqzZBouTkL793GXUKwqG7wJKoUv6/MtewoN1W8HvJGHqxT8qGbOFLCDZpNJqknjlpqV4v\n",
       "mufIzrmUWMjNcz/Rtf1s6ta6u8QsGPrTtDw+tahTCerrxrGdULx8Ce78weP2H6fEgOYsUR3nQmx6\n",
       "baA8cMvxEVG0PXdEWbUEu9+41fbvPqcBxTa1pWFZbnYydSIuE/pYDWpb5MgCYOzoQu/M3DKsLm73\n",
       "HNLqiOOwWszXwQuBdqz5I+EM3u3HTkEIpgna4OtJ/rjVUCrCkhc3llhnASLRhROJe2C22uFIv/QK\n",
       "KINGDvllGZ4cnZTfkL6BUl0WMvdRXKNgiLDrIJnukW7r7Xfh8DV/76Hs9AMyemyBD3FioLG+4Eny\n",
       "PRQN8yUJith26Mm/A9w1atPGcwOJDZeXro6Yji5nOdfiiPeuUMbYEHqZyBDuhDokXK8n185uGYUW\n",
       "Hlc8sDUsDi8CCXDDj0ECKD5ZsQklJMYihq18ixjbSaATXi5nTBZArInky9uxWNZSTabb9CSTY7vz\n",
       "iEabNyVeM3ihCsCKcIahNJDpzUbw0/p4jeSJrTp1kOMhd2C6Flspe5pLUw8L4zeIyIMI0zF+OIG1\n",
       "4L9usJQwYx6jzotGsHJmK7F7RkBlZSt5Jv3+/na4PBEGk9gSWmmGpWElpBixh3nkoGEZuOJZQG8Z\n",
       "sMHwMusqslmPUOwceT6tsDJ916xbSewgT7d0iCWkAzz/QIUWDkFkaRQ9i3Z8getaoN4SqrGtQtZ+\n",
       "D+ApIVbPCMqfAF5G50Qe4o49lQFvHDsWPgqdwm+me16TTGUnZiKrTm8Ta3F7DrdHfOPXToOm+2YQ\n",
       "m1tR/2nSKrvh+1XqIQcAAAX+bW9vdgAAAGxtdmhkAAAAAAAAAAAAAAAAAAAD6AAAdTAAAQAAAQAA\n",
       "AAAAAAAAAAAAAAEAAAAAAAAAAAAAAAAAAAABAAAAAAAAAAAAAAAAAABAAAAAAAAAAAAAAAAAAAAA\n",
       "AAAAAAAAAAAAAAAAAAAAAgAABSh0cmFrAAAAXHRraGQAAAADAAAAAAAAAAAAAAABAAAAAAAAdTAA\n",
       "AAAAAAAAAAAAAAAAAAAAAAEAAAAAAAAAAAAAAAAAAAABAAAAAAAAAAAAAAAAAABAAAAAAbAAAAEg\n",
       "AAAAAAAkZWR0cwAAABxlbHN0AAAAAAAAAAEAAHUwAABAAAABAAAAAASgbWRpYQAAACBtZGhkAAAA\n",
       "AAAAAAAAAAAAAABAAAAHgABVxAAAAAAALWhkbHIAAAAAAAAAAHZpZGUAAAAAAAAAAAAAAABWaWRl\n",
       "b0hhbmRsZXIAAAAES21pbmYAAAAUdm1oZAAAAAEAAAAAAAAAAAAAACRkaW5mAAAAHGRyZWYAAAAA\n",
       "AAAAAQAAAAx1cmwgAAAAAQAABAtzdGJsAAAAs3N0c2QAAAAAAAAAAQAAAKNhdmMxAAAAAAAAAAEA\n",
       "AAAAAAAAAAAAAAAAAAAAAbABIABIAAAASAAAAAAAAAABAAAAAAAAAAAAAAAAAAAAAAAAAAAAAAAA\n",
       "AAAAAAAAAAAAGP//AAAAMWF2Y0MBZAAV/+EAGGdkABWs2UGwloQAAAMABAAAAwAQPFi2WAEABmjr\n",
       "48siwAAAABx1dWlka2hA8l8kT8W6OaUbzwMj8wAAAAAAAAAYc3R0cwAAAAAAAAABAAAAPAAAIAAA\n",
       "AAAUc3RzcwAAAAAAAAABAAAAAQAAAfBjdHRzAAAAAAAAADwAAAABAABAAAAAAAEAAKAAAAAAAQAA\n",
       "QAAAAAABAAAAAAAAAAEAACAAAAAAAQAAoAAAAAABAABAAAAAAAEAAAAAAAAAAQAAIAAAAAABAACg\n",
       "AAAAAAEAAEAAAAAAAQAAAAAAAAABAAAgAAAAAAEAAKAAAAAAAQAAQAAAAAABAAAAAAAAAAEAACAA\n",
       "AAAAAQAAoAAAAAABAABAAAAAAAEAAAAAAAAAAQAAIAAAAAABAACgAAAAAAEAAEAAAAAAAQAAAAAA\n",
       "AAABAAAgAAAAAAEAAKAAAAAAAQAAQAAAAAABAAAAAAAAAAEAACAAAAAAAQAAoAAAAAABAABAAAAA\n",
       "AAEAAAAAAAAAAQAAIAAAAAABAACgAAAAAAEAAEAAAAAAAQAAAAAAAAABAAAgAAAAAAEAAKAAAAAA\n",
       "AQAAQAAAAAABAAAAAAAAAAEAACAAAAAAAQAAQAAAAAABAACgAAAAAAEAAEAAAAAAAQAAAAAAAAAB\n",
       "AAAgAAAAAAEAAKAAAAAAAQAAQAAAAAABAAAAAAAAAAEAACAAAAAAAQAAoAAAAAABAABAAAAAAAEA\n",
       "AAAAAAAAAQAAIAAAAAABAACgAAAAAAEAAEAAAAAAAQAAAAAAAAABAAAgAAAAAAEAAGAAAAAAAQAA\n",
       "IAAAAAAcc3RzYwAAAAAAAAABAAAAAQAAADwAAAABAAABBHN0c3oAAAAAAAAAAAAAADwAADIbAAAI\n",
       "9QAABKQAAATfAAAC7QAACDMAAAPVAAADVAAABIEAAAqyAAACdQAAA5AAAAQgAAAHkwAAAvEAAAIh\n",
       "AAAEywAABnwAAATzAAADUQAAA6wAAAdDAAADigAAAlYAAATfAAAJBwAAAywAAASgAAADhgAABykA\n",
       "AAPlAAADYAAAA6YAAAa7AAADmgAAAtoAAAN0AAAG+AAABIcAAANlAAAEEQAABcQAAAfzAAAEqwAA\n",
       "A4cAAANqAAAF7AAABEgAAALrAAADPQAABQsAAARrAAADhgAAAo0AAAMzAAAEAgAAAzQAAAUZAAAF\n",
       "gQAAA00AAAAUc3RjbwAAAAAAAAABAAAALAAAAGJ1ZHRhAAAAWm1ldGEAAAAAAAAAIWhkbHIAAAAA\n",
       "AAAAAG1kaXJhcHBsAAAAAAAAAAAAAAAALWlsc3QAAAAlqXRvbwAAAB1kYXRhAAAAAQAAAABMYXZm\n",
       "NTcuNTYuMTAx\n",
       "\">\n",
       "  Your browser does not support the video tag.\n",
       "</video>"
      ],
      "text/plain": [
       "<matplotlib.animation.FuncAnimation at 0x7fd86ee107f0>"
      ]
     },
     "execution_count": 53,
     "metadata": {},
     "output_type": "execute_result"
    },
    {
     "data": {
      "image/png": "[encoded data removed]",
      "text/plain": [
       "<Figure size 432x288 with 1 Axes>"
      ]
     },
     "metadata": {},
     "output_type": "display_data"
    },
    {
     "name": "stdout",
     "output_type": "stream",
     "text": [
      "time: 8.55 s\n"
     ]
    }
   ],
   "source": [
    "ani = helpers.animate_stamp(target.reshape(num_frames, stamp_size[0], stamp_size[1]))\n",
    "ani"
   ]
  },
  {
   "cell_type": "code",
   "execution_count": 54,
   "metadata": {},
   "outputs": [
    {
     "name": "stdout",
     "output_type": "stream",
     "text": [
      "time: 3.92 ms\n"
     ]
    }
   ],
   "source": [
    "image_times = np.array(stamps.attrs['image_times'])"
   ]
  },
  {
   "cell_type": "code",
   "execution_count": 55,
   "metadata": {},
   "outputs": [
    {
     "name": "stdout",
     "output_type": "stream",
     "text": [
      "time: 45.2 ms\n"
     ]
    }
   ],
   "source": [
    "image_times = [Time(t0, format='mjd').to_datetime() for t0 in image_times]"
   ]
  },
  {
   "cell_type": "code",
   "execution_count": 56,
   "metadata": {},
   "outputs": [
    {
     "name": "stdout",
     "output_type": "stream",
     "text": [
      "time: 6.25 ms\n"
     ]
    }
   ],
   "source": [
    "lc0 = pd.DataFrame(lc, index=image_times, columns=['rel_flux'])"
   ]
  },
  {
   "cell_type": "code",
   "execution_count": 57,
   "metadata": {},
   "outputs": [
    {
     "data": {
      "text/html": [
       "<div>\n",
       "<style scoped>\n",
       "    .dataframe tbody tr th:only-of-type {\n",
       "        vertical-align: middle;\n",
       "    }\n",
       "\n",
       "    .dataframe tbody tr th {\n",
       "        vertical-align: top;\n",
       "    }\n",
       "\n",
       "    .dataframe thead th {\n",
       "        text-align: right;\n",
       "    }\n",
       "</style>\n",
       "<table border=\"1\" class=\"dataframe\">\n",
       "  <thead>\n",
       "    <tr style=\"text-align: right;\">\n",
       "      <th></th>\n",
       "      <th>rel_flux</th>\n",
       "    </tr>\n",
       "  </thead>\n",
       "  <tbody>\n",
       "    <tr>\n",
       "      <th>2018-06-24 06:26:46</th>\n",
       "      <td>0.905323</td>\n",
       "    </tr>\n",
       "    <tr>\n",
       "      <th>2018-06-24 06:29:44</th>\n",
       "      <td>0.903646</td>\n",
       "    </tr>\n",
       "    <tr>\n",
       "      <th>2018-06-24 06:32:40</th>\n",
       "      <td>0.908905</td>\n",
       "    </tr>\n",
       "    <tr>\n",
       "      <th>2018-06-24 06:35:36</th>\n",
       "      <td>0.902604</td>\n",
       "    </tr>\n",
       "    <tr>\n",
       "      <th>2018-06-24 06:38:33</th>\n",
       "      <td>0.891678</td>\n",
       "    </tr>\n",
       "  </tbody>\n",
       "</table>\n",
       "</div>"
      ],
      "text/plain": [
       "                     rel_flux\n",
       "2018-06-24 06:26:46  0.905323\n",
       "2018-06-24 06:29:44  0.903646\n",
       "2018-06-24 06:32:40  0.908905\n",
       "2018-06-24 06:35:36  0.902604\n",
       "2018-06-24 06:38:33  0.891678"
      ]
     },
     "execution_count": 57,
     "metadata": {},
     "output_type": "execute_result"
    },
    {
     "name": "stdout",
     "output_type": "stream",
     "text": [
      "time: 12.9 ms\n"
     ]
    }
   ],
   "source": [
    "lc0.head()"
   ]
  },
  {
   "cell_type": "code",
   "execution_count": 58,
   "metadata": {},
   "outputs": [
    {
     "data": {
      "text/plain": [
       "(60, 196)"
      ]
     },
     "execution_count": 58,
     "metadata": {},
     "output_type": "execute_result"
    },
    {
     "name": "stdout",
     "output_type": "stream",
     "text": [
      "time: 4.66 ms\n"
     ]
    }
   ],
   "source": [
    "target.shape"
   ]
  },
  {
   "cell_type": "code",
   "execution_count": 59,
   "metadata": {},
   "outputs": [
    {
     "data": {
      "text/plain": [
       "Text(0.5,1,'Relative flux')"
      ]
     },
     "execution_count": 59,
     "metadata": {},
     "output_type": "execute_result"
    },
    {
     "data": {
      "image/png": "[encoded data removed]",
      "text/plain": [
       "<Figure size 432x288 with 1 Axes>"
      ]
     },
     "metadata": {},
     "output_type": "display_data"
    },
    {
     "name": "stdout",
     "output_type": "stream",
     "text": [
      "time: 402 ms\n"
     ]
    }
   ],
   "source": [
    "lc0.plot()\n",
    "plt.title('Relative flux')"
   ]
  },
  {
   "cell_type": "code",
   "execution_count": 60,
   "metadata": {},
   "outputs": [
    {
     "data": {
      "text/plain": [
       "rel_flux    0.008805\n",
       "dtype: float64"
      ]
     },
     "execution_count": 60,
     "metadata": {},
     "output_type": "execute_result"
    },
    {
     "name": "stdout",
     "output_type": "stream",
     "text": [
      "time: 7.44 ms\n"
     ]
    }
   ],
   "source": [
    "lc0.std()"
   ]
  },
  {
   "cell_type": "code",
   "execution_count": null,
   "metadata": {},
   "outputs": [],
   "source": []
  },
  {
   "cell_type": "code",
   "execution_count": null,
   "metadata": {},
   "outputs": [],
   "source": []
  },
  {
   "cell_type": "code",
   "execution_count": null,
   "metadata": {},
   "outputs": [],
   "source": []
  },
  {
   "cell_type": "code",
   "execution_count": null,
   "metadata": {},
   "outputs": [],
   "source": [
    "aperture_size = 4\n",
    "\n",
    "diff = list()\n",
    "for picid in ProgressBar(list(stamps.keys())):\n",
    "    try:\n",
    "        psc = pipeline.get_psc(str(picid), stamps) - camera_bias\n",
    "    except ValueError:\n",
    "        continue\n",
    "    \n",
    "    if float(stamps[picid].attrs['vmag']) > 13:\n",
    "        continue\n",
    "\n",
    "    try:\n",
    "        rgb_stamp_masks = helpers.get_rgb_masks(\n",
    "            psc[0].reshape(stamp_size[0], stamp_size[1]), \n",
    "            force_new=True\n",
    "        )\n",
    "    except ValueError:\n",
    "        continue\n",
    "    \n",
    "    for frame_idx in range(psc.shape[0]):\n",
    "        d0 = psc[frame_idx].reshape(stamp_size[0], stamp_size[1])\n",
    "\n",
    "        star_pos_x = np.array(stamps[picid]['original_position'])[frame_idx][0]\n",
    "        star_pos_y = np.array(stamps[picid]['original_position'])[frame_idx][1]\n",
    "        slice0 = helpers.get_stamp_slice(star_pos_x, star_pos_y, stamp_size=stamp_size)\n",
    "\n",
    "        try:\n",
    "            y_pos, x_pos = np.argwhere(d0 == d0.max())[0]\n",
    "            aperture_position = (x_pos, y_pos)\n",
    "        except IndexError:\n",
    "            print(\"No star position: \", frame_idx, slice0, star_pos_x, star_pos_y)\n",
    "            continue\n",
    "\n",
    "        color_flux = dict()\n",
    "        for color, mask in zip('rgb', rgb_stamp_masks):\n",
    "\n",
    "            d1 = np.ma.array(d0, mask=~mask)\n",
    "\n",
    "            try:\n",
    "                d2 = Cutout2D(d1, aperture_position, aperture_size, mode='strict')\n",
    "            except (PartialOverlapError, NoOverlapError) as e:\n",
    "                continue\n",
    "            except Exception as e:\n",
    "                continue\n",
    "\n",
    "            diff.append({\n",
    "                'picid': picid,                \n",
    "#                 'obstime': observation.stamps['image_times'][frame_idx],\n",
    "                'color': color,\n",
    "                'value': d2.data.sum(),\n",
    "            })"
   ]
  },
  {
   "cell_type": "code",
   "execution_count": null,
   "metadata": {},
   "outputs": [],
   "source": [
    "len(diff)"
   ]
  },
  {
   "cell_type": "code",
   "execution_count": null,
   "metadata": {},
   "outputs": [],
   "source": [
    "diff"
   ]
  },
  {
   "cell_type": "code",
   "execution_count": null,
   "metadata": {},
   "outputs": [],
   "source": [
    "try:\n",
    "    lc = pd.DataFrame(diff).set_index('obstime')          \n",
    "\n",
    "    csv_file = '/var/panoptes/images/lc/{}_diff.csv'.format(sequence.replace('/', '_'))\n",
    "    print(\"Writing csv to {}\".format(csv_file))\n",
    "    lc.to_csv(csv_file)\n",
    "except Exception as e:\n",
    "    print(\"Problem creating CSV file: {}\".format(e))        "
   ]
  },
  {
   "cell_type": "code",
   "execution_count": null,
   "metadata": {},
   "outputs": [],
   "source": [
    "lc = pd.read_csv('/var/panoptes/images/lc/{}_diff.csv'.format(sequence.replace('/', '_'))).set_index(['picid', 'obstime'])"
   ]
  },
  {
   "cell_type": "code",
   "execution_count": null,
   "metadata": {},
   "outputs": [],
   "source": [
    "lc.head()"
   ]
  },
  {
   "cell_type": "code",
   "execution_count": null,
   "metadata": {},
   "outputs": [],
   "source": [
    "foo = lc.groupby(by=['picid', 'color']).describe()"
   ]
  },
  {
   "cell_type": "code",
   "execution_count": null,
   "metadata": {},
   "outputs": [],
   "source": [
    "foo.to_csv('/var/panoptes/g_stats_{}_desc.csv'.format(sequence.replace('/', '_')))"
   ]
  },
  {
   "cell_type": "code",
   "execution_count": null,
   "metadata": {},
   "outputs": [],
   "source": [
    "picid_list = lc.picid.unique()\n",
    "\n",
    "stats = list()\n",
    "for picid in tqdm_notebook(picid_list):\n",
    "    rows = lc.picid == picid\n",
    "    color = lc.color == 'g'\n",
    "\n",
    "    l0 = lc[rows & color]\n",
    "    \n",
    "    count_mean, count_median, count_std = sigma_clipped_stats(l0.value)\n",
    "    \n",
    "    mag = -2.5 * np.log10(l0.value / 120)\n",
    "\n",
    "    mag_mean, mag_median, mag_std = sigma_clipped_stats(mag)\n",
    "    \n",
    "#     std = (l0.value - l0.value.mean()).std()\n",
    "#     avg_std = (std / l0.value).mean()\n",
    "\n",
    "    # Get the vmag\n",
    "    vmag = observation.stamps[str(picid)].attrs['vmag']\n",
    "    \n",
    "    stats.append([vmag, count_mean, count_median, count_std, mag_mean, mag_median, mag_std])"
   ]
  },
  {
   "cell_type": "code",
   "execution_count": null,
   "metadata": {},
   "outputs": [],
   "source": [
    "g_stats = pd.DataFrame(noise, columns=['vmag','count_mean', 'count_median', 'count_std', 'mag_mean', 'mag_median', 'mag_std'], index=picid_list)"
   ]
  },
  {
   "cell_type": "code",
   "execution_count": null,
   "metadata": {},
   "outputs": [],
   "source": [
    "g_stats.to_csv('/var/panoptes/g_stats_{}.csv'.format(sequence))"
   ]
  },
  {
   "cell_type": "code",
   "execution_count": null,
   "metadata": {},
   "outputs": [],
   "source": [
    "plt.style.use('bmh')"
   ]
  },
  {
   "cell_type": "code",
   "execution_count": null,
   "metadata": {},
   "outputs": [],
   "source": [
    "mags = g_stats.vmag\n",
    "stds = g_stats.mag_std"
   ]
  },
  {
   "cell_type": "code",
   "execution_count": null,
   "metadata": {},
   "outputs": [],
   "source": [
    "plt.figure(figsize=(12,9))\n",
    "plt.scatter(mags, stds, alpha=0.25)\n",
    "plt.xlim([6,14])\n",
    "plt.ylim([0, .2])\n",
    "plt.xlabel('V mag')\n",
    "plt.ylabel('Standard dev. (mag.)')"
   ]
  },
  {
   "cell_type": "code",
   "execution_count": null,
   "metadata": {},
   "outputs": [],
   "source": []
  },
  {
   "cell_type": "code",
   "execution_count": null,
   "metadata": {},
   "outputs": [],
   "source": []
  },
  {
   "cell_type": "code",
   "execution_count": null,
   "metadata": {},
   "outputs": [],
   "source": [
    "lc.groupby(by='picid').vmag.hist(bins=np.arange(6,17))"
   ]
  },
  {
   "cell_type": "code",
   "execution_count": null,
   "metadata": {},
   "outputs": [],
   "source": [
    "lc.vmag.hist(bins=np.arange(6,17))"
   ]
  }
 ],
 "metadata": {
  "kernelspec": {
   "display_name": "Python 3",
   "language": "python",
   "name": "python3"
  },
  "language_info": {
   "codemirror_mode": {
    "name": "ipython",
    "version": 3
   },
   "file_extension": ".py",
   "mimetype": "text/x-python",
   "name": "python",
   "nbconvert_exporter": "python",
   "pygments_lexer": "ipython3",
   "version": "3.6.5"
  }
 },
 "nbformat": 4,
 "nbformat_minor": 2
}
