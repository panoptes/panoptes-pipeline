{
 "cells": [
  {
   "cell_type": "code",
   "execution_count": 1,
   "metadata": {},
   "outputs": [],
   "source": [
    "# Show cell execution time\n",
    "%load_ext autotime"
   ]
  },
  {
   "cell_type": "code",
   "execution_count": 2,
   "metadata": {},
   "outputs": [
    {
     "name": "stdout",
     "output_type": "stream",
     "text": [
      "time: 2.38 ms\n"
     ]
    }
   ],
   "source": [
    "import logging\n",
    "logging.basicConfig(filename='/var/panoptes/logs/pipeline.log', level=logging.INFO)\n",
    "logger = logging.getLogger('piaa')\n",
    "logger.setLevel(logging.DEBUG)"
   ]
  },
  {
   "cell_type": "code",
   "execution_count": 3,
   "metadata": {},
   "outputs": [
    {
     "name": "stdout",
     "output_type": "stream",
     "text": [
      "time: 3.17 s\n"
     ]
    }
   ],
   "source": [
    "import os\n",
    "from glob import glob\n",
    "import h5py\n",
    "import numpy as np\n",
    "import pandas as pd\n",
    "\n",
    "from IPython import display\n",
    "from matplotlib import pyplot as plt\n",
    "import matplotlib.offsetbox as offsetbox\n",
    "\n",
    "from astropy.modeling import models, fitting\n",
    "from astropy.time import Time\n",
    "from astropy.io import fits\n",
    "from astropy.wcs import WCS\n",
    "from astropy.stats import sigma_clipped_stats, sigma_clip\n",
    "from astropy.nddata.utils import Cutout2D, PartialOverlapError, NoOverlapError\n",
    "from astropy.coordinates import SkyCoord\n",
    "from astropy import units as u\n",
    "from astropy import constants as c\n",
    "\n",
    "from matplotlib import pyplot as plt\n",
    "plt.style.use('bmh')\n",
    "\n",
    "import batman\n",
    "\n",
    "from dateutil.parser import parse as date_parse\n",
    "from tqdm import tqdm_notebook\n",
    "\n",
    "from piaa.exoplanets import Exoplanet\n",
    "from piaa.utils import helpers\n",
    "from piaa.utils import plot\n",
    "from piaa.utils import pipeline"
   ]
  },
  {
   "cell_type": "markdown",
   "metadata": {},
   "source": [
    "If you know the password and have control over the notebook server it is better to set the env before starting the server."
   ]
  },
  {
   "cell_type": "code",
   "execution_count": 4,
   "metadata": {},
   "outputs": [
    {
     "name": "stdout",
     "output_type": "stream",
     "text": [
      "time: 1.65 ms\n"
     ]
    }
   ],
   "source": [
    "# Get the database password if not set\n",
    "if 'PGPASSWORD' not in os.environ:\n",
    "    import getpass\n",
    "    os.environ['PGPASSWORD'] = getpass.getpass(\"Password for TESS Catalog DB\")"
   ]
  },
  {
   "cell_type": "markdown",
   "metadata": {},
   "source": [
    "# Observation setup\n",
    "\n",
    "Set up information about the observation sequence. Here we are working with files that have previosly been downloaded so we are using a local directory."
   ]
  },
  {
   "cell_type": "code",
   "execution_count": 5,
   "metadata": {},
   "outputs": [
    {
     "name": "stdout",
     "output_type": "stream",
     "text": [
      "time: 965 µs\n"
     ]
    }
   ],
   "source": [
    "base_dir = '/var/panoptes/images/temp/PAN012/20180822T035809/'\n",
    "# base_dir = '/var/panoptes/images/fields/PAN001/Wasp80/14d3bd/20180609T095151/'"
   ]
  },
  {
   "cell_type": "code",
   "execution_count": 6,
   "metadata": {},
   "outputs": [
    {
     "name": "stdout",
     "output_type": "stream",
     "text": [
      "Found 128 FITS files\n",
      "time: 4.44 ms\n"
     ]
    }
   ],
   "source": [
    "# Get all the files that start with a time stamp (skip pointing files)\n",
    "fits_files = sorted(glob(\n",
    "    os.path.join(base_dir, '*2018*.fits')\n",
    "), )\n",
    "print(\"Found {} FITS files\".format(len(fits_files)))"
   ]
  },
  {
   "cell_type": "markdown",
   "metadata": {},
   "source": [
    "## Lookup point sources\n",
    "\n",
    "By default the first image will be passed to `sextractor` for basic point source detection. This image will then be catalog matched to the TESS (v6) catalog for source identification.\n",
    "\n",
    "See `pipeline.lookup_point_sources?` for options."
   ]
  },
  {
   "cell_type": "code",
   "execution_count": 7,
   "metadata": {},
   "outputs": [
    {
     "name": "stdout",
     "output_type": "stream",
     "text": [
      "Found 1147 sources\n",
      "time: 4.4 s\n"
     ]
    }
   ],
   "source": [
    "# Lookup the point sources\n",
    "point_sources = pipeline.lookup_point_sources(\n",
    "    fits_files[5], \n",
    "    force_new=True,\n",
    "#     method='photutils',\n",
    "#     catalog_match=False\n",
    ")\n",
    "\n",
    "print(\"Found {} sources\".format(len(point_sources)))"
   ]
  },
  {
   "cell_type": "code",
   "execution_count": 8,
   "metadata": {},
   "outputs": [
    {
     "data": {
      "text/html": [
       "<div>\n",
       "<style scoped>\n",
       "    .dataframe tbody tr th:only-of-type {\n",
       "        vertical-align: middle;\n",
       "    }\n",
       "\n",
       "    .dataframe tbody tr th {\n",
       "        vertical-align: top;\n",
       "    }\n",
       "\n",
       "    .dataframe thead th {\n",
       "        text-align: right;\n",
       "    }\n",
       "</style>\n",
       "<table border=\"1\" class=\"dataframe\">\n",
       "  <thead>\n",
       "    <tr style=\"text-align: right;\">\n",
       "      <th></th>\n",
       "      <th>x</th>\n",
       "      <th>y</th>\n",
       "      <th>ra</th>\n",
       "      <th>dec</th>\n",
       "      <th>background</th>\n",
       "      <th>flux_auto</th>\n",
       "      <th>flux_max</th>\n",
       "      <th>fluxerr_auto</th>\n",
       "      <th>fwhm</th>\n",
       "      <th>flags</th>\n",
       "      <th>snr</th>\n",
       "      <th>twomass</th>\n",
       "      <th>tmag</th>\n",
       "      <th>vmag</th>\n",
       "      <th>d2d</th>\n",
       "    </tr>\n",
       "    <tr>\n",
       "      <th>id</th>\n",
       "      <th></th>\n",
       "      <th></th>\n",
       "      <th></th>\n",
       "      <th></th>\n",
       "      <th></th>\n",
       "      <th></th>\n",
       "      <th></th>\n",
       "      <th></th>\n",
       "      <th></th>\n",
       "      <th></th>\n",
       "      <th></th>\n",
       "      <th></th>\n",
       "      <th></th>\n",
       "      <th></th>\n",
       "      <th></th>\n",
       "    </tr>\n",
       "  </thead>\n",
       "  <tbody>\n",
       "    <tr>\n",
       "      <th>10777186</th>\n",
       "      <td>447.7821</td>\n",
       "      <td>2140.2944</td>\n",
       "      <td>297.767557</td>\n",
       "      <td>27.716895</td>\n",
       "      <td>3217.783</td>\n",
       "      <td>29168.48</td>\n",
       "      <td>2887.863</td>\n",
       "      <td>2282.874</td>\n",
       "      <td>7.25</td>\n",
       "      <td>0</td>\n",
       "      <td>12.777087</td>\n",
       "      <td>19510474+2743008</td>\n",
       "      <td>7.628</td>\n",
       "      <td>7.58872</td>\n",
       "      <td>0.001927</td>\n",
       "    </tr>\n",
       "    <tr>\n",
       "      <th>10883789</th>\n",
       "      <td>766.3707</td>\n",
       "      <td>2146.8701</td>\n",
       "      <td>297.755145</td>\n",
       "      <td>26.813157</td>\n",
       "      <td>3272.427</td>\n",
       "      <td>14352.01</td>\n",
       "      <td>2320.682</td>\n",
       "      <td>1665.242</td>\n",
       "      <td>4.66</td>\n",
       "      <td>0</td>\n",
       "      <td>8.618573</td>\n",
       "      <td>19510179+2648453</td>\n",
       "      <td>7.077</td>\n",
       "      <td>8.14900</td>\n",
       "      <td>0.002253</td>\n",
       "    </tr>\n",
       "    <tr>\n",
       "      <th>11027938</th>\n",
       "      <td>1533.5597</td>\n",
       "      <td>2162.4463</td>\n",
       "      <td>297.726724</td>\n",
       "      <td>24.627006</td>\n",
       "      <td>3382.837</td>\n",
       "      <td>58379.27</td>\n",
       "      <td>7025.942</td>\n",
       "      <td>2767.720</td>\n",
       "      <td>3.57</td>\n",
       "      <td>0</td>\n",
       "      <td>21.092910</td>\n",
       "      <td>19505490+2437373</td>\n",
       "      <td>7.442</td>\n",
       "      <td>7.43070</td>\n",
       "      <td>0.001865</td>\n",
       "    </tr>\n",
       "    <tr>\n",
       "      <th>11036706</th>\n",
       "      <td>1640.7836</td>\n",
       "      <td>2118.1406</td>\n",
       "      <td>297.868730</td>\n",
       "      <td>24.321840</td>\n",
       "      <td>3195.903</td>\n",
       "      <td>18321.74</td>\n",
       "      <td>2065.580</td>\n",
       "      <td>1833.552</td>\n",
       "      <td>2.34</td>\n",
       "      <td>0</td>\n",
       "      <td>9.992485</td>\n",
       "      <td>19512888+2419172</td>\n",
       "      <td>7.629</td>\n",
       "      <td>8.67000</td>\n",
       "      <td>0.001590</td>\n",
       "    </tr>\n",
       "    <tr>\n",
       "      <th>11133818</th>\n",
       "      <td>973.3812</td>\n",
       "      <td>2102.1641</td>\n",
       "      <td>297.903008</td>\n",
       "      <td>26.225854</td>\n",
       "      <td>3286.048</td>\n",
       "      <td>55057.71</td>\n",
       "      <td>4230.952</td>\n",
       "      <td>3832.810</td>\n",
       "      <td>5.85</td>\n",
       "      <td>0</td>\n",
       "      <td>14.364842</td>\n",
       "      <td>19513721+2613323</td>\n",
       "      <td>7.542</td>\n",
       "      <td>7.48000</td>\n",
       "      <td>0.001831</td>\n",
       "    </tr>\n",
       "  </tbody>\n",
       "</table>\n",
       "</div>"
      ],
      "text/plain": [
       "                  x          y          ra        dec  background  flux_auto  \\\n",
       "id                                                                             \n",
       "10777186   447.7821  2140.2944  297.767557  27.716895    3217.783   29168.48   \n",
       "10883789   766.3707  2146.8701  297.755145  26.813157    3272.427   14352.01   \n",
       "11027938  1533.5597  2162.4463  297.726724  24.627006    3382.837   58379.27   \n",
       "11036706  1640.7836  2118.1406  297.868730  24.321840    3195.903   18321.74   \n",
       "11133818   973.3812  2102.1641  297.903008  26.225854    3286.048   55057.71   \n",
       "\n",
       "          flux_max  fluxerr_auto  fwhm  flags        snr           twomass  \\\n",
       "id                                                                           \n",
       "10777186  2887.863      2282.874  7.25      0  12.777087  19510474+2743008   \n",
       "10883789  2320.682      1665.242  4.66      0   8.618573  19510179+2648453   \n",
       "11027938  7025.942      2767.720  3.57      0  21.092910  19505490+2437373   \n",
       "11036706  2065.580      1833.552  2.34      0   9.992485  19512888+2419172   \n",
       "11133818  4230.952      3832.810  5.85      0  14.364842  19513721+2613323   \n",
       "\n",
       "           tmag     vmag       d2d  \n",
       "id                                  \n",
       "10777186  7.628  7.58872  0.001927  \n",
       "10883789  7.077  8.14900  0.002253  \n",
       "11027938  7.442  7.43070  0.001865  \n",
       "11036706  7.629  8.67000  0.001590  \n",
       "11133818  7.542  7.48000  0.001831  "
      ]
     },
     "execution_count": 8,
     "metadata": {},
     "output_type": "execute_result"
    },
    {
     "name": "stdout",
     "output_type": "stream",
     "text": [
      "time: 35.5 ms\n"
     ]
    }
   ],
   "source": [
    "# Show top entries\n",
    "point_sources.head()"
   ]
  },
  {
   "cell_type": "markdown",
   "metadata": {},
   "source": [
    "## Target Information\n",
    "\n",
    "Lookup information about HD-189733. We use the 2mass ID to query the TESS catalog to get to get the ID, which we refer to as the PANOPTES Input Cataog ID (PICID). _(The PANOPTES catalog is basically the TESS catalog.)_"
   ]
  },
  {
   "cell_type": "code",
   "execution_count": 9,
   "metadata": {},
   "outputs": [
    {
     "name": "stdout",
     "output_type": "stream",
     "text": [
      "PICID: 301352860\n",
      "time: 11.5 ms\n"
     ]
    }
   ],
   "source": [
    "##### NOTE #####\n",
    "# If you run this cell you get a random star in the same field.\n",
    "# You should either run this cell or the one below.\n",
    "##### END NOTE #####\n",
    "\n",
    "# Pick a random target with high SNR and decent FWHM.\n",
    "picid = str(point_sources[np.logical_and(\n",
    "    point_sources.flags == 0,\n",
    "#     point_sources.fwhm < 5,\n",
    "    point_sources.vmag >= 7,\n",
    ")].sort_values(['snr', 'fwhm'], ascending=False).index[np.random.randint(10)])\n",
    "\n",
    "print(\"PICID: {}\".format(picid))"
   ]
  },
  {
   "cell_type": "code",
   "execution_count": 8,
   "metadata": {},
   "outputs": [
    {
     "name": "stdout",
     "output_type": "stream",
     "text": [
      "time: 1.14 ms\n"
     ]
    }
   ],
   "source": [
    "picid = '288050805'"
   ]
  },
  {
   "cell_type": "code",
   "execution_count": 9,
   "metadata": {},
   "outputs": [
    {
     "data": {
      "text/plain": [
       "'288050805'"
      ]
     },
     "execution_count": 9,
     "metadata": {},
     "output_type": "execute_result"
    },
    {
     "name": "stdout",
     "output_type": "stream",
     "text": [
      "time: 5.65 ms\n"
     ]
    }
   ],
   "source": [
    "# Lookup \n",
    "# picid = str(helpers.get_star_info(twomass_id='20004370+2242391')[0])   # HD 189733\n",
    "# picid = str(helpers.get_star_info(twomass_id='20124017-0208391')[0]) # Wasp 80\n",
    "picid"
   ]
  },
  {
   "cell_type": "code",
   "execution_count": 10,
   "metadata": {},
   "outputs": [
    {
     "data": {
      "text/plain": [
       "x                        2240.53\n",
       "y                         1089.6\n",
       "ra                       301.074\n",
       "dec                      22.5981\n",
       "background                3153.9\n",
       "flux_auto                31351.8\n",
       "flux_max                 4014.01\n",
       "fluxerr_auto             1668.88\n",
       "fwhm                        3.02\n",
       "flags                          0\n",
       "snr                      18.7861\n",
       "twomass         20041772+2235542\n",
       "tmag                       7.266\n",
       "vmag                       8.091\n",
       "d2d                  0.000415734\n",
       "Name: 288050805, dtype: object"
      ]
     },
     "execution_count": 10,
     "metadata": {},
     "output_type": "execute_result"
    },
    {
     "name": "stdout",
     "output_type": "stream",
     "text": [
      "time: 8.32 ms\n"
     ]
    }
   ],
   "source": [
    "point_sources.loc[int(picid)]"
   ]
  },
  {
   "cell_type": "code",
   "execution_count": 12,
   "metadata": {},
   "outputs": [
    {
     "name": "stdout",
     "output_type": "stream",
     "text": [
      "time: 875 µs\n"
     ]
    }
   ],
   "source": [
    "# display.IFrame(\"https://exofop.ipac.caltech.edu/tess/target.php?id={}\".format(picid), 1200, 400)"
   ]
  },
  {
   "cell_type": "markdown",
   "metadata": {},
   "source": [
    "## Create PSC for all sources\n",
    "\n",
    "Loop through all the detected sources and create a Postage Stamp Cube (PSC) for each source.\n",
    "\n",
    "These PSC are saved in one HDF5 file named after the observation sequence.\n",
    "\n",
    "Each PSC is $N \\times M$, where $N$ is the number of frames in the sequence and $M$ is the squared-size of the side of the postage stamp (i.e. width * height, or a flattened array). A stamp will always be square and will have a red pixel in the top-right corner. The stamp size should always be an odd multiple of superpixels (2x2 - RGGB), e.g. 3,5,7 => 3x2=6, 5x2=10, 7x2=14.\n",
    "\n",
    "> Note: Sources with any `flags` are filtered as well as $vmag < 14$"
   ]
  },
  {
   "cell_type": "code",
   "execution_count": 13,
   "metadata": {},
   "outputs": [
    {
     "data": {
      "text/plain": [
       "'PAN012_358d0f_20180822T035809'"
      ]
     },
     "execution_count": 13,
     "metadata": {},
     "output_type": "execute_result"
    },
    {
     "name": "stdout",
     "output_type": "stream",
     "text": [
      "time: 8.42 ms\n"
     ]
    }
   ],
   "source": [
    "# Lookup the sequence (for filename)\n",
    "sequence = fits.getval(fits_files[0], 'SEQID')\n",
    "sequence"
   ]
  },
  {
   "cell_type": "code",
   "execution_count": 14,
   "metadata": {},
   "outputs": [
    {
     "name": "stdout",
     "output_type": "stream",
     "text": [
      "time: 1.01 ms\n"
     ]
    }
   ],
   "source": [
    "# Stamp size should be much larger than source. See above\n",
    "stamp_size = (14, 14)"
   ]
  },
  {
   "cell_type": "markdown",
   "metadata": {},
   "source": [
    "_Note: Process below can be long-running the first time. Subsequent runs just return HDF5 file (unless `force__new=True`)._"
   ]
  },
  {
   "cell_type": "code",
   "execution_count": 15,
   "metadata": {},
   "outputs": [
    {
     "data": {
      "text/plain": [
       "'/var/panoptes/psc/PAN012_358d0f_20180822T035809.hdf5'"
      ]
     },
     "execution_count": 15,
     "metadata": {},
     "output_type": "execute_result"
    },
    {
     "name": "stdout",
     "output_type": "stream",
     "text": [
      "time: 8 ms\n"
     ]
    }
   ],
   "source": [
    "# Create stamps\n",
    "stamps_fn = pipeline.create_stamp_slices(\n",
    "    sequence,\n",
    "    fits_files,\n",
    "    point_sources,\n",
    "    stamp_size=stamp_size,\n",
    "#     force_new=True,\n",
    "#     verbose=True,\n",
    "#     notebook=True\n",
    ")\n",
    "stamps_fn"
   ]
  },
  {
   "cell_type": "code",
   "execution_count": null,
   "metadata": {},
   "outputs": [],
   "source": [
    "stamps_fn"
   ]
  },
  {
   "cell_type": "code",
   "execution_count": 16,
   "metadata": {},
   "outputs": [
    {
     "data": {
      "text/plain": [
       "<HDF5 file \"PAN012_358d0f_20180822T035809.hdf5\" (mode r+)>"
      ]
     },
     "execution_count": 16,
     "metadata": {},
     "output_type": "execute_result"
    },
    {
     "name": "stdout",
     "output_type": "stream",
     "text": [
      "time: 4.36 ms\n"
     ]
    }
   ],
   "source": [
    "# Get all the PSC for the observation sequence.\n",
    "stamps = h5py.File(stamps_fn)\n",
    "stamps"
   ]
  },
  {
   "cell_type": "markdown",
   "metadata": {},
   "source": [
    "## Info about Observation and Exoplanet Transit\n",
    "\n",
    "Get the image times and airmass information. There is currently a [bug](https://github.com/panoptes/POCS/issues/503) with the `DATE-OBS` keyword so we use the filename of the image to generate the timestamps. Otherwise the times would be stored in the `image_times` attribute of the stamps file.\n",
    "\n",
    "The `airmass` also comes from an attribute."
   ]
  },
  {
   "cell_type": "code",
   "execution_count": 17,
   "metadata": {},
   "outputs": [
    {
     "name": "stdout",
     "output_type": "stream",
     "text": [
      "time: 62.9 ms\n"
     ]
    }
   ],
   "source": [
    "# Get image times from filename\n",
    "image_times = [Time(\n",
    "    date_parse(os.path.splitext(fn.split('/')[-1])[0]) # .split('_')[4]\n",
    ").datetime\n",
    "for fn in fits_files if 'pointing' not in fn]\n",
    "\n",
    "# image_times_mjd = stamps.attrs['image_times'] # MJD\n",
    "# image_times = [Time(t0, format='mjd').datetime for t0 in image_times_mjd]\n",
    "\n",
    "airmass = stamps.attrs['airmass'][:]"
   ]
  },
  {
   "cell_type": "markdown",
   "metadata": {},
   "source": [
    "With the `image_times` we are able to find if there is a transit overlap by looking\n",
    "up the nearest transit to the image time."
   ]
  },
  {
   "cell_type": "code",
   "execution_count": 18,
   "metadata": {},
   "outputs": [
    {
     "name": "stdout",
     "output_type": "stream",
     "text": [
      "time: 6.75 s\n"
     ]
    }
   ],
   "source": [
    "exoplanet = Exoplanet('HD 189733 b')\n",
    "# exoplanet = Exoplanet('Wasp-80 b')\n",
    "\n",
    "transit_info = exoplanet.get_transit_info(Time(image_times[0]))\n",
    "\n",
    "ingress = transit_info.ingress.datetime\n",
    "midpoint = transit_info.midpoint.datetime\n",
    "egress = transit_info.egress.datetime"
   ]
  },
  {
   "cell_type": "markdown",
   "metadata": {},
   "source": [
    "Plot the airmass alongside the transit information."
   ]
  },
  {
   "cell_type": "code",
   "execution_count": 19,
   "metadata": {},
   "outputs": [
    {
     "data": {
      "image/png": "[encoded data removed]",
      "text/plain": [
       "<Figure size 864x648 with 1 Axes>"
      ]
     },
     "metadata": {},
     "output_type": "display_data"
    },
    {
     "name": "stdout",
     "output_type": "stream",
     "text": [
      "time: 740 ms\n"
     ]
    }
   ],
   "source": [
    "pd.Series(airmass, index=image_times).plot(figsize=(12, 9), marker='x', label='observation')\n",
    "\n",
    "plt.gca().invert_yaxis()\n",
    "plt.ylabel('Airmass')\n",
    "plt.xlabel('Time [UTC]')\n",
    "\n",
    "plt.title('Airmass of Observation - {}'.format(sequence))\n",
    "\n",
    "try:\n",
    "    plt.axvline(midpoint, label='mid-transit', ls='-.', c='g')\n",
    "    plt.axvline(ingress, label='ingress', ls='--')\n",
    "    plt.axvline(egress, label='egress', ls='--')\n",
    "except NameError:\n",
    "    pass\n",
    "\n",
    "plt.legend()\n",
    "plt.savefig('/var/panoptes/images/temp/PAN012/airmass_with_transit.png')"
   ]
  },
  {
   "cell_type": "markdown",
   "metadata": {},
   "source": [
    "## Target PSC\n",
    "\n",
    "Lookup the target coordinates and check target drift over the course of the observation."
   ]
  },
  {
   "cell_type": "code",
   "execution_count": 20,
   "metadata": {},
   "outputs": [
    {
     "name": "stdout",
     "output_type": "stream",
     "text": [
      "time: 7.19 ms\n"
     ]
    }
   ],
   "source": [
    "# Lookup target coordinates\n",
    "target_coords = SkyCoord(point_sources.loc[int(picid)].ra * u.deg, point_sources.loc[int(picid)].dec * u.deg)"
   ]
  },
  {
   "cell_type": "code",
   "execution_count": 21,
   "metadata": {},
   "outputs": [
    {
     "data": {
      "image/png": "[encoded data removed]",
      "text/plain": [
       "<Figure size 864x648 with 1 Axes>"
      ]
     },
     "metadata": {},
     "output_type": "display_data"
    },
    {
     "name": "stdout",
     "output_type": "stream",
     "text": [
      "time: 3.66 s\n"
     ]
    }
   ],
   "source": [
    "# Plot the pixel drift of the target over the course of the observation.\n",
    "x_pos, y_pos = helpers.get_pixel_drift(target_coords, fits_files)\n",
    "\n",
    "out_fn = '/var/panoptes/images/temp/PAN012/target_movement_{}.png'.format()\n",
    "\n",
    "drift_pic = plot.plot_pixel_drift(\n",
    "    x_pos, \n",
    "    y_pos, \n",
    "    index=image_times, \n",
    "    out_fn=out_fn,\n",
    "    title='{} pixel drift'.format(sequence)\n",
    ")\n",
    "display.display(drift_pic)"
   ]
  },
  {
   "cell_type": "markdown",
   "metadata": {},
   "source": [
    "### Get target data\n",
    "\n",
    "We lookup the target PSC from our stamps file, doing a simple bias subtraction directly on the data. This should later be refined with a bias map."
   ]
  },
  {
   "cell_type": "code",
   "execution_count": 22,
   "metadata": {},
   "outputs": [
    {
     "name": "stdout",
     "output_type": "stream",
     "text": [
      "time: 990 µs\n"
     ]
    }
   ],
   "source": [
    "# Simple camera bias\n",
    "camera_bias = 2048 "
   ]
  },
  {
   "cell_type": "code",
   "execution_count": 23,
   "metadata": {},
   "outputs": [
    {
     "name": "stdout",
     "output_type": "stream",
     "text": [
      "N = 128 frames \n",
      "M = 196 = 14x14 stamps\n",
      "time: 4.02 ms\n"
     ]
    }
   ],
   "source": [
    "# Get target PSC and subtract the bias\n",
    "target_psc = pipeline.get_psc(str(picid), stamps) - camera_bias\n",
    "\n",
    "# Get size\n",
    "num_frames = target_psc.shape[0]\n",
    "stamp_side = int(np.sqrt(target_psc.shape[1]))\n",
    "\n",
    "print(\"N = {0} frames \\nM = {2} = {1}x{1} stamps\".format(num_frames, stamp_side, stamp_side**2))"
   ]
  },
  {
   "cell_type": "markdown",
   "metadata": {},
   "source": [
    "Show an animation of the stamps."
   ]
  },
  {
   "cell_type": "code",
   "execution_count": 24,
   "metadata": {},
   "outputs": [
    {
     "data": {
      "text/html": [
       "<video src=\"/var/panoptes/images/temp/PAN012/hd189733_288050805.mp4\" controls>\n",
       "      Your browser does not support the <code>video</code> element.\n",
       "    </video>"
      ],
      "text/plain": [
       "<IPython.core.display.Video object>"
      ]
     },
     "execution_count": 24,
     "metadata": {},
     "output_type": "execute_result"
    },
    {
     "name": "stdout",
     "output_type": "stream",
     "text": [
      "time: 6.1 ms\n"
     ]
    }
   ],
   "source": [
    "anim_fn = '/var/panoptes/images/temp/PAN012/hd189733_{}.mp4'.format(picid)\n",
    "\n",
    "if os.path.exists(anim_fn) is False:\n",
    "    target_animation = plot.animate_stamp(\n",
    "        target_psc.reshape(num_frames, stamp_side, stamp_side)\n",
    "    )\n",
    "\n",
    "    target_animation.save(anim_fn, dpi=150)\n",
    "\n",
    "display.Video(anim_fn)"
   ]
  },
  {
   "cell_type": "markdown",
   "metadata": {},
   "source": [
    "### Find similar stars\n",
    "\n",
    "The target PSC and all source PSC are normalized on a frame-by-frame basis in order to determine the morphology of the source on an invidiual frames. The target PSC is then compared frame by frame for the entire observation sequence, returning the sum of summed squared difference of each target and source frame."
   ]
  },
  {
   "cell_type": "code",
   "execution_count": 25,
   "metadata": {},
   "outputs": [
    {
     "name": "stdout",
     "output_type": "stream",
     "text": [
      "time: 905 µs\n"
     ]
    }
   ],
   "source": [
    "# Removing bad frames\n",
    "frame_slice = slice(1, -1)"
   ]
  },
  {
   "cell_type": "code",
   "execution_count": 26,
   "metadata": {},
   "outputs": [
    {
     "name": "stderr",
     "output_type": "stream",
     "text": [
      "                                                                     "
     ]
    },
    {
     "name": "stdout",
     "output_type": "stream",
     "text": [
      "time: 1.43 s\n"
     ]
    },
    {
     "name": "stderr",
     "output_type": "stream",
     "text": []
    }
   ],
   "source": [
    "vary_series = pipeline.find_similar_stars(picid, stamps, frame_slice=frame_slice, force_new=True)"
   ]
  },
  {
   "cell_type": "markdown",
   "metadata": {},
   "source": [
    "### Build stamp collection\n",
    "\n",
    "We build a stamp collection of PSCs consisting of the target PSC and its `num_ref` best matches. We again take off a simple bias for each PSC as we go.\n",
    "\n",
    "We also build a normalized version of the stamp collection."
   ]
  },
  {
   "cell_type": "code",
   "execution_count": 27,
   "metadata": {},
   "outputs": [
    {
     "name": "stdout",
     "output_type": "stream",
     "text": [
      "time: 981 µs\n"
     ]
    }
   ],
   "source": [
    "num_refs = 101  # target + 100"
   ]
  },
  {
   "cell_type": "code",
   "execution_count": 28,
   "metadata": {},
   "outputs": [
    {
     "name": "stdout",
     "output_type": "stream",
     "text": [
      "time: 61.5 ms\n"
     ]
    }
   ],
   "source": [
    "# Get the target and the top-matching references\n",
    "stamp_collection = np.array([\n",
    "    pipeline.get_psc(str(idx), stamps, frame_slice=frame_slice) - camera_bias \n",
    "    for idx in vary_series.index[:num_refs]])"
   ]
  },
  {
   "cell_type": "code",
   "execution_count": 29,
   "metadata": {},
   "outputs": [
    {
     "name": "stdout",
     "output_type": "stream",
     "text": [
      "time: 1.18 ms\n"
     ]
    }
   ],
   "source": [
    "# Get target PSC (may have changed with frame_slice)\n",
    "target_psc = stamp_collection[0]\n",
    "\n",
    "num_frames = stamp_collection.shape[1]"
   ]
  },
  {
   "cell_type": "code",
   "execution_count": 30,
   "metadata": {},
   "outputs": [
    {
     "name": "stdout",
     "output_type": "stream",
     "text": [
      "time: 20.5 ms\n"
     ]
    }
   ],
   "source": [
    "# Get a normalized version of the entire stamp collection\n",
    "normalized_collection = np.array([pipeline.normalize(s) for s in stamp_collection])"
   ]
  },
  {
   "cell_type": "markdown",
   "metadata": {},
   "source": [
    "### Build reference coeffecients"
   ]
  },
  {
   "cell_type": "code",
   "execution_count": 31,
   "metadata": {},
   "outputs": [
    {
     "name": "stdout",
     "output_type": "stream",
     "text": [
      "time: 81.6 ms\n"
     ]
    }
   ],
   "source": [
    "# Get the coefficients the most optimally combine the normalized referenes into \n",
    "# one single master reference.\n",
    "coeffs = pipeline.get_ideal_full_coeffs(normalized_collection)"
   ]
  },
  {
   "cell_type": "markdown",
   "metadata": {},
   "source": [
    "### Build reference PSC"
   ]
  },
  {
   "cell_type": "code",
   "execution_count": 32,
   "metadata": {},
   "outputs": [
    {
     "name": "stdout",
     "output_type": "stream",
     "text": [
      "time: 8.76 ms\n"
     ]
    }
   ],
   "source": [
    "# Use the coeffecients generated from the normalized references and\n",
    "# apply them to the non-normalized (i.e. flux) stamps\n",
    "ideal_psc = pipeline.get_ideal_full_psc(\n",
    "    stamp_collection, \n",
    "    coeffs[0]\n",
    ").reshape(num_frames, -1)"
   ]
  },
  {
   "cell_type": "markdown",
   "metadata": {},
   "source": [
    "Animate the reference stamp similar to the target stamp"
   ]
  },
  {
   "cell_type": "code",
   "execution_count": 33,
   "metadata": {},
   "outputs": [
    {
     "name": "stdout",
     "output_type": "stream",
     "text": [
      "time: 2.65 ms\n"
     ]
    }
   ],
   "source": [
    "# Animate the ideal reference\n",
    "\n",
    "anim_fn = '/var/panoptes/images/temp/PAN012/hd189733_{}_ref.mp4'.format(picid)\n",
    "\n",
    "if os.path.exists(anim_fn) is False:\n",
    "    ref_animation = plot.animate_stamp(\n",
    "        ideal_psc.reshape(num_frames, stamp_side, stamp_side)\n",
    "    )\n",
    "\n",
    "    ref_animation.save(anim_fn, dpi=150)\n",
    "\n",
    "    display.display(ref_animation)"
   ]
  },
  {
   "cell_type": "markdown",
   "metadata": {},
   "source": [
    "### Show Target and reference comparison\n",
    "\n",
    "We look at a single frame on both the target and the reference as well as the residual."
   ]
  },
  {
   "cell_type": "code",
   "execution_count": 34,
   "metadata": {},
   "outputs": [
    {
     "name": "stdout",
     "output_type": "stream",
     "text": [
      "time: 1.19 ms\n"
     ]
    }
   ],
   "source": [
    "frame_idx = -4"
   ]
  },
  {
   "cell_type": "code",
   "execution_count": 35,
   "metadata": {},
   "outputs": [
    {
     "data": {
      "image/png": "[encoded data removed]",
      "text/plain": [
       "<Figure size 900x400 with 6 Axes>"
      ]
     },
     "metadata": {},
     "output_type": "display_data"
    },
    {
     "name": "stdout",
     "output_type": "stream",
     "text": [
      "time: 903 ms\n"
     ]
    }
   ],
   "source": [
    "# Reshape into square stamps and plot the requested frame\n",
    "stamp_fig = plot.show_stamps([\n",
    "    target_psc.reshape(num_frames, stamp_side, stamp_side), \n",
    "    ideal_psc.reshape(num_frames, stamp_side, stamp_side)\n",
    "], frame_idx=frame_idx, show_residual=True)\n",
    "\n",
    "stamp_fig.savefig('/var/panoptes/images/temp/PAN012/target_comparison.png', dpi=150)\n",
    "\n",
    "display.display(stamp_fig)"
   ]
  },
  {
   "cell_type": "markdown",
   "metadata": {},
   "source": [
    "## Aperture photometry\n",
    "\n",
    "Split into color channels and put an aperture around the source for both target and reference. Currently centroided by brightest pixel - needs improvement. Collect target and reference counts.\n",
    "\n",
    "Default aperture size is 4 pixels but this should also be adaptive in some sense."
   ]
  },
  {
   "cell_type": "code",
   "execution_count": 36,
   "metadata": {},
   "outputs": [
    {
     "name": "stdout",
     "output_type": "stream",
     "text": [
      "time: 969 µs\n"
     ]
    }
   ],
   "source": [
    "aperture_size = 6"
   ]
  },
  {
   "cell_type": "code",
   "execution_count": 37,
   "metadata": {},
   "outputs": [
    {
     "data": {
      "text/html": [
       "<div>\n",
       "<style scoped>\n",
       "    .dataframe tbody tr th:only-of-type {\n",
       "        vertical-align: middle;\n",
       "    }\n",
       "\n",
       "    .dataframe tbody tr th {\n",
       "        vertical-align: top;\n",
       "    }\n",
       "\n",
       "    .dataframe thead th {\n",
       "        text-align: right;\n",
       "    }\n",
       "</style>\n",
       "<table border=\"1\" class=\"dataframe\">\n",
       "  <thead>\n",
       "    <tr style=\"text-align: right;\">\n",
       "      <th></th>\n",
       "      <th>color</th>\n",
       "      <th>reference</th>\n",
       "      <th>target</th>\n",
       "      <th>rel_flux</th>\n",
       "    </tr>\n",
       "    <tr>\n",
       "      <th>obstime</th>\n",
       "      <th></th>\n",
       "      <th></th>\n",
       "      <th></th>\n",
       "      <th></th>\n",
       "    </tr>\n",
       "  </thead>\n",
       "  <tbody>\n",
       "    <tr>\n",
       "      <th>2018-08-22 04:00:12</th>\n",
       "      <td>r</td>\n",
       "      <td>12319.837370</td>\n",
       "      <td>-4.547474e-13</td>\n",
       "      <td>-3.691180e-17</td>\n",
       "    </tr>\n",
       "    <tr>\n",
       "      <th>2018-08-22 04:00:12</th>\n",
       "      <td>g</td>\n",
       "      <td>44476.284608</td>\n",
       "      <td>4.008471e+03</td>\n",
       "      <td>9.012602e-02</td>\n",
       "    </tr>\n",
       "    <tr>\n",
       "      <th>2018-08-22 04:00:12</th>\n",
       "      <td>b</td>\n",
       "      <td>14448.384490</td>\n",
       "      <td>6.821210e-13</td>\n",
       "      <td>4.721089e-17</td>\n",
       "    </tr>\n",
       "    <tr>\n",
       "      <th>2018-08-22 04:02:02</th>\n",
       "      <td>r</td>\n",
       "      <td>11916.300889</td>\n",
       "      <td>-2.273737e-13</td>\n",
       "      <td>-1.908089e-17</td>\n",
       "    </tr>\n",
       "    <tr>\n",
       "      <th>2018-08-22 04:02:02</th>\n",
       "      <td>g</td>\n",
       "      <td>41995.451846</td>\n",
       "      <td>2.356235e+03</td>\n",
       "      <td>5.610692e-02</td>\n",
       "    </tr>\n",
       "  </tbody>\n",
       "</table>\n",
       "</div>"
      ],
      "text/plain": [
       "                    color     reference        target      rel_flux\n",
       "obstime                                                            \n",
       "2018-08-22 04:00:12     r  12319.837370 -4.547474e-13 -3.691180e-17\n",
       "2018-08-22 04:00:12     g  44476.284608  4.008471e+03  9.012602e-02\n",
       "2018-08-22 04:00:12     b  14448.384490  6.821210e-13  4.721089e-17\n",
       "2018-08-22 04:02:02     r  11916.300889 -2.273737e-13 -1.908089e-17\n",
       "2018-08-22 04:02:02     g  41995.451846  2.356235e+03  5.610692e-02"
      ]
     },
     "execution_count": 37,
     "metadata": {},
     "output_type": "execute_result"
    },
    {
     "name": "stdout",
     "output_type": "stream",
     "text": [
      "time: 3.18 s\n"
     ]
    }
   ],
   "source": [
    "phot = pipeline.get_aperture_sums(\n",
    "    target_psc, \n",
    "    ideal_psc, \n",
    "    image_times, \n",
    "    aperture_size=aperture_size, \n",
    "    subtract_back=True,\n",
    "#     plot_apertures=True\n",
    ")\n",
    "\n",
    "try:\n",
    "    lc0, aperture_fig = phot\n",
    "    aperture_fig.savefig('/var/panoptes/images/temp/apertures_{}.png'.format(picid))    \n",
    "except ValueError:\n",
    "    lc0 = phot\n",
    "    \n",
    "\n",
    "# Save the lightcurve dataframe to a csv file\n",
    "# NOTE: We do this before normalizing\n",
    "csv_file = '/var/panoptes/images/temp/PAN012/{}_{}_lc.csv'.format(\n",
    "    sequence.replace('/', '_'), \n",
    "    picid\n",
    ")\n",
    "\n",
    "# Save before adding relative flux\n",
    "lc0.to_csv(csv_file)\n",
    "\n",
    "lc0['rel_flux'] = sigma_clip(lc0.target / lc0.reference).filled(99)\n",
    "lc0 = lc0.loc[lc0.rel_flux != 99]\n",
    "\n",
    "lc0.head()"
   ]
  },
  {
   "cell_type": "code",
   "execution_count": 147,
   "metadata": {},
   "outputs": [
    {
     "name": "stdout",
     "output_type": "stream",
     "text": [
      "time: 1.45 ms\n"
     ]
    }
   ],
   "source": [
    "t0 = target_psc[0].reshape(14, 14)"
   ]
  },
  {
   "cell_type": "code",
   "execution_count": 148,
   "metadata": {},
   "outputs": [
    {
     "name": "stdout",
     "output_type": "stream",
     "text": [
      "time: 27.3 ms\n"
     ]
    }
   ],
   "source": [
    "rgb_stamp_masks = helpers.get_rgb_masks(\n",
    "    t0,\n",
    "    force_new=True\n",
    ")"
   ]
  },
  {
   "cell_type": "code",
   "execution_count": 149,
   "metadata": {},
   "outputs": [
    {
     "data": {
      "text/plain": [
       "<matplotlib.image.AxesImage at 0x7f6d9b6b1f28>"
      ]
     },
     "execution_count": 149,
     "metadata": {},
     "output_type": "execute_result"
    },
    {
     "data": {
      "image/png": "[encoded data removed]",
      "text/plain": [
       "<Figure size 432x288 with 1 Axes>"
      ]
     },
     "metadata": {},
     "output_type": "display_data"
    },
    {
     "name": "stdout",
     "output_type": "stream",
     "text": [
      "time: 252 ms\n"
     ]
    }
   ],
   "source": [
    "plt.imshow(t0)"
   ]
  },
  {
   "cell_type": "code",
   "execution_count": 159,
   "metadata": {},
   "outputs": [
    {
     "data": {
      "text/plain": [
       "array([[0., 0., 0., 0., 0., 0.],\n",
       "       [0., 0., 0., 0., 0., 0.],\n",
       "       [0., 0., 0., 0., 0., 0.],\n",
       "       [0., 0., 0., 0., 0., 0.],\n",
       "       [0., 0., 0., 0., 0., 0.],\n",
       "       [0., 0., 0., 0., 0., 0.]])"
      ]
     },
     "execution_count": 159,
     "metadata": {},
     "output_type": "execute_result"
    },
    {
     "name": "stdout",
     "output_type": "stream",
     "text": [
      "time: 4.07 ms\n"
     ]
    }
   ],
   "source": [
    "np.zeros((6, 6))"
   ]
  },
  {
   "cell_type": "code",
   "execution_count": 150,
   "metadata": {},
   "outputs": [
    {
     "name": "stdout",
     "output_type": "stream",
     "text": [
      "time: 1.59 ms\n"
     ]
    }
   ],
   "source": [
    "color = 'r'\n",
    "color_data = np.ma.array(t0, mask=~rgb_stamp_masks[color])"
   ]
  },
  {
   "cell_type": "code",
   "execution_count": 151,
   "metadata": {},
   "outputs": [
    {
     "data": {
      "text/plain": [
       "48866"
      ]
     },
     "execution_count": 151,
     "metadata": {},
     "output_type": "execute_result"
    },
    {
     "name": "stdout",
     "output_type": "stream",
     "text": [
      "time: 3.79 ms\n"
     ]
    }
   ],
   "source": [
    "color_data.sum()"
   ]
  },
  {
   "cell_type": "code",
   "execution_count": 152,
   "metadata": {},
   "outputs": [
    {
     "name": "stdout",
     "output_type": "stream",
     "text": [
      "time: 1.61 ms\n"
     ]
    }
   ],
   "source": [
    "# NOTE: Bad \"centroiding\" here\n",
    "y_pos, x_pos = np.argwhere(t0 == t0.max())[0]\n",
    "aperture_position = (x_pos, y_pos)"
   ]
  },
  {
   "cell_type": "code",
   "execution_count": 153,
   "metadata": {},
   "outputs": [
    {
     "name": "stdout",
     "output_type": "stream",
     "text": [
      "time: 1.05 ms\n"
     ]
    }
   ],
   "source": [
    "aperture_size = 6"
   ]
  },
  {
   "cell_type": "code",
   "execution_count": 154,
   "metadata": {},
   "outputs": [
    {
     "name": "stdout",
     "output_type": "stream",
     "text": [
      "time: 2.18 ms\n"
     ]
    }
   ],
   "source": [
    "t1 = Cutout2D(color_data, (y_pos, x_pos), aperture_size)"
   ]
  },
  {
   "cell_type": "code",
   "execution_count": 155,
   "metadata": {},
   "outputs": [
    {
     "data": {
      "text/plain": [
       "<matplotlib.image.AxesImage at 0x7f6d9a750198>"
      ]
     },
     "execution_count": 155,
     "metadata": {},
     "output_type": "execute_result"
    },
    {
     "data": {
      "image/png": "[encoded data removed]",
      "text/plain": [
       "<Figure size 432x288 with 1 Axes>"
      ]
     },
     "metadata": {},
     "output_type": "display_data"
    },
    {
     "name": "stdout",
     "output_type": "stream",
     "text": [
      "time: 204 ms\n"
     ]
    }
   ],
   "source": [
    "plt.imshow(t1.data)"
   ]
  },
  {
   "cell_type": "code",
   "execution_count": 157,
   "metadata": {},
   "outputs": [
    {
     "data": {
      "text/plain": [
       "(6.5, 6.5)"
      ]
     },
     "execution_count": 157,
     "metadata": {},
     "output_type": "execute_result"
    },
    {
     "name": "stdout",
     "output_type": "stream",
     "text": [
      "time: 3.27 ms\n"
     ]
    }
   ],
   "source": []
  },
  {
   "cell_type": "code",
   "execution_count": 136,
   "metadata": {},
   "outputs": [
    {
     "data": {
      "text/plain": [
       "4"
      ]
     },
     "execution_count": 136,
     "metadata": {},
     "output_type": "execute_result"
    },
    {
     "name": "stdout",
     "output_type": "stream",
     "text": [
      "time: 3.37 ms\n"
     ]
    }
   ],
   "source": [
    "t1.xmin_original"
   ]
  },
  {
   "cell_type": "code",
   "execution_count": 123,
   "metadata": {},
   "outputs": [
    {
     "name": "stdout",
     "output_type": "stream",
     "text": [
      "time: 1.84 ms\n"
     ]
    }
   ],
   "source": [
    "t2 = (t1.data - t1.data.mean()).filled(0)"
   ]
  },
  {
   "cell_type": "code",
   "execution_count": 125,
   "metadata": {},
   "outputs": [
    {
     "data": {
      "text/plain": [
       "array([[   0.        ,    0.        ,    0.        ,    0.        ,\n",
       "           0.        ,    0.        ],\n",
       "       [-439.77777778,    0.        , -294.77777778,    0.        ,\n",
       "        -260.77777778,    0.        ],\n",
       "       [   0.        ,    0.        ,    0.        ,    0.        ,\n",
       "           0.        ,    0.        ],\n",
       "       [-357.77777778,    0.        , 1376.22222222,    0.        ,\n",
       "         530.22222222,    0.        ],\n",
       "       [   0.        ,    0.        ,    0.        ,    0.        ,\n",
       "           0.        ,    0.        ],\n",
       "       [-375.77777778,    0.        ,  -75.77777778,    0.        ,\n",
       "        -101.77777778,    0.        ]])"
      ]
     },
     "execution_count": 125,
     "metadata": {},
     "output_type": "execute_result"
    },
    {
     "name": "stdout",
     "output_type": "stream",
     "text": [
      "time: 4.12 ms\n"
     ]
    }
   ],
   "source": [
    "t2"
   ]
  },
  {
   "cell_type": "code",
   "execution_count": null,
   "metadata": {},
   "outputs": [],
   "source": []
  },
  {
   "cell_type": "code",
   "execution_count": null,
   "metadata": {},
   "outputs": [],
   "source": []
  },
  {
   "cell_type": "code",
   "execution_count": 41,
   "metadata": {},
   "outputs": [
    {
     "name": "stdout",
     "output_type": "stream",
     "text": [
      "r \t μ=859 \t σ= 978 (108142934030358736.000%)\n",
      "g \t μ=4331 \t σ=1569 (33.628%)\n",
      "b \t μ=2513 \t σ= 916 (34.228%)\n",
      "time: 40.6 ms\n"
     ]
    }
   ],
   "source": [
    "lc9 = lc0.loc[lc0.target > 0]\n",
    "for color in 'rgb':\n",
    "    c0 = lc9.loc[lc9.color == color]\n",
    "        \n",
    "    mean, median, std = sigma_clipped_stats(c0.target)\n",
    "\n",
    "    print(\"{} \\t μ={:.0f} \\t σ={:4.0f} ({:3.03%})\".format(color, mean, std, (c0.target / np.median(c0.target)).std()))"
   ]
  },
  {
   "cell_type": "code",
   "execution_count": 39,
   "metadata": {},
   "outputs": [
    {
     "name": "stdout",
     "output_type": "stream",
     "text": [
      "time: 1 ms\n"
     ]
    }
   ],
   "source": [
    "t0 = target_psc[0].reshape(14, 14)"
   ]
  },
  {
   "cell_type": "code",
   "execution_count": null,
   "metadata": {},
   "outputs": [],
   "source": [
    "plt.imshow(t0)"
   ]
  },
  {
   "cell_type": "code",
   "execution_count": null,
   "metadata": {},
   "outputs": [],
   "source": [
    "c0 = Cutout2D(t0, (7, 7), 6)"
   ]
  },
  {
   "cell_type": "code",
   "execution_count": null,
   "metadata": {},
   "outputs": [],
   "source": [
    "plt.imshow(c0.data)"
   ]
  },
  {
   "cell_type": "code",
   "execution_count": null,
   "metadata": {},
   "outputs": [],
   "source": [
    "m0 = np.ma.array(t0)"
   ]
  },
  {
   "cell_type": "code",
   "execution_count": null,
   "metadata": {},
   "outputs": [],
   "source": [
    "c0.slices_original"
   ]
  },
  {
   "cell_type": "code",
   "execution_count": null,
   "metadata": {},
   "outputs": [],
   "source": [
    "m0"
   ]
  },
  {
   "cell_type": "code",
   "execution_count": null,
   "metadata": {},
   "outputs": [],
   "source": [
    "c0.slices_original"
   ]
  },
  {
   "cell_type": "code",
   "execution_count": null,
   "metadata": {},
   "outputs": [],
   "source": [
    "np.ma.array(t0, mask=~c0.slices_original)"
   ]
  },
  {
   "cell_type": "code",
   "execution_count": null,
   "metadata": {},
   "outputs": [],
   "source": [
    "lc9.groupby('color').target.plot()"
   ]
  },
  {
   "cell_type": "markdown",
   "metadata": {},
   "source": [
    "Get the mean of each color channel and normalize the `rel_flux` by that mean."
   ]
  },
  {
   "cell_type": "code",
   "execution_count": null,
   "metadata": {},
   "outputs": [],
   "source": [
    "pre_ingress_flux = lc0.loc[lc0.index < ingress]\n",
    "post_egress_flux = lc0.loc[lc0.index > egress]"
   ]
  },
  {
   "cell_type": "code",
   "execution_count": null,
   "metadata": {},
   "outputs": [],
   "source": [
    "# Get the mean for the pre-ingress for each channel\n",
    "color_means = pre_ingress_flux.groupby('color').rel_flux.mean()\n",
    "# color_means = lc0[lc0.rel_flux != 99].groupby('color').rel_flux.mean()\n",
    "\n",
    "# Make a copy\n",
    "lc2 = lc0.copy()\n",
    "\n",
    "for color, mean in color_means.iteritems():\n",
    "    print(\"{} μ={:.04f}\".format(color, mean))\n",
    "    \n",
    "    # Get the raw values\n",
    "    raw_values = lc2.loc[lc2.color == color, ('rel_flux')]\n",
    "    \n",
    "    mean_values = sigma_clip(raw_values / mean).filled(np.nan)\n",
    "#     mean_values = mean_values[mean_values != 99]\n",
    "    \n",
    "    lc2.loc[lc2.color == color, ('rel_flux')] = mean_values"
   ]
  },
  {
   "cell_type": "code",
   "execution_count": null,
   "metadata": {},
   "outputs": [],
   "source": [
    "transit_params = exoplanet.get_model_params(period=exoplanet.period.value)"
   ]
  },
  {
   "cell_type": "code",
   "execution_count": null,
   "metadata": {},
   "outputs": [],
   "source": [
    "for attr in dir(transit_params):\n",
    "    if attr.startswith('__'):\n",
    "        continue\n",
    "        \n",
    "    val = getattr(transit_params, attr)\n",
    "    print(\"{:.<12s} {}\".format(attr, val))"
   ]
  },
  {
   "cell_type": "code",
   "execution_count": null,
   "metadata": {
    "scrolled": false
   },
   "outputs": [],
   "source": [
    "for color, data in lc2.groupby('color'):\n",
    "        \n",
    "    y = data.loc[data.rel_flux != 99].rel_flux\n",
    "    x = y.index\n",
    "\n",
    "    # Get the orbital phase of the exoplanet\n",
    "    orbital_phase = np.array([exoplanet.get_phase(Time(t0)) for t0 in x])\n",
    "    base_model_flux = exoplanet.get_model_lightcurve(orbital_phase)\n",
    "    \n",
    "    base_model_flux = np.ones_like(y)\n",
    "    \n",
    "    lc_fig = plot.plot_lightcurve(x, y, base_model_flux, \n",
    "        transit_info=[midpoint, ingress, egress],\n",
    "        title=\"{} Lightcurve - {}\".format(sequence.replace('_', ' '), color),\n",
    "        ylim=[.9, 1.1], \n",
    "        color=color\n",
    "    )    \n",
    "    \n",
    "    print('σ={:.04%}'.format(y.std()))\n",
    "    \n",
    "    # Show the 2MASS ID\n",
    "    tmid = stamps[picid].attrs['twomass']\n",
    "    lc_fig.suptitle('2MASS J{}'.format(tmid), y=0.95, fontsize=16)    \n",
    "    \n",
    "    display.display(lc_fig)\n",
    "    \n",
    "    lc_fig.savefig('/var/panoptes/images/temp/PAN012/final_lc_{}_{}.png'.format(picid, color), \n",
    "               dpi=150, transparent=False)"
   ]
  },
  {
   "cell_type": "markdown",
   "metadata": {},
   "source": [
    "### Combined color channels"
   ]
  },
  {
   "cell_type": "code",
   "execution_count": null,
   "metadata": {},
   "outputs": [],
   "source": [
    "# We are using all color channels combined for now\n",
    "# lc1pre = lc0.loc[lc0.color != 'r']\n",
    "# lc1 = lc1pre.groupby('obstime').sum()\n",
    "lc1 = lc0.groupby('obstime').sum()\n",
    "\n",
    "# Redo the relative flux with new sums\n",
    "lc1['rel_flux'] = sigma_clip(lc1.target / lc1.reference).filled(99)\n",
    "\n",
    "lc1 = lc1.loc[lc1.rel_flux != 99]\n",
    "\n",
    "pre_ingress_flux = lc1.loc[lc1.index < ingress].rel_flux\n",
    "post_egress_flux = lc1.loc[lc1.index > egress].rel_flux\n",
    "\n",
    "# Normalize the entire observation relative flux by the pre-ingress mean\n",
    "lc1['rel_flux'] = sigma_clip(lc1.rel_flux / pre_ingress_flux.mean()).filled(99)\n",
    "\n",
    "# Normalize by the mean\n",
    "# lc1['rel_flux'] = sigma_clip(lc1.rel_flux / lc1.rel_flux.mean()).filled(1)\n",
    "\n",
    "lc1 = lc1.loc[lc1.rel_flux != 99]\n",
    "\n",
    "# Show top entries\n",
    "lc1.head()"
   ]
  },
  {
   "cell_type": "markdown",
   "metadata": {},
   "source": [
    "Get both the time delta (in days) as well as the orbital phase of the exoplanet."
   ]
  },
  {
   "cell_type": "code",
   "execution_count": null,
   "metadata": {},
   "outputs": [],
   "source": [
    "# Get the time offsets as the delta (in days) from the midpoint\n",
    "delta_days_before = [\n",
    "    -1 * ((midpoint - t0).seconds * u.second).to(u.day).value \n",
    "    for t0 in lc1.index if t0 < midpoint\n",
    "]\n",
    "\n",
    "delta_days_after = [\n",
    "    ((t0 - midpoint).seconds * u.second).to(u.day).value \n",
    "    for t0 in lc1.index if t0 >= midpoint\n",
    "]\n",
    "\n",
    "delta_days = np.array(delta_days_before + delta_days_after)\n",
    "\n",
    "# Get the orbital phase of the exoplanet\n",
    "orbital_phase = np.array([exoplanet.get_phase(Time(t0)) for t0 in lc1.index])"
   ]
  },
  {
   "cell_type": "markdown",
   "metadata": {},
   "source": [
    "### Plot lightcurve"
   ]
  },
  {
   "cell_type": "code",
   "execution_count": null,
   "metadata": {},
   "outputs": [],
   "source": [
    "base_model_flux = exoplanet.get_model_lightcurve(orbital_phase)"
   ]
  },
  {
   "cell_type": "code",
   "execution_count": null,
   "metadata": {},
   "outputs": [],
   "source": [
    "# Plot the lightcurve\n",
    "\n",
    "x = lc1.index\n",
    "y = lc1.rel_flux\n",
    "\n",
    "base_model_flux = np.ones_like(lc1.rel_flux.values)\n",
    "\n",
    "lc_fig = plot.plot_lightcurve(x, y, base_model_flux, \n",
    "    transit_info=[midpoint, ingress, egress],\n",
    "    title=\"{} Lightcurve\".format(sequence.replace('_', ' ')),\n",
    "    ylim=[.9, 1.1]\n",
    ")\n",
    "\n",
    "# Show the 2MASS ID\n",
    "tmid = stamps[picid].attrs['twomass']\n",
    "lc_fig.suptitle('2MASS J{}'.format(tmid), y=0.95, fontsize=16)\n",
    "\n",
    "# box_text = 'σ = {:.05}'.format(lc1.rel_flux.std())\n",
    "# ob = offsetbox.AnchoredText(box_text, loc=1, prop=dict(size=12, family=\"monospace\"))\n",
    "# ob.patch.set(boxstyle='square,pad=0.2', alpha=0.85)\n",
    "# lc_fig.axes[1].add_artist(ob)\n",
    "\n",
    "# Add some properties\n",
    "# ob = offsetbox.AnchoredText(props, loc=2, prop=dict(size=12, family=\"monospace\"))\n",
    "# ob.patch.set(boxstyle='square,pad=0.2', alpha=0.85)\n",
    "# lc_fig.axes[0].add_artist(ob)\n",
    "\n",
    "# lc_fig.axes[0].plot(lc1.index, model_flux, c='r', ls='--', label='Transit fit')\n",
    "# lc_fig.axes[0].legend()\n",
    "\n",
    "# residual = lc1.rel_flux - model_flux\n",
    "# lc_fig.axes[1].plot(lc1.index, residual, c='r', ls='', marker='x', label='Fit {:.04f}'.format(residual.std()))\n",
    "# lc_fig.axes[1].legend(loc=1, fontsize=14)\n",
    "\n",
    "lc_fig.savefig('/var/panoptes/images/temp/PAN012/final_lc_fit_{}.png'.format(picid), \n",
    "               dpi=150, transparent=False)\n",
    "\n",
    "display.display(lc_fig)"
   ]
  },
  {
   "cell_type": "markdown",
   "metadata": {},
   "source": [
    "---"
   ]
  },
  {
   "cell_type": "code",
   "execution_count": null,
   "metadata": {},
   "outputs": [],
   "source": []
  }
 ],
 "metadata": {
  "kernelspec": {
   "display_name": "Python 3",
   "language": "python",
   "name": "python3"
  },
  "language_info": {
   "codemirror_mode": {
    "name": "ipython",
    "version": 3
   },
   "file_extension": ".py",
   "mimetype": "text/x-python",
   "name": "python",
   "nbconvert_exporter": "python",
   "pygments_lexer": "ipython3",
   "version": "3.6.6"
  }
 },
 "nbformat": 4,
 "nbformat_minor": 2
}
