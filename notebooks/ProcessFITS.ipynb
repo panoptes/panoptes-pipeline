{
 "cells": [
  {
   "cell_type": "code",
   "execution_count": null,
   "metadata": {
    "editable": true,
    "slideshow": {
     "slide_type": ""
    },
    "tags": []
   },
   "outputs": [],
   "source": [
    "import tempfile\n",
    "from pathlib import Path\n",
    "\n",
    "import os\n",
    "import numpy as np\n",
    "import pandas as pd\n",
    "import seaborn as sb\n",
    "from IPython.display import JSON, display, Markdown\n",
    "from panoptes.utils.images import bayer\n",
    "from panoptes.utils.images import fits as fits_utils\n",
    "from panoptes.utils.serializers import from_json\n",
    "from panoptes.utils.time import current_time\n",
    "\n",
    "from panoptes.data.observations import ObservationPathInfo\n",
    "from panoptes.pipeline.scripts import image as image_processing\n",
    "from panoptes.pipeline.utils.plot import plot_bg_overlay, plot_raw_bg_overlay, plot_stellar_location\n",
    "\n",
    "sb.set_theme()\n",
    "\n",
    "os.environ['PYDEVD_DISABLE_FILE_VALIDATION'] = '1'"
   ]
  },
  {
   "cell_type": "code",
   "execution_count": null,
   "metadata": {},
   "outputs": [],
   "source": [
    "current_time()"
   ]
  },
  {
   "cell_type": "code",
   "execution_count": null,
   "metadata": {
    "editable": true,
    "slideshow": {
     "slide_type": ""
    },
    "tags": [
     "parameters"
    ]
   },
   "outputs": [],
   "source": [
    "# Input parameters\n",
    "fits_path =  'https://storage.googleapis.com/panoptes-images/PAN019/42433a/20220120T050021/20220120T051632.fits.fz'\n",
    "output_dir = tempfile.TemporaryDirectory().name\n",
    "force_new = True\n",
    "make_plots = False\n",
    "save_extras = False\n",
    "\n",
    "# JSON string of additional settings.\n",
    "image_settings = '{}'"
   ]
  },
  {
   "cell_type": "code",
   "execution_count": null,
   "metadata": {
    "jupyter": {
     "source_hidden": true
    }
   },
   "outputs": [],
   "source": [
    "# Parse the image settings.\n",
    "image_settings = from_json(image_settings)\n",
    "\n",
    "# Set up output directory and filenames.\n",
    "output_dir = Path(output_dir)\n",
    "output_dir.mkdir(parents=True, exist_ok=True)\n",
    "\n",
    "# Override output dir with provided.\n",
    "image_settings['output_dir'] = output_dir\n",
    "\n",
    "# Get the settings object.\n",
    "settings = image_processing.Settings(**image_settings)\n",
    "\n",
    "# Prepend the output dir to the file objects.\n",
    "for file_type, file_name in settings.files:\n",
    "    setattr(settings.files, file_type, output_dir / file_name)"
   ]
  },
  {
   "cell_type": "code",
   "execution_count": null,
   "metadata": {},
   "outputs": [],
   "source": [
    "path_info = ObservationPathInfo(path=fits_path)\n",
    "image_uid = path_info.get_full_id(sep='/')"
   ]
  },
  {
   "cell_type": "code",
   "execution_count": null,
   "metadata": {},
   "outputs": [],
   "source": [
    "Markdown(f'# Processing for {image_uid}')"
   ]
  },
  {
   "cell_type": "markdown",
   "metadata": {},
   "source": [
    "### Get data"
   ]
  },
  {
   "cell_type": "code",
   "execution_count": null,
   "metadata": {},
   "outputs": [],
   "source": [
    "raw_data, header = fits_utils.getdata(str(fits_path), header=True)\n",
    "\n",
    "# Set some default header values.\n",
    "header.setdefault('SEQID', path_info.sequence_id)\n",
    "header.setdefault('IMAGEID', path_info.image_id)\n",
    "header.setdefault('ELEV-OBS', 0)\n",
    "header.setdefault('MOONFRAC', 0)\n",
    "header.setdefault('MOONSEP', 0)"
   ]
  },
  {
   "cell_type": "code",
   "execution_count": null,
   "metadata": {},
   "outputs": [],
   "source": [
    "settings.params.camera.image_height = raw_data.shape[0]\n",
    "settings.params.camera.image_width = raw_data.shape[1]"
   ]
  },
  {
   "cell_type": "markdown",
   "metadata": {},
   "source": [
    "### Mask bias and outliers"
   ]
  },
  {
   "cell_type": "code",
   "execution_count": null,
   "metadata": {},
   "outputs": [],
   "source": [
    "# Subtract zero bias.\n",
    "data = raw_data - settings.params.camera.zero_bias\n",
    "\n",
    "# Mask saturated\n",
    "data = np.ma.masked_greater_equal(data, settings.params.camera.saturation).astype('float32')"
   ]
  },
  {
   "cell_type": "markdown",
   "metadata": {},
   "source": [
    "### Subtract RGB background"
   ]
  },
  {
   "cell_type": "code",
   "execution_count": null,
   "metadata": {},
   "outputs": [],
   "source": [
    "# Get RGB background data.\n",
    "rgb_background = bayer.get_rgb_background(data=data,\n",
    "                                          return_separate=True,\n",
    "                                          box_size=settings.params.background.box_size,\n",
    "                                          filter_size=settings.params.background.filter_size,\n",
    "                                          )"
   ]
  },
  {
   "cell_type": "code",
   "execution_count": null,
   "metadata": {},
   "outputs": [],
   "source": [
    "combined_bg_data = list()\n",
    "combined_bg_residual_data = list()\n",
    "for color, bg in zip(bayer.RGB, rgb_background):\n",
    "    color_data = np.ma.array(data=bg.background, mask=bg.mask)\n",
    "    color_residual_data = np.ma.array(data=bg.background_rms, mask=bg.mask)\n",
    "\n",
    "    combined_bg_data.append(color_data)\n",
    "    combined_bg_residual_data.append(color_residual_data)"
   ]
  },
  {
   "cell_type": "code",
   "execution_count": null,
   "metadata": {},
   "outputs": [],
   "source": [
    "# Combine the colors\n",
    "bg_data = np.ma.array(combined_bg_data).filled(0).sum(0)\n",
    "bg_residual_data = np.ma.array(combined_bg_residual_data).filled(0).sum(0)\n",
    "reduced_data = data - bg_data"
   ]
  },
  {
   "cell_type": "markdown",
   "metadata": {},
   "source": [
    "### Save FITS files"
   ]
  },
  {
   "cell_type": "code",
   "execution_count": null,
   "metadata": {},
   "outputs": [],
   "source": [
    "# Save reduced data and background.\n",
    "image_processing.save_fits(settings.files.reduced_filename, \n",
    "          dict(\n",
    "              reduced=reduced_data.data.astype(np.float32)\n",
    "          ),\n",
    "          header,\n",
    "          force_new=force_new)\n",
    "\n",
    "if save_extras:\n",
    "    image_processing.save_fits(settings.files.extras_filename,\n",
    "              dict(\n",
    "                  background=bg_data.astype(np.float32),\n",
    "                  residual=bg_residual_data.astype(np.float32),\n",
    "                  mask=reduced_data.mask.astype(np.uint8)\n",
    "              ),\n",
    "              header,\n",
    "              force_new=force_new)"
   ]
  },
  {
   "cell_type": "markdown",
   "metadata": {},
   "source": [
    "### Plate solve"
   ]
  },
  {
   "cell_type": "code",
   "execution_count": null,
   "metadata": {},
   "outputs": [],
   "source": [
    "# Plate solve newly calibrated file.\n",
    "wcs0 = image_processing.plate_solve(settings=settings)\n",
    "wcs0"
   ]
  },
  {
   "cell_type": "markdown",
   "metadata": {},
   "source": [
    "### Detect sources"
   ]
  },
  {
   "cell_type": "code",
   "execution_count": null,
   "metadata": {},
   "outputs": [],
   "source": [
    "detected_sources = image_processing.detect_sources(wcs0, reduced_data, bg_data, bg_residual_data, settings=settings)"
   ]
  },
  {
   "cell_type": "markdown",
   "metadata": {},
   "source": [
    "### Match detected sources to catalog"
   ]
  },
  {
   "cell_type": "code",
   "execution_count": null,
   "metadata": {},
   "outputs": [],
   "source": [
    "matched_sources = image_processing.match_sources(detected_sources, wcs0, settings=settings)"
   ]
  },
  {
   "cell_type": "markdown",
   "metadata": {},
   "source": [
    "### Get metadata from image"
   ]
  },
  {
   "cell_type": "code",
   "execution_count": null,
   "metadata": {},
   "outputs": [],
   "source": [
    "metadata_headers = image_processing.get_metadata(header, matched_sources, settings=settings)"
   ]
  },
  {
   "cell_type": "code",
   "execution_count": null,
   "metadata": {
    "editable": true,
    "slideshow": {
     "slide_type": ""
    },
    "tags": []
   },
   "outputs": [],
   "source": [
    "# Write dataframe to csv.\n",
    "matched_sources['time'] = pd.to_datetime(metadata_headers['image']['time'], utc=True)\n",
    "matched_sources.set_index(['picid', 'time'], inplace=True)\n",
    "matched_sources.to_parquet(settings.files.sources_filename)\n",
    "print(f'Matched sources saved to {settings.files.sources_filename}')"
   ]
  },
  {
   "cell_type": "code",
   "execution_count": null,
   "metadata": {},
   "outputs": [],
   "source": [
    "if settings.compress_fits:\n",
    "    print(f'Compressing FITS files')\n",
    "    fits_utils.fpack(str(settings.files.reduced_filename), overwrite=force_new)\n",
    "    if save_extras:\n",
    "        fits_utils.fpack(str(settings.files.extras_filename), overwrite=force_new)"
   ]
  },
  {
   "cell_type": "markdown",
   "metadata": {},
   "source": [
    "## Plotting and visualizations"
   ]
  },
  {
   "cell_type": "code",
   "execution_count": null,
   "metadata": {},
   "outputs": [],
   "source": [
    "if make_plots:\n",
    "    fig = plot_raw_bg_overlay(reduced_data,\n",
    "                        rgb_background=rgb_background[bayer.RGB.G], \n",
    "                        title=f'Background mesh over calibrated image {image_uid.replace(\"/\", \"_\")}')\n",
    "    \n",
    "    fig.savefig(output_dir / f'bg-mesh-g-image.png')\n",
    "    \n",
    "    fig = plot_bg_overlay(bg_data,\n",
    "                    rgb_background[bayer.RGB.G],\n",
    "                    title=f'Background mesh over background {image_uid.replace(\"/\", \"_\")}')\n",
    "    \n",
    "    fig.savefig(output_dir / f'bg-mesh-g-background.png')\n",
    "    \n",
    "    fig = plot_stellar_location(matched_sources, \n",
    "                          wcs=wcs0, \n",
    "                          title=f'{len(matched_sources)} detected sources for {image_uid}')\n",
    "    \n",
    "    fig.savefig(output_dir / f'stellar-locations.png')\n",
    "\n",
    "    dist_columns = [\n",
    "        'photutils_fwhm',\n",
    "        'photutils_gini',\n",
    "        'catalog_vmag',\n",
    "        'catalog_sep',\n",
    "    ]\n",
    "    \n",
    "    pg = sb.pairplot(matched_sources[dist_columns], kind='reg', plot_kws={\n",
    "        'order': 2, \n",
    "        'line_kws':{'color':'red'}, \n",
    "        'scatter_kws': {'alpha': 0.1}}\n",
    "                    )\n",
    "    pg.fig.suptitle(f'Catalog and detected properties for {image_uid}', y=1.02)\n",
    "    \n",
    "    pg.fig.savefig(output_dir / f'{image_uid.replace(\"/\", \"_\")}-pairplot.png')"
   ]
  },
  {
   "cell_type": "code",
   "execution_count": null,
   "metadata": {},
   "outputs": [],
   "source": [
    "try:\n",
    "    display(JSON(metadata_headers, expanded=True))\n",
    "except Exception:\n",
    "    from pprint import pprint\n",
    "    pprint(metadata_headers)"
   ]
  },
  {
   "cell_type": "code",
   "execution_count": null,
   "metadata": {},
   "outputs": [],
   "source": [
    "!jupyter --version"
   ]
  },
  {
   "cell_type": "code",
   "execution_count": null,
   "metadata": {},
   "outputs": [],
   "source": [
    "import json\n",
    "print(json.dumps(from_json(settings.model_dump_json()), indent=2))"
   ]
  },
  {
   "cell_type": "code",
   "execution_count": null,
   "metadata": {},
   "outputs": [],
   "source": [
    "current_time()"
   ]
  }
 ],
 "metadata": {
  "kernelspec": {
   "display_name": "Python 3 (ipykernel)",
   "language": "python",
   "name": "python3"
  },
  "language_info": {
   "codemirror_mode": {
    "name": "ipython",
    "version": 3
   },
   "file_extension": ".py",
   "mimetype": "text/x-python",
   "name": "python",
   "nbconvert_exporter": "python",
   "pygments_lexer": "ipython3",
   "version": "3.11.6"
  }
 },
 "nbformat": 4,
 "nbformat_minor": 4
}
