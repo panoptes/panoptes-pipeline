{
 "cells": [
  {
   "cell_type": "code",
   "execution_count": null,
   "metadata": {},
   "outputs": [],
   "source": [
    "%load_ext autotime"
   ]
  },
  {
   "cell_type": "code",
   "execution_count": null,
   "metadata": {
    "tags": []
   },
   "outputs": [],
   "source": [
    "import tempfile\n",
    "from pathlib import Path\n",
    "\n",
    "import numpy as np\n",
    "import pandas as pd\n",
    "from astropy.wcs import WCS\n",
    "\n",
    "from panoptes.utils.images import fits as fits_utils, bayer\n",
    "from panoptes.utils.serializers import to_json, from_json\n",
    "\n",
    "from panoptes.utils.time import current_time\n",
    "from panoptes.utils.images import fits as fits_utils\n",
    "from panoptes.utils.images import plot\n",
    "from panoptes.pipeline.utils import metadata, sources\n",
    "from panoptes.pipeline.scripts import image as image_processing\n",
    "from panoptes.pipeline.utils.plot import plot_bg_overlay, plot_raw_bg_overlay, plot_distribution, plot_stellar_location\n",
    "\n",
    "from IPython.display import JSON, display, Markdown\n",
    "from matplotlib.figure import Figure\n",
    "import seaborn as sb\n",
    "from loguru import logger\n",
    "\n",
    "logger.enable('panoptes')\n",
    "sb.set_theme()"
   ]
  },
  {
   "cell_type": "code",
   "execution_count": null,
   "metadata": {},
   "outputs": [],
   "source": [
    "current_time()"
   ]
  },
  {
   "cell_type": "code",
   "execution_count": null,
   "metadata": {
    "tags": [
     "parameters"
    ]
   },
   "outputs": [],
   "source": [
    "# Input parameters\n",
    "fits_path = 'https://storage.googleapis.com/panoptes-images-raw/PAN010/ae0e73/20190425T074644/20190425T110413.fits.fz'\n",
    "output_dir = tempfile.TemporaryDirectory().name\n",
    "force_new = True\n",
    "\n",
    "# JSON string of additional settings.\n",
    "image_settings = '{}'"
   ]
  },
  {
   "cell_type": "code",
   "execution_count": null,
   "metadata": {},
   "outputs": [],
   "source": [
    "# Parse the image settings.\n",
    "image_settings = from_json(image_settings)\n",
    "\n",
    "# Set up output directory and filenames.\n",
    "output_dir = Path(output_dir)\n",
    "output_dir.mkdir(parents=True, exist_ok=True)\n",
    "\n",
    "# Override output dir with provided.\n",
    "image_settings['output_dir'] = output_dir\n",
    "\n",
    "# Get the settings object.\n",
    "settings = image_processing.Settings(**image_settings)\n",
    "\n",
    "# Prepend the output dir to the file objects.\n",
    "for file_type, file_name in settings.files:\n",
    "    setattr(settings.files, file_type, output_dir / file_name)"
   ]
  },
  {
   "cell_type": "code",
   "execution_count": null,
   "metadata": {},
   "outputs": [],
   "source": [
    "image_uid = metadata.ObservationPathInfo(path=fits_path).get_full_id(sep='/')"
   ]
  },
  {
   "cell_type": "code",
   "execution_count": null,
   "metadata": {},
   "outputs": [],
   "source": [
    "Markdown(f'# Processing for {image_uid}')"
   ]
  },
  {
   "cell_type": "markdown",
   "metadata": {},
   "source": [
    "### Get data"
   ]
  },
  {
   "cell_type": "code",
   "execution_count": null,
   "metadata": {},
   "outputs": [],
   "source": [
    "raw_data, header = fits_utils.getdata(str(fits_path), header=True)\n",
    "\n",
    "# Get the path info.\n",
    "path_info = metadata.ObservationPathInfo.from_fits_header(header)\n",
    "wcs0 = WCS(header)"
   ]
  },
  {
   "cell_type": "code",
   "execution_count": null,
   "metadata": {},
   "outputs": [],
   "source": [
    "settings.params.camera.image_height = raw_data.shape[0]\n",
    "settings.params.camera.image_width = raw_data.shape[1]"
   ]
  },
  {
   "cell_type": "markdown",
   "metadata": {},
   "source": [
    "### Mask bias and outliers"
   ]
  },
  {
   "cell_type": "code",
   "execution_count": null,
   "metadata": {},
   "outputs": [],
   "source": [
    "# Subtract zero bias.\n",
    "data = raw_data - settings.params.camera.zero_bias\n",
    "\n",
    "# Mask saturated\n",
    "data = np.ma.masked_greater_equal(data, settings.params.camera.saturation).astype('float32')"
   ]
  },
  {
   "cell_type": "markdown",
   "metadata": {},
   "source": [
    "### Subtract RGB background"
   ]
  },
  {
   "cell_type": "code",
   "execution_count": null,
   "metadata": {},
   "outputs": [],
   "source": [
    "# Get RGB background data.\n",
    "rgb_background = bayer.get_rgb_background(data=data,\n",
    "                                          return_separate=True,\n",
    "                                          box_size=settings.params.background.box_size,\n",
    "                                          filter_size=settings.params.background.filter_size,\n",
    "                                          )"
   ]
  },
  {
   "cell_type": "code",
   "execution_count": null,
   "metadata": {},
   "outputs": [],
   "source": [
    "combined_bg_data = list()\n",
    "combined_bg_residual_data = list()\n",
    "for color, bg in zip(bayer.RGB, rgb_background):\n",
    "    color_data = np.ma.array(data=bg.background, mask=bg.mask)\n",
    "    color_residual_data = np.ma.array(data=bg.background_rms, mask=bg.mask)\n",
    "\n",
    "    combined_bg_data.append(color_data)\n",
    "    combined_bg_residual_data.append(color_residual_data)"
   ]
  },
  {
   "cell_type": "code",
   "execution_count": null,
   "metadata": {},
   "outputs": [],
   "source": [
    "# Combine the colors\n",
    "bg_data = np.ma.array(combined_bg_data).filled(0).sum(0)\n",
    "bg_residual_data = np.ma.array(combined_bg_residual_data).filled(0).sum(0)\n",
    "reduced_data = data - bg_data"
   ]
  },
  {
   "cell_type": "markdown",
   "metadata": {},
   "source": [
    "### Save FITS files"
   ]
  },
  {
   "cell_type": "code",
   "execution_count": null,
   "metadata": {},
   "outputs": [],
   "source": [
    "# Save reduced data and background.\n",
    "image_processing.save_fits(settings.files.reduced_filename, \n",
    "          dict(\n",
    "              reduced=reduced_data.data.astype(np.float32)\n",
    "          ),\n",
    "          header,\n",
    "          force_new=force_new)\n",
    "\n",
    "image_processing.save_fits(settings.files.extras_filename,\n",
    "          dict(\n",
    "              background=bg_data.astype(np.float32),\n",
    "              residual=bg_residual_data.astype(np.float32),\n",
    "              mask=reduced_data.mask.astype(np.uint8)\n",
    "          ),\n",
    "          header,\n",
    "          force_new=force_new)"
   ]
  },
  {
   "cell_type": "markdown",
   "metadata": {},
   "source": [
    "### Plate solve"
   ]
  },
  {
   "cell_type": "code",
   "execution_count": null,
   "metadata": {},
   "outputs": [],
   "source": [
    "# Plate solve newly calibrated file.\n",
    "wcs0 = image_processing.plate_solve(settings=settings)"
   ]
  },
  {
   "cell_type": "markdown",
   "metadata": {},
   "source": [
    "### Detect sources"
   ]
  },
  {
   "cell_type": "code",
   "execution_count": null,
   "metadata": {},
   "outputs": [],
   "source": [
    "detected_sources = image_processing.detect_sources(wcs0, reduced_data, bg_data, bg_residual_data, settings=settings)"
   ]
  },
  {
   "cell_type": "markdown",
   "metadata": {},
   "source": [
    "### Match detected sources to catalog"
   ]
  },
  {
   "cell_type": "code",
   "execution_count": null,
   "metadata": {},
   "outputs": [],
   "source": [
    "matched_sources = image_processing.match_sources(detected_sources, wcs0, settings=settings)"
   ]
  },
  {
   "cell_type": "markdown",
   "metadata": {},
   "source": [
    "### Get metadata from image"
   ]
  },
  {
   "cell_type": "code",
   "execution_count": null,
   "metadata": {},
   "outputs": [],
   "source": [
    "metadata_headers = image_processing.get_metadata(header, matched_sources, settings=settings)"
   ]
  },
  {
   "cell_type": "code",
   "execution_count": null,
   "metadata": {},
   "outputs": [],
   "source": [
    "# Write dataframe to csv.\n",
    "matched_sources['time'] = pd.to_datetime(metadata_headers['image']['time'], utc=True)\n",
    "matched_sources.set_index(['picid', 'time'], inplace=True)\n",
    "matched_sources.to_parquet(settings.files.sources_filename)\n",
    "print(f'Matched sources saved to {settings.files.sources_filename}')"
   ]
  },
  {
   "cell_type": "code",
   "execution_count": null,
   "metadata": {},
   "outputs": [],
   "source": [
    "if settings.compress_fits:\n",
    "    print(f'Compressing FITS files')\n",
    "    fits_utils.fpack(str(settings.files.reduced_filename), overwrite=force_new)\n",
    "    fits_utils.fpack(str(settings.files.extras_filename), overwrite=force_new)"
   ]
  },
  {
   "cell_type": "markdown",
   "metadata": {},
   "source": [
    "## Plotting and visualizations"
   ]
  },
  {
   "cell_type": "code",
   "execution_count": null,
   "metadata": {},
   "outputs": [],
   "source": [
    "plot_raw_bg_overlay(reduced_data, \n",
    "                    rgb_background=rgb_background[bayer.RGB.G], \n",
    "                    wcs=wcs0,\n",
    "                    title=f'Background mesh over calibrated image {image_uid.replace(\"/\", \"_\")}')"
   ]
  },
  {
   "cell_type": "code",
   "execution_count": null,
   "metadata": {},
   "outputs": [],
   "source": [
    "plot_bg_overlay(bg_data,\n",
    "                rgb_background[bayer.RGB.G],\n",
    "                title=f'Background mesh over background {image_uid.replace(\"/\", \"_\")}')"
   ]
  },
  {
   "cell_type": "code",
   "execution_count": null,
   "metadata": {},
   "outputs": [],
   "source": [
    "plot_stellar_location(matched_sources, wcs=wcs0, title=f'Detected sources for {image_uid}')"
   ]
  },
  {
   "cell_type": "code",
   "execution_count": null,
   "metadata": {},
   "outputs": [],
   "source": [
    "dist_columns = [\n",
    "    'photutils_fwhm',\n",
    "    'photutils_gini',\n",
    "    'catalog_vmag',\n",
    "    'catalog_sep',\n",
    "]\n",
    "\n",
    "pg = sb.pairplot(matched_sources[dist_columns], kind='reg', plot_kws={'order': 2, 'line_kws':{'color':'red'}, 'scatter_kws': {'alpha': 0.1}})\n",
    "pg.fig.suptitle(f'Catalog and detected properties for {image_uid}', y=1.02);"
   ]
  },
  {
   "cell_type": "code",
   "execution_count": null,
   "metadata": {},
   "outputs": [],
   "source": [
    "try:\n",
    "    display(JSON(metadata_headers, expanded=True))\n",
    "except Exception:\n",
    "    from pprint import pprint\n",
    "    pprint(metadata_headers)"
   ]
  },
  {
   "cell_type": "code",
   "execution_count": null,
   "metadata": {},
   "outputs": [],
   "source": [
    "!jupyter --version"
   ]
  },
  {
   "cell_type": "code",
   "execution_count": null,
   "metadata": {},
   "outputs": [],
   "source": [
    "import json\n",
    "print(json.dumps(from_json(settings.json()), indent=2))"
   ]
  },
  {
   "cell_type": "code",
   "execution_count": null,
   "metadata": {},
   "outputs": [],
   "source": [
    "current_time()"
   ]
  }
 ],
 "metadata": {
  "kernelspec": {
   "display_name": "Python 3 (ipykernel)",
   "language": "python",
   "name": "python3"
  },
  "language_info": {
   "codemirror_mode": {
    "name": "ipython",
    "version": 3
   },
   "file_extension": ".py",
   "mimetype": "text/x-python",
   "name": "python",
   "nbconvert_exporter": "python",
   "pygments_lexer": "ipython3",
   "version": "3.9.6"
  }
 },
 "nbformat": 4,
 "nbformat_minor": 4
}
