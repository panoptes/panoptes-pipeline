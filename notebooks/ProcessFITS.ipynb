{
 "cells": [
  {
   "cell_type": "code",
   "execution_count": null,
   "metadata": {
    "editable": true,
    "slideshow": {
     "slide_type": ""
    },
    "tags": []
   },
   "outputs": [],
   "source": [
    "import tempfile\n",
    "from pathlib import Path\n",
    "\n",
    "import os\n",
    "import numpy as np\n",
    "import pandas as pd\n",
    "from IPython.display import JSON, display, Markdown\n",
    "from astropy.stats import sigma_clipped_stats\n",
    "\n",
    "from panoptes.utils.images import bayer\n",
    "from panoptes.utils.images import fits as fits_utils\n",
    "from panoptes.utils.serializers import from_json, to_json\n",
    "from panoptes.utils.time import current_time\n",
    "\n",
    "from panoptes.data.observations import ObservationPathInfo\n",
    "from panoptes.pipeline.image import Settings, save_fits, plate_solve, detect_sources, match_sources, get_metadata\n",
    "from panoptes.pipeline.status import ImageStatus\n",
    "\n",
    "os.environ['PYDEVD_DISABLE_FILE_VALIDATION'] = '1'"
   ]
  },
  {
   "cell_type": "code",
   "execution_count": null,
   "metadata": {},
   "outputs": [],
   "source": [
    "current_time()"
   ]
  },
  {
   "cell_type": "code",
   "execution_count": null,
   "metadata": {
    "editable": true,
    "slideshow": {
     "slide_type": ""
    },
    "tags": [
     "parameters"
    ]
   },
   "outputs": [],
   "source": [
    "# Input parameters\n",
    "fits_path = 'https://storage.googleapis.com/panoptes-images/PAN019/42433a/20220120T050021/20220120T051632.fits.fz'\n",
    "output_dir = tempfile.TemporaryDirectory().name\n",
    "force_new = True\n",
    "make_plots = False\n",
    "save_extras = False\n",
    "\n",
    "# JSON string of additional settings.\n",
    "image_settings = '{}'"
   ]
  },
  {
   "cell_type": "code",
   "execution_count": null,
   "metadata": {
    "jupyter": {
     "source_hidden": true
    }
   },
   "outputs": [],
   "source": [
    "# Parse the image settings.\n",
    "image_settings = from_json(image_settings)\n",
    "\n",
    "# Set up output directory and filenames.\n",
    "output_dir = Path(output_dir)\n",
    "output_dir.mkdir(parents=True, exist_ok=True)\n",
    "\n",
    "# Override output dir with provided.\n",
    "image_settings['output_dir'] = output_dir\n",
    "\n",
    "# Get the settings object.\n",
    "settings = Settings(**image_settings)\n",
    "\n",
    "# Prepend the output dir to the file objects.\n",
    "for file_type, file_name in settings.files:\n",
    "    setattr(settings.files, file_type, output_dir / file_name)"
   ]
  },
  {
   "cell_type": "code",
   "execution_count": null,
   "metadata": {},
   "outputs": [],
   "source": [
    "path_info = ObservationPathInfo(path=fits_path)\n",
    "image_uid = path_info.get_full_id(sep='/')"
   ]
  },
  {
   "cell_type": "code",
   "execution_count": null,
   "metadata": {},
   "outputs": [],
   "source": [
    "Markdown(f'# Processing for {image_uid}')"
   ]
  },
  {
   "cell_type": "markdown",
   "metadata": {},
   "source": [
    "### Get data"
   ]
  },
  {
   "cell_type": "code",
   "execution_count": null,
   "metadata": {},
   "outputs": [],
   "source": [
    "raw_data, header = fits_utils.getdata(str(fits_path), header=True)\n",
    "\n",
    "# Set some default header values.\n",
    "header.setdefault('SEQID', path_info.sequence_id)\n",
    "header.setdefault('IMAGEID', path_info.image_id)\n",
    "header.setdefault('ELEV-OBS', 0)\n",
    "header.setdefault('MOONFRAC', 0)\n",
    "header.setdefault('MOONSEP', 0)"
   ]
  },
  {
   "cell_type": "code",
   "execution_count": null,
   "metadata": {},
   "outputs": [],
   "source": [
    "settings.params.camera.image_height = raw_data.shape[0]\n",
    "settings.params.camera.image_width = raw_data.shape[1]"
   ]
  },
  {
   "cell_type": "markdown",
   "metadata": {},
   "source": [
    "### Mask bias and outliers"
   ]
  },
  {
   "cell_type": "code",
   "execution_count": null,
   "metadata": {},
   "outputs": [],
   "source": [
    "# Subtract zero bias.\n",
    "data = raw_data - settings.params.camera.zero_bias\n",
    "\n",
    "# Mask saturated\n",
    "data = np.ma.masked_greater_equal(data, settings.params.camera.saturation).astype('float32')"
   ]
  },
  {
   "cell_type": "markdown",
   "metadata": {},
   "source": [
    "### Subtract RGB background"
   ]
  },
  {
   "cell_type": "code",
   "execution_count": null,
   "metadata": {},
   "outputs": [],
   "source": [
    "# Get RGB background data.\n",
    "rgb_background = bayer.get_rgb_background(data=data,\n",
    "                                          return_separate=True,\n",
    "                                          box_size=settings.params.background.box_size,\n",
    "                                          filter_size=settings.params.background.filter_size,\n",
    "                                          )"
   ]
  },
  {
   "cell_type": "code",
   "execution_count": null,
   "metadata": {},
   "outputs": [],
   "source": [
    "combined_bg_data = list()\n",
    "combined_bg_residual_data = list()\n",
    "for color, bg in zip(bayer.RGB, rgb_background):\n",
    "    color_data = np.ma.array(data=bg.background, mask=bg.mask)\n",
    "    color_residual_data = np.ma.array(data=bg.background_rms, mask=bg.mask)\n",
    "\n",
    "    combined_bg_data.append(color_data)\n",
    "    combined_bg_residual_data.append(color_residual_data)"
   ]
  },
  {
   "cell_type": "code",
   "execution_count": null,
   "metadata": {},
   "outputs": [],
   "source": [
    "# Combine the colors\n",
    "bg_data = np.ma.array(combined_bg_data).filled(0).sum(0)\n",
    "bg_residual_data = np.ma.array(combined_bg_residual_data).filled(0).sum(0)\n",
    "reduced_data = data - bg_data"
   ]
  },
  {
   "cell_type": "markdown",
   "metadata": {},
   "source": [
    "### Save FITS files"
   ]
  },
  {
   "cell_type": "code",
   "execution_count": null,
   "metadata": {},
   "outputs": [],
   "source": [
    "# Save reduced data and background.\n",
    "save_fits(settings.files.reduced_filename,\n",
    "          dict(\n",
    "              reduced=reduced_data.data.astype(np.float32)\n",
    "          ),\n",
    "          header,\n",
    "          force_new=force_new)\n",
    "\n",
    "if save_extras:\n",
    "    save_fits(settings.files.extras_filename,\n",
    "              dict(\n",
    "                  background=bg_data.astype(np.float32),\n",
    "                  residual=bg_residual_data.astype(np.float32),\n",
    "                  mask=reduced_data.mask.astype(np.uint8)\n",
    "              ),\n",
    "              header,\n",
    "              force_new=force_new)"
   ]
  },
  {
   "cell_type": "markdown",
   "metadata": {},
   "source": [
    "### Plate solve"
   ]
  },
  {
   "cell_type": "code",
   "execution_count": null,
   "metadata": {},
   "outputs": [],
   "source": [
    "# Plate solve newly calibrated file.\n",
    "wcs0 = plate_solve(settings=settings)\n",
    "wcs0"
   ]
  },
  {
   "cell_type": "markdown",
   "metadata": {},
   "source": [
    "### Detect sources"
   ]
  },
  {
   "cell_type": "code",
   "execution_count": null,
   "metadata": {},
   "outputs": [],
   "source": [
    "detected_sources = detect_sources(wcs0, reduced_data, bg_data, bg_residual_data, settings=settings)"
   ]
  },
  {
   "cell_type": "markdown",
   "metadata": {},
   "source": [
    "### Match detected sources to catalog"
   ]
  },
  {
   "cell_type": "code",
   "execution_count": null,
   "metadata": {},
   "outputs": [],
   "source": [
    "matched_sources = match_sources(detected_sources, wcs0, settings=settings)"
   ]
  },
  {
   "cell_type": "code",
   "outputs": [],
   "source": [
    "num_sources = len(matched_sources)\n",
    "fwhm_mean, fwhm_median, fwhm_std = sigma_clipped_stats(matched_sources.photutils_fwhm)\n",
    "print(f'Total sources {num_sources} with {fwhm_mean=:.2f} and {fwhm_median=:.2f} and {fwhm_std=:.2f}')"
   ],
   "metadata": {
    "collapsed": false
   }
  },
  {
   "cell_type": "markdown",
   "metadata": {},
   "source": [
    "### Get metadata from image"
   ]
  },
  {
   "cell_type": "code",
   "execution_count": null,
   "metadata": {},
   "outputs": [],
   "source": [
    "metadata_headers = get_metadata(settings, path_info)"
   ]
  },
  {
   "cell_type": "code",
   "outputs": [],
   "source": [
    "# Add number of sources and stats to metadata.\n",
    "metadata_headers['image']['sources'] = dict(num_detected=num_sources,\n",
    "                                            photutils_fwhm_median=fwhm_median,\n",
    "                                            photutils_fwhm_mean=fwhm_mean,\n",
    "                                            photutils_fwhm_std=fwhm_std,\n",
    "\n",
    "                                            )\n",
    "\n",
    "# Add the pipeline parameters to the metadata.\n",
    "# TODO get rid of encoding loop.\n",
    "metadata_headers['image']['params'] = from_json(settings.params.model_dump_json())"
   ],
   "metadata": {
    "collapsed": false
   }
  },
  {
   "cell_type": "code",
   "outputs": [],
   "source": [
    "# Add the status to the metadata (i.e. set the status).\n",
    "metadata_headers['image']['status'] = ImageStatus.MATCHED.name"
   ],
   "metadata": {
    "collapsed": false
   }
  },
  {
   "cell_type": "markdown",
   "source": [
    "### Save metadata and sources"
   ],
   "metadata": {
    "collapsed": false
   }
  },
  {
   "cell_type": "code",
   "outputs": [],
   "source": [
    "print(f'Saving metadata to json file {settings.files.metadata_filename}')\n",
    "to_json(metadata_headers, filename=str(settings.files.metadata_filename))\n",
    "print(f'Saved metadata to {settings.files.metadata_filename}.')"
   ],
   "metadata": {
    "collapsed": false
   }
  },
  {
   "cell_type": "code",
   "execution_count": null,
   "metadata": {
    "editable": true,
    "slideshow": {
     "slide_type": ""
    },
    "tags": []
   },
   "outputs": [],
   "source": [
    "# Write dataframe to parquet.\n",
    "matched_sources['time'] = pd.to_datetime(metadata_headers['image']['time'], utc=True)\n",
    "matched_sources.set_index(['picid', 'time'], inplace=True)\n",
    "matched_sources['uid'] = path_info.get_full_id()\n",
    "matched_sources.to_parquet(settings.files.sources_filename)\n",
    "print(f'Matched sources saved to {settings.files.sources_filename}')"
   ]
  },
  {
   "cell_type": "code",
   "execution_count": null,
   "metadata": {},
   "outputs": [],
   "source": [
    "if settings.compress_fits:\n",
    "    print(f'Compressing FITS files')\n",
    "    fits_utils.fpack(str(settings.files.reduced_filename), overwrite=force_new)\n",
    "    if save_extras:\n",
    "        fits_utils.fpack(str(settings.files.extras_filename), overwrite=force_new)"
   ]
  },
  {
   "cell_type": "markdown",
   "source": [
    "### Display the metadata headers and notebook information."
   ],
   "metadata": {
    "collapsed": false
   }
  },
  {
   "cell_type": "code",
   "execution_count": null,
   "metadata": {},
   "outputs": [],
   "source": [
    "try:\n",
    "    display(JSON(metadata_headers, expanded=True))\n",
    "except Exception:\n",
    "    from pprint import pprint\n",
    "\n",
    "    pprint(metadata_headers)"
   ]
  },
  {
   "cell_type": "code",
   "execution_count": null,
   "metadata": {},
   "outputs": [],
   "source": [
    "!jupyter-lab --version"
   ]
  },
  {
   "cell_type": "code",
   "execution_count": null,
   "metadata": {},
   "outputs": [],
   "source": [
    "import json\n",
    "\n",
    "print(json.dumps(from_json(settings.model_dump_json()), indent=2))"
   ]
  },
  {
   "cell_type": "code",
   "execution_count": null,
   "metadata": {},
   "outputs": [],
   "source": [
    "current_time()"
   ]
  }
 ],
 "metadata": {
  "kernelspec": {
   "display_name": "Python 3 (ipykernel)",
   "language": "python",
   "name": "python3"
  },
  "language_info": {
   "codemirror_mode": {
    "name": "ipython",
    "version": 3
   },
   "file_extension": ".py",
   "mimetype": "text/x-python",
   "name": "python",
   "nbconvert_exporter": "python",
   "pygments_lexer": "ipython3",
   "version": "3.11.6"
  }
 },
 "nbformat": 4,
 "nbformat_minor": 4
}
