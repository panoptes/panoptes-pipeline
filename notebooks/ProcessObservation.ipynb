{
 "cells": [
  {
   "cell_type": "code",
   "execution_count": null,
   "id": "1b1ffefa-2b15-4c06-9ff2-b933b919b14a",
   "metadata": {},
   "outputs": [],
   "source": [
    "%load_ext autotime"
   ]
  },
  {
   "cell_type": "code",
   "execution_count": null,
   "id": "dcc6cba0-b540-4054-b14c-ae06069a4c54",
   "metadata": {},
   "outputs": [],
   "source": [
    "from google.cloud import firestore\n",
    "\n",
    "import tempfile\n",
    "from pathlib import Path\n",
    "import numpy as np\n",
    "from astropy import stats\n",
    "import pandas as pd\n",
    "import h5py\n",
    "\n",
    "from astropy.io import fits\n",
    "from astropy.visualization import simple_norm\n",
    "from matplotlib.figure import Figure\n",
    "import seaborn as sb\n",
    "from IPython.display import display, Markdown\n",
    "from loguru import logger\n",
    "\n",
    "from panoptes.utils.time import current_time\n",
    "from panoptes.pipeline.utils import plot\n",
    "from panoptes.pipeline.observation import make_stamps\n",
    "from panoptes.utils.images import bayer\n",
    "from panoptes.utils.serializers import from_json\n",
    "from panoptes.utils.images import fits as fits_utils\n",
    "\n",
    "firestore_db = firestore.Client()\n",
    "\n",
    "sb.set_theme()\n",
    "\n",
    "logger.remove()"
   ]
  },
  {
   "cell_type": "code",
   "execution_count": null,
   "id": "245dfa9d-002e-4849-bda3-c67137e4c553",
   "metadata": {},
   "outputs": [],
   "source": [
    "current_time()"
   ]
  },
  {
   "cell_type": "markdown",
   "id": "3fa91075-bcd6-4b88-8fe7-a072a168cd4b",
   "metadata": {},
   "source": [
    "# Process an observation"
   ]
  },
  {
   "cell_type": "markdown",
   "id": "90fabf48-7e4a-4201-8d65-c2d5551481a9",
   "metadata": {},
   "source": [
    "## Setup the processing"
   ]
  },
  {
   "cell_type": "code",
   "execution_count": null,
   "id": "963f5490-6bb8-41b3-8fbb-c3f42c1c5bb1",
   "metadata": {
    "tags": [
     "parameters"
    ]
   },
   "outputs": [],
   "source": [
    "# Input parameters\n",
    "sequence_id = 'PAN012_358d0f_20191007T025434'\n",
    "# sequence_id = 'PAN012_358d0f_20191005T112325'  # Andromeda Galaxy\n",
    "# sequence_id = 'PAN012_358d0f_20191024T121155'  # M82\n",
    "# sequence_id = 'PAN012_358d0f_20200207T043233'  # C2017 P2 Pan-Starrs\n",
    "\n",
    "# Unused option for now. See below.\n",
    "# vmag_min = 6\n",
    "# vmag_max = 14\n",
    "\n",
    "position_column_x = 'catalog_wcs_x'\n",
    "position_column_y = 'catalog_wcs_y'\n",
    "\n",
    "input_bucket = 'panoptes-images-processed'\n",
    "\n",
    "# JSON string of additional settings.\n",
    "observation_settings = '{}'\n",
    "output_dir = tempfile.TemporaryDirectory().name\n",
    "\n",
    "image_status = 'MATCHED'\n",
    "base_url = 'https://storage.googleapis.com'"
   ]
  },
  {
   "cell_type": "code",
   "execution_count": null,
   "id": "e8922179-1deb-48eb-9b27-8fd973463a88",
   "metadata": {},
   "outputs": [],
   "source": [
    "# Set up output directory and filenames.\n",
    "output_dir = Path(output_dir)\n",
    "output_dir.mkdir(parents=True, exist_ok=True)\n",
    "\n",
    "observation_store_path = output_dir / 'observation.h5'"
   ]
  },
  {
   "cell_type": "code",
   "execution_count": null,
   "id": "79513a96-8600-412c-b13f-ebd6b8397860",
   "metadata": {},
   "outputs": [],
   "source": [
    "observation_settings = from_json(observation_settings)\n",
    "observation_settings['output_dir'] = output_dir"
   ]
  },
  {
   "cell_type": "markdown",
   "id": "ac2c692c-0746-4331-914c-eac63f356c4f",
   "metadata": {},
   "source": [
    "Fetch all the image documents from the metadata store. We then filter based off image status and measured properties."
   ]
  },
  {
   "cell_type": "code",
   "execution_count": null,
   "id": "944e25c8-f7a2-446c-b37e-4e6439183510",
   "metadata": {},
   "outputs": [],
   "source": [
    "unit_id, camera_id, sequence_time = sequence_id.split('_')\n",
    "\n",
    "# Get sequence information\n",
    "sequence_doc_path = f'units/{unit_id}/observations/{sequence_id}'\n",
    "sequence_doc_ref = firestore_db.document(sequence_doc_path)"
   ]
  },
  {
   "cell_type": "code",
   "execution_count": null,
   "id": "74b499b6-e01e-4431-9cf5-1c8d207d13d8",
   "metadata": {},
   "outputs": [],
   "source": [
    "# Get and show the metadata about the observation.\n",
    "matched_query = sequence_doc_ref.collection('images').where('status', '==', image_status)\n",
    "matched_docs = [d.to_dict() for d in matched_query.stream()]\n",
    "images_df = pd.json_normalize(matched_docs, sep='_')\n",
    "\n",
    "# Set a time index.\n",
    "images_df.time = pd.to_datetime(images_df.time)\n",
    "images_df = images_df.set_index(['time']).sort_index()\n",
    "\n",
    "num_frames = len(images_df)\n",
    "print(f'Found {num_frames} images in observation')"
   ]
  },
  {
   "cell_type": "markdown",
   "id": "dfc44ae0-8a73-487f-8b01-8b641973321e",
   "metadata": {},
   "source": [
    "## Filter frames\n",
    "\n",
    "Filter some of the frames based on the image properties as a whole."
   ]
  },
  {
   "cell_type": "code",
   "execution_count": null,
   "id": "d545bdd0-f9f0-40f5-ac63-d38c0fd2e0df",
   "metadata": {},
   "outputs": [],
   "source": [
    "# Sigma filtering of certain stats\n",
    "mask_columns = [\n",
    "    'camera_colortemp',\n",
    "    'sources_num_detected',\n",
    "    'sources_photutils_fwhm_mean'\n",
    "]\n",
    "\n",
    "for mask_col in mask_columns:\n",
    "    images_df[f'mask_{mask_col}'] = stats.sigma_clip(images_df[mask_col]).mask\n",
    "    display(plot.filter_plot(images_df, mask_col, sequence_id))\n",
    "    \n",
    "\n",
    "images_df['is_masked'] = False\n",
    "images_df['is_masked'] = images_df.filter(regex='mask_*').any(1)"
   ]
  },
  {
   "cell_type": "code",
   "execution_count": null,
   "id": "200bb8b9-a274-4ef7-aa1c-213bab7c7448",
   "metadata": {},
   "outputs": [],
   "source": [
    "pg = sb.pairplot(images_df[['is_masked', *mask_columns]], hue='is_masked')\n",
    "pg.fig.suptitle(f'Masked image properties for {sequence_id}', y=1.01)\n",
    "pg.fig.set_size_inches(9, 8);"
   ]
  },
  {
   "cell_type": "code",
   "execution_count": null,
   "id": "c8b131db-1d4b-4e02-b12f-5022a3c916f7",
   "metadata": {},
   "outputs": [],
   "source": [
    "# Get the unfiltered frames\n",
    "images_df = images_df.query('is_masked==False')\n",
    "\n",
    "num_frames = len(images_df)\n",
    "print(f'Frames after filtering: {num_frames}')"
   ]
  },
  {
   "cell_type": "code",
   "execution_count": null,
   "id": "b2715253-7895-4636-8346-41d12e3aeb3d",
   "metadata": {},
   "outputs": [],
   "source": [
    "if num_frames < 10:\n",
    "    raise RuntimeError(f'Cannot process with less than 10 frames,have {num_frames}')"
   ]
  },
  {
   "cell_type": "code",
   "execution_count": null,
   "id": "7d76351b-3742-4c44-8436-31ca59851a94",
   "metadata": {},
   "outputs": [],
   "source": [
    "pg = sb.pairplot(images_df[mask_columns])\n",
    "pg.fig.suptitle(f'Image properties w/ clipping for {sequence_id}', y=1.01)\n",
    "\n",
    "pg.fig.set_size_inches(9, 8);"
   ]
  },
  {
   "cell_type": "code",
   "execution_count": null,
   "id": "bddf43de-e1c8-4f5b-addd-a0b017c31c1a",
   "metadata": {},
   "outputs": [],
   "source": [
    "# Save (most of) the images info to the observation store.\n",
    "images_df.select_dtypes(exclude='object').to_hdf(observation_store_path, key='images', format='table', errors='ignore')"
   ]
  },
  {
   "cell_type": "markdown",
   "id": "60042247-3f92-48b9-9fd1-28eeb807a4ea",
   "metadata": {},
   "source": [
    "## Load metadata for images"
   ]
  },
  {
   "cell_type": "code",
   "execution_count": null,
   "id": "82b3d251-9290-445f-b4dc-89b3d06b8a1c",
   "metadata": {},
   "outputs": [],
   "source": [
    "# Build the joined metadata file.\n",
    "sources = list()\n",
    "for image_id in images_df.uid:\n",
    "    blob_path = f'gcs://{input_bucket}/{image_id.replace(\"_\", \"/\")}/sources.parquet'\n",
    "    sources.append(pd.read_parquet(blob_path))\n",
    "\n",
    "sources_df = pd.concat(sources).sort_index()\n",
    "del sources"
   ]
  },
  {
   "cell_type": "markdown",
   "id": "8a309292-1a68-4f91-929a-8906e6480be1",
   "metadata": {
    "tags": []
   },
   "source": [
    "## Filter stars\n",
    "\n",
    "Now that we have images of a sufficient quality, filter the star detections themselves.\n",
    "\n",
    "We get the mean metadata values for each star and use that to filter any stellar outliers based on a few properties of the observation as a whole. "
   ]
  },
  {
   "cell_type": "code",
   "execution_count": null,
   "id": "92024cde-5717-40c0-8435-a59b797782f6",
   "metadata": {},
   "outputs": [],
   "source": [
    "# Use the mean value for the observation for each source.\n",
    "sample_source_df = sources_df.groupby('picid').mean()"
   ]
  },
  {
   "cell_type": "code",
   "execution_count": null,
   "id": "ad326647-8ded-4228-a2eb-74c32cde1fe3",
   "metadata": {},
   "outputs": [],
   "source": [
    "num_sources = len(sample_source_df)\n",
    "print(f'Sources before filtering: {num_sources}')"
   ]
  },
  {
   "cell_type": "code",
   "execution_count": null,
   "id": "aa57772d-0b46-433a-ad1e-e84496aa6f9e",
   "metadata": {},
   "outputs": [],
   "source": [
    "frame_count = sources_df.groupby('picid').catalog_vmag.count()\n",
    "exptime = images_df.camera_exptime.mean()\n",
    "\n",
    "# Mask sources that don't appear in all (filtered) frames.\n",
    "sample_source_df['frame_count'] = frame_count"
   ]
  },
  {
   "cell_type": "code",
   "execution_count": null,
   "id": "df5a56ce-19dc-4ffe-91db-ccc9c1e754c0",
   "metadata": {},
   "outputs": [],
   "source": [
    "sample_source_df.eval('mask_frame_count = frame_count!=frame_count.max()', inplace=True)"
   ]
  },
  {
   "cell_type": "code",
   "execution_count": null,
   "id": "c862a269-0d91-486a-806d-87b4bce5344f",
   "metadata": {},
   "outputs": [],
   "source": [
    "fig = Figure()\n",
    "fig.set_dpi(100)\n",
    "ax = fig.subplots()\n",
    "\n",
    "sb.histplot(data=sample_source_df, x='frame_count', hue=f'mask_frame_count', ax=ax, legend=False)\n",
    "ax.set_title(f'Frame star detection {sequence_id}')\n",
    "\n",
    "fig"
   ]
  },
  {
   "cell_type": "markdown",
   "id": "10e8180b-1036-46be-a088-f895290856b9",
   "metadata": {},
   "source": [
    "See [gini coefficient](https://photutils.readthedocs.io/en/stable/api/photutils.morphology.gini.html) info here."
   ]
  },
  {
   "cell_type": "code",
   "execution_count": null,
   "id": "53e9bafc-b2f5-411e-ba34-6c4417e25863",
   "metadata": {},
   "outputs": [],
   "source": [
    "# Sigma clip columns.\n",
    "clip_columns = [\n",
    "    'catalog_vmag',\n",
    "    'photutils_gini',\n",
    "    'photutils_fwhm',\n",
    "]\n",
    "\n",
    "# Display in pair plot columns.\n",
    "pair_columns = [\n",
    "    'catalog_sep',\n",
    "    'photutils_eccentricity',\n",
    "    'photutils_background_mean',\n",
    "    'catalog_wcs_x_int',\n",
    "    'catalog_wcs_y_int',\n",
    "    'is_masked',\n",
    "]"
   ]
  },
  {
   "cell_type": "code",
   "execution_count": null,
   "id": "88f4b337-39ed-4500-bb0d-773ccec2993c",
   "metadata": {},
   "outputs": [],
   "source": [
    "for mask_col in clip_columns:\n",
    "    sample_source_df[f'mask_{mask_col}'] = stats.sigma_clip(sample_source_df[mask_col]).mask\n",
    "    \n",
    "# sample_source_df.eval('mask_catalog_vmag = catalog_vmag > @vmag_max or catalog_vmag < @vmag_min', inplace=True)"
   ]
  },
  {
   "cell_type": "code",
   "execution_count": null,
   "id": "08dbc62b-b12a-451a-b504-0ebdaff1b4c6",
   "metadata": {},
   "outputs": [],
   "source": [
    "sample_source_df['is_masked'] = False\n",
    "sample_source_df['is_masked'] = sample_source_df.filter(regex='mask_*').any(1)"
   ]
  },
  {
   "cell_type": "code",
   "execution_count": null,
   "id": "1f0e4448-fd74-4bb7-8301-f937a28ffd44",
   "metadata": {},
   "outputs": [],
   "source": [
    "display(Markdown('Number of stars filtered by type (with overlap):'))\n",
    "display(Markdown(sample_source_df.filter(regex='mask_').sum(0).sort_values(ascending=False).to_markdown()))"
   ]
  },
  {
   "cell_type": "code",
   "execution_count": null,
   "id": "a57bd7a7-e2da-4612-bfc9-5600b14797ac",
   "metadata": {},
   "outputs": [],
   "source": [
    "fig = Figure()\n",
    "fig.set_dpi(100)\n",
    "fig.set_size_inches(10, 3)\n",
    "axes = fig.subplots(ncols=len(clip_columns), sharey=True)\n",
    "for i, col in enumerate(clip_columns):\n",
    "    sb.histplot(data=sample_source_df, x=col, hue=f'mask_{col}', ax=axes[i], legend=False)\n",
    "\n",
    "fig.suptitle(f'Filter properties for {sequence_id}')\n",
    "fig"
   ]
  },
  {
   "cell_type": "code",
   "execution_count": null,
   "id": "08e67227-0618-4af0-8b6f-b47490accea2",
   "metadata": {},
   "outputs": [],
   "source": [
    "pp = sb.pairplot(sample_source_df[clip_columns + ['is_masked']], hue='is_masked', plot_kws=dict(alpha=0.5))\n",
    "pp.fig.suptitle(f'Filter properties for {sequence_id}', y=1.01)\n",
    "pp.fig.set_dpi(100);"
   ]
  },
  {
   "cell_type": "code",
   "execution_count": null,
   "id": "0f36d28a-c345-4a8e-9dd0-33a234f8766e",
   "metadata": {},
   "outputs": [],
   "source": [
    "pp = sb.pairplot(sample_source_df[clip_columns + pair_columns], hue='is_masked', plot_kws=dict(alpha=0.5))\n",
    "pp.fig.suptitle(f'Catalog vs detected properties for {sequence_id}', y=1.01);"
   ]
  },
  {
   "cell_type": "code",
   "execution_count": null,
   "id": "aef313ef-7eca-4117-b001-76b74a6e8d57",
   "metadata": {},
   "outputs": [],
   "source": [
    "pp = sb.pairplot(sample_source_df.query('is_masked==False')[clip_columns + pair_columns], hue='is_masked', plot_kws=dict(alpha=0.5))\n",
    "pp.fig.suptitle(f'Catalog vs detected for filtered sources of {sequence_id}', y=1.01);"
   ]
  },
  {
   "cell_type": "code",
   "execution_count": null,
   "id": "bbd70568-ec6c-4781-9592-4436a8e03c7b",
   "metadata": {},
   "outputs": [],
   "source": [
    "fig = Figure()\n",
    "fig.set_dpi(100)\n",
    "ax = fig.add_subplot()\n",
    "\n",
    "plot_data = sample_source_df.query('is_masked == True')\n",
    "sb.scatterplot(data=plot_data, \n",
    "               x='catalog_wcs_x_int', \n",
    "               y='catalog_wcs_y_int', \n",
    "               marker='*', \n",
    "               hue='photutils_fwhm',\n",
    "               palette='Reds',\n",
    "               edgecolor='k',\n",
    "               linewidth=0.2,\n",
    "               size='catalog_vmag_bin', sizes=(100, 5),\n",
    "               ax=ax\n",
    "              )\n",
    "ax.set_title(f'Location of {len(plot_data)} outlier stars in {exptime:.0f}s for {sequence_id}')\n",
    "\n",
    "fig.set_size_inches(12, 8)\n",
    "\n",
    "fig"
   ]
  },
  {
   "cell_type": "code",
   "execution_count": null,
   "id": "833c055c-0c22-4ed1-ae9a-7200fe35851e",
   "metadata": {},
   "outputs": [],
   "source": [
    "fig = Figure()\n",
    "fig.set_dpi(100)\n",
    "ax = fig.add_subplot()\n",
    "\n",
    "plot_data = sample_source_df.query('is_masked == False')\n",
    "sb.scatterplot(data=plot_data, \n",
    "               x='catalog_wcs_x_int', \n",
    "               y='catalog_wcs_y_int', \n",
    "               marker='*', \n",
    "               hue='photutils_fwhm',\n",
    "               palette='Blues',\n",
    "               edgecolor='k',\n",
    "               linewidth=0.2,\n",
    "               size='catalog_vmag_bin', sizes=(100, 5),\n",
    "               ax=ax\n",
    "              )\n",
    "ax.set_title(f'Location of {len(plot_data)} detected stars in {exptime:.0f}s for {sequence_id}')\n",
    "\n",
    "fig.set_size_inches(12, 8)\n",
    "\n",
    "fig"
   ]
  },
  {
   "cell_type": "code",
   "execution_count": null,
   "id": "d6c67ebc-f367-4ad9-9114-7bf1b4ebd804",
   "metadata": {},
   "outputs": [],
   "source": [
    "# Get the sources that aren't filtered.\n",
    "sources_df = sources_df.loc[sample_source_df.query('is_masked == False').index]"
   ]
  },
  {
   "cell_type": "code",
   "execution_count": null,
   "id": "4f7b4748-5a4e-4d22-b68a-4b923c5a3708",
   "metadata": {},
   "outputs": [],
   "source": [
    "num_sources = len(sources_df.index.get_level_values('picid').unique())\n",
    "print(f'Detected stars after filtering: {num_sources}')"
   ]
  },
  {
   "cell_type": "code",
   "execution_count": null,
   "id": "7d18b77b-8324-44fc-9b0b-67908fa4385c",
   "metadata": {},
   "outputs": [],
   "source": [
    "# Filter based on mean x and y movement of stars.\n",
    "position_diffs = sources_df[['catalog_wcs_x_int', 'catalog_wcs_y_int']].groupby('picid').apply(lambda grp: grp - grp.mean())\n",
    "pixel_diff_mask = stats.sigma_clip(position_diffs.groupby('time').mean()).mask\n",
    "\n",
    "x_mask = pixel_diff_mask[:, 0]\n",
    "y_mask = pixel_diff_mask[:, 1]\n",
    "\n",
    "print(f'Filtering {sum(x_mask | y_mask)} of {num_frames} frames based on pixel movement.')\n",
    "\n",
    "filtered_time_index = sources_df.index.get_level_values('time').unique()[~(x_mask | y_mask)]\n",
    "\n",
    "# Filter sources\n",
    "sources_df = sources_df.reset_index('picid').loc[filtered_time_index].reset_index().set_index(['picid', 'time']).sort_index()\n",
    "# Filter images\n",
    "images_df = images_df.loc[filtered_time_index]\n",
    "num_frames = len(filtered_time_index)\n",
    "print(f'Now have {num_frames}')"
   ]
  },
  {
   "cell_type": "code",
   "execution_count": null,
   "id": "cc7d14e2-b0bd-4c0c-a756-10bb7855633a",
   "metadata": {},
   "outputs": [],
   "source": [
    "fig = Figure()\n",
    "fig.set_dpi(100)\n",
    "fig.set_size_inches(8, 4)\n",
    "ax = fig.add_subplot()\n",
    "position_diffs.groupby('time').mean().plot(marker='.', ax=ax)\n",
    "\n",
    "# Mark outliers\n",
    "pd.DataFrame(position_diffs.groupby('time').mean()[x_mask]['catalog_wcs_x_int']).plot(marker='o', c='r', ls='', ax=ax, legend=False)\n",
    "pd.DataFrame(position_diffs.groupby('time').mean()[y_mask]['catalog_wcs_y_int']).plot(marker='o', c='r', ls='', ax=ax, legend=False)\n",
    "\n",
    "ax.set_title(f'Mean xy pixel movement {sequence_id}')\n",
    "fig"
   ]
  },
  {
   "cell_type": "code",
   "execution_count": null,
   "id": "bbecf2c4-6d00-46de-9591-246c4753e319",
   "metadata": {},
   "outputs": [],
   "source": [
    "# Save sources to observation hdf5 file.\n",
    "sources_df.to_hdf(observation_store_path, key='sources', format='table')\n",
    "del sources_df"
   ]
  },
  {
   "cell_type": "markdown",
   "id": "bd4dce96-661c-4bdd-8cd8-eb71d778e003",
   "metadata": {},
   "source": [
    "## Make stamp locations"
   ]
  },
  {
   "cell_type": "code",
   "execution_count": null,
   "id": "6884b080-b384-48b5-8ce9-1c5a46835540",
   "metadata": {},
   "outputs": [],
   "source": [
    "xy_catalog = pd.read_hdf(observation_store_path, \n",
    "                         key='sources', \n",
    "                         columns=[position_column_x, position_column_y]).reset_index().groupby('picid')\n",
    "\n",
    "# Get max diff in xy positions.\n",
    "x_catalog_diff = (xy_catalog.catalog_wcs_x.max() - xy_catalog.catalog_wcs_x.min()).max()\n",
    "y_catalog_diff = (xy_catalog.catalog_wcs_y.max() - xy_catalog.catalog_wcs_y.min()).max()\n",
    "\n",
    "if x_catalog_diff >= 18 or y_catalog_diff >= 18:\n",
    "    raise RuntimeError(f'Too much drift! {x_catalog_diff=} {y_catalog_diff}')\n",
    "\n",
    "stamp_width = 10 if x_catalog_diff < 10 else 18\n",
    "stamp_height = 10 if y_catalog_diff < 10 else 18\n",
    "\n",
    "# Determine stamp size\n",
    "stamp_size = (stamp_width, stamp_height)\n",
    "print(f'Using {stamp_size=}.')"
   ]
  },
  {
   "cell_type": "code",
   "execution_count": null,
   "id": "ac2a6316-f543-468a-9172-732bcc39cd3f",
   "metadata": {},
   "outputs": [],
   "source": [
    "# Get the mean positions\n",
    "xy_mean = xy_catalog.mean()\n",
    "xy_std = xy_catalog.std()\n",
    "\n",
    "xy_mean = xy_mean.rename(columns=dict(\n",
    "    catalog_wcs_x=f'{position_column_x}_mean',\n",
    "    catalog_wcs_y=f'{position_column_y}_mean')\n",
    ")\n",
    "xy_std = xy_std.rename(columns=dict(\n",
    "    catalog_wcs_x=f'{position_column_x}_std',\n",
    "    catalog_wcs_y=f'{position_column_y}_std')\n",
    ")"
   ]
  },
  {
   "cell_type": "code",
   "execution_count": null,
   "id": "1bf395b0-a530-406a-bbb1-39f1148b1708",
   "metadata": {},
   "outputs": [],
   "source": [
    "xy_mean = xy_mean.join(xy_std)\n",
    "\n",
    "stamp_positions = xy_mean.apply(\n",
    "    lambda row: bayer.get_stamp_slice(row[f'{position_column_x}_mean'],\n",
    "                                      row[f'{position_column_y}_mean'],\n",
    "                                      stamp_size=stamp_size,\n",
    "                                      as_slices=False,\n",
    "                                      ), axis=1, result_type='expand')\n",
    "\n",
    "stamp_positions[f'{position_column_x}_mean'] = xy_mean[f'{position_column_x}_mean']\n",
    "stamp_positions[f'{position_column_y}_mean'] = xy_mean[f'{position_column_y}_mean']\n",
    "stamp_positions[f'{position_column_x}_std'] = xy_mean[f'{position_column_x}_std']\n",
    "stamp_positions[f'{position_column_y}_std'] = xy_mean[f'{position_column_y}_std']\n",
    "\n",
    "stamp_positions.rename(columns={0: 'stamp_y_min',\n",
    "                                1: 'stamp_y_max',\n",
    "                                2: 'stamp_x_min',\n",
    "                                3: 'stamp_x_max'}, inplace=True)"
   ]
  },
  {
   "cell_type": "code",
   "execution_count": null,
   "id": "0250bf2e-dde2-4ead-98f7-f56db298a97c",
   "metadata": {},
   "outputs": [],
   "source": [
    "stamp_positions.to_hdf(observation_store_path, key='positions', format='table')"
   ]
  },
  {
   "cell_type": "markdown",
   "id": "e52aa3cf-f6e9-44a9-9fc5-dcd601c23903",
   "metadata": {},
   "source": [
    "## Extract stamps"
   ]
  },
  {
   "cell_type": "code",
   "execution_count": null,
   "id": "27e3b701-c5af-4366-8075-1edf7fa1b73a",
   "metadata": {},
   "outputs": [],
   "source": [
    "# Get list of FITS file urls\n",
    "fits_urls = [f'{base_url}/{input_bucket}/{image_id.replace(\"_\", \"/\")}/image.fits.fz' for image_id in images_df.uid]\n",
    "\n",
    "# Build the joined metadata file.\n",
    "reference_image = None\n",
    "diff_image = None\n",
    "stack_image = None\n",
    "for image_time, fits_url in zip(images_df.index, fits_urls):\n",
    "    try:\n",
    "        data = fits_utils.getdata(fits_url)\n",
    "        if reference_image is None:\n",
    "            reference_image = data\n",
    "            diff_image = np.zeros_like(data)\n",
    "            stack_image = np.zeros_like(data)\n",
    "            \n",
    "        # Get the diff and stack images.\n",
    "        diff_image = diff_image + (data - reference_image)\n",
    "        stack_image = stack_image + data\n",
    "        \n",
    "        # Get stamps data from positions.\n",
    "        stamps = make_stamps(stamp_positions, data)\n",
    "        \n",
    "        # Add the time stamp to this index.\n",
    "        time_index = [image_time] * num_sources\n",
    "        stamps.index = pd.MultiIndex.from_arrays([stamps.index, time_index], names=('picid', 'time'))\n",
    "        \n",
    "        # Append directly to the observation store.\n",
    "        stamps.to_hdf(observation_store_path, key='stamps', format='table', append=True)\n",
    "    except Exception as e:\n",
    "        print(f'Problem with {fits_url}: {e!r}')"
   ]
  },
  {
   "cell_type": "code",
   "execution_count": null,
   "id": "008620fd-610d-4ceb-af8e-296f475796c3",
   "metadata": {},
   "outputs": [],
   "source": [
    "fits.HDUList([\n",
    "    fits.PrimaryHDU(diff_image),\n",
    "    fits.ImageHDU(stack_image / num_frames),\n",
    "    ]).writeto(str(output_dir / f'stack-and-diff.fits'), overwrite=True)"
   ]
  },
  {
   "cell_type": "code",
   "execution_count": null,
   "id": "4f6adcfa-8449-4683-9cb8-19678e8429a2",
   "metadata": {},
   "outputs": [],
   "source": [
    "plot.image_simple(stack_image, title=f'Stack image for {sequence_id}')"
   ]
  },
  {
   "cell_type": "code",
   "execution_count": null,
   "id": "6edf87fe-1cc5-460c-a463-b3e91a788a3f",
   "metadata": {},
   "outputs": [],
   "source": [
    "plot.image_simple(diff_image, title=f'Diff image for {sequence_id}')"
   ]
  },
  {
   "cell_type": "code",
   "execution_count": null,
   "id": "aebacdbd-2bde-4d3b-8d4a-458b315aee1f",
   "metadata": {},
   "outputs": [],
   "source": [
    "fits_urls"
   ]
  },
  {
   "cell_type": "markdown",
   "id": "c8dadd92-7c06-41e5-947d-8080baceff86",
   "metadata": {},
   "source": [
    "## Notebook environment info"
   ]
  },
  {
   "cell_type": "code",
   "execution_count": null,
   "id": "bc716c73-b9f1-4a57-b8b9-ac0a9353214b",
   "metadata": {},
   "outputs": [],
   "source": [
    "!jupyter --version"
   ]
  },
  {
   "cell_type": "code",
   "execution_count": null,
   "id": "6809f9b0-1e15-447f-a5d8-ddd82d056c3e",
   "metadata": {},
   "outputs": [],
   "source": [
    "current_time()"
   ]
  }
 ],
 "metadata": {
  "kernelspec": {
   "display_name": "Python 3 (ipykernel)",
   "language": "python",
   "name": "python3"
  },
  "language_info": {
   "codemirror_mode": {
    "name": "ipython",
    "version": 3
   },
   "file_extension": ".py",
   "mimetype": "text/x-python",
   "name": "python",
   "nbconvert_exporter": "python",
   "pygments_lexer": "ipython3",
   "version": "3.9.6"
  }
 },
 "nbformat": 4,
 "nbformat_minor": 5
}
