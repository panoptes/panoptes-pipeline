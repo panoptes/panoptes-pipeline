{
 "cells": [
  {
   "cell_type": "code",
   "execution_count": null,
   "metadata": {},
   "outputs": [],
   "source": [
    "helpers.get_star_info(picid=str(vary_series.index[1]), cursor=catalog_cursor)"
   ]
  },
  {
   "cell_type": "code",
   "execution_count": null,
   "metadata": {},
   "outputs": [],
   "source": [
    "frame_idx = 0\n",
    "\n",
    "for frame_idx in tqdm_notebook(range(len(fits_files)), total=len(fits_files)):\n",
    "\n",
    "    target_row = target_table.iloc[frame_idx]\n",
    "    ref_row = ref_table.iloc[frame_idx]\n",
    "\n",
    "    date_obs = target_row.name\n",
    "\n",
    "    frame_data = fits.getdata(os.path.join(base_dir, target_row.file))\n",
    "\n",
    "    show_stamps=False\n",
    "\n",
    "    # Add in aperture sums for 4 and 6 pixel apertures\n",
    "    for size in [4, 6]:\n",
    "\n",
    "        stamp_slice = helpers.get_stamp_slice(target_row.x, target_row.y, stamp_size=(size, size), ignore_superpixel=True)\n",
    "        stamp = frame_data[stamp_slice]\n",
    "\n",
    "        ref_slice = helpers.get_stamp_slice(ref_row.x, ref_row.y, stamp_size=(size, size), ignore_superpixel=True)\n",
    "        ref_stamp = frame_data[ref_slice]    \n",
    "\n",
    "        # Record the sum values\n",
    "        target_sum = (stamp - target_row.background).sum()\n",
    "        target_table.loc[date_obs, 'sum_{}'.format(size)] = target_sum\n",
    "        \n",
    "        ref_sum = (ref_stamp - ref_row.background).sum()\n",
    "        ref_table.loc[date_obs, 'sum_{}'.format(size)] = ref_sum        \n",
    "\n",
    "        if show_stamps:\n",
    "\n",
    "            # Show stamps\n",
    "            fig = plot.show_stamps([stamp, ref_stamp], stamp_size=size, show_residual=True)\n",
    "            fig.suptitle('{}                        {}'.format(picid, ref_id), y=.9, fontsize=14)\n",
    "            display(fig)\n",
    "\n",
    "            # Show normalized stamps\n",
    "            fig = plot.show_stamps([stamp / stamp.sum(), ref_stamp / ref_stamp.sum()], stamp_size=size, show_residual=True)\n",
    "            fig.suptitle('{}                        {}'.format(picid, ref_id), y=.9, fontsize=14)\n",
    "            display(fig)    \n",
    "\n",
    "            print('*' * 80)"
   ]
  },
  {
   "cell_type": "code",
   "execution_count": null,
   "metadata": {},
   "outputs": [],
   "source": [
    "plt.figure(figsize=(12, 9))\n",
    "\n",
    "target_table.resample('5T').mean().sum_4.plot(c='r')\n",
    "ref_table.resample('5T').mean().sum_4.plot(c='r', ls='--')\n",
    "\n",
    "target_table.resample('5T').mean().sum_6.plot(c='b')\n",
    "ref_table.resample('5T').mean().sum_6.plot(c='b', ls='--')\n",
    "\n",
    "target_table.resample('5T').mean().flux_auto.plot(c='g')\n",
    "ref_table.resample('5T').mean().flux_auto.plot(c='g', ls='--')\n",
    "\n",
    "plt.legend()"
   ]
  }
 ],
 "metadata": {
  "kernelspec": {
   "display_name": "Python 3",
   "language": "python",
   "name": "python3"
  },
  "language_info": {
   "codemirror_mode": {
    "name": "ipython",
    "version": 3
   },
   "file_extension": ".py",
   "mimetype": "text/x-python",
   "name": "python",
   "nbconvert_exporter": "python",
   "pygments_lexer": "ipython3",
   "version": "3.6.6"
  }
 },
 "nbformat": 4,
 "nbformat_minor": 2
}
