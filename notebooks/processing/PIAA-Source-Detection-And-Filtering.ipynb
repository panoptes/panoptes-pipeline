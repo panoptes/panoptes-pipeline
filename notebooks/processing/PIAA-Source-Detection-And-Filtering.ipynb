{
 "cells": [
  {
   "cell_type": "code",
   "execution_count": 1,
   "metadata": {},
   "outputs": [],
   "source": [
    "%load_ext autotime"
   ]
  },
  {
   "cell_type": "code",
   "execution_count": 2,
   "metadata": {},
   "outputs": [
    {
     "name": "stdout",
     "output_type": "stream",
     "text": [
      "time: 2.18 s\n"
     ]
    }
   ],
   "source": [
    "import os\n",
    "from glob import glob\n",
    "\n",
    "from astropy.io import fits\n",
    "from astropy.stats import sigma_clipped_stats, sigma_clip\n",
    "import pandas as pd\n",
    "import numpy as np\n",
    "\n",
    "from matplotlib import pyplot as plt\n",
    "plt.style.use('bmh')\n",
    "\n",
    "from tqdm import tqdm_notebook\n",
    "\n",
    "from piaa.utils import pipeline\n",
    "from piaa.utils.postgres import get_cursor\n",
    "from piaa.utils import helpers\n",
    "from pocs.utils.images import fits as fits_utils\n",
    "from pocs.utils.images import crop_data\n",
    "\n",
    "from piaa.utils.postgres import get_cursor\n",
    "tess_cursor = get_cursor(port=5433, db_name='v6', db_user='postgres')"
   ]
  },
  {
   "cell_type": "code",
   "execution_count": 3,
   "metadata": {},
   "outputs": [
    {
     "name": "stdout",
     "output_type": "stream",
     "text": [
      "time: 944 µs\n"
     ]
    }
   ],
   "source": [
    "# base_dir = '/var/panoptes/images/fields/PAN001/Hd189733/14d3bd/20180913T085704/'\n",
    "base_dir = '/var/panoptes/images/fields/PAN012/358d0f/20180822T035809/'"
   ]
  },
  {
   "cell_type": "code",
   "execution_count": 4,
   "metadata": {},
   "outputs": [
    {
     "name": "stdout",
     "output_type": "stream",
     "text": [
      "Found 128 FITS files\n",
      "time: 6.63 ms\n"
     ]
    }
   ],
   "source": [
    "# Get all the files that start with a time stamp (skip pointing files)\n",
    "fits_files = sorted(glob(\n",
    "    os.path.join(base_dir, '*2018*.fits')\n",
    "), )\n",
    "print(\"Found {} FITS files\".format(len(fits_files)))"
   ]
  },
  {
   "cell_type": "code",
   "execution_count": null,
   "metadata": {},
   "outputs": [],
   "source": []
  },
  {
   "cell_type": "code",
   "execution_count": 5,
   "metadata": {},
   "outputs": [
    {
     "ename": "ModuleNotFoundError",
     "evalue": "No module named 'pyjs9'",
     "output_type": "error",
     "traceback": [
      "\u001b[0;31m---------------------------------------------------------------------------\u001b[0m",
      "\u001b[0;31mModuleNotFoundError\u001b[0m                       Traceback (most recent call last)",
      "\u001b[0;32m<ipython-input-5-f79cf209f5d7>\u001b[0m in \u001b[0;36m<module>\u001b[0;34m\u001b[0m\n\u001b[0;32m----> 1\u001b[0;31m \u001b[0;32mimport\u001b[0m \u001b[0mpyjs9\u001b[0m\u001b[0;34m\u001b[0m\u001b[0m\n\u001b[0m",
      "\u001b[0;31mModuleNotFoundError\u001b[0m: No module named 'pyjs9'"
     ]
    },
    {
     "name": "stdout",
     "output_type": "stream",
     "text": [
      "time: 28.4 ms\n"
     ]
    }
   ],
   "source": [
    "import pyjs9"
   ]
  },
  {
   "cell_type": "markdown",
   "metadata": {},
   "source": [
    "## Lookup point sources\n",
    "\n",
    "Looking up the point sources invovles two steps, extracting detected sources from the image and matching those with a catalog.\n",
    "\n",
    "> Note: This assumes the images have already been downloaded and plate-solved.  \n",
    "> _todo(wtgee) add a link to a notebook that does that_\n",
    "\n",
    "**Source Detection** For source extraction there are three methods available but the default is to use the well-known [`sextractor`](https://www.astromatic.net/software/sextractor) to  automatically detect sources according to certain configurable parameters. The [PIAA sextractor config](https://raw.githubusercontent.com/panoptes/PIAA/develop/resources/conf_files/sextractor/panoptes.sex) sets a photometric aperture of 6 pixels ($6 \\times 10.3'' \\approx 80''$) and a detection threshold of 1.5 sigmas. Further filtering of flags and basic SNR is done below.\n",
    "\n",
    "**Catalog Matching** PANOPTES hosts a copy of the TESS Input Catalog (v6) against which the detected sources are matched. The detection uses the peak pixel value as reported by `sextractor` compared against the TICv6 using standard [astropy catalog matching](http://docs.astropy.org/en/stable/coordinates/matchsep.html#matching-catalogs) techniques. Reported catalog separation is neglible, especially regarding the creationg of the stamps for the RGB pixel pattern (see below)."
   ]
  },
  {
   "cell_type": "code",
   "execution_count": 5,
   "metadata": {},
   "outputs": [
    {
     "data": {
      "text/html": [
       "<div>\n",
       "<style scoped>\n",
       "    .dataframe tbody tr th:only-of-type {\n",
       "        vertical-align: middle;\n",
       "    }\n",
       "\n",
       "    .dataframe tbody tr th {\n",
       "        vertical-align: top;\n",
       "    }\n",
       "\n",
       "    .dataframe thead th {\n",
       "        text-align: right;\n",
       "    }\n",
       "</style>\n",
       "<table border=\"1\" class=\"dataframe\">\n",
       "  <thead>\n",
       "    <tr style=\"text-align: right;\">\n",
       "      <th></th>\n",
       "      <th>ra</th>\n",
       "      <th>dec</th>\n",
       "      <th>x</th>\n",
       "      <th>y</th>\n",
       "      <th>xpeak_image</th>\n",
       "      <th>ypeak_image</th>\n",
       "      <th>background</th>\n",
       "      <th>flux_best</th>\n",
       "      <th>fluxerr_best</th>\n",
       "      <th>mag_best</th>\n",
       "      <th>...</th>\n",
       "      <th>flux_aper</th>\n",
       "      <th>fluxerr_aper</th>\n",
       "      <th>mag_aper</th>\n",
       "      <th>magerr_aper</th>\n",
       "      <th>flux_max</th>\n",
       "      <th>fwhm_image</th>\n",
       "      <th>flags</th>\n",
       "      <th>tmag</th>\n",
       "      <th>vmag</th>\n",
       "      <th>catalog_sep_arcsec</th>\n",
       "    </tr>\n",
       "    <tr>\n",
       "      <th>picid</th>\n",
       "      <th></th>\n",
       "      <th></th>\n",
       "      <th></th>\n",
       "      <th></th>\n",
       "      <th></th>\n",
       "      <th></th>\n",
       "      <th></th>\n",
       "      <th></th>\n",
       "      <th></th>\n",
       "      <th></th>\n",
       "      <th></th>\n",
       "      <th></th>\n",
       "      <th></th>\n",
       "      <th></th>\n",
       "      <th></th>\n",
       "      <th></th>\n",
       "      <th></th>\n",
       "      <th></th>\n",
       "      <th></th>\n",
       "      <th></th>\n",
       "      <th></th>\n",
       "    </tr>\n",
       "  </thead>\n",
       "  <tbody>\n",
       "    <tr>\n",
       "      <th>10777186</th>\n",
       "      <td>297.767960</td>\n",
       "      <td>27.716880</td>\n",
       "      <td>448</td>\n",
       "      <td>2142</td>\n",
       "      <td>447.7061</td>\n",
       "      <td>2142.1719</td>\n",
       "      <td>3231.971</td>\n",
       "      <td>30788.46</td>\n",
       "      <td>2257.431</td>\n",
       "      <td>13.7790</td>\n",
       "      <td>...</td>\n",
       "      <td>22732.92</td>\n",
       "      <td>1577.937</td>\n",
       "      <td>14.1084</td>\n",
       "      <td>0.0754</td>\n",
       "      <td>3076.094</td>\n",
       "      <td>6.95</td>\n",
       "      <td>0</td>\n",
       "      <td>7.628</td>\n",
       "      <td>7.58872</td>\n",
       "      <td>5.655294</td>\n",
       "    </tr>\n",
       "    <tr>\n",
       "      <th>10883789</th>\n",
       "      <td>297.755282</td>\n",
       "      <td>26.813254</td>\n",
       "      <td>766</td>\n",
       "      <td>2149</td>\n",
       "      <td>766.2598</td>\n",
       "      <td>2148.8264</td>\n",
       "      <td>3299.973</td>\n",
       "      <td>13486.62</td>\n",
       "      <td>1649.770</td>\n",
       "      <td>14.6752</td>\n",
       "      <td>...</td>\n",
       "      <td>13376.79</td>\n",
       "      <td>1575.959</td>\n",
       "      <td>14.6841</td>\n",
       "      <td>0.1279</td>\n",
       "      <td>2455.175</td>\n",
       "      <td>4.56</td>\n",
       "      <td>0</td>\n",
       "      <td>7.077</td>\n",
       "      <td>8.14900</td>\n",
       "      <td>7.799772</td>\n",
       "    </tr>\n",
       "    <tr>\n",
       "      <th>11027938</th>\n",
       "      <td>297.727150</td>\n",
       "      <td>24.627367</td>\n",
       "      <td>1533</td>\n",
       "      <td>2164</td>\n",
       "      <td>1533.3717</td>\n",
       "      <td>2164.3020</td>\n",
       "      <td>3357.790</td>\n",
       "      <td>57670.23</td>\n",
       "      <td>2569.349</td>\n",
       "      <td>13.0976</td>\n",
       "      <td>...</td>\n",
       "      <td>42759.13</td>\n",
       "      <td>1582.162</td>\n",
       "      <td>13.4224</td>\n",
       "      <td>0.0402</td>\n",
       "      <td>6737.298</td>\n",
       "      <td>3.76</td>\n",
       "      <td>0</td>\n",
       "      <td>7.442</td>\n",
       "      <td>7.43070</td>\n",
       "      <td>5.443080</td>\n",
       "    </tr>\n",
       "    <tr>\n",
       "      <th>11036706</th>\n",
       "      <td>297.869000</td>\n",
       "      <td>24.322085</td>\n",
       "      <td>1640</td>\n",
       "      <td>2120</td>\n",
       "      <td>1640.6381</td>\n",
       "      <td>2120.0442</td>\n",
       "      <td>3208.968</td>\n",
       "      <td>23133.84</td>\n",
       "      <td>2236.825</td>\n",
       "      <td>14.0894</td>\n",
       "      <td>...</td>\n",
       "      <td>15624.50</td>\n",
       "      <td>1577.544</td>\n",
       "      <td>14.5155</td>\n",
       "      <td>0.1096</td>\n",
       "      <td>2586.156</td>\n",
       "      <td>2.02</td>\n",
       "      <td>0</td>\n",
       "      <td>7.629</td>\n",
       "      <td>8.67000</td>\n",
       "      <td>5.190274</td>\n",
       "    </tr>\n",
       "    <tr>\n",
       "      <th>11133818</th>\n",
       "      <td>297.903248</td>\n",
       "      <td>26.226025</td>\n",
       "      <td>973</td>\n",
       "      <td>2104</td>\n",
       "      <td>973.2496</td>\n",
       "      <td>2104.0847</td>\n",
       "      <td>3332.072</td>\n",
       "      <td>52708.25</td>\n",
       "      <td>3299.416</td>\n",
       "      <td>13.1953</td>\n",
       "      <td>...</td>\n",
       "      <td>36888.30</td>\n",
       "      <td>1583.137</td>\n",
       "      <td>13.5828</td>\n",
       "      <td>0.0466</td>\n",
       "      <td>4101.782</td>\n",
       "      <td>5.93</td>\n",
       "      <td>0</td>\n",
       "      <td>7.542</td>\n",
       "      <td>7.48000</td>\n",
       "      <td>5.941396</td>\n",
       "    </tr>\n",
       "  </tbody>\n",
       "</table>\n",
       "<p>5 rows × 21 columns</p>\n",
       "</div>"
      ],
      "text/plain": [
       "                  ra        dec     x     y  xpeak_image  ypeak_image  \\\n",
       "picid                                                                   \n",
       "10777186  297.767960  27.716880   448  2142     447.7061    2142.1719   \n",
       "10883789  297.755282  26.813254   766  2149     766.2598    2148.8264   \n",
       "11027938  297.727150  24.627367  1533  2164    1533.3717    2164.3020   \n",
       "11036706  297.869000  24.322085  1640  2120    1640.6381    2120.0442   \n",
       "11133818  297.903248  26.226025   973  2104     973.2496    2104.0847   \n",
       "\n",
       "          background  flux_best  fluxerr_best  mag_best         ...          \\\n",
       "picid                                                           ...           \n",
       "10777186    3231.971   30788.46      2257.431   13.7790         ...           \n",
       "10883789    3299.973   13486.62      1649.770   14.6752         ...           \n",
       "11027938    3357.790   57670.23      2569.349   13.0976         ...           \n",
       "11036706    3208.968   23133.84      2236.825   14.0894         ...           \n",
       "11133818    3332.072   52708.25      3299.416   13.1953         ...           \n",
       "\n",
       "          flux_aper  fluxerr_aper  mag_aper  magerr_aper  flux_max  \\\n",
       "picid                                                                \n",
       "10777186   22732.92      1577.937   14.1084       0.0754  3076.094   \n",
       "10883789   13376.79      1575.959   14.6841       0.1279  2455.175   \n",
       "11027938   42759.13      1582.162   13.4224       0.0402  6737.298   \n",
       "11036706   15624.50      1577.544   14.5155       0.1096  2586.156   \n",
       "11133818   36888.30      1583.137   13.5828       0.0466  4101.782   \n",
       "\n",
       "          fwhm_image  flags   tmag     vmag  catalog_sep_arcsec  \n",
       "picid                                                            \n",
       "10777186        6.95      0  7.628  7.58872            5.655294  \n",
       "10883789        4.56      0  7.077  8.14900            7.799772  \n",
       "11027938        3.76      0  7.442  7.43070            5.443080  \n",
       "11036706        2.02      0  7.629  8.67000            5.190274  \n",
       "11133818        5.93      0  7.542  7.48000            5.941396  \n",
       "\n",
       "[5 rows x 21 columns]"
      ]
     },
     "metadata": {},
     "output_type": "display_data"
    },
    {
     "name": "stdout",
     "output_type": "stream",
     "text": [
      "Sources extracted: 1034\n",
      "time: 7.63 s\n"
     ]
    }
   ],
   "source": [
    "# Lookup the point sources\n",
    "point_sources = pipeline.lookup_point_sources(\n",
    "    fits_files[0], \n",
    "    force_new=True,\n",
    "    cursor=tess_cursor,\n",
    ")\n",
    "\n",
    "# Display example\n",
    "display(point_sources.head())\n",
    "print(f'Sources extracted: {len(point_sources)}')"
   ]
  },
  {
   "cell_type": "markdown",
   "metadata": {},
   "source": [
    "#### Lookup all files\n",
    "\n",
    "Perform the same thing again but for all files. The resulting source catalog created from `sextractor` is saved for each image and reused in subsequent runs unless `force_new=True`.\n",
    "\n",
    "Extract the observation time, the exposure time, and the airmass from the FITS headers.\n",
    "\n",
    "The image observation time currently comes from the image file name, which is generated by the computer running the unit and is given in UTC. This is mainly due to a problem with the `DATE-OBS` header in the FITS files for POCS versions <0.6.2."
   ]
  },
  {
   "cell_type": "code",
   "execution_count": 6,
   "metadata": {},
   "outputs": [
    {
     "name": "stdout",
     "output_type": "stream",
     "text": [
      "time: 1.06 s\n"
     ]
    }
   ],
   "source": [
    "source_filename = os.path.join(base_dir, f'point-sources-detected.csv')\n",
    "\n",
    "observation_sources = pipeline.lookup_sources_for_observation(\n",
    "    fits_files=fits_files, \n",
    "    filename=source_filename, \n",
    "    cursor=tess_cursor, \n",
    "    force_new=False\n",
    ")"
   ]
  },
  {
   "cell_type": "code",
   "execution_count": 7,
   "metadata": {},
   "outputs": [
    {
     "name": "stdout",
     "output_type": "stream",
     "text": [
      "Frames: 128 Sources: 1765\n",
      "time: 15.9 ms\n"
     ]
    }
   ],
   "source": [
    "num_frames = len(observation_sources.index.unique())\n",
    "num_sources = len(set(observation_sources.picid))\n",
    "print(f\"Frames: {num_frames} Sources: {num_sources}\")"
   ]
  },
  {
   "cell_type": "markdown",
   "metadata": {},
   "source": [
    "## Filter detected sources\n",
    "\n",
    "The above sequence does basic source filtering via `sextractor` along with what can be matched in the TESS catalog. Below are a number of different ways to filter the frames and/or sources based on image quality, number of detections, etc.\n",
    "\n",
    "The filtering for the `PAN012` HD189733 data set involves the steps below. At the bottom of the notebook are optional filter methods."
   ]
  },
  {
   "cell_type": "markdown",
   "metadata": {},
   "source": [
    "#### Image filtering\n",
    "\n",
    "We can do some quick checks on the overall image sequence. here we look at the mean background as detected by `sextractor`. It's a rough metric but we can clearly see some frames where the background levels spike, indicating clouds in the region."
   ]
  },
  {
   "cell_type": "code",
   "execution_count": 8,
   "metadata": {},
   "outputs": [
    {
     "data": {
      "text/plain": [
       "<matplotlib.legend.Legend at 0x7fe214e60e80>"
      ]
     },
     "execution_count": 8,
     "metadata": {},
     "output_type": "execute_result"
    },
    {
     "data": {
      "image/png": "[encoded data removed]",
      "text/plain": [
       "<Figure size 432x324 with 1 Axes>"
      ]
     },
     "metadata": {
      "needs_background": "light"
     },
     "output_type": "display_data"
    },
    {
     "name": "stdout",
     "output_type": "stream",
     "text": [
      "time: 316 ms\n"
     ]
    }
   ],
   "source": [
    "plt.figure(figsize=(6, 4.5))\n",
    "observation_sources.groupby('obs_time').background.mean().plot(label='Mean Background')\n",
    "plt.title(f'Background Mean')\n",
    "plt.legend()"
   ]
  },
  {
   "cell_type": "markdown",
   "metadata": {},
   "source": [
    "#### Filter frames by number of detected sources\n",
    "\n",
    "Here we remove frames where the total number of detected frames is outside of one standard deviation of the mean number of detected sources."
   ]
  },
  {
   "cell_type": "code",
   "execution_count": 10,
   "metadata": {},
   "outputs": [
    {
     "name": "stdout",
     "output_type": "stream",
     "text": [
      "time: 31.4 ms\n"
     ]
    }
   ],
   "source": [
    "num_sources = observation_sources.groupby('obs_time').count().file\n",
    "min_sources = num_sources.mean() - num_sources.std()"
   ]
  },
  {
   "cell_type": "code",
   "execution_count": 11,
   "metadata": {},
   "outputs": [
    {
     "data": {
      "text/plain": [
       "<matplotlib.legend.Legend at 0x7f0c9508eb70>"
      ]
     },
     "execution_count": 11,
     "metadata": {},
     "output_type": "execute_result"
    },
    {
     "data": {
      "image/png": "[encoded data removed]",
      "text/plain": [
       "<Figure size 432x288 with 1 Axes>"
      ]
     },
     "metadata": {
      "needs_background": "light"
     },
     "output_type": "display_data"
    },
    {
     "name": "stdout",
     "output_type": "stream",
     "text": [
      "time: 610 ms\n"
     ]
    }
   ],
   "source": [
    "observation_sources.groupby('obs_time').count().file.plot(label='All')\n",
    "observation_sources.groupby('obs_time').filter(lambda grp: grp.count()['file'] >= min_sources).groupby('obs_time').count().file.plot(label='Filtered')\n",
    "plt.ylabel('Num sources')\n",
    "plt.title('Number of Sources Detected')\n",
    "plt.legend()"
   ]
  },
  {
   "cell_type": "code",
   "execution_count": 12,
   "metadata": {},
   "outputs": [
    {
     "name": "stdout",
     "output_type": "stream",
     "text": [
      "time: 235 ms\n"
     ]
    }
   ],
   "source": [
    "# Filter out the frames where the number of source detections is outside the std\n",
    "observation_sources = observation_sources.groupby('obs_time').filter(lambda grp: grp.count()['file'] >= min_sources)"
   ]
  },
  {
   "cell_type": "code",
   "execution_count": 13,
   "metadata": {},
   "outputs": [
    {
     "name": "stdout",
     "output_type": "stream",
     "text": [
      "Frames: 114 Sources: 1747\n",
      "time: 17 ms\n"
     ]
    }
   ],
   "source": [
    "num_frames = len(observation_sources.index.unique())\n",
    "num_sources = len(set(observation_sources.picid))\n",
    "print(f\"Frames: {num_frames} Sources: {num_sources}\")"
   ]
  },
  {
   "cell_type": "markdown",
   "metadata": {},
   "source": [
    "#### Filter sources by number of frames\n",
    "\n",
    "Now that we have removed frames where there were a low number of detections (presumably from clouds) we now want to remove sources that don't appear in most of the frames."
   ]
  },
  {
   "cell_type": "code",
   "execution_count": 14,
   "metadata": {},
   "outputs": [
    {
     "name": "stdout",
     "output_type": "stream",
     "text": [
      "Total frames: 114 Min cutout: 102\n",
      "time: 34 ms\n"
     ]
    }
   ],
   "source": [
    "frame_count = observation_sources.groupby('picid').count().file\n",
    "min_frame_count = int(frame_count.max() * .9)\n",
    "\n",
    "print(f'Total frames: {frame_count.max()} Min cutout: {min_frame_count}')"
   ]
  },
  {
   "cell_type": "code",
   "execution_count": 29,
   "metadata": {},
   "outputs": [
    {
     "data": {
      "text/plain": [
       "Text(0.5, 1.0, 'Total number of frames')"
      ]
     },
     "execution_count": 29,
     "metadata": {},
     "output_type": "execute_result"
    },
    {
     "data": {
      "image/png": "[encoded data removed]",
      "text/plain": [
       "<Figure size 432x288 with 1 Axes>"
      ]
     },
     "metadata": {
      "needs_background": "light"
     },
     "output_type": "display_data"
    },
    {
     "name": "stdout",
     "output_type": "stream",
     "text": [
      "time: 261 ms\n"
     ]
    }
   ],
   "source": [
    "# Show a sample of the source count\n",
    "frame_count.hist()\n",
    "plt.xlabel('Number of frames')\n",
    "plt.ylabel('Sources count')\n",
    "plt.title('Total number of frames')"
   ]
  },
  {
   "cell_type": "code",
   "execution_count": 16,
   "metadata": {},
   "outputs": [
    {
     "name": "stdout",
     "output_type": "stream",
     "text": [
      "time: 2.03 s\n"
     ]
    }
   ],
   "source": [
    "# Filter out the sources where the number of frames is less than min_frame_count\n",
    "observation_sources = observation_sources.groupby('picid').filter(lambda grp: grp.count()['file'] >= min_frame_count)"
   ]
  },
  {
   "cell_type": "code",
   "execution_count": 17,
   "metadata": {},
   "outputs": [
    {
     "name": "stdout",
     "output_type": "stream",
     "text": [
      "Frames: 114 Sources: 961\n",
      "time: 11.5 ms\n"
     ]
    }
   ],
   "source": [
    "num_frames = len(observation_sources.index.unique())\n",
    "num_sources = len(set(observation_sources.picid))\n",
    "print(f\"Frames: {num_frames} Sources: {num_sources}\")"
   ]
  },
  {
   "cell_type": "markdown",
   "metadata": {},
   "source": [
    "#### Filter frames by manual time-clipping\n",
    "\n",
    "For now we are going to simply manually remove the frames after a certain time that was visually identified with cloud cover."
   ]
  },
  {
   "cell_type": "code",
   "execution_count": null,
   "metadata": {},
   "outputs": [],
   "source": [
    "observation_sources = observation_sources.loc[observation_sources.index.levels[1] < '2018-08-22 07:10:00']"
   ]
  },
  {
   "cell_type": "markdown",
   "metadata": {},
   "source": [
    "#### Filter frames by Sigma-clip\n",
    "\n",
    "We can sigma clip the frames based on the mean background value, removing any frame that deviate wildly from the rest of the sequence."
   ]
  },
  {
   "cell_type": "code",
   "execution_count": null,
   "metadata": {},
   "outputs": [],
   "source": [
    "back_mean, back_median, back_std = sigma_clipped_stats(image_group.background.mean())\n",
    "\n",
    "observation_sources = observation_sources.groupby('obs_time').filter(lambda grp: np.abs(grp['background'].mean() - back_mean) <= 3 * back_std )\n",
    "\n",
    "num_frames = len(observation_sources.index.unique())"
   ]
  },
  {
   "cell_type": "code",
   "execution_count": null,
   "metadata": {},
   "outputs": [],
   "source": [
    "num_frames = len(observation_sources.index.levels[1].unique())\n",
    "num_sources = len(observation_sources.index.levels[0].unique())\n",
    "print(f\"Frames: {num_frames} Sources: {num_sources}\")"
   ]
  },
  {
   "cell_type": "code",
   "execution_count": null,
   "metadata": {},
   "outputs": [],
   "source": [
    "plt.figure(figsize=(6, 4.5))\n",
    "plt.plot(observation_sources.groupby('obs_time').background.mean().values, label='Mean Background')\n",
    "plt.title(f'Background Mean')\n",
    "plt.legend()"
   ]
  },
  {
   "cell_type": "markdown",
   "metadata": {},
   "source": [
    "#### Source filtering\n",
    "\n",
    "`sextractor` does basic thresholding and source detection per frame but here we filter sources based off the entire image sequence. The simplest filter is to get all the images with a certain SNR limit (default 10). A filter for source extractor flags can also be used.\n",
    "\n",
    "> Note: There has been a manual selection of images (see above) for overall data quality. Some kind of image quality check (e.g. drifting zeropoint) could help automate this"
   ]
  },
  {
   "cell_type": "code",
   "execution_count": 18,
   "metadata": {},
   "outputs": [
    {
     "name": "stdout",
     "output_type": "stream",
     "text": [
      "Frames: 114 Sources: 961\n",
      "time: 11.9 ms\n"
     ]
    }
   ],
   "source": [
    "num_frames = len(observation_sources.index.unique())\n",
    "num_sources = len(set(observation_sources.picid))\n",
    "print(f\"Frames: {num_frames} Sources: {num_sources}\")"
   ]
  },
  {
   "cell_type": "markdown",
   "metadata": {},
   "source": [
    "#### sextractor flags filter\n",
    "\n",
    "Filter out anything with [SE flags](http://matilda.physics.ucdavis.edu/working/website/SEflags.html) of 4 or more. Note that this is leaving in some blended sources "
   ]
  },
  {
   "cell_type": "code",
   "execution_count": 19,
   "metadata": {},
   "outputs": [
    {
     "name": "stdout",
     "output_type": "stream",
     "text": [
      "time: 475 ms\n"
     ]
    }
   ],
   "source": [
    "observation_sources = observation_sources.groupby('picid').filter(lambda grp: all(grp['flags'] < 4))"
   ]
  },
  {
   "cell_type": "code",
   "execution_count": 20,
   "metadata": {},
   "outputs": [
    {
     "name": "stdout",
     "output_type": "stream",
     "text": [
      "Frames: 114 Sources: 847\n",
      "time: 11.9 ms\n"
     ]
    }
   ],
   "source": [
    "num_frames = len(observation_sources.index.unique())\n",
    "num_sources = len(set(observation_sources.picid))\n",
    "print(f\"Frames: {num_frames} Sources: {num_sources}\")"
   ]
  },
  {
   "cell_type": "markdown",
   "metadata": {},
   "source": [
    "##### SNR Filter\n",
    "\n",
    "The SNR comes directly from `sextractor` in the form of `FLUX_AUTO / FLUXERR_AUTO`."
   ]
  },
  {
   "cell_type": "code",
   "execution_count": 28,
   "metadata": {},
   "outputs": [
    {
     "name": "stdout",
     "output_type": "stream",
     "text": [
      "time: 362 ms\n"
     ]
    }
   ],
   "source": [
    "snr_limit = 10\n",
    "\n",
    "observation_sources = observation_sources.groupby('picid').filter(lambda grp: grp['snr'].mean() > snr_limit)"
   ]
  },
  {
   "cell_type": "code",
   "execution_count": 29,
   "metadata": {},
   "outputs": [
    {
     "name": "stdout",
     "output_type": "stream",
     "text": [
      "Frames: 114 Sources: 344\n",
      "time: 5.94 ms\n"
     ]
    }
   ],
   "source": [
    "num_frames = len(observation_sources.index.unique())\n",
    "num_sources = len(set(observation_sources.picid))\n",
    "print(f\"Frames: {num_frames} Sources: {num_sources}\")"
   ]
  },
  {
   "cell_type": "markdown",
   "metadata": {},
   "source": [
    "#### Output filtered source detections\n",
    "\n",
    "We save this filtered file to be used for subsequent processing."
   ]
  },
  {
   "cell_type": "code",
   "execution_count": 21,
   "metadata": {},
   "outputs": [
    {
     "name": "stdout",
     "output_type": "stream",
     "text": [
      "time: 791 µs\n"
     ]
    }
   ],
   "source": [
    "filtered_filename = os.path.join(base_dir, f'point-sources-filtered.csv')"
   ]
  },
  {
   "cell_type": "code",
   "execution_count": 22,
   "metadata": {},
   "outputs": [
    {
     "name": "stdout",
     "output_type": "stream",
     "text": [
      "time: 2.9 s\n"
     ]
    }
   ],
   "source": [
    "observation_sources.to_csv(filtered_filename)"
   ]
  }
 ],
 "metadata": {
  "kernelspec": {
   "display_name": "Python 3",
   "language": "python",
   "name": "python3"
  },
  "language_info": {
   "codemirror_mode": {
    "name": "ipython",
    "version": 3
   },
   "file_extension": ".py",
   "mimetype": "text/x-python",
   "name": "python",
   "nbconvert_exporter": "python",
   "pygments_lexer": "ipython3",
   "version": "3.6.6"
  }
 },
 "nbformat": 4,
 "nbformat_minor": 2
}
