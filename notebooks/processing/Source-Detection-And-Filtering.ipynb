{
 "cells": [
  {
   "cell_type": "code",
   "execution_count": 1,
   "metadata": {},
   "outputs": [],
   "source": [
    "%load_ext autotime"
   ]
  },
  {
   "cell_type": "code",
   "execution_count": 2,
   "metadata": {},
   "outputs": [
    {
     "name": "stdout",
     "output_type": "stream",
     "text": [
      "time: 37.1 s\n"
     ]
    }
   ],
   "source": [
    "import os\n",
    "from glob import glob\n",
    "\n",
    "from astropy.io import fits\n",
    "from astropy.stats import sigma_clipped_stats\n",
    "import pandas as pd\n",
    "import numpy as np\n",
    "\n",
    "from matplotlib import pyplot as plt\n",
    "plt.style.use('bmh')\n",
    "\n",
    "from tqdm import tqdm_notebook\n",
    "\n",
    "from piaa.utils import pipeline\n",
    "from piaa.utils.postgres import get_cursor\n",
    "from piaa.utils import helpers\n",
    "from pocs.utils.images import fits as fits_utils\n",
    "from pocs.utils.images import crop_data\n",
    "\n",
    "from piaa.utils.postgres import get_cursor\n",
    "tess_cursor = get_cursor(port=5433, db_name='v6', db_user='postgres')"
   ]
  },
  {
   "cell_type": "code",
   "execution_count": 3,
   "metadata": {},
   "outputs": [
    {
     "name": "stdout",
     "output_type": "stream",
     "text": [
      "time: 715 µs\n"
     ]
    }
   ],
   "source": [
    "# base_dir = '/var/panoptes/images/fields/PAN001/Hd189733/14d3bd/20180913T085704/'\n",
    "base_dir = '/var/panoptes/images/fields/PAN012/358d0f/20180822T035809/'"
   ]
  },
  {
   "cell_type": "code",
   "execution_count": 4,
   "metadata": {},
   "outputs": [
    {
     "name": "stdout",
     "output_type": "stream",
     "text": [
      "time: 16.1 ms\n"
     ]
    }
   ],
   "source": [
    "sequence = 'PAN012_358d0f_20180822T035809'"
   ]
  },
  {
   "cell_type": "code",
   "execution_count": 5,
   "metadata": {},
   "outputs": [
    {
     "name": "stdout",
     "output_type": "stream",
     "text": [
      "Found 128 FITS files\n",
      "time: 150 ms\n"
     ]
    }
   ],
   "source": [
    "# Get all the files that start with a time stamp (skip pointing files)\n",
    "fits_files = sorted(glob(\n",
    "    os.path.join(base_dir, '*2018*.fits')\n",
    "), )\n",
    "print(\"Found {} FITS files\".format(len(fits_files)))"
   ]
  },
  {
   "cell_type": "markdown",
   "metadata": {},
   "source": [
    "## Lookup point sources\n",
    "\n",
    "Looking up the point sources invovles two steps, extracting detected sources from the image and matching those with a catalog.\n",
    "\n",
    "> Note: This assumes the images have already been downloaded and plate-solved.  \n",
    "> _todo(wtgee) add a link to a notebook that does that_\n",
    "\n",
    "**Source Detection** For source extraction there are three methods available but the default is to use the well-known [`sextractor`](https://www.astromatic.net/software/sextractor) to  automatically detect sources according to certain configurable parameters. The [PIAA sextractor config](https://raw.githubusercontent.com/panoptes/PIAA/develop/resources/conf_files/sextractor/panoptes.sex) sets a photometric aperture of 6 pixels ($6 \\times 10.3'' \\approx 80''$) and a detection threshold of 1.5 sigmas. Further filtering of flags and basic SNR is done below.\n",
    "\n",
    "**Catalog Matching** PANOPTES hosts a copy of the TESS Input Catalog (v6) against which the detected sources are matched. The detection uses the peak pixel value as reported by `sextractor` compared against the TICv6 using standard [astropy catalog matching](http://docs.astropy.org/en/stable/coordinates/matchsep.html#matching-catalogs) techniques. Reported catalog separation is neglible, especially regarding the creationg of the stamps for the RGB pixel pattern (see below)."
   ]
  },
  {
   "cell_type": "code",
   "execution_count": 6,
   "metadata": {},
   "outputs": [
    {
     "data": {
      "text/html": [
       "<div>\n",
       "<style scoped>\n",
       "    .dataframe tbody tr th:only-of-type {\n",
       "        vertical-align: middle;\n",
       "    }\n",
       "\n",
       "    .dataframe tbody tr th {\n",
       "        vertical-align: top;\n",
       "    }\n",
       "\n",
       "    .dataframe thead th {\n",
       "        text-align: right;\n",
       "    }\n",
       "</style>\n",
       "<table border=\"1\" class=\"dataframe\">\n",
       "  <thead>\n",
       "    <tr style=\"text-align: right;\">\n",
       "      <th></th>\n",
       "      <th>mag_auto</th>\n",
       "      <th>magerr_auto</th>\n",
       "      <th>x</th>\n",
       "      <th>y</th>\n",
       "      <th>xpeak_image</th>\n",
       "      <th>ypeak_image</th>\n",
       "      <th>ra</th>\n",
       "      <th>dec</th>\n",
       "      <th>background</th>\n",
       "      <th>flux_auto</th>\n",
       "      <th>flux_max</th>\n",
       "      <th>fluxerr_auto</th>\n",
       "      <th>fwhm_image</th>\n",
       "      <th>flags</th>\n",
       "      <th>snr</th>\n",
       "      <th>tmag</th>\n",
       "      <th>vmag</th>\n",
       "      <th>catalog_sep_arcsec</th>\n",
       "    </tr>\n",
       "    <tr>\n",
       "      <th>id</th>\n",
       "      <th></th>\n",
       "      <th></th>\n",
       "      <th></th>\n",
       "      <th></th>\n",
       "      <th></th>\n",
       "      <th></th>\n",
       "      <th></th>\n",
       "      <th></th>\n",
       "      <th></th>\n",
       "      <th></th>\n",
       "      <th></th>\n",
       "      <th></th>\n",
       "      <th></th>\n",
       "      <th></th>\n",
       "      <th></th>\n",
       "      <th></th>\n",
       "      <th></th>\n",
       "      <th></th>\n",
       "    </tr>\n",
       "  </thead>\n",
       "  <tbody>\n",
       "    <tr>\n",
       "      <th>10777186</th>\n",
       "      <td>13.7790</td>\n",
       "      <td>0.0796</td>\n",
       "      <td>448</td>\n",
       "      <td>2142</td>\n",
       "      <td>447.7061</td>\n",
       "      <td>2142.1719</td>\n",
       "      <td>297.767960</td>\n",
       "      <td>27.716880</td>\n",
       "      <td>3231.971</td>\n",
       "      <td>30788.46</td>\n",
       "      <td>3076.094</td>\n",
       "      <td>2257.431</td>\n",
       "      <td>6.95</td>\n",
       "      <td>0</td>\n",
       "      <td>13.638716</td>\n",
       "      <td>7.628</td>\n",
       "      <td>7.58872</td>\n",
       "      <td>5.655294</td>\n",
       "    </tr>\n",
       "    <tr>\n",
       "      <th>10883789</th>\n",
       "      <td>14.6752</td>\n",
       "      <td>0.1328</td>\n",
       "      <td>766</td>\n",
       "      <td>2149</td>\n",
       "      <td>766.2598</td>\n",
       "      <td>2148.8264</td>\n",
       "      <td>297.755282</td>\n",
       "      <td>26.813254</td>\n",
       "      <td>3299.973</td>\n",
       "      <td>13486.62</td>\n",
       "      <td>2455.175</td>\n",
       "      <td>1649.770</td>\n",
       "      <td>4.56</td>\n",
       "      <td>0</td>\n",
       "      <td>8.174849</td>\n",
       "      <td>7.077</td>\n",
       "      <td>8.14900</td>\n",
       "      <td>7.799772</td>\n",
       "    </tr>\n",
       "    <tr>\n",
       "      <th>11027938</th>\n",
       "      <td>13.0976</td>\n",
       "      <td>0.0484</td>\n",
       "      <td>1533</td>\n",
       "      <td>2164</td>\n",
       "      <td>1533.3717</td>\n",
       "      <td>2164.3020</td>\n",
       "      <td>297.727150</td>\n",
       "      <td>24.627367</td>\n",
       "      <td>3357.790</td>\n",
       "      <td>57670.23</td>\n",
       "      <td>6737.298</td>\n",
       "      <td>2569.349</td>\n",
       "      <td>3.76</td>\n",
       "      <td>0</td>\n",
       "      <td>22.445464</td>\n",
       "      <td>7.442</td>\n",
       "      <td>7.43070</td>\n",
       "      <td>5.443080</td>\n",
       "    </tr>\n",
       "    <tr>\n",
       "      <th>11036706</th>\n",
       "      <td>14.0894</td>\n",
       "      <td>0.1050</td>\n",
       "      <td>1640</td>\n",
       "      <td>2120</td>\n",
       "      <td>1640.6381</td>\n",
       "      <td>2120.0442</td>\n",
       "      <td>297.869000</td>\n",
       "      <td>24.322085</td>\n",
       "      <td>3208.968</td>\n",
       "      <td>23133.84</td>\n",
       "      <td>2586.156</td>\n",
       "      <td>2236.825</td>\n",
       "      <td>2.02</td>\n",
       "      <td>0</td>\n",
       "      <td>10.342266</td>\n",
       "      <td>7.629</td>\n",
       "      <td>8.67000</td>\n",
       "      <td>5.190274</td>\n",
       "    </tr>\n",
       "    <tr>\n",
       "      <th>11133818</th>\n",
       "      <td>13.1953</td>\n",
       "      <td>0.0680</td>\n",
       "      <td>973</td>\n",
       "      <td>2104</td>\n",
       "      <td>973.2496</td>\n",
       "      <td>2104.0847</td>\n",
       "      <td>297.903248</td>\n",
       "      <td>26.226025</td>\n",
       "      <td>3332.072</td>\n",
       "      <td>52708.25</td>\n",
       "      <td>4101.782</td>\n",
       "      <td>3299.416</td>\n",
       "      <td>5.93</td>\n",
       "      <td>0</td>\n",
       "      <td>15.975024</td>\n",
       "      <td>7.542</td>\n",
       "      <td>7.48000</td>\n",
       "      <td>5.941396</td>\n",
       "    </tr>\n",
       "  </tbody>\n",
       "</table>\n",
       "</div>"
      ],
      "text/plain": [
       "          mag_auto  magerr_auto     x     y  xpeak_image  ypeak_image  \\\n",
       "id                                                                      \n",
       "10777186   13.7790       0.0796   448  2142     447.7061    2142.1719   \n",
       "10883789   14.6752       0.1328   766  2149     766.2598    2148.8264   \n",
       "11027938   13.0976       0.0484  1533  2164    1533.3717    2164.3020   \n",
       "11036706   14.0894       0.1050  1640  2120    1640.6381    2120.0442   \n",
       "11133818   13.1953       0.0680   973  2104     973.2496    2104.0847   \n",
       "\n",
       "                  ra        dec  background  flux_auto  flux_max  \\\n",
       "id                                                                 \n",
       "10777186  297.767960  27.716880    3231.971   30788.46  3076.094   \n",
       "10883789  297.755282  26.813254    3299.973   13486.62  2455.175   \n",
       "11027938  297.727150  24.627367    3357.790   57670.23  6737.298   \n",
       "11036706  297.869000  24.322085    3208.968   23133.84  2586.156   \n",
       "11133818  297.903248  26.226025    3332.072   52708.25  4101.782   \n",
       "\n",
       "          fluxerr_auto  fwhm_image  flags        snr   tmag     vmag  \\\n",
       "id                                                                     \n",
       "10777186      2257.431        6.95      0  13.638716  7.628  7.58872   \n",
       "10883789      1649.770        4.56      0   8.174849  7.077  8.14900   \n",
       "11027938      2569.349        3.76      0  22.445464  7.442  7.43070   \n",
       "11036706      2236.825        2.02      0  10.342266  7.629  8.67000   \n",
       "11133818      3299.416        5.93      0  15.975024  7.542  7.48000   \n",
       "\n",
       "          catalog_sep_arcsec  \n",
       "id                            \n",
       "10777186            5.655294  \n",
       "10883789            7.799772  \n",
       "11027938            5.443080  \n",
       "11036706            5.190274  \n",
       "11133818            5.941396  "
      ]
     },
     "metadata": {},
     "output_type": "display_data"
    },
    {
     "name": "stdout",
     "output_type": "stream",
     "text": [
      "Sources extracted: 1034\n",
      "time: 7.92 s\n"
     ]
    }
   ],
   "source": [
    "# Lookup the point sources\n",
    "point_sources = pipeline.lookup_point_sources(\n",
    "    fits_files[0], \n",
    "    force_new=True,\n",
    "    cursor=tess_cursor,\n",
    ")\n",
    "\n",
    "# Display\n",
    "display(point_sources.head())\n",
    "print(f'Sources extracted: {len(point_sources)}')"
   ]
  },
  {
   "cell_type": "markdown",
   "metadata": {},
   "source": [
    "#### Lookup all files\n",
    "\n",
    "Perform the same thing again but for all files. The resulting source catalog created from `sextractor` is saved for each image and reused in subsequent runs unless `force_new=True`.\n",
    "\n",
    "Extract the observation time, the exposure time, and the airmass from the FITS headers.\n",
    "\n",
    "The image observation time currently comes from the image file name, which is generated by the computer running the unit and is given in UTC. This is mainly due to a problem with the `DATE-OBS` header in the FITS files for POCS versions <0.6.2."
   ]
  },
  {
   "cell_type": "code",
   "execution_count": 7,
   "metadata": {},
   "outputs": [
    {
     "name": "stdout",
     "output_type": "stream",
     "text": [
      "Num sources: 1767\n",
      "time: 1.48 s\n"
     ]
    }
   ],
   "source": [
    "source_filename = os.path.join(base_dir, f'point-sources-detected.csv')\n",
    "\n",
    "observation_sources = pipeline.lookup_sources_for_observation(\n",
    "    fits_files=fits_files, \n",
    "    filename=source_filename, \n",
    "    cursor=tess_cursor, \n",
    "    force_new=False\n",
    ")\n",
    "\n",
    "num_sources = len(set(observation_sources.picid.values))\n",
    "print(f\"Num sources: {num_sources}\")"
   ]
  },
  {
   "cell_type": "markdown",
   "metadata": {},
   "source": [
    "#### Image filtering\n",
    "\n",
    "We can do some quick checks on the overall image sequence:"
   ]
  },
  {
   "cell_type": "code",
   "execution_count": 8,
   "metadata": {},
   "outputs": [
    {
     "name": "stdout",
     "output_type": "stream",
     "text": [
      "time: 2.22 ms\n"
     ]
    }
   ],
   "source": [
    "image_group = observation_sources.groupby('obs_time')"
   ]
  },
  {
   "cell_type": "code",
   "execution_count": 9,
   "metadata": {},
   "outputs": [
    {
     "data": {
      "text/plain": [
       "Text(0.5,1,'Observation Mean SNR')"
      ]
     },
     "execution_count": 9,
     "metadata": {},
     "output_type": "execute_result"
    },
    {
     "data": {
      "image/png": "[encoded data removed]",
      "text/plain": [
       "<Figure size 432x288 with 1 Axes>"
      ]
     },
     "metadata": {
      "needs_background": "light"
     },
     "output_type": "display_data"
    },
    {
     "name": "stdout",
     "output_type": "stream",
     "text": [
      "time: 909 ms\n"
     ]
    }
   ],
   "source": [
    "image_group.snr.mean().plot()\n",
    "plt.title('Observation Mean SNR')"
   ]
  },
  {
   "cell_type": "code",
   "execution_count": 10,
   "metadata": {},
   "outputs": [
    {
     "data": {
      "text/plain": [
       "Text(0.5,1,'Background Mean')"
      ]
     },
     "execution_count": 10,
     "metadata": {},
     "output_type": "execute_result"
    },
    {
     "data": {
      "image/png": "[encoded data removed]",
      "text/plain": [
       "<Figure size 432x324 with 1 Axes>"
      ]
     },
     "metadata": {
      "needs_background": "light"
     },
     "output_type": "display_data"
    },
    {
     "name": "stdout",
     "output_type": "stream",
     "text": [
      "time: 238 ms\n"
     ]
    }
   ],
   "source": [
    "plt.figure(figsize=(6, 4.5))\n",
    "image_group.background.mean().plot()\n",
    "plt.title(f'Background Mean')"
   ]
  },
  {
   "cell_type": "markdown",
   "metadata": {},
   "source": [
    "The two plots above tell us that there are some changing conditions (e.g. clouds) toward the last part of the observation. These frames are manually removed from the sequence:"
   ]
  },
  {
   "cell_type": "code",
   "execution_count": 11,
   "metadata": {},
   "outputs": [
    {
     "name": "stdout",
     "output_type": "stream",
     "text": [
      "time: 94.7 ms\n"
     ]
    }
   ],
   "source": [
    "observation_sources = observation_sources.loc[:'2018-08-22 07:06:00']"
   ]
  },
  {
   "cell_type": "code",
   "execution_count": 13,
   "metadata": {},
   "outputs": [
    {
     "name": "stdout",
     "output_type": "stream",
     "text": [
      "Num sources: 1719\n",
      "time: 14.7 ms\n"
     ]
    }
   ],
   "source": [
    "num_sources = len(set(observation_sources.picid))\n",
    "print(f\"Num sources: {num_sources}\")"
   ]
  },
  {
   "cell_type": "markdown",
   "metadata": {},
   "source": [
    "#### Source filtering\n",
    "\n",
    "`sextractor` does basic thresholding and source detection per frame but here we filter sources based off the entire image sequence. The simplest filter is to get all the images with a certain SNR limit (default 10). A filter for source extractor flags can also be used.\n",
    "\n",
    "> Note: There has been a manual selection of images (see above) for overall data quality. Some kind of image quality check (e.g. drifting zeropoint) could help automate this"
   ]
  },
  {
   "cell_type": "code",
   "execution_count": 14,
   "metadata": {},
   "outputs": [
    {
     "name": "stdout",
     "output_type": "stream",
     "text": [
      "Num sources: 1719\n",
      "time: 14.6 ms\n"
     ]
    }
   ],
   "source": [
    "num_sources = len(set(observation_sources.picid))\n",
    "print(f\"Num sources: {num_sources}\")"
   ]
  },
  {
   "cell_type": "code",
   "execution_count": 15,
   "metadata": {},
   "outputs": [
    {
     "name": "stdout",
     "output_type": "stream",
     "text": [
      "time: 1.17 ms\n"
     ]
    }
   ],
   "source": [
    "id_group = observation_sources.groupby('picid')"
   ]
  },
  {
   "cell_type": "markdown",
   "metadata": {},
   "source": [
    "#### sextractor flags filter\n",
    "\n",
    "Filter out anything with [SE flags](http://matilda.physics.ucdavis.edu/working/website/SEflags.html) of 4 or more. Note that this is leaving in some blended sources "
   ]
  },
  {
   "cell_type": "code",
   "execution_count": 16,
   "metadata": {},
   "outputs": [
    {
     "name": "stdout",
     "output_type": "stream",
     "text": [
      "Num sources: 1555\n",
      "time: 944 ms\n"
     ]
    }
   ],
   "source": [
    "observation_sources = id_group.filter(lambda grp: any(grp['snr'] >= 4))\n",
    "\n",
    "num_sources = len(set(observation_sources.picid))\n",
    "print(f\"Num sources: {num_sources}\")"
   ]
  },
  {
   "cell_type": "markdown",
   "metadata": {},
   "source": [
    "##### SNR Filter\n",
    "\n",
    "The SNR comes directly from `sextractor` in the form of `FLUX_AUTO / FLUXERR_AUTO`."
   ]
  },
  {
   "cell_type": "code",
   "execution_count": 17,
   "metadata": {},
   "outputs": [
    {
     "name": "stdout",
     "output_type": "stream",
     "text": [
      "Num sources: 505\n",
      "time: 638 ms\n"
     ]
    }
   ],
   "source": [
    "snr_limit = 10\n",
    "\n",
    "observation_sources = id_group.filter(lambda grp: grp['snr'].mean() > snr_limit)\n",
    "\n",
    "num_sources = len(set(observation_sources.picid))\n",
    "print(f\"Num sources: {num_sources}\")"
   ]
  },
  {
   "cell_type": "code",
   "execution_count": null,
   "metadata": {},
   "outputs": [],
   "source": [
    "observation_sources['zeropoint'] = observation_sources.vmag - (-2.5 * np.log10(observation_sources.flux_auto / observation_sources.exp_time))"
   ]
  },
  {
   "cell_type": "code",
   "execution_count": 35,
   "metadata": {},
   "outputs": [
    {
     "data": {
      "text/plain": [
       "Text(0.5,1,'Zeropoint (Vmag=15.47) offsets')"
      ]
     },
     "execution_count": 35,
     "metadata": {},
     "output_type": "execute_result"
    },
    {
     "data": {
      "image/png": "[encoded data removed]",
      "text/plain": [
       "<Figure size 864x648 with 1 Axes>"
      ]
     },
     "metadata": {
      "needs_background": "light"
     },
     "output_type": "display_data"
    },
    {
     "name": "stdout",
     "output_type": "stream",
     "text": [
      "time: 810 ms\n"
     ]
    }
   ],
   "source": [
    "x = observation_sources.vmag.values\n",
    "y = (observation_sources.zeropoint - observation_sources.zeropoint.mean()).values\n",
    "\n",
    "plt.figure(figsize=(12, 9))\n",
    "\n",
    "plt.scatter(x=x, y=y)\n",
    "plt.xlabel('Vmag')\n",
    "plt.ylabel('Δ mag')\n",
    "plt.title(f'Zeropoint (Vmag={observation_sources.zeropoint.mean():.02f}) offsets')"
   ]
  },
  {
   "cell_type": "markdown",
   "metadata": {},
   "source": [
    "#### Output filtered source detections\n",
    "\n",
    "We save this filtered file to be used for subsequent processing."
   ]
  },
  {
   "cell_type": "code",
   "execution_count": 18,
   "metadata": {},
   "outputs": [
    {
     "name": "stdout",
     "output_type": "stream",
     "text": [
      "time: 790 µs\n"
     ]
    }
   ],
   "source": [
    "filtered_filename = os.path.join(base_dir, f'point-sources-filtered.csv')"
   ]
  },
  {
   "cell_type": "code",
   "execution_count": 19,
   "metadata": {},
   "outputs": [
    {
     "name": "stdout",
     "output_type": "stream",
     "text": [
      "time: 1.46 s\n"
     ]
    }
   ],
   "source": [
    "observation_sources.to_csv(filtered_filename)"
   ]
  }
 ],
 "metadata": {
  "kernelspec": {
   "display_name": "Python 3",
   "language": "python",
   "name": "python3"
  },
  "language_info": {
   "codemirror_mode": {
    "name": "ipython",
    "version": 3
   },
   "file_extension": ".py",
   "mimetype": "text/x-python",
   "name": "python",
   "nbconvert_exporter": "python",
   "pygments_lexer": "ipython3",
   "version": "3.6.6"
  }
 },
 "nbformat": 4,
 "nbformat_minor": 2
}
